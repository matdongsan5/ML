{
 "cells": [
  {
   "cell_type": "markdown",
   "metadata": {},
   "source": [
    "#### 분류화 모듈\n",
    "- 목표 : 로지스틱/knn 두가지 분류\n",
    "- 분류에 필요한 것.\n",
    "    - 인코딩( 라벨/원핫/오디널 )\n",
    "    - 분류 데이터 분할시 staraytify 분할.\n",
    "    - 분류가 잘되는 시각화.\n",
    "    - 점수평가 \n",
    "        - 분류지표 \n",
    "        - precision_score, recall_score, confusion_matrix\n",
    "        - classification_report, f1_score\n"
   ]
  },
  {
   "cell_type": "code",
   "execution_count": 2,
   "metadata": {},
   "outputs": [],
   "source": [
    "import pandas as pd\n",
    "# 데이터 분석 및 전처리\n",
    "import numpy as np\n",
    "# 숫자처리\n",
    "import matplotlib.pyplot as plt\n",
    "import seaborn as sns\n",
    "# 데이터 시각화\n",
    "from sklearn.neighbors import KNeighborsClassifier\n",
    "                                #knn분류\n",
    "from sklearn.linear_model import LinearRegression, LogisticRegression\n",
    "                            ## ML 알고리즘, 선형회귀, 로지스틱회귀\n",
    "from sklearn.model_selection import train_test_split\n",
    "                            ## 데이터셋 분리 관련 모듈\n",
    "                            ## 학습/검증/테스트 \n",
    "\n",
    "from sklearn.metrics import precision_score, recall_score, confusion_matrix\n",
    "from sklearn.metrics import classification_report, f1_score\n",
    "                            ## 분류모델 평가지표\n",
    "                            \n",
    "import tools as ts    "
   ]
  },
  {
   "cell_type": "code",
   "execution_count": null,
   "metadata": {},
   "outputs": [],
   "source": []
  }
 ],
 "metadata": {
  "kernelspec": {
   "display_name": "ML_PY39",
   "language": "python",
   "name": "python3"
  },
  "language_info": {
   "codemirror_mode": {
    "name": "ipython",
    "version": 3
   },
   "file_extension": ".py",
   "mimetype": "text/x-python",
   "name": "python",
   "nbconvert_exporter": "python",
   "pygments_lexer": "ipython3",
   "version": "3.9.21"
  }
 },
 "nbformat": 4,
 "nbformat_minor": 2
}
