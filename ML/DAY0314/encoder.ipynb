{
 "cells": [
  {
   "cell_type": "markdown",
   "metadata": {},
   "source": [
    "#### encoder 살펴보기\n",
    "-  데이터 전처리시 사용\n",
    "- 수집 데이터를 ==> 수치화 진행\n"
   ]
  },
  {
   "cell_type": "markdown",
   "metadata": {},
   "source": [
    "[1] 모듈로딩"
   ]
  },
  {
   "cell_type": "code",
   "execution_count": null,
   "metadata": {},
   "outputs": [],
   "source": [
    "from sklearn.preprocessing import LabelEncoder, OneHotEncoder, OrdinalEncoder"
   ]
  },
  {
   "cell_type": "markdown",
   "metadata": {},
   "source": [
    "[2] LabelEncoder<hr>\n",
    "- 타겟의 레이블을 0 ~ 클래스-1 범위의 숫자로 변환"
   ]
  },
  {
   "cell_type": "code",
   "execution_count": null,
   "metadata": {},
   "outputs": [],
   "source": [
    "le = LabelEncoder()\n",
    "le.fit([1,2,2,6]) # 라벨인코더가 변환할 데이터 정보 학습"
   ]
  },
  {
   "cell_type": "code",
   "execution_count": null,
   "metadata": {},
   "outputs": [],
   "source": [
    "## 모델 파라미터\n",
    "print(le.classes_)\n",
    "## 변환하기\n",
    "le.transform([1,1,2,6,6,6,2,2])\n",
    "## => 몇번째 범주인지 체크.\n",
    "\n"
   ]
  },
  {
   "cell_type": "code",
   "execution_count": null,
   "metadata": {},
   "outputs": [],
   "source": [
    "le = LabelEncoder()\n",
    "le.fit(['paris', 'tokyo','amsterdam'])\n",
    "# 라벨인코더가 변환할 데이터 정보 학습\n",
    "## 모델 파라미터\n",
    "print(le.classes_)\n",
    "## 변환하기\n",
    "encode_y =le.transform(['paris', 'tokyo','tokyo'])\n",
    "## => 몇번째 범주인지 체크.\n",
    "print('encode_y:',encode_y)\n",
    "\n",
    "# ===> str인 경우 알파벳순으로 정수 라벨링.\n",
    "# - 다시 str로 변환\n",
    "le.inverse_transform(encode_y)\n",
    "# dtype='<U9'"
   ]
  },
  {
   "cell_type": "code",
   "execution_count": null,
   "metadata": {},
   "outputs": [],
   "source": [
    "## one hot encoder의 매개변수\n",
    "## drop -> 자릿수 줄이기.\n"
   ]
  },
  {
   "cell_type": "markdown",
   "metadata": {},
   "source": [
    "[3] one hot encoder<hr>\n",
    "- 범주형 피쳐 중 순서가 의미없는 피쳐에 경우 사용하는 인코더\n",
    "- 2차원 입력해야함(범주형이므로)"
   ]
  },
  {
   "cell_type": "code",
   "execution_count": null,
   "metadata": {},
   "outputs": [],
   "source": [
    "ohEncoder = OneHotEncoder(sparse_output=False)\n",
    "# sparse_output == True(Default) 압축되어 나옴\n",
    "#                   False로 바꿔야 일반 배열로 반환\n",
    "ohEncoder.fit([['Female',2], ['Male',1], ['Male',3]])\n",
    "print(f\"피쳐별 카테고리 정보: {ohEncoder.categories_}\")\n",
    "\n",
    "#변환\n",
    "ohEncoder.transform([['Female',2], ['Male',1], ['Male',3]])"
   ]
  },
  {
   "cell_type": "code",
   "execution_count": 25,
   "metadata": {},
   "outputs": [
    {
     "name": "stdout",
     "output_type": "stream",
     "text": [
      "피쳐별 카테고리 정보: [array(['Female', 'Male'], dtype=object), array([1, 2, 3], dtype=object)]\n"
     ]
    },
    {
     "data": {
      "text/plain": [
       "array([[0., 1., 0.],\n",
       "       [1., 0., 0.],\n",
       "       [1., 0., 1.]])"
      ]
     },
     "execution_count": 25,
     "metadata": {},
     "output_type": "execute_result"
    }
   ],
   "source": [
    "#예시2\n",
    "ohEncoder = OneHotEncoder(sparse_output=False, drop='first')\n",
    "# sparse_output = True(Default) 압축되어 나옴\n",
    "#                  False로 바꿔야 일반 배열로 반환\n",
    "# drop = first 면 컬럼별 앞자리 버려서 자리수 압축.\n",
    "#\n",
    "ohEncoder.fit([['Female',2], ['Male',1], ['Male',3]])\n",
    "print(f\"피쳐별 카테고리 정보: {ohEncoder.categories_}\")\n",
    "\n",
    "#변환\n",
    "ohEncoder.transform([['Female',2], ['Male',1], ['Male',3]])"
   ]
  },
  {
   "cell_type": "code",
   "execution_count": 29,
   "metadata": {},
   "outputs": [
    {
     "name": "stdout",
     "output_type": "stream",
     "text": [
      "피쳐별 카테고리 정보: [array(['Female', 'Male'], dtype=object), array([1, 2, 3], dtype=object)]\n"
     ]
    },
    {
     "data": {
      "text/plain": [
       "array([[1., 0., 0., 1., 0.],\n",
       "       [0., 1., 1., 0., 0.],\n",
       "       [0., 1., 0., 0., 0.]])"
      ]
     },
     "execution_count": 29,
     "metadata": {},
     "output_type": "execute_result"
    }
   ],
   "source": [
    " #예시3\n",
    "ohEncoder = OneHotEncoder(sparse_output=False,\n",
    "                          handle_unknown='ignore')\n",
    "# sparse_output = True(Default) 압축되어 나옴\n",
    "#                  False로 바꿔야 일반 배열로 반환\n",
    "# drop = first 면 컬럼별 앞자리 버려서 자리수 압축.\n",
    "# handle_unknown = 'ignore' \n",
    "#                   존재하지 않는 범주 처리.  \n",
    "#                   => drop이랑 같이 쓰면 없는것과 데이터 혼동\n",
    "#\n",
    "\n",
    "ohEncoder.fit([['Female',2], ['Male',1], ['Male',3]])\n",
    "print(f\"피쳐별 카테고리 정보: {ohEncoder.categories_}\")\n",
    "\n",
    "#변환\n",
    "ohEncoder.transform([['Female',2], ['Male',1], ['Male',4]])"
   ]
  },
  {
   "cell_type": "markdown",
   "metadata": {},
   "source": [
    "[4] OrdinalEncoder <hr>\n",
    "- 범주형 피쳐 중 순서가 중요한 경우 사용하는 인코더"
   ]
  },
  {
   "cell_type": "code",
   "execution_count": 51,
   "metadata": {},
   "outputs": [
    {
     "name": "stdout",
     "output_type": "stream",
     "text": [
      "피쳐별 카테고리 정보 : [array(['FeMale', 'Female', 'Male'], dtype=object), array([1, 2, 3], dtype=object)]\n"
     ]
    }
   ],
   "source": [
    "## unknown_value : int or np.nan \n",
    "import numpy as np\n",
    "\n",
    "## 결측치가 들어 있는 경우에 대한 처리\n",
    "odEncoder = OrdinalEncoder(handle_unknown='use_encoded_value', unknown_value=-1,\n",
    "                           encoded_missing_value=np.nan)\n",
    "\n",
    "\n",
    "# odEncoder.fit([['Female',2], ['Male',1], ['FeMale',3], [np.nan,np.nan]])\n",
    "odEncoder.fit([['Female',2], ['Male',1], ['FeMale',3]])\n",
    "print(f\"피쳐별 카테고리 정보 : {odEncoder.categories_}\")\n",
    "\n",
    "# odEncoder.transform([['Female',2], ['Female',np.nan], ['Male',3]])"
   ]
  },
  {
   "cell_type": "markdown",
   "metadata": {},
   "source": [
    "기계학습 ==> 학습용DS, 테스트 DS\n",
    "- [기준] 학습용DS => Scaler => MinMax: 학습용DS의 Min, Max\n",
    "                            Standard : 학습용DS의 mean,std\n",
    "\n",
    "- 학습용 DS의 Scaler => 테스트DS 스케일링 진행\n",
    "                        예측 데이터 스케일링 진행.\n",
    "                        "
   ]
  },
  {
   "cell_type": "markdown",
   "metadata": {},
   "source": [
    "범주형 ==> od, oh 선택\n",
    "\n",
    "수치형 ==> 값의 범위문제"
   ]
  },
  {
   "cell_type": "markdown",
   "metadata": {},
   "source": [
    "- 피쳐 => 수치형(연속형) => 값의 범위: 스케일링<br>\n",
    "    - => 범주형 => 순서의 중요도 <br>\n",
    "           - => 중요 => 정수Encoding Ordinal<br>\n",
    "           - =>안중요=> OHE"
   ]
  },
  {
   "cell_type": "markdown",
   "metadata": {},
   "source": [
    "- 타겟 => 피쳐\n",
    "- ㄴ> 연속형/범주형 일때 범주형을 수치로: LabelEncoder"
   ]
  },
  {
   "cell_type": "markdown",
   "metadata": {},
   "source": []
  }
 ],
 "metadata": {
  "kernelspec": {
   "display_name": "ML_PY39",
   "language": "python",
   "name": "python3"
  },
  "language_info": {
   "codemirror_mode": {
    "name": "ipython",
    "version": 3
   },
   "file_extension": ".py",
   "mimetype": "text/x-python",
   "name": "python",
   "nbconvert_exporter": "python",
   "pygments_lexer": "ipython3",
   "version": "3.9.21"
  }
 },
 "nbformat": 4,
 "nbformat_minor": 2
}
