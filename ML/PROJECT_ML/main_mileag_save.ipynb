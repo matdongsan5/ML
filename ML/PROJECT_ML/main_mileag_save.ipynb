{
 "cells": [
  {
   "cell_type": "markdown",
   "metadata": {},
   "source": [
    "#### 머신러닝 프로젝트\n",
    "- 데이터셋 : used_car_data.csv\n",
    "- 목표 : 다양한 모델로 데이터셋 분석 및 모델 생성.\n",
    "\n"
   ]
  },
  {
   "cell_type": "code",
   "execution_count": 1,
   "metadata": {},
   "outputs": [],
   "source": [
    "# %pip install koreanize_matplotlib"
   ]
  },
  {
   "cell_type": "code",
   "execution_count": 2,
   "metadata": {},
   "outputs": [],
   "source": [
    "## [1-1] 모듈로딩 \n",
    "from _utils import tools as ts, RegressionModule as rm\n",
    "from _utils.RegressionModule import RegressionModule as rm\n",
    "\n",
    "import seaborn as sns\n",
    "import pandas as pd # 데이터 분석 및 전처리\n",
    "import numpy as np # 숫자처리\n",
    "import matplotlib.pyplot as plt # 데이터 시각화\n",
    "from sklearn.linear_model import LinearRegression ## ML 알고리즘\n",
    "from sklearn.metrics import mean_squared_error, mean_absolute_error, root_mean_squared_error\n",
    "                            ## 성능평가 모듈\n",
    "from sklearn.model_selection import train_test_split, KFold\n",
    "                            ## 데이터셋 분리 관련 모듈\n",
    "                            ## 학습/검증/테스트 \n",
    "                                                    ## 교차검증\\\n",
    "from sklearn.preprocessing import PolynomialFeatures # 폴리. 컬럼추가\n",
    "from sklearn.linear_model import Ridge, Lasso, ElasticNet            \n",
    "\n",
    "from sklearn.utils.discovery import *\n",
    "from sklearn.metrics import *   \n",
    "from scipy import stats\n",
    "\n",
    "import koreanize_matplotlib\n",
    "                            "
   ]
  },
  {
   "cell_type": "code",
   "execution_count": 3,
   "metadata": {},
   "outputs": [],
   "source": [
    "originDF = pd.DataFrame(pd.read_csv('../data/used_cars_data.csv',index_col='S.No.'))"
   ]
  },
  {
   "cell_type": "code",
   "execution_count": 4,
   "metadata": {},
   "outputs": [],
   "source": [
    "carDF = originDF.copy()"
   ]
  },
  {
   "cell_type": "markdown",
   "metadata": {},
   "source": [
    "컬럼설명<hr>\n",
    "S.No.: 차량의 일련 번호 <br>\n",
    "Name: 차량의 이름 (브랜드 이름과 모델 이름 포함)<br>\n",
    "Location: 차량이 판매되거나 구매 가능한 위치 (도시)<br>\n",
    "Year: 차량의 제조 연도<br>\n",
    "Kilometers_driven: 이전 소유자가 차량을 운전한 총 거리 (KM 단위)<br>\n",
    "Fuel_Type: 차량이 사용하는 연료 종류 (가솔린, 디젤, 전기, CNG, LPG)<br>\n",
    "Transmission: 차량에 사용된 변속기 종류 (자동/수동)<br>\n",
    "Owner: 차량의 소유 유형<br>\n",
    "Mileage: 자동차 회사가 제공하는 표준 연비 (kmpl 또는 km/kg 단위)<br>\n",
    "Engine: 차량 엔진의 배기량 (CC 단위)<br>\n",
    "Power: 차량 엔진의 최대 출력 (bhp 단위)<br>\n",
    "Seats: 차량의 좌석 수<br>\n",
    "New_Price: 동일 모델의 새 차량 가격 (인도 루피 Lakhs 단위, 1 Lakh = 100,000 INR)<br>\n",
    "Price: 중고차 가격 (인도 루피 Lakhs 단위, 1 Lakh = 100,000 INR<br>"
   ]
  },
  {
   "cell_type": "code",
   "execution_count": 5,
   "metadata": {},
   "outputs": [],
   "source": [
    "aList = carDF[carDF['New_Price'].isna()]['Name'].unique().tolist()\n",
    "with open('keyword', \"w\") as f:\n",
    "      for item in aList:\n",
    "        f.write(str(item) + \"\\n\")  # Convert item to string and add newline"
   ]
  },
  {
   "cell_type": "code",
   "execution_count": 6,
   "metadata": {},
   "outputs": [
    {
     "name": "stdout",
     "output_type": "stream",
     "text": [
      "          Price\n",
      "S.No.          \n",
      "0       2.93125\n",
      "1      20.93750\n",
      "2       7.53750\n",
      "3      10.05000\n",
      "4      29.71450\n",
      "...         ...\n",
      "7248        NaN\n",
      "7249        NaN\n",
      "7250        NaN\n",
      "7251        NaN\n",
      "7252        NaN\n",
      "\n",
      "[7253 rows x 1 columns]\n"
     ]
    }
   ],
   "source": [
    "# 환율 (예시: 1 INR = 15 KRW)\n",
    "exchange_rate = 16.75\n",
    "\n",
    "# 중고차 가격을 한국 원화로 변환 후 백만 원 단위로 변환\n",
    "carDF['Price'] = (carDF['Price'] * 100000 * exchange_rate) / 1000000\n",
    "\n",
    "# # 결과 출력\n",
    "print(carDF[['Price']])"
   ]
  },
  {
   "cell_type": "code",
   "execution_count": 7,
   "metadata": {},
   "outputs": [
    {
     "name": "stdout",
     "output_type": "stream",
     "text": [
      "<class 'pandas.core.frame.DataFrame'>\n",
      "Index: 7253 entries, 0 to 7252\n",
      "Data columns (total 13 columns):\n",
      " #   Column             Non-Null Count  Dtype  \n",
      "---  ------             --------------  -----  \n",
      " 0   Name               7253 non-null   object \n",
      " 1   Location           7253 non-null   object \n",
      " 2   Year               7253 non-null   int64  \n",
      " 3   Kilometers_Driven  7253 non-null   int64  \n",
      " 4   Fuel_Type          7253 non-null   object \n",
      " 5   Transmission       7253 non-null   object \n",
      " 6   Owner_Type         7253 non-null   object \n",
      " 7   Mileage            7251 non-null   object \n",
      " 8   Engine             7207 non-null   object \n",
      " 9   Power              7207 non-null   object \n",
      " 10  Seats              7200 non-null   float64\n",
      " 11  New_Price          1006 non-null   object \n",
      " 12  Price              6019 non-null   float64\n",
      "dtypes: float64(2), int64(2), object(9)\n",
      "memory usage: 793.3+ KB\n"
     ]
    }
   ],
   "source": [
    "carDF.info()"
   ]
  },
  {
   "cell_type": "code",
   "execution_count": 8,
   "metadata": {},
   "outputs": [
    {
     "name": "stdout",
     "output_type": "stream",
     "text": [
      "Name 2041\n",
      "Location 11\n",
      "Year 23\n",
      "Kilometers_Driven 3660\n",
      "Fuel_Type 5\n",
      "Transmission 2\n",
      "Owner_Type 4\n",
      "Mileage 451\n",
      "Engine 151\n",
      "Power 387\n",
      "Seats 10\n",
      "New_Price 626\n",
      "Price 1374\n"
     ]
    }
   ],
   "source": [
    "## 각 컬럼별 고유값 갯수 확인\n",
    "## 범주형, 연속형 데이터 확인\n",
    "for i in carDF.columns:\n",
    "    print(i, len(carDF[i].unique()))"
   ]
  },
  {
   "cell_type": "code",
   "execution_count": 9,
   "metadata": {},
   "outputs": [
    {
     "data": {
      "text/plain": [
       "Name                    0\n",
       "Location                0\n",
       "Year                    0\n",
       "Kilometers_Driven       0\n",
       "Fuel_Type               0\n",
       "Transmission            0\n",
       "Owner_Type              0\n",
       "Mileage                 2\n",
       "Engine                 46\n",
       "Power                  46\n",
       "Seats                  53\n",
       "New_Price            6247\n",
       "Price                1234\n",
       "dtype: int64"
      ]
     },
     "execution_count": 9,
     "metadata": {},
     "output_type": "execute_result"
    }
   ],
   "source": [
    "carDF.isna().sum()\n",
    "## 널값 상태 확인\n",
    "## mileeage, Engine, Seats\n",
    "## engine nan == power 도 없음 46 개이므로 폐기\n",
    "## New_Price            6247가 null 폐기\n",
    "## price 1234개는 추후 확인"
   ]
  },
  {
   "cell_type": "code",
   "execution_count": 10,
   "metadata": {},
   "outputs": [],
   "source": [
    "carDF = carDF.drop(index = carDF[carDF['Engine'].isna()].index)\n",
    "carDF.loc[carDF['Seats'].isna(),'Seats'] = [5,5,5,7,5,5,5]\n",
    "carDF.loc[carDF['Mileage'].isna(), 'Mileage'] = [0,0]"
   ]
  },
  {
   "cell_type": "code",
   "execution_count": 11,
   "metadata": {},
   "outputs": [],
   "source": [
    "## name 컬럼 앞의 회사명은 범주형으로 사용가능."
   ]
  },
  {
   "cell_type": "code",
   "execution_count": 12,
   "metadata": {},
   "outputs": [
    {
     "data": {
      "text/html": [
       "<div>\n",
       "<style scoped>\n",
       "    .dataframe tbody tr th:only-of-type {\n",
       "        vertical-align: middle;\n",
       "    }\n",
       "\n",
       "    .dataframe tbody tr th {\n",
       "        vertical-align: top;\n",
       "    }\n",
       "\n",
       "    .dataframe thead th {\n",
       "        text-align: right;\n",
       "    }\n",
       "</style>\n",
       "<table border=\"1\" class=\"dataframe\">\n",
       "  <thead>\n",
       "    <tr style=\"text-align: right;\">\n",
       "      <th></th>\n",
       "      <th>Name</th>\n",
       "      <th>Location</th>\n",
       "      <th>Year</th>\n",
       "      <th>Kilometers_Driven</th>\n",
       "      <th>Fuel_Type</th>\n",
       "      <th>Transmission</th>\n",
       "      <th>Owner_Type</th>\n",
       "      <th>Mileage</th>\n",
       "      <th>Engine</th>\n",
       "      <th>Power</th>\n",
       "      <th>Seats</th>\n",
       "      <th>New_Price</th>\n",
       "      <th>Price</th>\n",
       "    </tr>\n",
       "    <tr>\n",
       "      <th>S.No.</th>\n",
       "      <th></th>\n",
       "      <th></th>\n",
       "      <th></th>\n",
       "      <th></th>\n",
       "      <th></th>\n",
       "      <th></th>\n",
       "      <th></th>\n",
       "      <th></th>\n",
       "      <th></th>\n",
       "      <th></th>\n",
       "      <th></th>\n",
       "      <th></th>\n",
       "      <th></th>\n",
       "    </tr>\n",
       "  </thead>\n",
       "  <tbody>\n",
       "    <tr>\n",
       "      <th>0</th>\n",
       "      <td>Maruti Wagon R LXI CNG</td>\n",
       "      <td>Mumbai</td>\n",
       "      <td>2010</td>\n",
       "      <td>72000</td>\n",
       "      <td>CNG</td>\n",
       "      <td>Manual</td>\n",
       "      <td>First</td>\n",
       "      <td>26.6 km/kg</td>\n",
       "      <td>998 CC</td>\n",
       "      <td>58.16 bhp</td>\n",
       "      <td>5.0</td>\n",
       "      <td>NaN</td>\n",
       "      <td>2.93125</td>\n",
       "    </tr>\n",
       "    <tr>\n",
       "      <th>1</th>\n",
       "      <td>Hyundai Creta 1.6 CRDi SX Option</td>\n",
       "      <td>Pune</td>\n",
       "      <td>2015</td>\n",
       "      <td>41000</td>\n",
       "      <td>Diesel</td>\n",
       "      <td>Manual</td>\n",
       "      <td>First</td>\n",
       "      <td>19.67 kmpl</td>\n",
       "      <td>1582 CC</td>\n",
       "      <td>126.2 bhp</td>\n",
       "      <td>5.0</td>\n",
       "      <td>NaN</td>\n",
       "      <td>20.93750</td>\n",
       "    </tr>\n",
       "    <tr>\n",
       "      <th>2</th>\n",
       "      <td>Honda Jazz V</td>\n",
       "      <td>Chennai</td>\n",
       "      <td>2011</td>\n",
       "      <td>46000</td>\n",
       "      <td>Petrol</td>\n",
       "      <td>Manual</td>\n",
       "      <td>First</td>\n",
       "      <td>18.2 kmpl</td>\n",
       "      <td>1199 CC</td>\n",
       "      <td>88.7 bhp</td>\n",
       "      <td>5.0</td>\n",
       "      <td>8.61 Lakh</td>\n",
       "      <td>7.53750</td>\n",
       "    </tr>\n",
       "    <tr>\n",
       "      <th>3</th>\n",
       "      <td>Maruti Ertiga VDI</td>\n",
       "      <td>Chennai</td>\n",
       "      <td>2012</td>\n",
       "      <td>87000</td>\n",
       "      <td>Diesel</td>\n",
       "      <td>Manual</td>\n",
       "      <td>First</td>\n",
       "      <td>20.77 kmpl</td>\n",
       "      <td>1248 CC</td>\n",
       "      <td>88.76 bhp</td>\n",
       "      <td>7.0</td>\n",
       "      <td>NaN</td>\n",
       "      <td>10.05000</td>\n",
       "    </tr>\n",
       "    <tr>\n",
       "      <th>4</th>\n",
       "      <td>Audi A4 New 2.0 TDI Multitronic</td>\n",
       "      <td>Coimbatore</td>\n",
       "      <td>2013</td>\n",
       "      <td>40670</td>\n",
       "      <td>Diesel</td>\n",
       "      <td>Automatic</td>\n",
       "      <td>Second</td>\n",
       "      <td>15.2 kmpl</td>\n",
       "      <td>1968 CC</td>\n",
       "      <td>140.8 bhp</td>\n",
       "      <td>5.0</td>\n",
       "      <td>NaN</td>\n",
       "      <td>29.71450</td>\n",
       "    </tr>\n",
       "  </tbody>\n",
       "</table>\n",
       "</div>"
      ],
      "text/plain": [
       "                                   Name    Location  Year  Kilometers_Driven  \\\n",
       "S.No.                                                                          \n",
       "0                Maruti Wagon R LXI CNG      Mumbai  2010              72000   \n",
       "1      Hyundai Creta 1.6 CRDi SX Option        Pune  2015              41000   \n",
       "2                          Honda Jazz V     Chennai  2011              46000   \n",
       "3                     Maruti Ertiga VDI     Chennai  2012              87000   \n",
       "4       Audi A4 New 2.0 TDI Multitronic  Coimbatore  2013              40670   \n",
       "\n",
       "      Fuel_Type Transmission Owner_Type     Mileage   Engine      Power  \\\n",
       "S.No.                                                                     \n",
       "0           CNG       Manual      First  26.6 km/kg   998 CC  58.16 bhp   \n",
       "1        Diesel       Manual      First  19.67 kmpl  1582 CC  126.2 bhp   \n",
       "2        Petrol       Manual      First   18.2 kmpl  1199 CC   88.7 bhp   \n",
       "3        Diesel       Manual      First  20.77 kmpl  1248 CC  88.76 bhp   \n",
       "4        Diesel    Automatic     Second   15.2 kmpl  1968 CC  140.8 bhp   \n",
       "\n",
       "       Seats  New_Price     Price  \n",
       "S.No.                              \n",
       "0        5.0        NaN   2.93125  \n",
       "1        5.0        NaN  20.93750  \n",
       "2        5.0  8.61 Lakh   7.53750  \n",
       "3        7.0        NaN  10.05000  \n",
       "4        5.0        NaN  29.71450  "
      ]
     },
     "execution_count": 12,
     "metadata": {},
     "output_type": "execute_result"
    }
   ],
   "source": [
    "carDF.head()"
   ]
  },
  {
   "cell_type": "markdown",
   "metadata": {},
   "source": []
  },
  {
   "cell_type": "code",
   "execution_count": 13,
   "metadata": {},
   "outputs": [],
   "source": [
    "## 수치지만 object인 컬럼 수정\n",
    "# carDF['Mileage'] = carDF['Mileage'].apply(lambda x: x.split())\n",
    "carDF['Mileage'] = carDF['Mileage'].apply(lambda x: str(x).split()[0] if isinstance(x, str) else x)\n",
    "carDF[\"Engine\"] = carDF[\"Engine\"].apply(lambda x: str(x).split()[0])\n",
    "carDF[\"Power\"] = carDF[\"Power\"].apply(lambda x: str(x).split()[0])\n"
   ]
  },
  {
   "cell_type": "code",
   "execution_count": 14,
   "metadata": {},
   "outputs": [
    {
     "data": {
      "text/plain": [
       "Name                    0\n",
       "Location                0\n",
       "Year                    0\n",
       "Kilometers_Driven       0\n",
       "Fuel_Type               0\n",
       "Transmission            0\n",
       "Owner_Type              0\n",
       "Mileage                 0\n",
       "Engine                  0\n",
       "Power                   0\n",
       "Seats                   0\n",
       "New_Price            6201\n",
       "Price                1224\n",
       "dtype: int64"
      ]
     },
     "execution_count": 14,
     "metadata": {},
     "output_type": "execute_result"
    }
   ],
   "source": [
    "carDF.isnull().sum()"
   ]
  },
  {
   "cell_type": "code",
   "execution_count": 15,
   "metadata": {},
   "outputs": [],
   "source": [
    "carDF= carDF.drop(index=carDF[carDF['Power']=='null'].index)"
   ]
  },
  {
   "cell_type": "code",
   "execution_count": 16,
   "metadata": {},
   "outputs": [],
   "source": [
    "#converting object data type to category data type\n",
    "carDF[\"Fuel_Type\"] = carDF[\"Fuel_Type\"].astype(\"category\")\n",
    "carDF[\"Transmission\"] = carDF[\"Transmission\"].astype(\"category\")\n",
    "carDF[\"Owner_Type\"] = carDF[\"Owner_Type\"].astype(\"category\")\n",
    "#converting datatype  \n",
    "carDF[\"Mileage\"] = carDF[\"Mileage\"].astype(float)\n",
    "carDF[\"Power\"] = carDF[\"Power\"].astype(float)\n",
    "carDF[\"Engine\"]=carDF[\"Engine\"].astype(float)"
   ]
  },
  {
   "cell_type": "code",
   "execution_count": 17,
   "metadata": {},
   "outputs": [
    {
     "name": "stdout",
     "output_type": "stream",
     "text": [
      "<class 'pandas.core.frame.DataFrame'>\n",
      "Index: 7078 entries, 0 to 7252\n",
      "Data columns (total 13 columns):\n",
      " #   Column             Non-Null Count  Dtype   \n",
      "---  ------             --------------  -----   \n",
      " 0   Name               7078 non-null   object  \n",
      " 1   Location           7078 non-null   object  \n",
      " 2   Year               7078 non-null   int64   \n",
      " 3   Kilometers_Driven  7078 non-null   int64   \n",
      " 4   Fuel_Type          7078 non-null   category\n",
      " 5   Transmission       7078 non-null   category\n",
      " 6   Owner_Type         7078 non-null   category\n",
      " 7   Mileage            7078 non-null   float64 \n",
      " 8   Engine             7078 non-null   float64 \n",
      " 9   Power              7078 non-null   float64 \n",
      " 10  Seats              7078 non-null   float64 \n",
      " 11  New_Price          1006 non-null   object  \n",
      " 12  Price              5876 non-null   float64 \n",
      "dtypes: category(3), float64(5), int64(2), object(3)\n",
      "memory usage: 629.5+ KB\n"
     ]
    }
   ],
   "source": [
    "carDF.info()"
   ]
  },
  {
   "cell_type": "code",
   "execution_count": 18,
   "metadata": {},
   "outputs": [
    {
     "data": {
      "text/plain": [
       "array(['Maruti', 'Hyundai', 'Honda', 'Audi', 'Nissan', 'Toyota',\n",
       "       'Volkswagen', 'Tata', 'Land', 'Mitsubishi', 'Renault',\n",
       "       'Mercedes-Benz', 'BMW', 'Mahindra', 'Ford', 'Porsche', 'Datsun',\n",
       "       'Jaguar', 'Volvo', 'Chevrolet', 'Skoda', 'Mini', 'Fiat', 'Jeep',\n",
       "       'Ambassador', 'Isuzu', 'ISUZU', 'Force', 'Bentley', 'Lamborghini',\n",
       "       'OpelCorsa'], dtype=object)"
      ]
     },
     "execution_count": 18,
     "metadata": {},
     "output_type": "execute_result"
    }
   ],
   "source": [
    "## 차량 이름 앞의 브랜드명 추출하여 브랜드로, 모델명 추출하여 모델로\n",
    "carDF['Brand'] = carDF['Name'].str.split(' ').str[0] #Separating Brand name from the Name\n",
    "carDF['Model'] = carDF['Name'].str.split(' ').str[1] + carDF['Name'].str.split(' ').str[2]\n",
    "\n",
    "carDF.Brand.unique()\n",
    "## 'Isuzu', 'ISUZU' 같은걸로 보임."
   ]
  },
  {
   "cell_type": "code",
   "execution_count": 19,
   "metadata": {},
   "outputs": [],
   "source": [
    "carDF['Brand'] = carDF['Brand'].str.replace('ISUZU','Isuzu' )\n",
    "carDF.loc[carDF['Model'].isna(),'Model'] = 'Corsa'"
   ]
  },
  {
   "cell_type": "code",
   "execution_count": 20,
   "metadata": {},
   "outputs": [],
   "source": [
    "carDF[\"Brand\"] = carDF[\"Brand\"].astype(\"category\")\n",
    "carDF[\"Model\"] = carDF[\"Model\"].astype(\"category\")"
   ]
  },
  {
   "cell_type": "code",
   "execution_count": 21,
   "metadata": {},
   "outputs": [],
   "source": [
    "## 제조년도와 현재년도를 이용해 연식 계산\n",
    "\n",
    "carDF['Current_year']=2025\n",
    "carDF['Ageofcar']=carDF['Current_year']-carDF['Year']\n",
    "carDF.drop('Current_year',axis=1,inplace=True)"
   ]
  },
  {
   "cell_type": "code",
   "execution_count": 22,
   "metadata": {},
   "outputs": [
    {
     "data": {
      "text/html": [
       "<div>\n",
       "<style scoped>\n",
       "    .dataframe tbody tr th:only-of-type {\n",
       "        vertical-align: middle;\n",
       "    }\n",
       "\n",
       "    .dataframe tbody tr th {\n",
       "        vertical-align: top;\n",
       "    }\n",
       "\n",
       "    .dataframe thead th {\n",
       "        text-align: right;\n",
       "    }\n",
       "</style>\n",
       "<table border=\"1\" class=\"dataframe\">\n",
       "  <thead>\n",
       "    <tr style=\"text-align: right;\">\n",
       "      <th></th>\n",
       "      <th>Year</th>\n",
       "      <th>Kilometers_Driven</th>\n",
       "      <th>Mileage</th>\n",
       "      <th>Engine</th>\n",
       "      <th>Power</th>\n",
       "      <th>Seats</th>\n",
       "      <th>Price</th>\n",
       "      <th>Ageofcar</th>\n",
       "    </tr>\n",
       "  </thead>\n",
       "  <tbody>\n",
       "    <tr>\n",
       "      <th>count</th>\n",
       "      <td>7078.000000</td>\n",
       "      <td>7.078000e+03</td>\n",
       "      <td>7078.000000</td>\n",
       "      <td>7078.000000</td>\n",
       "      <td>7078.000000</td>\n",
       "      <td>7078.000000</td>\n",
       "      <td>5876.000000</td>\n",
       "      <td>7078.000000</td>\n",
       "    </tr>\n",
       "    <tr>\n",
       "      <th>mean</th>\n",
       "      <td>2013.480503</td>\n",
       "      <td>5.825348e+04</td>\n",
       "      <td>18.268227</td>\n",
       "      <td>1620.717717</td>\n",
       "      <td>112.765214</td>\n",
       "      <td>5.284544</td>\n",
       "      <td>16.084464</td>\n",
       "      <td>11.519497</td>\n",
       "    </tr>\n",
       "    <tr>\n",
       "      <th>std</th>\n",
       "      <td>3.153077</td>\n",
       "      <td>8.521223e+04</td>\n",
       "      <td>4.369135</td>\n",
       "      <td>596.002717</td>\n",
       "      <td>53.493553</td>\n",
       "      <td>0.809451</td>\n",
       "      <td>18.837939</td>\n",
       "      <td>3.153077</td>\n",
       "    </tr>\n",
       "    <tr>\n",
       "      <th>min</th>\n",
       "      <td>1998.000000</td>\n",
       "      <td>1.710000e+02</td>\n",
       "      <td>0.000000</td>\n",
       "      <td>72.000000</td>\n",
       "      <td>34.200000</td>\n",
       "      <td>2.000000</td>\n",
       "      <td>0.737000</td>\n",
       "      <td>6.000000</td>\n",
       "    </tr>\n",
       "    <tr>\n",
       "      <th>25%</th>\n",
       "      <td>2012.000000</td>\n",
       "      <td>3.345875e+04</td>\n",
       "      <td>15.260000</td>\n",
       "      <td>1198.000000</td>\n",
       "      <td>75.000000</td>\n",
       "      <td>5.000000</td>\n",
       "      <td>5.891813</td>\n",
       "      <td>9.000000</td>\n",
       "    </tr>\n",
       "    <tr>\n",
       "      <th>50%</th>\n",
       "      <td>2014.000000</td>\n",
       "      <td>5.300000e+04</td>\n",
       "      <td>18.250000</td>\n",
       "      <td>1495.000000</td>\n",
       "      <td>94.000000</td>\n",
       "      <td>5.000000</td>\n",
       "      <td>9.631250</td>\n",
       "      <td>11.000000</td>\n",
       "    </tr>\n",
       "    <tr>\n",
       "      <th>75%</th>\n",
       "      <td>2016.000000</td>\n",
       "      <td>7.256600e+04</td>\n",
       "      <td>21.100000</td>\n",
       "      <td>1984.000000</td>\n",
       "      <td>138.100000</td>\n",
       "      <td>5.000000</td>\n",
       "      <td>16.770938</td>\n",
       "      <td>13.000000</td>\n",
       "    </tr>\n",
       "    <tr>\n",
       "      <th>max</th>\n",
       "      <td>2019.000000</td>\n",
       "      <td>6.500000e+06</td>\n",
       "      <td>33.540000</td>\n",
       "      <td>5998.000000</td>\n",
       "      <td>616.000000</td>\n",
       "      <td>10.000000</td>\n",
       "      <td>268.000000</td>\n",
       "      <td>27.000000</td>\n",
       "    </tr>\n",
       "  </tbody>\n",
       "</table>\n",
       "</div>"
      ],
      "text/plain": [
       "              Year  Kilometers_Driven      Mileage       Engine        Power  \\\n",
       "count  7078.000000       7.078000e+03  7078.000000  7078.000000  7078.000000   \n",
       "mean   2013.480503       5.825348e+04    18.268227  1620.717717   112.765214   \n",
       "std       3.153077       8.521223e+04     4.369135   596.002717    53.493553   \n",
       "min    1998.000000       1.710000e+02     0.000000    72.000000    34.200000   \n",
       "25%    2012.000000       3.345875e+04    15.260000  1198.000000    75.000000   \n",
       "50%    2014.000000       5.300000e+04    18.250000  1495.000000    94.000000   \n",
       "75%    2016.000000       7.256600e+04    21.100000  1984.000000   138.100000   \n",
       "max    2019.000000       6.500000e+06    33.540000  5998.000000   616.000000   \n",
       "\n",
       "             Seats        Price     Ageofcar  \n",
       "count  7078.000000  5876.000000  7078.000000  \n",
       "mean      5.284544    16.084464    11.519497  \n",
       "std       0.809451    18.837939     3.153077  \n",
       "min       2.000000     0.737000     6.000000  \n",
       "25%       5.000000     5.891813     9.000000  \n",
       "50%       5.000000     9.631250    11.000000  \n",
       "75%       5.000000    16.770938    13.000000  \n",
       "max      10.000000   268.000000    27.000000  "
      ]
     },
     "execution_count": 22,
     "metadata": {},
     "output_type": "execute_result"
    }
   ],
   "source": [
    "carDF.describe()"
   ]
  },
  {
   "cell_type": "code",
   "execution_count": 23,
   "metadata": {},
   "outputs": [
    {
     "data": {
      "text/html": [
       "<div>\n",
       "<style scoped>\n",
       "    .dataframe tbody tr th:only-of-type {\n",
       "        vertical-align: middle;\n",
       "    }\n",
       "\n",
       "    .dataframe tbody tr th {\n",
       "        vertical-align: top;\n",
       "    }\n",
       "\n",
       "    .dataframe thead th {\n",
       "        text-align: right;\n",
       "    }\n",
       "</style>\n",
       "<table border=\"1\" class=\"dataframe\">\n",
       "  <thead>\n",
       "    <tr style=\"text-align: right;\">\n",
       "      <th></th>\n",
       "      <th>Name</th>\n",
       "      <th>Location</th>\n",
       "      <th>Year</th>\n",
       "      <th>Kilometers_Driven</th>\n",
       "      <th>Fuel_Type</th>\n",
       "      <th>Transmission</th>\n",
       "      <th>Owner_Type</th>\n",
       "      <th>Mileage</th>\n",
       "      <th>Engine</th>\n",
       "      <th>Power</th>\n",
       "      <th>Seats</th>\n",
       "      <th>New_Price</th>\n",
       "      <th>Price</th>\n",
       "      <th>Brand</th>\n",
       "      <th>Model</th>\n",
       "      <th>Ageofcar</th>\n",
       "    </tr>\n",
       "    <tr>\n",
       "      <th>S.No.</th>\n",
       "      <th></th>\n",
       "      <th></th>\n",
       "      <th></th>\n",
       "      <th></th>\n",
       "      <th></th>\n",
       "      <th></th>\n",
       "      <th></th>\n",
       "      <th></th>\n",
       "      <th></th>\n",
       "      <th></th>\n",
       "      <th></th>\n",
       "      <th></th>\n",
       "      <th></th>\n",
       "      <th></th>\n",
       "      <th></th>\n",
       "      <th></th>\n",
       "    </tr>\n",
       "  </thead>\n",
       "  <tbody>\n",
       "    <tr>\n",
       "      <th>4904</th>\n",
       "      <td>Toyota Prius 2009-2016 Z4</td>\n",
       "      <td>Mumbai</td>\n",
       "      <td>2011</td>\n",
       "      <td>44000</td>\n",
       "      <td>Electric</td>\n",
       "      <td>Automatic</td>\n",
       "      <td>First</td>\n",
       "      <td>0.0</td>\n",
       "      <td>1798.0</td>\n",
       "      <td>73.0</td>\n",
       "      <td>5.0</td>\n",
       "      <td>NaN</td>\n",
       "      <td>21.35625</td>\n",
       "      <td>Toyota</td>\n",
       "      <td>Prius2009-2016</td>\n",
       "      <td>14</td>\n",
       "    </tr>\n",
       "  </tbody>\n",
       "</table>\n",
       "</div>"
      ],
      "text/plain": [
       "                            Name Location  Year  Kilometers_Driven Fuel_Type  \\\n",
       "S.No.                                                                          \n",
       "4904   Toyota Prius 2009-2016 Z4   Mumbai  2011              44000  Electric   \n",
       "\n",
       "      Transmission Owner_Type  Mileage  Engine  Power  Seats New_Price  \\\n",
       "S.No.                                                                    \n",
       "4904     Automatic      First      0.0  1798.0   73.0    5.0       NaN   \n",
       "\n",
       "          Price   Brand           Model  Ageofcar  \n",
       "S.No.                                              \n",
       "4904   21.35625  Toyota  Prius2009-2016        14  "
      ]
     },
     "execution_count": 23,
     "metadata": {},
     "output_type": "execute_result"
    }
   ],
   "source": [
    "carDF.loc[carDF['Model']=='Prius2009-2016',:]"
   ]
  },
  {
   "cell_type": "code",
   "execution_count": 24,
   "metadata": {},
   "outputs": [],
   "source": [
    "carDF.loc[carDF['Model']=='Prius2009-2016', 'Mileage'] = 23.91"
   ]
  },
  {
   "cell_type": "code",
   "execution_count": 25,
   "metadata": {},
   "outputs": [
    {
     "name": "stderr",
     "output_type": "stream",
     "text": [
      "C:\\Users\\kdt\\AppData\\Local\\Temp\\ipykernel_23756\\4283817905.py:1: FutureWarning: The default of observed=False is deprecated and will be changed to True in a future version of pandas. Pass observed=False to retain current behavior or observed=True to adopt the future default and silence this warning.\n",
      "  carDF['Mileage'].groupby(carDF['Model']).median().sort_values().head(30)\n"
     ]
    },
    {
     "data": {
      "text/plain": [
       "Model\n",
       "C-ClassProgressive     0.00\n",
       "Jazz2020               0.00\n",
       "Superb3.6              0.00\n",
       "EVerito                0.00\n",
       "GallardoCoupe          6.40\n",
       "Panamera2010           7.75\n",
       "SL-ClassSL             8.10\n",
       "ContinentalFlying      8.60\n",
       "BoxsterS               8.60\n",
       "M-ClassML              8.70\n",
       "AccordV6               9.00\n",
       "S60D4                  9.00\n",
       "Superb2.8              9.30\n",
       "XJ2.0L                 9.43\n",
       "Pajero4X4              9.50\n",
       "6Series                9.52\n",
       "TT2.0                  9.90\n",
       "CLS-Class2006-2010     9.90\n",
       "E-Class230            10.00\n",
       "370ZAT                10.00\n",
       "E-ClassE400           10.00\n",
       "E-Class250            10.00\n",
       "CR-V2.4               10.10\n",
       "GrandVitara           10.10\n",
       "FlyingSpur            10.20\n",
       "Z42009-2013           10.37\n",
       "A62.8                 10.40\n",
       "E-Class200            10.50\n",
       "XJ5.0                 10.50\n",
       "Scorpio2.6            10.50\n",
       "Name: Mileage, dtype: float64"
      ]
     },
     "execution_count": 25,
     "metadata": {},
     "output_type": "execute_result"
    }
   ],
   "source": [
    "carDF['Mileage'].groupby(carDF['Model']).median().sort_values().head(30)"
   ]
  },
  {
   "cell_type": "code",
   "execution_count": 26,
   "metadata": {},
   "outputs": [
    {
     "data": {
      "text/html": [
       "<div>\n",
       "<style scoped>\n",
       "    .dataframe tbody tr th:only-of-type {\n",
       "        vertical-align: middle;\n",
       "    }\n",
       "\n",
       "    .dataframe tbody tr th {\n",
       "        vertical-align: top;\n",
       "    }\n",
       "\n",
       "    .dataframe thead th {\n",
       "        text-align: right;\n",
       "    }\n",
       "</style>\n",
       "<table border=\"1\" class=\"dataframe\">\n",
       "  <thead>\n",
       "    <tr style=\"text-align: right;\">\n",
       "      <th></th>\n",
       "      <th>Name</th>\n",
       "      <th>Location</th>\n",
       "      <th>Year</th>\n",
       "      <th>Kilometers_Driven</th>\n",
       "      <th>Fuel_Type</th>\n",
       "      <th>Transmission</th>\n",
       "      <th>Owner_Type</th>\n",
       "      <th>Mileage</th>\n",
       "      <th>Engine</th>\n",
       "      <th>Power</th>\n",
       "      <th>Seats</th>\n",
       "      <th>New_Price</th>\n",
       "      <th>Price</th>\n",
       "      <th>Brand</th>\n",
       "      <th>Model</th>\n",
       "      <th>Ageofcar</th>\n",
       "    </tr>\n",
       "    <tr>\n",
       "      <th>S.No.</th>\n",
       "      <th></th>\n",
       "      <th></th>\n",
       "      <th></th>\n",
       "      <th></th>\n",
       "      <th></th>\n",
       "      <th></th>\n",
       "      <th></th>\n",
       "      <th></th>\n",
       "      <th></th>\n",
       "      <th></th>\n",
       "      <th></th>\n",
       "      <th></th>\n",
       "      <th></th>\n",
       "      <th></th>\n",
       "      <th></th>\n",
       "      <th></th>\n",
       "    </tr>\n",
       "  </thead>\n",
       "  <tbody>\n",
       "    <tr>\n",
       "      <th>0</th>\n",
       "      <td>Maruti Wagon R LXI CNG</td>\n",
       "      <td>Mumbai</td>\n",
       "      <td>2010</td>\n",
       "      <td>72000</td>\n",
       "      <td>CNG</td>\n",
       "      <td>Manual</td>\n",
       "      <td>First</td>\n",
       "      <td>26.60</td>\n",
       "      <td>998.0</td>\n",
       "      <td>58.16</td>\n",
       "      <td>5.0</td>\n",
       "      <td>NaN</td>\n",
       "      <td>2.93125</td>\n",
       "      <td>Maruti</td>\n",
       "      <td>WagonR</td>\n",
       "      <td>15</td>\n",
       "    </tr>\n",
       "    <tr>\n",
       "      <th>1</th>\n",
       "      <td>Hyundai Creta 1.6 CRDi SX Option</td>\n",
       "      <td>Pune</td>\n",
       "      <td>2015</td>\n",
       "      <td>41000</td>\n",
       "      <td>Diesel</td>\n",
       "      <td>Manual</td>\n",
       "      <td>First</td>\n",
       "      <td>19.67</td>\n",
       "      <td>1582.0</td>\n",
       "      <td>126.20</td>\n",
       "      <td>5.0</td>\n",
       "      <td>NaN</td>\n",
       "      <td>20.93750</td>\n",
       "      <td>Hyundai</td>\n",
       "      <td>Creta1.6</td>\n",
       "      <td>10</td>\n",
       "    </tr>\n",
       "    <tr>\n",
       "      <th>2</th>\n",
       "      <td>Honda Jazz V</td>\n",
       "      <td>Chennai</td>\n",
       "      <td>2011</td>\n",
       "      <td>46000</td>\n",
       "      <td>Petrol</td>\n",
       "      <td>Manual</td>\n",
       "      <td>First</td>\n",
       "      <td>18.20</td>\n",
       "      <td>1199.0</td>\n",
       "      <td>88.70</td>\n",
       "      <td>5.0</td>\n",
       "      <td>8.61 Lakh</td>\n",
       "      <td>7.53750</td>\n",
       "      <td>Honda</td>\n",
       "      <td>JazzV</td>\n",
       "      <td>14</td>\n",
       "    </tr>\n",
       "    <tr>\n",
       "      <th>3</th>\n",
       "      <td>Maruti Ertiga VDI</td>\n",
       "      <td>Chennai</td>\n",
       "      <td>2012</td>\n",
       "      <td>87000</td>\n",
       "      <td>Diesel</td>\n",
       "      <td>Manual</td>\n",
       "      <td>First</td>\n",
       "      <td>20.77</td>\n",
       "      <td>1248.0</td>\n",
       "      <td>88.76</td>\n",
       "      <td>7.0</td>\n",
       "      <td>NaN</td>\n",
       "      <td>10.05000</td>\n",
       "      <td>Maruti</td>\n",
       "      <td>ErtigaVDI</td>\n",
       "      <td>13</td>\n",
       "    </tr>\n",
       "    <tr>\n",
       "      <th>4</th>\n",
       "      <td>Audi A4 New 2.0 TDI Multitronic</td>\n",
       "      <td>Coimbatore</td>\n",
       "      <td>2013</td>\n",
       "      <td>40670</td>\n",
       "      <td>Diesel</td>\n",
       "      <td>Automatic</td>\n",
       "      <td>Second</td>\n",
       "      <td>15.20</td>\n",
       "      <td>1968.0</td>\n",
       "      <td>140.80</td>\n",
       "      <td>5.0</td>\n",
       "      <td>NaN</td>\n",
       "      <td>29.71450</td>\n",
       "      <td>Audi</td>\n",
       "      <td>A4New</td>\n",
       "      <td>12</td>\n",
       "    </tr>\n",
       "  </tbody>\n",
       "</table>\n",
       "</div>"
      ],
      "text/plain": [
       "                                   Name    Location  Year  Kilometers_Driven  \\\n",
       "S.No.                                                                          \n",
       "0                Maruti Wagon R LXI CNG      Mumbai  2010              72000   \n",
       "1      Hyundai Creta 1.6 CRDi SX Option        Pune  2015              41000   \n",
       "2                          Honda Jazz V     Chennai  2011              46000   \n",
       "3                     Maruti Ertiga VDI     Chennai  2012              87000   \n",
       "4       Audi A4 New 2.0 TDI Multitronic  Coimbatore  2013              40670   \n",
       "\n",
       "      Fuel_Type Transmission Owner_Type  Mileage  Engine   Power  Seats  \\\n",
       "S.No.                                                                     \n",
       "0           CNG       Manual      First    26.60   998.0   58.16    5.0   \n",
       "1        Diesel       Manual      First    19.67  1582.0  126.20    5.0   \n",
       "2        Petrol       Manual      First    18.20  1199.0   88.70    5.0   \n",
       "3        Diesel       Manual      First    20.77  1248.0   88.76    7.0   \n",
       "4        Diesel    Automatic     Second    15.20  1968.0  140.80    5.0   \n",
       "\n",
       "       New_Price     Price    Brand      Model  Ageofcar  \n",
       "S.No.                                                     \n",
       "0            NaN   2.93125   Maruti     WagonR        15  \n",
       "1            NaN  20.93750  Hyundai   Creta1.6        10  \n",
       "2      8.61 Lakh   7.53750    Honda      JazzV        14  \n",
       "3            NaN  10.05000   Maruti  ErtigaVDI        13  \n",
       "4            NaN  29.71450     Audi      A4New        12  "
      ]
     },
     "execution_count": 26,
     "metadata": {},
     "output_type": "execute_result"
    }
   ],
   "source": [
    "carDF.head()"
   ]
  },
  {
   "cell_type": "code",
   "execution_count": null,
   "metadata": {},
   "outputs": [],
   "source": []
  },
  {
   "cell_type": "markdown",
   "metadata": {},
   "source": [
    "price의 널값 1200개 처리하기.\n",
    "- 5876/7078 = 0.8301780163888104\n",
    "- 약 17%. test size를 0.17로 처리했다고 생각하고. \n",
    "- 예측모델을 만든 후 price 가 null인 것을 예측 모델에 넣어 데이터 만들기"
   ]
  },
  {
   "cell_type": "markdown",
   "metadata": {},
   "source": [
    "- target - Price\n",
    "- feature - 이름을 제외한 모든 컬럼."
   ]
  },
  {
   "cell_type": "code",
   "execution_count": 27,
   "metadata": {},
   "outputs": [],
   "source": [
    "pnullDF = carDF.loc[carDF[carDF['Price'].isna()].index, :]\n",
    "newDF = carDF.loc[carDF[~carDF['Price'].isna()].index, :]"
   ]
  },
  {
   "cell_type": "code",
   "execution_count": 28,
   "metadata": {},
   "outputs": [
    {
     "name": "stdout",
     "output_type": "stream",
     "text": [
      "<class 'pandas.core.frame.DataFrame'>\n",
      "Index: 7078 entries, 0 to 7252\n",
      "Data columns (total 16 columns):\n",
      " #   Column             Non-Null Count  Dtype   \n",
      "---  ------             --------------  -----   \n",
      " 0   Name               7078 non-null   object  \n",
      " 1   Location           7078 non-null   object  \n",
      " 2   Year               7078 non-null   int64   \n",
      " 3   Kilometers_Driven  7078 non-null   int64   \n",
      " 4   Fuel_Type          7078 non-null   category\n",
      " 5   Transmission       7078 non-null   category\n",
      " 6   Owner_Type         7078 non-null   category\n",
      " 7   Mileage            7078 non-null   float64 \n",
      " 8   Engine             7078 non-null   float64 \n",
      " 9   Power              7078 non-null   float64 \n",
      " 10  Seats              7078 non-null   float64 \n",
      " 11  New_Price          1006 non-null   object  \n",
      " 12  Price              5876 non-null   float64 \n",
      " 13  Brand              7078 non-null   category\n",
      " 14  Model              7078 non-null   category\n",
      " 15  Ageofcar           7078 non-null   int64   \n",
      "dtypes: category(5), float64(5), int64(3), object(3)\n",
      "memory usage: 986.5+ KB\n"
     ]
    }
   ],
   "source": [
    "carDF.info()"
   ]
  },
  {
   "cell_type": "code",
   "execution_count": 29,
   "metadata": {},
   "outputs": [
    {
     "data": {
      "text/html": [
       "<div>\n",
       "<style scoped>\n",
       "    .dataframe tbody tr th:only-of-type {\n",
       "        vertical-align: middle;\n",
       "    }\n",
       "\n",
       "    .dataframe tbody tr th {\n",
       "        vertical-align: top;\n",
       "    }\n",
       "\n",
       "    .dataframe thead th {\n",
       "        text-align: right;\n",
       "    }\n",
       "</style>\n",
       "<table border=\"1\" class=\"dataframe\">\n",
       "  <thead>\n",
       "    <tr style=\"text-align: right;\">\n",
       "      <th></th>\n",
       "      <th>Name</th>\n",
       "      <th>Location</th>\n",
       "      <th>Year</th>\n",
       "      <th>Kilometers_Driven</th>\n",
       "      <th>Fuel_Type</th>\n",
       "      <th>Transmission</th>\n",
       "      <th>Owner_Type</th>\n",
       "      <th>Mileage</th>\n",
       "      <th>Engine</th>\n",
       "      <th>Power</th>\n",
       "      <th>Seats</th>\n",
       "      <th>New_Price</th>\n",
       "      <th>Price</th>\n",
       "      <th>Brand</th>\n",
       "      <th>Model</th>\n",
       "      <th>Ageofcar</th>\n",
       "    </tr>\n",
       "    <tr>\n",
       "      <th>S.No.</th>\n",
       "      <th></th>\n",
       "      <th></th>\n",
       "      <th></th>\n",
       "      <th></th>\n",
       "      <th></th>\n",
       "      <th></th>\n",
       "      <th></th>\n",
       "      <th></th>\n",
       "      <th></th>\n",
       "      <th></th>\n",
       "      <th></th>\n",
       "      <th></th>\n",
       "      <th></th>\n",
       "      <th></th>\n",
       "      <th></th>\n",
       "      <th></th>\n",
       "    </tr>\n",
       "  </thead>\n",
       "  <tbody>\n",
       "    <tr>\n",
       "      <th>0</th>\n",
       "      <td>Maruti Wagon R LXI CNG</td>\n",
       "      <td>Mumbai</td>\n",
       "      <td>2010</td>\n",
       "      <td>72000</td>\n",
       "      <td>CNG</td>\n",
       "      <td>Manual</td>\n",
       "      <td>First</td>\n",
       "      <td>26.60</td>\n",
       "      <td>998.0</td>\n",
       "      <td>58.16</td>\n",
       "      <td>5.0</td>\n",
       "      <td>NaN</td>\n",
       "      <td>2.93125</td>\n",
       "      <td>Maruti</td>\n",
       "      <td>WagonR</td>\n",
       "      <td>15</td>\n",
       "    </tr>\n",
       "    <tr>\n",
       "      <th>1</th>\n",
       "      <td>Hyundai Creta 1.6 CRDi SX Option</td>\n",
       "      <td>Pune</td>\n",
       "      <td>2015</td>\n",
       "      <td>41000</td>\n",
       "      <td>Diesel</td>\n",
       "      <td>Manual</td>\n",
       "      <td>First</td>\n",
       "      <td>19.67</td>\n",
       "      <td>1582.0</td>\n",
       "      <td>126.20</td>\n",
       "      <td>5.0</td>\n",
       "      <td>NaN</td>\n",
       "      <td>20.93750</td>\n",
       "      <td>Hyundai</td>\n",
       "      <td>Creta1.6</td>\n",
       "      <td>10</td>\n",
       "    </tr>\n",
       "    <tr>\n",
       "      <th>2</th>\n",
       "      <td>Honda Jazz V</td>\n",
       "      <td>Chennai</td>\n",
       "      <td>2011</td>\n",
       "      <td>46000</td>\n",
       "      <td>Petrol</td>\n",
       "      <td>Manual</td>\n",
       "      <td>First</td>\n",
       "      <td>18.20</td>\n",
       "      <td>1199.0</td>\n",
       "      <td>88.70</td>\n",
       "      <td>5.0</td>\n",
       "      <td>8.61 Lakh</td>\n",
       "      <td>7.53750</td>\n",
       "      <td>Honda</td>\n",
       "      <td>JazzV</td>\n",
       "      <td>14</td>\n",
       "    </tr>\n",
       "    <tr>\n",
       "      <th>3</th>\n",
       "      <td>Maruti Ertiga VDI</td>\n",
       "      <td>Chennai</td>\n",
       "      <td>2012</td>\n",
       "      <td>87000</td>\n",
       "      <td>Diesel</td>\n",
       "      <td>Manual</td>\n",
       "      <td>First</td>\n",
       "      <td>20.77</td>\n",
       "      <td>1248.0</td>\n",
       "      <td>88.76</td>\n",
       "      <td>7.0</td>\n",
       "      <td>NaN</td>\n",
       "      <td>10.05000</td>\n",
       "      <td>Maruti</td>\n",
       "      <td>ErtigaVDI</td>\n",
       "      <td>13</td>\n",
       "    </tr>\n",
       "    <tr>\n",
       "      <th>4</th>\n",
       "      <td>Audi A4 New 2.0 TDI Multitronic</td>\n",
       "      <td>Coimbatore</td>\n",
       "      <td>2013</td>\n",
       "      <td>40670</td>\n",
       "      <td>Diesel</td>\n",
       "      <td>Automatic</td>\n",
       "      <td>Second</td>\n",
       "      <td>15.20</td>\n",
       "      <td>1968.0</td>\n",
       "      <td>140.80</td>\n",
       "      <td>5.0</td>\n",
       "      <td>NaN</td>\n",
       "      <td>29.71450</td>\n",
       "      <td>Audi</td>\n",
       "      <td>A4New</td>\n",
       "      <td>12</td>\n",
       "    </tr>\n",
       "  </tbody>\n",
       "</table>\n",
       "</div>"
      ],
      "text/plain": [
       "                                   Name    Location  Year  Kilometers_Driven  \\\n",
       "S.No.                                                                          \n",
       "0                Maruti Wagon R LXI CNG      Mumbai  2010              72000   \n",
       "1      Hyundai Creta 1.6 CRDi SX Option        Pune  2015              41000   \n",
       "2                          Honda Jazz V     Chennai  2011              46000   \n",
       "3                     Maruti Ertiga VDI     Chennai  2012              87000   \n",
       "4       Audi A4 New 2.0 TDI Multitronic  Coimbatore  2013              40670   \n",
       "\n",
       "      Fuel_Type Transmission Owner_Type  Mileage  Engine   Power  Seats  \\\n",
       "S.No.                                                                     \n",
       "0           CNG       Manual      First    26.60   998.0   58.16    5.0   \n",
       "1        Diesel       Manual      First    19.67  1582.0  126.20    5.0   \n",
       "2        Petrol       Manual      First    18.20  1199.0   88.70    5.0   \n",
       "3        Diesel       Manual      First    20.77  1248.0   88.76    7.0   \n",
       "4        Diesel    Automatic     Second    15.20  1968.0  140.80    5.0   \n",
       "\n",
       "       New_Price     Price    Brand      Model  Ageofcar  \n",
       "S.No.                                                     \n",
       "0            NaN   2.93125   Maruti     WagonR        15  \n",
       "1            NaN  20.93750  Hyundai   Creta1.6        10  \n",
       "2      8.61 Lakh   7.53750    Honda      JazzV        14  \n",
       "3            NaN  10.05000   Maruti  ErtigaVDI        13  \n",
       "4            NaN  29.71450     Audi      A4New        12  "
      ]
     },
     "execution_count": 29,
     "metadata": {},
     "output_type": "execute_result"
    }
   ],
   "source": [
    "carDF.head()"
   ]
  },
  {
   "cell_type": "code",
   "execution_count": 30,
   "metadata": {},
   "outputs": [],
   "source": [
    "Brand_dict = {num:i for i, num in enumerate(newDF['Brand'].unique())}\n",
    "location_dict = {num:i for i, num in enumerate(newDF['Location'].unique())}\n",
    "trans_dict = {num:i for i, num in enumerate(newDF['Transmission'].unique())}\n",
    "fuel_dict = {num:i for i, num in enumerate(newDF['Fuel_Type'].unique())}\n",
    "Model_dict = {num:i for i, num in enumerate(newDF['Model'].unique())}"
   ]
  },
  {
   "cell_type": "code",
   "execution_count": 31,
   "metadata": {},
   "outputs": [],
   "source": [
    "# newDF['Location'] = newDF['Location'].replace(location_dict)\n",
    "# newDF['Fuel_Type'] = newDF['Fuel_Type'].replace(fuel_dict)\n",
    "# newDF['Transmission'] = newDF['Transmission'].replace(trans_dict)\n",
    "# newDF['Brand'] = newDF['Brand'].replace(Brand_dict)\n",
    "# newDF['Model'] = newDF['Model'].replace(Model_dict)\n",
    "\n",
    "# 'Location' 컬럼에 대해 원핫 인코딩 수행\n",
    "\n",
    "# 원본 DataFrame에 원핫 인코딩된 결과를 시리즈 형태로 추가\n",
    "# 원핫 인코딩된 시리즈를 다시 원본 값으로 복원\n",
    "# 1인 위치의 값을 찾아 해당하는 원본 값을 반환\n"
   ]
  },
  {
   "cell_type": "code",
   "execution_count": 32,
   "metadata": {},
   "outputs": [],
   "source": [
    "## getdummy  컬럼별 적용\n",
    "\n",
    "# for i in typeList:\n",
    "#     source_encoded = pd.get_dummies(newDF[i], prefix=i)\n",
    "#     newDF[i+'_Encoded'] = list(source_encoded.apply(lambda x: x.tolist(), axis=1))\n",
    "#     newDF[i+'_Reversed'] = newDF[i+'_Encoded'].apply(lambda x: source_encoded.columns[x.index(1)] if 1 in x else None)\n",
    "\n"
   ]
  },
  {
   "cell_type": "code",
   "execution_count": 33,
   "metadata": {},
   "outputs": [
    {
     "data": {
      "text/html": [
       "<div>\n",
       "<style scoped>\n",
       "    .dataframe tbody tr th:only-of-type {\n",
       "        vertical-align: middle;\n",
       "    }\n",
       "\n",
       "    .dataframe tbody tr th {\n",
       "        vertical-align: top;\n",
       "    }\n",
       "\n",
       "    .dataframe thead th {\n",
       "        text-align: right;\n",
       "    }\n",
       "</style>\n",
       "<table border=\"1\" class=\"dataframe\">\n",
       "  <thead>\n",
       "    <tr style=\"text-align: right;\">\n",
       "      <th></th>\n",
       "    </tr>\n",
       "    <tr>\n",
       "      <th>S.No.</th>\n",
       "    </tr>\n",
       "  </thead>\n",
       "  <tbody>\n",
       "    <tr>\n",
       "      <th>0</th>\n",
       "    </tr>\n",
       "    <tr>\n",
       "      <th>1</th>\n",
       "    </tr>\n",
       "    <tr>\n",
       "      <th>2</th>\n",
       "    </tr>\n",
       "    <tr>\n",
       "      <th>3</th>\n",
       "    </tr>\n",
       "    <tr>\n",
       "      <th>4</th>\n",
       "    </tr>\n",
       "  </tbody>\n",
       "</table>\n",
       "</div>"
      ],
      "text/plain": [
       "Empty DataFrame\n",
       "Columns: []\n",
       "Index: [0, 1, 2, 3, 4]"
      ]
     },
     "execution_count": 33,
     "metadata": {},
     "output_type": "execute_result"
    }
   ],
   "source": [
    "newDF.iloc[:,16:].head()"
   ]
  },
  {
   "cell_type": "code",
   "execution_count": 34,
   "metadata": {},
   "outputs": [],
   "source": [
    "from sklearn.ensemble import RandomForestRegressor"
   ]
  },
  {
   "cell_type": "code",
   "execution_count": 35,
   "metadata": {},
   "outputs": [],
   "source": [
    "newDF['Car_size'] = np.where(newDF['Engine'] < 900, 1,   # 경차\n",
    "                      np.where(newDF['Engine'] < 1500, 2,  # 소형차\n",
    "                      np.where(newDF['Engine'] < 2000, 3,  # 중형차\n",
    "                                               4)))"
   ]
  },
  {
   "cell_type": "code",
   "execution_count": 36,
   "metadata": {},
   "outputs": [],
   "source": [
    "## 범주형 데이터들 라벨링하여 넘버링하기\n",
    "## 로케이션, 브랜드, 모델은 순서 없음.\n",
    "## 오너타입은 오디널.\n",
    "##연식은 인코딩필요없음\n",
    "from sklearn.preprocessing import  OrdinalEncoder\n"
   ]
  },
  {
   "cell_type": "code",
   "execution_count": 37,
   "metadata": {},
   "outputs": [],
   "source": [
    "orEn = OrdinalEncoder()\n",
    "newDF['Owner_Type'] = orEn.fit_transform(newDF[['Owner_Type']])\n"
   ]
  },
  {
   "cell_type": "code",
   "execution_count": 38,
   "metadata": {},
   "outputs": [
    {
     "data": {
      "text/plain": [
       "array([['First'],\n",
       "       ['First'],\n",
       "       ['First'],\n",
       "       ...,\n",
       "       ['Second'],\n",
       "       ['First'],\n",
       "       ['First']], dtype=object)"
      ]
     },
     "execution_count": 38,
     "metadata": {},
     "output_type": "execute_result"
    }
   ],
   "source": [
    "orEn.inverse_transform(newDF[['Owner_Type']])"
   ]
  },
  {
   "cell_type": "code",
   "execution_count": 39,
   "metadata": {},
   "outputs": [],
   "source": [
    "newDF['Car_size'] = np.where(newDF['Engine'] < 1200, 1,   # 경차\n",
    "                      np.where(newDF['Engine'] < 1500, 2,  # 소형차\n",
    "                      np.where(newDF['Engine'] < 2000, 3,  # 중형차\n",
    "                   4)))"
   ]
  },
  {
   "cell_type": "code",
   "execution_count": 40,
   "metadata": {},
   "outputs": [
    {
     "data": {
      "text/plain": [
       "Index(['Name', 'Location', 'Year', 'Kilometers_Driven', 'Fuel_Type',\n",
       "       'Transmission', 'Owner_Type', 'Mileage', 'Engine', 'Power', 'Seats',\n",
       "       'New_Price', 'Price', 'Brand', 'Model', 'Ageofcar', 'Car_size'],\n",
       "      dtype='object')"
      ]
     },
     "execution_count": 40,
     "metadata": {},
     "output_type": "execute_result"
    }
   ],
   "source": [
    "newDF.columns\n"
   ]
  },
  {
   "cell_type": "code",
   "execution_count": 41,
   "metadata": {},
   "outputs": [],
   "source": [
    "gDF = newDF.loc[:, ['Year', 'Kilometers_Driven', 'Mileage', 'Engine', 'Power', 'Seats', 'Price', 'Ageofcar','Car_size'] ]"
   ]
  },
  {
   "cell_type": "code",
   "execution_count": 42,
   "metadata": {},
   "outputs": [],
   "source": [
    "def pair_grid(data, *, hue=None, vars=None, x_vars=None, y_vars=None, \n",
    "              hue_order=None, palette=None, hue_kws=None, corner=False, \n",
    "              diag_sharey=True, height=2.5, aspect=1, layout_pad=0.5, \n",
    "              despine=True, dropna=False):\n",
    "    g = sns.PairGrid(data=data, hue=hue, vars=vars, x_vars=x_vars, y_vars=y_vars, \n",
    "              hue_order=hue_order, palette=palette, hue_kws=hue_kws, corner=corner, \n",
    "              diag_sharey=diag_sharey, height=height, aspect=aspect, layout_pad=layout_pad, \n",
    "              despine=despine, dropna=dropna)\n",
    "    g.map_upper(sns.kdeplot)\n",
    "    g.map_diag( sns.kdeplot)\n",
    "    # g.map_diag(lambda data, \n",
    "            #    **kwargs: \n",
    "            #     sns.histplot(data, kde=False, **{key: value for key, value in kwargs.items() if key != 'label'})\n",
    "            #    or sns.kdeplot(data, **{key: value for key, value in kwargs.items() if key != 'label'}))\n",
    "\n",
    "    # g.map_diag( sns.histplot, kde=True)\n",
    "    g.map_lower(sns.scatterplot)    \n",
    "    g.add_legend()"
   ]
  },
  {
   "cell_type": "code",
   "execution_count": 43,
   "metadata": {},
   "outputs": [],
   "source": [
    "# # pair_grid(data=newDF[['Engine', 'Power', 'Price','Owner_Type']]\n",
    "# #                ,hue='Owner_Type', palette='summer' )\n",
    "# pair_grid(data=newDF[['Engine', 'Power', 'Price','Owner_Type']]\n",
    "#                 )"
   ]
  },
  {
   "cell_type": "code",
   "execution_count": 44,
   "metadata": {},
   "outputs": [],
   "source": [
    "# g = sns.pairplot(data=newDF[['Year', 'Kilometers_Driven', 'Mileage', 'Engine', 'Power', 'Seats', 'Price', 'Ageofcar','Car_size']]\n",
    "#                  ,corner=True, )\n",
    "# labels =                    [\"연도\", \"주행거리\", \"연비\", \"엔진\", \"출력\", \"좌석 수\", \"가격\", \"차량 연식\", \"차 크기\"]\n",
    "\n",
    "# # x축 라벨 변경 (마지막 행)\n",
    "# for ax, label in zip(g.axes[-1, :], labels):\n",
    "#     if ax is not None:\n",
    "#         ax.set_xlabel(label, fontsize=24)\n",
    "\n",
    "# # y축 라벨 변경 (첫 번째 열)\n",
    "# for ax, label in zip(g.axes[:, 0], labels):\n",
    "#     if ax is not None:\n",
    "#         ax.set_ylabel(label, fontsize=24)\n",
    "# plt.show()"
   ]
  },
  {
   "cell_type": "code",
   "execution_count": 45,
   "metadata": {},
   "outputs": [],
   "source": [
    "# g = sns.pairplot(data=newDF[['Year', 'Kilometers_Driven', 'Mileage', 'Engine', 'Power', 'Seats', 'Price', 'Ageofcar','Car_size']], corner=True)\n",
    "# labels =                    [\"연도\", \"주행거리\", \"연비\", \"엔진\", \"출력\", \"좌석 수\", \"가격\", \"차량 연식\", \"차 크기\"]\n",
    "\n",
    "# # x축 라벨 변경 (마지막 행)\n",
    "# for ax, label in zip(g.axes[-1, :], labels):\n",
    "#     if ax is not None:\n",
    "#         ax.set_xlabel(label, fontsize=24)\n",
    "\n",
    "# # y축 라벨 변경 (첫 번째 열)\n",
    "# for ax, label in zip(g.axes[:, 0], labels):\n",
    "#     if ax is not None:\n",
    "#         ax.set_ylabel(label, fontsize=24)\n",
    "# plt.show()"
   ]
  },
  {
   "cell_type": "code",
   "execution_count": 46,
   "metadata": {},
   "outputs": [],
   "source": [
    "## 이상치 처리.\n",
    "# 데이터프레임 예시\n",
    "numeric_cols = ['Year', 'Kilometers_Driven', 'Mileage', 'Engine', 'Power', 'Seats', 'Price', 'Ageofcar', 'Car_size']\n",
    "\n",
    "# Z-스코어 계산\n",
    "z_scores = np.abs(stats.zscore(newDF[numeric_cols]))\n",
    "\n",
    "# 임계값 (보통 3을 사용)\n",
    "threshold = 3\n",
    "\n",
    "# 이상치가 아닌 데이터만 남기기\n",
    "filtered_df = newDF[(z_scores < threshold).all(axis=1)]\n"
   ]
  },
  {
   "cell_type": "code",
   "execution_count": 47,
   "metadata": {},
   "outputs": [
    {
     "data": {
      "text/plain": [
       "(5836, 17)"
      ]
     },
     "execution_count": 47,
     "metadata": {},
     "output_type": "execute_result"
    }
   ],
   "source": [
    "newDF = newDF.drop(index=[340, 358, 2328, 1860, 4079, 5781, 5521])\n",
    "newDF = newDF.drop(index=[2823, 3092, 4491])\n",
    "newDF = newDF.drop(index=newDF[newDF['Mileage'] == 0].index)\n",
    "newDF.shape"
   ]
  },
  {
   "cell_type": "code",
   "execution_count": 48,
   "metadata": {},
   "outputs": [
    {
     "data": {
      "text/html": [
       "<div>\n",
       "<style scoped>\n",
       "    .dataframe tbody tr th:only-of-type {\n",
       "        vertical-align: middle;\n",
       "    }\n",
       "\n",
       "    .dataframe tbody tr th {\n",
       "        vertical-align: top;\n",
       "    }\n",
       "\n",
       "    .dataframe thead th {\n",
       "        text-align: right;\n",
       "    }\n",
       "</style>\n",
       "<table border=\"1\" class=\"dataframe\">\n",
       "  <thead>\n",
       "    <tr style=\"text-align: right;\">\n",
       "      <th></th>\n",
       "      <th>Name</th>\n",
       "      <th>Location</th>\n",
       "      <th>Year</th>\n",
       "      <th>Kilometers_Driven</th>\n",
       "      <th>Fuel_Type</th>\n",
       "      <th>Transmission</th>\n",
       "      <th>Owner_Type</th>\n",
       "      <th>Mileage</th>\n",
       "      <th>Engine</th>\n",
       "      <th>Power</th>\n",
       "      <th>Seats</th>\n",
       "      <th>New_Price</th>\n",
       "      <th>Price</th>\n",
       "      <th>Brand</th>\n",
       "      <th>Model</th>\n",
       "      <th>Ageofcar</th>\n",
       "      <th>Car_size</th>\n",
       "    </tr>\n",
       "    <tr>\n",
       "      <th>S.No.</th>\n",
       "      <th></th>\n",
       "      <th></th>\n",
       "      <th></th>\n",
       "      <th></th>\n",
       "      <th></th>\n",
       "      <th></th>\n",
       "      <th></th>\n",
       "      <th></th>\n",
       "      <th></th>\n",
       "      <th></th>\n",
       "      <th></th>\n",
       "      <th></th>\n",
       "      <th></th>\n",
       "      <th></th>\n",
       "      <th></th>\n",
       "      <th></th>\n",
       "      <th></th>\n",
       "    </tr>\n",
       "  </thead>\n",
       "  <tbody>\n",
       "  </tbody>\n",
       "</table>\n",
       "</div>"
      ],
      "text/plain": [
       "Empty DataFrame\n",
       "Columns: [Name, Location, Year, Kilometers_Driven, Fuel_Type, Transmission, Owner_Type, Mileage, Engine, Power, Seats, New_Price, Price, Brand, Model, Ageofcar, Car_size]\n",
       "Index: []"
      ]
     },
     "execution_count": 48,
     "metadata": {},
     "output_type": "execute_result"
    }
   ],
   "source": [
    "# newDF[(newDF['Price']>80)& (newDF['Year']<2010)]\n",
    "newDF[newDF['Mileage'] <= 6]"
   ]
  },
  {
   "cell_type": "code",
   "execution_count": 49,
   "metadata": {},
   "outputs": [],
   "source": [
    "# g = sns.pairplot(data=newDF[['Year', 'Kilometers_Driven', 'Mileage', 'Engine', 'Power', 'Seats', 'Price', 'Ageofcar','Car_size']], corner=True, \n",
    "#                  plot_kws={'color': 'red'}, diag_kws={'color': 'red'} )\n",
    "# labels = [\"연도\", \"주행거리\", \"연비\", \"엔진\", \"출력\", \"좌석 수\", \"가격\", \"차량 연식\", \"차 크기\"]\n",
    "\n",
    "# # x축 라벨 변경 (마지막 행)\n",
    "# for ax, label in zip(g.axes[-1, :], labels):\n",
    "#     if ax is not None:\n",
    "#         ax.set_xlabel(label, fontsize=24)\n",
    "\n",
    "# # y축 라벨 변경 (첫 번째 열)\n",
    "# for ax, label in zip(g.axes[:, 0], labels):\n",
    "#     if ax is not None:\n",
    "#         ax.set_ylabel(label, fontsize=24)\n",
    "# plt.show()"
   ]
  },
  {
   "cell_type": "code",
   "execution_count": 50,
   "metadata": {},
   "outputs": [
    {
     "name": "stdout",
     "output_type": "stream",
     "text": [
      "   Value   Z_Score\n",
      "0     10 -0.537853\n",
      "1     12 -0.505256\n",
      "2     14 -0.472659\n",
      "3     15 -0.456360\n",
      "4    100  0.929019\n",
      "5    200  2.558876\n",
      "6     18 -0.407464\n",
      "7     16 -0.440061\n",
      "8     15 -0.456360\n",
      "9     30 -0.211881\n"
     ]
    }
   ],
   "source": [
    "import pandas as pd\n",
    "import numpy as np\n",
    "\n",
    "# 데이터 생성 예시\n",
    "data = {'Value': [10, 12, 14, 15, 100, 200, 18, 16, 15, 30]}\n",
    "df = pd.DataFrame(data)\n",
    "\n",
    "# Z-Score 계산\n",
    "mean = df['Value'].mean()\n",
    "std_dev = df['Value'].std()\n",
    "\n",
    "# Z-Score 계산\n",
    "df[     'Z_Score'] = (df['Value'] - mean) / std_dev\n",
    "\n",
    "# 이상치 정의: Z-Score 절댓값이 3보다 큰 값\n",
    "df_no_outliers = df[df['Z_Score'].abs() <= 3]\n",
    "\n",
    "print(df_no_outliers)\n"
   ]
  },
  {
   "cell_type": "code",
   "execution_count": 51,
   "metadata": {},
   "outputs": [
    {
     "data": {
      "text/html": [
       "<div>\n",
       "<style scoped>\n",
       "    .dataframe tbody tr th:only-of-type {\n",
       "        vertical-align: middle;\n",
       "    }\n",
       "\n",
       "    .dataframe tbody tr th {\n",
       "        vertical-align: top;\n",
       "    }\n",
       "\n",
       "    .dataframe thead th {\n",
       "        text-align: right;\n",
       "    }\n",
       "</style>\n",
       "<table border=\"1\" class=\"dataframe\">\n",
       "  <thead>\n",
       "    <tr style=\"text-align: right;\">\n",
       "      <th></th>\n",
       "      <th>Name</th>\n",
       "      <th>Location</th>\n",
       "      <th>Year</th>\n",
       "      <th>Kilometers_Driven</th>\n",
       "      <th>Fuel_Type</th>\n",
       "      <th>Transmission</th>\n",
       "      <th>Owner_Type</th>\n",
       "      <th>Mileage</th>\n",
       "      <th>Engine</th>\n",
       "      <th>Power</th>\n",
       "      <th>Seats</th>\n",
       "      <th>New_Price</th>\n",
       "      <th>Price</th>\n",
       "      <th>Brand</th>\n",
       "      <th>Model</th>\n",
       "      <th>Ageofcar</th>\n",
       "      <th>Car_size</th>\n",
       "    </tr>\n",
       "    <tr>\n",
       "      <th>S.No.</th>\n",
       "      <th></th>\n",
       "      <th></th>\n",
       "      <th></th>\n",
       "      <th></th>\n",
       "      <th></th>\n",
       "      <th></th>\n",
       "      <th></th>\n",
       "      <th></th>\n",
       "      <th></th>\n",
       "      <th></th>\n",
       "      <th></th>\n",
       "      <th></th>\n",
       "      <th></th>\n",
       "      <th></th>\n",
       "      <th></th>\n",
       "      <th></th>\n",
       "      <th></th>\n",
       "    </tr>\n",
       "  </thead>\n",
       "  <tbody>\n",
       "    <tr>\n",
       "      <th>0</th>\n",
       "      <td>Maruti Wagon R LXI CNG</td>\n",
       "      <td>Mumbai</td>\n",
       "      <td>2010</td>\n",
       "      <td>72000</td>\n",
       "      <td>CNG</td>\n",
       "      <td>Manual</td>\n",
       "      <td>0.0</td>\n",
       "      <td>26.60</td>\n",
       "      <td>998.0</td>\n",
       "      <td>58.16</td>\n",
       "      <td>5.0</td>\n",
       "      <td>NaN</td>\n",
       "      <td>2.93125</td>\n",
       "      <td>Maruti</td>\n",
       "      <td>WagonR</td>\n",
       "      <td>15</td>\n",
       "      <td>1</td>\n",
       "    </tr>\n",
       "    <tr>\n",
       "      <th>1</th>\n",
       "      <td>Hyundai Creta 1.6 CRDi SX Option</td>\n",
       "      <td>Pune</td>\n",
       "      <td>2015</td>\n",
       "      <td>41000</td>\n",
       "      <td>Diesel</td>\n",
       "      <td>Manual</td>\n",
       "      <td>0.0</td>\n",
       "      <td>19.67</td>\n",
       "      <td>1582.0</td>\n",
       "      <td>126.20</td>\n",
       "      <td>5.0</td>\n",
       "      <td>NaN</td>\n",
       "      <td>20.93750</td>\n",
       "      <td>Hyundai</td>\n",
       "      <td>Creta1.6</td>\n",
       "      <td>10</td>\n",
       "      <td>3</td>\n",
       "    </tr>\n",
       "    <tr>\n",
       "      <th>2</th>\n",
       "      <td>Honda Jazz V</td>\n",
       "      <td>Chennai</td>\n",
       "      <td>2011</td>\n",
       "      <td>46000</td>\n",
       "      <td>Petrol</td>\n",
       "      <td>Manual</td>\n",
       "      <td>0.0</td>\n",
       "      <td>18.20</td>\n",
       "      <td>1199.0</td>\n",
       "      <td>88.70</td>\n",
       "      <td>5.0</td>\n",
       "      <td>8.61 Lakh</td>\n",
       "      <td>7.53750</td>\n",
       "      <td>Honda</td>\n",
       "      <td>JazzV</td>\n",
       "      <td>14</td>\n",
       "      <td>1</td>\n",
       "    </tr>\n",
       "    <tr>\n",
       "      <th>3</th>\n",
       "      <td>Maruti Ertiga VDI</td>\n",
       "      <td>Chennai</td>\n",
       "      <td>2012</td>\n",
       "      <td>87000</td>\n",
       "      <td>Diesel</td>\n",
       "      <td>Manual</td>\n",
       "      <td>0.0</td>\n",
       "      <td>20.77</td>\n",
       "      <td>1248.0</td>\n",
       "      <td>88.76</td>\n",
       "      <td>7.0</td>\n",
       "      <td>NaN</td>\n",
       "      <td>10.05000</td>\n",
       "      <td>Maruti</td>\n",
       "      <td>ErtigaVDI</td>\n",
       "      <td>13</td>\n",
       "      <td>2</td>\n",
       "    </tr>\n",
       "    <tr>\n",
       "      <th>4</th>\n",
       "      <td>Audi A4 New 2.0 TDI Multitronic</td>\n",
       "      <td>Coimbatore</td>\n",
       "      <td>2013</td>\n",
       "      <td>40670</td>\n",
       "      <td>Diesel</td>\n",
       "      <td>Automatic</td>\n",
       "      <td>2.0</td>\n",
       "      <td>15.20</td>\n",
       "      <td>1968.0</td>\n",
       "      <td>140.80</td>\n",
       "      <td>5.0</td>\n",
       "      <td>NaN</td>\n",
       "      <td>29.71450</td>\n",
       "      <td>Audi</td>\n",
       "      <td>A4New</td>\n",
       "      <td>12</td>\n",
       "      <td>3</td>\n",
       "    </tr>\n",
       "  </tbody>\n",
       "</table>\n",
       "</div>"
      ],
      "text/plain": [
       "                                   Name    Location  Year  Kilometers_Driven  \\\n",
       "S.No.                                                                          \n",
       "0                Maruti Wagon R LXI CNG      Mumbai  2010              72000   \n",
       "1      Hyundai Creta 1.6 CRDi SX Option        Pune  2015              41000   \n",
       "2                          Honda Jazz V     Chennai  2011              46000   \n",
       "3                     Maruti Ertiga VDI     Chennai  2012              87000   \n",
       "4       Audi A4 New 2.0 TDI Multitronic  Coimbatore  2013              40670   \n",
       "\n",
       "      Fuel_Type Transmission  Owner_Type  Mileage  Engine   Power  Seats  \\\n",
       "S.No.                                                                      \n",
       "0           CNG       Manual         0.0    26.60   998.0   58.16    5.0   \n",
       "1        Diesel       Manual         0.0    19.67  1582.0  126.20    5.0   \n",
       "2        Petrol       Manual         0.0    18.20  1199.0   88.70    5.0   \n",
       "3        Diesel       Manual         0.0    20.77  1248.0   88.76    7.0   \n",
       "4        Diesel    Automatic         2.0    15.20  1968.0  140.80    5.0   \n",
       "\n",
       "       New_Price     Price    Brand      Model  Ageofcar  Car_size  \n",
       "S.No.                                                               \n",
       "0            NaN   2.93125   Maruti     WagonR        15         1  \n",
       "1            NaN  20.93750  Hyundai   Creta1.6        10         3  \n",
       "2      8.61 Lakh   7.53750    Honda      JazzV        14         1  \n",
       "3            NaN  10.05000   Maruti  ErtigaVDI        13         2  \n",
       "4            NaN  29.71450     Audi      A4New        12         3  "
      ]
     },
     "execution_count": 51,
     "metadata": {},
     "output_type": "execute_result"
    }
   ],
   "source": [
    "newDF.head()"
   ]
  },
  {
   "cell_type": "markdown",
   "metadata": {},
   "source": [
    "#### newDF 컬럼별 상관관계 분석"
   ]
  },
  {
   "cell_type": "code",
   "execution_count": 52,
   "metadata": {},
   "outputs": [
    {
     "data": {
      "text/plain": [
       "S.No.\n",
       "1361       171\n",
       "5606       600\n",
       "2054      1000\n",
       "5941      1000\n",
       "2646      1000\n",
       "         ...  \n",
       "1846    255000\n",
       "29      262000\n",
       "1975    282000\n",
       "1528    299322\n",
       "3649    300000\n",
       "Name: Kilometers_Driven, Length: 5836, dtype: int64"
      ]
     },
     "execution_count": 52,
     "metadata": {},
     "output_type": "execute_result"
    }
   ],
   "source": [
    "newDF['Kilometers_Driven'].sort_values()\n",
    "# newDF['Kilometers_Driven'].describe()"
   ]
  },
  {
   "cell_type": "code",
   "execution_count": 53,
   "metadata": {},
   "outputs": [],
   "source": [
    "# newDF = newDF.drop(index=2328)"
   ]
  },
  {
   "cell_type": "code",
   "execution_count": 54,
   "metadata": {},
   "outputs": [],
   "source": [
    "# ts.plot_corr(newDF,featureDF.columns,'Price')"
   ]
  },
  {
   "cell_type": "code",
   "execution_count": 55,
   "metadata": {},
   "outputs": [
    {
     "data": {
      "text/plain": [
       "count      5836.000000\n",
       "mean      56698.982351\n",
       "std       33509.796557\n",
       "min         171.000000\n",
       "25%       33493.250000\n",
       "50%       52514.500000\n",
       "75%       72202.500000\n",
       "max      300000.000000\n",
       "Name: Kilometers_Driven, dtype: float64"
      ]
     },
     "execution_count": 55,
     "metadata": {},
     "output_type": "execute_result"
    }
   ],
   "source": [
    "newDF['Kilometers_Driven'].describe()"
   ]
  },
  {
   "cell_type": "code",
   "execution_count": 56,
   "metadata": {},
   "outputs": [],
   "source": [
    "# for i in ['Year', 'Kilometers_Driven','Mileage', 'Engine', 'Power']:\n",
    "#     sns.histplot(newDF[i], kde=True, bins=30)\n",
    "#     plt.title(i)\n",
    "#     plt.show()"
   ]
  },
  {
   "cell_type": "code",
   "execution_count": 57,
   "metadata": {},
   "outputs": [],
   "source": [
    "#['Year', 'Kilometers_Driven','Mileage', 'Engine', 'Power']\n",
    "# log       robust             standard     scipy.stats.boxcox         log\n",
    "newDF = newDF.drop(columns=['Name', 'New_Price'])"
   ]
  },
  {
   "cell_type": "code",
   "execution_count": 58,
   "metadata": {},
   "outputs": [],
   "source": [
    "# from sklearn.preprocessing import OneHotEncoder\n",
    "# # OneHotEncoder 설정\n",
    "# typeList = ['Location', 'Fuel_Type', 'Transmission', 'Brand', 'Model']\n",
    "\n",
    "# encoder = OneHotEncoder(drop='first', sparse_output=False,handle_unknown='ignore')  # 첫 번째 카테고리 제거 (다중공선성 방지)\n",
    "\n",
    "# # 범주형 데이터만 인코딩\n",
    "# encoded_array = encoder.fit_transform(newDF[typeList])\n",
    "\n",
    "# # 변환된 컬럼 이름 가져오기\n",
    "# encoded_cols = encoder.get_feature_names_out(typeList)\n",
    "\n",
    "# # 원-핫 인코딩된 데이터프레임 생성\n",
    "# encoded_df = pd.DataFrame(encoded_array, columns=encoded_cols)\n",
    "# encoded_df\n",
    "# # 기존 숫자형 컬럼과 합치기\n",
    "# # final_df = pd.concat([newDF.drop(columns=typeList), encoded_df], axis=1)\n",
    "\n",
    "# # final_df.shape\n",
    "# final_df = newDF.drop(columns=typeList).join(encoded_df)"
   ]
  },
  {
   "cell_type": "code",
   "execution_count": 59,
   "metadata": {},
   "outputs": [],
   "source": [
    "targetSR = newDF['Price']\n",
    "# featureDF = newDF[['Location_Encoded', 'Year', 'Kilometers_Driven', 'Fuel_Type_Encoded',\n",
    "#        'Transmission_Encoded', 'Owner_Type', 'Mileage', 'Engine', 'Power', 'Seats',\n",
    "#        'Brand_Encoded', 'Model_Encoded', 'Ageofcar']]\n",
    "\n",
    "featureDF = newDF[['Mileage', 'Engine', 'Power','Ageofcar','Seats']]"
   ]
  },
  {
   "cell_type": "code",
   "execution_count": 60,
   "metadata": {},
   "outputs": [
    {
     "name": "stdout",
     "output_type": "stream",
     "text": [
      "X_train => 2D (4377, 5) / X_test => 2D, (1459, 5)\n",
      "y_train => 1D (4377,), / y_test => 1D, (1459,)\n"
     ]
    }
   ],
   "source": [
    "\n",
    "X_train, X_test, y_train, y_test =ts.train_test_cut(featureDF,targetSR)\n",
    "nModel = rm(X_train, X_test, y_train, y_test)"
   ]
  },
  {
   "cell_type": "code",
   "execution_count": 61,
   "metadata": {},
   "outputs": [
    {
     "data": {
      "text/html": [
       "<div>\n",
       "<style scoped>\n",
       "    .dataframe tbody tr th:only-of-type {\n",
       "        vertical-align: middle;\n",
       "    }\n",
       "\n",
       "    .dataframe tbody tr th {\n",
       "        vertical-align: top;\n",
       "    }\n",
       "\n",
       "    .dataframe thead th {\n",
       "        text-align: right;\n",
       "    }\n",
       "</style>\n",
       "<table border=\"1\" class=\"dataframe\">\n",
       "  <thead>\n",
       "    <tr style=\"text-align: right;\">\n",
       "      <th></th>\n",
       "      <th>train_score</th>\n",
       "      <th>test_score</th>\n",
       "      <th>diff</th>\n",
       "      <th>train_loss</th>\n",
       "      <th>test_loss</th>\n",
       "      <th>coef</th>\n",
       "      <th>intercept</th>\n",
       "    </tr>\n",
       "  </thead>\n",
       "  <tbody>\n",
       "    <tr>\n",
       "      <th>_utils.RegressionModule</th>\n",
       "      <td>0.698142</td>\n",
       "      <td>0.67796</td>\n",
       "      <td>0.020182</td>\n",
       "      <td>10.05816</td>\n",
       "      <td>10.199114</td>\n",
       "      <td>[0.024098819057089254, 0.00380249354654661, 0....</td>\n",
       "      <td>12.070996</td>\n",
       "    </tr>\n",
       "  </tbody>\n",
       "</table>\n",
       "</div>"
      ],
      "text/plain": [
       "                         train_score  test_score      diff  train_loss  \\\n",
       "_utils.RegressionModule     0.698142     0.67796  0.020182    10.05816   \n",
       "\n",
       "                         test_loss  \\\n",
       "_utils.RegressionModule  10.199114   \n",
       "\n",
       "                                                                      coef  \\\n",
       "_utils.RegressionModule  [0.024098819057089254, 0.00380249354654661, 0....   \n",
       "\n",
       "                         intercept  \n",
       "_utils.RegressionModule  12.070996  "
      ]
     },
     "execution_count": 61,
     "metadata": {},
     "output_type": "execute_result"
    }
   ],
   "source": [
    "lmodel, adf = nModel.lr()\n",
    "adf"
   ]
  },
  {
   "cell_type": "code",
   "execution_count": 62,
   "metadata": {},
   "outputs": [],
   "source": [
    "rfModel, rfDF = nModel.rf_regressor()"
   ]
  },
  {
   "cell_type": "code",
   "execution_count": 63,
   "metadata": {},
   "outputs": [
    {
     "data": {
      "text/html": [
       "<div>\n",
       "<style scoped>\n",
       "    .dataframe tbody tr th:only-of-type {\n",
       "        vertical-align: middle;\n",
       "    }\n",
       "\n",
       "    .dataframe tbody tr th {\n",
       "        vertical-align: top;\n",
       "    }\n",
       "\n",
       "    .dataframe thead th {\n",
       "        text-align: right;\n",
       "    }\n",
       "</style>\n",
       "<table border=\"1\" class=\"dataframe\">\n",
       "  <thead>\n",
       "    <tr style=\"text-align: right;\">\n",
       "      <th></th>\n",
       "      <th>train_score</th>\n",
       "      <th>test_score</th>\n",
       "      <th>diff</th>\n",
       "      <th>train_loss</th>\n",
       "      <th>test_loss</th>\n",
       "    </tr>\n",
       "  </thead>\n",
       "  <tbody>\n",
       "    <tr>\n",
       "      <th>_utils.RegressionModule</th>\n",
       "      <td>0.954925</td>\n",
       "      <td>0.902335</td>\n",
       "      <td>0.05259</td>\n",
       "      <td>3.886749</td>\n",
       "      <td>5.616643</td>\n",
       "    </tr>\n",
       "  </tbody>\n",
       "</table>\n",
       "</div>"
      ],
      "text/plain": [
       "                         train_score  test_score     diff  train_loss  \\\n",
       "_utils.RegressionModule     0.954925    0.902335  0.05259    3.886749   \n",
       "\n",
       "                         test_loss  \n",
       "_utils.RegressionModule   5.616643  "
      ]
     },
     "execution_count": 63,
     "metadata": {},
     "output_type": "execute_result"
    }
   ],
   "source": [
    "rfDF"
   ]
  },
  {
   "cell_type": "code",
   "execution_count": 64,
   "metadata": {},
   "outputs": [
    {
     "data": {
      "text/plain": [
       "'RandomForestRegressor'"
      ]
     },
     "execution_count": 64,
     "metadata": {},
     "output_type": "execute_result"
    }
   ],
   "source": [
    "rfModel.estimator_.__class__\n",
    "rfModel.__class__.__name__"
   ]
  },
  {
   "cell_type": "code",
   "execution_count": 65,
   "metadata": {},
   "outputs": [
    {
     "data": {
      "text/html": [
       "<div>\n",
       "<style scoped>\n",
       "    .dataframe tbody tr th:only-of-type {\n",
       "        vertical-align: middle;\n",
       "    }\n",
       "\n",
       "    .dataframe tbody tr th {\n",
       "        vertical-align: top;\n",
       "    }\n",
       "\n",
       "    .dataframe thead th {\n",
       "        text-align: right;\n",
       "    }\n",
       "</style>\n",
       "<table border=\"1\" class=\"dataframe\">\n",
       "  <thead>\n",
       "    <tr style=\"text-align: right;\">\n",
       "      <th></th>\n",
       "      <th>train_mean_r2</th>\n",
       "      <th>train_std_r2</th>\n",
       "      <th>test_mean_r2</th>\n",
       "      <th>test_std_r2</th>\n",
       "      <th>train_mean_rmse</th>\n",
       "      <th>train_std_rmse</th>\n",
       "      <th>test_mean_rmse</th>\n",
       "      <th>test_std_rmse</th>\n",
       "    </tr>\n",
       "  </thead>\n",
       "  <tbody>\n",
       "    <tr>\n",
       "      <th>RandomForestRegressor</th>\n",
       "      <td>0.88661</td>\n",
       "      <td>0.023532</td>\n",
       "      <td>0.849687</td>\n",
       "      <td>0.045895</td>\n",
       "      <td>37.735135</td>\n",
       "      <td>6.889957</td>\n",
       "      <td>45.938183</td>\n",
       "      <td>9.176598</td>\n",
       "    </tr>\n",
       "  </tbody>\n",
       "</table>\n",
       "</div>"
      ],
      "text/plain": [
       "                       train_mean_r2  train_std_r2  test_mean_r2  test_std_r2  \\\n",
       "RandomForestRegressor        0.88661      0.023532      0.849687     0.045895   \n",
       "\n",
       "                       train_mean_rmse  train_std_rmse  test_mean_rmse  \\\n",
       "RandomForestRegressor        37.735135        6.889957       45.938183   \n",
       "\n",
       "                       test_std_rmse  \n",
       "RandomForestRegressor       9.176598  "
      ]
     },
     "execution_count": 65,
     "metadata": {},
     "output_type": "execute_result"
    }
   ],
   "source": [
    "nModel.cv_regressor(rfModel)"
   ]
  }
 ],
 "metadata": {
  "kernelspec": {
   "display_name": "ML_PY39",
   "language": "python",
   "name": "python3"
  },
  "language_info": {
   "codemirror_mode": {
    "name": "ipython",
    "version": 3
   },
   "file_extension": ".py",
   "mimetype": "text/x-python",
   "name": "python",
   "nbconvert_exporter": "python",
   "pygments_lexer": "ipython3",
   "version": "3.9.21"
  }
 },
 "nbformat": 4,
 "nbformat_minor": 2
}
