{
 "cells": [
  {
   "cell_type": "markdown",
   "metadata": {},
   "source": [
    "#### [ 개발환경 버전 체크]"
   ]
  },
  {
   "cell_type": "code",
   "execution_count": 7,
   "metadata": {},
   "outputs": [],
   "source": [
    "# 설치된 패키지의 버전 출력\n",
    "import pandas as pd\n",
    "import numpy as np\n",
    "import sklearn as sl\n",
    "import matplotlib as plt\n",
    "import seaborn as sns"
   ]
  },
  {
   "cell_type": "code",
   "execution_count": 11,
   "metadata": {},
   "outputs": [
    {
     "name": "stdout",
     "output_type": "stream",
     "text": [
      " pd.__version__: 2.2.3\n",
      " np.__version__: 2.0.1\n",
      " sl.__version__: 1.6.1\n",
      "plt.__version__: 3.9.2\n",
      "sns.__version__: 0.13.2\n"
     ]
    }
   ],
   "source": [
    "print(f\" pd.__version__: {pd.__version__}\")\n",
    "print(f\" np.__version__: {np.__version__}\")\n",
    "print(f\" sl.__version__: {sl.__version__}\")\n",
    "print(f\"plt.__version__: {plt.__version__}\")\n",
    "print(f\"sns.__version__: {sns.__version__}\")"
   ]
  },
  {
   "cell_type": "code",
   "execution_count": 1,
   "metadata": {},
   "outputs": [
    {
     "name": "stdout",
     "output_type": "stream",
     "text": [
      "black *\n",
      "red *\n",
      "위치: 5, 5\n",
      "크기: 10\n",
      "색상: red\n",
      "위치: 10, 10\n",
      "크기: 5\n",
      "색상: black\n",
      "utils\n"
     ]
    }
   ],
   "source": [
    "import utils\n"
   ]
  },
  {
   "cell_type": "code",
   "execution_count": null,
   "metadata": {},
   "outputs": [],
   "source": []
  },
  {
   "cell_type": "code",
   "execution_count": null,
   "metadata": {},
   "outputs": [],
   "source": []
  }
 ],
 "metadata": {
  "kernelspec": {
   "display_name": "ML_PY39",
   "language": "python",
   "name": "python3"
  },
  "language_info": {
   "codemirror_mode": {
    "name": "ipython",
    "version": 3
   },
   "file_extension": ".py",
   "mimetype": "text/x-python",
   "name": "python",
   "nbconvert_exporter": "python",
   "pygments_lexer": "ipython3",
   "version": "3.9.21"
  }
 },
 "nbformat": 4,
 "nbformat_minor": 2
}
