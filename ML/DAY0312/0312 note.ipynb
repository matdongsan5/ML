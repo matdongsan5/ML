{
 "cells": [
  {
   "cell_type": "markdown",
   "metadata": {},
   "source": [
    "* score(X, y, sample_weight=None)\n",
    "y 에는 정답이 들어가야함.\n",
    "예측값 pre_y를 넣을 경우 1이 나오기떄문에, 모델검증값으로 사용할 수 없음.\n",
    " \n"
   ]
  },
  {
   "cell_type": "markdown",
   "metadata": {},
   "source": [
    "- 회귀에서는 r2스코어와 스코어가 같게 나타난다.\n",
    "\n",
    "- 교재 p327 - 13개 feature의 회귀 계수 모델.coef_ 값.\n",
    "\n"
   ]
  },
  {
   "cell_type": "markdown",
   "metadata": {},
   "source": [
    "* 모델 설계 목표\n",
    "    - 새로운 데이터에 잘 동작하는 모델 \n",
    "* 모델 성능평가 \n",
    "    - 훈련 score loss 보다 테스트 score loss에 초점\n",
    "    - 과대적합 과소적합에 유의하며,\n",
    "    - 훈련과 테스트가 가장 비슷한 최적적합을 찾아내는 것이 목표"
   ]
  },
  {
   "cell_type": "markdown",
   "metadata": {},
   "source": [
    "* 과소적합 - 모든것이 부족\n",
    "* 과대적합 - 훈련데이터에만 적합하게 모델링됨. 테스트데이터에 부적합.\n",
    "\n",
    "=> 문제발생시 전처리(결측치, 스케일링), 피처 수, 모델종류 고려"
   ]
  },
  {
   "cell_type": "markdown",
   "metadata": {},
   "source": [
    "#### 다항회귀 과대적합/과소적합 p329\n"
   ]
  },
  {
   "cell_type": "markdown",
   "metadata": {},
   "source": [
    "* p332\n",
    "##### 다항회귀를 이용한 과소적합 및 과적합 이해"
   ]
  },
  {
   "cell_type": "markdown",
   "metadata": {},
   "source": [
    "degree가 1/4/15로 변경하면서 예측 결과 비교."
   ]
  },
  {
   "cell_type": "markdown",
   "metadata": {},
   "source": [
    "pdf.0311\n",
    "#### validataion\n",
    "* 기계학습 목표\n",
    "- 새로운 데이터의 loss가 최소화되는 모델을 만드는 것. -> 적합문제 해결\n",
    "- == 일반화가 잘 된 모델."
   ]
  },
  {
   "cell_type": "markdown",
   "metadata": {},
   "source": [
    "* 교차검증 \n",
    "    - 데이터를 쪼개어 검증.\n",
    "    - 오래걸림"
   ]
  },
  {
   "cell_type": "markdown",
   "metadata": {},
   "source": [
    "* k-fold 교차검증.\n",
    "    - k개만큼 데이터세트를 만들어 교차검증.\n",
    "    - 데이터 세트중 한개를 테스트로 만들어 검증.\n",
    "    - 이후 순차적으로 테스트 데이터 순환\n",
    "* file ex_kfold.ipynb"
   ]
  },
  {
   "cell_type": "markdown",
   "metadata": {},
   "source": [
    "#### 모델 복잡도"
   ]
  },
  {
   "cell_type": "markdown",
   "metadata": {},
   "source": [
    "*최적적합 \n",
    "- 편중되지 않은 다양성 갖춘 데이터로 학습 진행\n",
    "- 양질의 많은 데이터\n",
    "- 규제 통한 모델 복잡도 적정수준 설정\n",
    "\n",
    "1. 타겟과 관련성 높은 피쳐 찾ㄱ디\n",
    "2. 추출된 피쳐들 사이 관계|\n"
   ]
  },
  {
   "cell_type": "markdown",
   "metadata": {},
   "source": [
    "pdf 0312.pdf 모델복잡도"
   ]
  },
  {
   "cell_type": "markdown",
   "metadata": {},
   "source": [
    "\n",
    "모델 복잡도\n",
    "- 고려사항\n",
    "    1. 특성 개수\n",
    "    2. 하이퍼 파라미터ex knn 의 k\n",
    "    3. 입력 데이터셋 개수\n",
    "    4. 학습 반복 횟수\n",
    "    5. 앙상블 모델 개수\n",
    "    6. 모델 차수"
   ]
  },
  {
   "cell_type": "markdown",
   "metadata": {},
   "source": [
    "* 편향 - 예측값과 정답값의 관계\n",
    "        - \n",
    "* 분산 - 예측값끼리의 관계\n",
    "\n",
    "- 두 수치가 낮을수록 좋은모델"
   ]
  },
  {
   "cell_type": "markdown",
   "metadata": {},
   "source": [
    "타겟/결과\n",
    "- 결과를 결정짓는 요소들 피쳐/특성"
   ]
  },
  {
   "cell_type": "markdown",
   "metadata": {},
   "source": [
    "일반화 - Generalization\n",
    "- 모델이 새로운 데이터에 대해 정확하게 예측할 수 있도록 만드는 과정"
   ]
  },
  {
   "cell_type": "markdown",
   "metadata": {},
   "source": [
    "정규화 정칙화 규칙화 규제화 - Regularization\n",
    "- 과적합을 방지. 일반화가 잘 되지 않는 해결기법 중 하나\n",
    "- 일반화 가능성을 높이기 위해 학습 정확도의 감소를 감수\n",
    "- feature특성을 유지하지만 각 특성들이 갖는 영향을 줄이는 것"
   ]
  },
  {
   "cell_type": "markdown",
   "metadata": {},
   "source": [
    "규제화 구현 \n",
    "* loss 최소화\n",
    "* 불필요 feature의 영향력 조절\n",
    "    - 비용함수값 + 가중치weight에 penalty부여"
   ]
  },
  {
   "cell_type": "markdown",
   "metadata": {},
   "source": [
    "놈, 노름 norm\n",
    "- 거리재기"
   ]
  },
  {
   "cell_type": "markdown",
   "metadata": {},
   "source": [
    "Linear Model : Ridge"
   ]
  },
  {
   "cell_type": "markdown",
   "metadata": {},
   "source": [
    "비용함수 목표\n",
    "- Min(RSS(W) + alpha*||W|||22)\n",
    "- alpha = 규제알고리즘의 하이퍼 파라미터\n",
    "- RSS 잔차제곱합\n",
    "교재 p ~345"
   ]
  },
  {
   "cell_type": "markdown",
   "metadata": {},
   "source": []
  }
 ],
 "metadata": {
  "kernelspec": {
   "display_name": "ML_PY39",
   "language": "python",
   "name": "python3"
  },
  "language_info": {
   "codemirror_mode": {
    "name": "ipython",
    "version": 3
   },
   "file_extension": ".py",
   "mimetype": "text/x-python",
   "name": "python",
   "nbconvert_exporter": "python",
   "pygments_lexer": "ipython3",
   "version": "3.9.21"
  }
 },
 "nbformat": 4,
 "nbformat_minor": 2
}
