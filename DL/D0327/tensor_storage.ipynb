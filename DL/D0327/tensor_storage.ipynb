{
 "cells": [
  {
   "cell_type": "markdown",
   "metadata": {},
   "source": [
    "[ Tensor의 Storage ]"
   ]
  },
  {
   "cell_type": "markdown",
   "metadata": {},
   "source": [
    "- 메모리에 원소/요소가 저장된 정보 및 데이터가 가지는 속성"
   ]
  },
  {
   "cell_type": "code",
   "execution_count": 21,
   "metadata": {},
   "outputs": [],
   "source": [
    "import torch\n",
    "import numpy as np"
   ]
  },
  {
   "cell_type": "code",
   "execution_count": 22,
   "metadata": {},
   "outputs": [],
   "source": [
    "def printStorage(obj, obj_name):\n",
    "    print(f\"\\n==== [{obj_name}] 기 본 정 보 ====\")\n",
    "    print(f'Shape : {obj.shape}')\n",
    "    print(f'Dim : {obj.ndim}D')\n",
    "    print(f'DType : {obj.dtype}')\n",
    "    print(f'itemsize: {obj.itemsize}Byte')\n",
    "    print(\"==== STORAGE ====\")\n",
    "    print(\"Offset: \", obj.storage_offset())\n",
    "    print(\"Strides: \",obj.stride())\n",
    "    print(\"=====================\")\n",
    "    print(obj.untyped_storage())"
   ]
  },
  {
   "cell_type": "markdown",
   "metadata": {},
   "source": [
    "NumPy의 stride 속성이란?\n",
    "- stride(스트라이드) 는 배열에서 다음 요소로 이동하기 위한 바이트(byte) 단위의 간격을 나타냅니다.\n",
    "- 즉, 메모리에서 배열의 각 차원이 차지하는 크기를 의미합니다."
   ]
  },
  {
   "cell_type": "code",
   "execution_count": 23,
   "metadata": {},
   "outputs": [],
   "source": [
    "t1 = torch.tensor([[11,22,33],[44,55,66], [77,88,99]], dtype=torch.int8)\n"
   ]
  },
  {
   "cell_type": "code",
   "execution_count": 24,
   "metadata": {},
   "outputs": [
    {
     "name": "stdout",
     "output_type": "stream",
     "text": [
      "\n",
      "==== [t1] 기 본 정 보 ====\n",
      "Shape : torch.Size([3, 3])\n",
      "Dim : 2D\n",
      "DType : torch.int8\n",
      "itemsize: 1Byte\n",
      "==== STORAGE ====\n",
      "Offset:  0\n",
      "Strides:  (3, 1)\n",
      "=====================\n",
      " 11\n",
      " 22\n",
      " 33\n",
      " 44\n",
      " 55\n",
      " 66\n",
      " 77\n",
      " 88\n",
      " 99\n",
      "[torch.storage.UntypedStorage(device=cpu) of size 9]\n"
     ]
    }
   ],
   "source": [
    "printStorage(t1, 't1')"
   ]
  },
  {
   "cell_type": "code",
   "execution_count": 25,
   "metadata": {},
   "outputs": [
    {
     "name": "stdout",
     "output_type": "stream",
     "text": [
      "\n",
      "==== [t2] 기 본 정 보 ====\n",
      "Shape : torch.Size([1, 9])\n",
      "Dim : 2D\n",
      "DType : torch.int8\n",
      "itemsize: 1Byte\n",
      "==== STORAGE ====\n",
      "Offset:  0\n",
      "Strides:  (9, 1)\n",
      "=====================\n",
      " 11\n",
      " 22\n",
      " 33\n",
      " 44\n",
      " 55\n",
      " 66\n",
      " 77\n",
      " 88\n",
      " 99\n",
      "[torch.storage.UntypedStorage(device=cpu) of size 9]\n"
     ]
    }
   ],
   "source": [
    "t2 = t1.reshape(-1,9)\n",
    "printStorage(t2, 't2')\n",
    "## stride 정보 변경"
   ]
  },
  {
   "cell_type": "code",
   "execution_count": 26,
   "metadata": {},
   "outputs": [
    {
     "name": "stdout",
     "output_type": "stream",
     "text": [
      "\n",
      "==== [t3] 기 본 정 보 ====\n",
      "Shape : torch.Size([3, 3])\n",
      "Dim : 2D\n",
      "DType : torch.int8\n",
      "itemsize: 1Byte\n",
      "==== STORAGE ====\n",
      "Offset:  0\n",
      "Strides:  (3, 1)\n",
      "=====================\n",
      " 11\n",
      " 22\n",
      " 33\n",
      " 44\n",
      " 55\n",
      " 66\n",
      " 77\n",
      " 88\n",
      " 99\n",
      "[torch.storage.UntypedStorage(device=cpu) of size 9]\n"
     ]
    }
   ],
   "source": [
    "t3 = t2.view(3,3)\n",
    "printStorage(t3, 't3')"
   ]
  },
  {
   "cell_type": "code",
   "execution_count": 27,
   "metadata": {},
   "outputs": [
    {
     "name": "stdout",
     "output_type": "stream",
     "text": [
      "\n",
      "==== [t1] 기 본 정 보 ====\n",
      "Shape : torch.Size([2, 5])\n",
      "Dim : 2D\n",
      "DType : torch.int8\n",
      "itemsize: 1Byte\n",
      "==== STORAGE ====\n",
      "Offset:  0\n",
      "Strides:  (5, 1)\n",
      "=====================\n",
      " 11\n",
      " 22\n",
      " 33\n",
      " 44\n",
      " 55\n",
      " 55\n",
      " 66\n",
      " 77\n",
      " 88\n",
      " 99\n",
      "[torch.storage.UntypedStorage(device=cpu) of size 10]\n",
      "\n",
      "==== [t2] 기 본 정 보 ====\n",
      "Shape : torch.Size([2, 5])\n",
      "Dim : 2D\n",
      "DType : torch.int16\n",
      "itemsize: 2Byte\n",
      "==== STORAGE ====\n",
      "Offset:  0\n",
      "Strides:  (5, 1)\n",
      "=====================\n",
      " 11\n",
      " 0\n",
      " 22\n",
      " 0\n",
      " 33\n",
      " 0\n",
      " 44\n",
      " 0\n",
      " 55\n",
      " 0\n",
      " 55\n",
      " 0\n",
      " 66\n",
      " 0\n",
      " 77\n",
      " 0\n",
      " 88\n",
      " 0\n",
      " 99\n",
      " 0\n",
      "[torch.storage.UntypedStorage(device=cpu) of size 20]\n"
     ]
    }
   ],
   "source": [
    "t1 = torch.tensor([[11,22,33,44,55],[55,66,77,88,99]], dtype=torch.int8)\n",
    "t2 = torch.tensor([[11,22,33,44,55],[55,66,77,88,99]], dtype=torch.int16)\n",
    "\n",
    "printStorage(t1, 't1')\n",
    "printStorage(t2, 't2')\n"
   ]
  },
  {
   "cell_type": "code",
   "execution_count": 28,
   "metadata": {},
   "outputs": [
    {
     "name": "stdout",
     "output_type": "stream",
     "text": [
      "\n",
      "==== [t1] 기 본 정 보 ====\n",
      "Shape : torch.Size([2, 5])\n",
      "Dim : 2D\n",
      "DType : torch.int8\n",
      "itemsize: 1Byte\n",
      "==== STORAGE ====\n",
      "Offset:  0\n",
      "Strides:  (5, 1)\n",
      "=====================\n",
      " 11\n",
      " 22\n",
      " 33\n",
      " 44\n",
      " 55\n",
      " 55\n",
      " 66\n",
      " 77\n",
      " 88\n",
      " 99\n",
      "[torch.storage.UntypedStorage(device=cpu) of size 10]\n",
      "\n",
      "==== [t2] 기 본 정 보 ====\n",
      "Shape : torch.Size([5, 2])\n",
      "Dim : 2D\n",
      "DType : torch.int8\n",
      "itemsize: 1Byte\n",
      "==== STORAGE ====\n",
      "Offset:  0\n",
      "Strides:  (1, 5)\n",
      "=====================\n",
      " 11\n",
      " 22\n",
      " 33\n",
      " 44\n",
      " 55\n",
      " 55\n",
      " 66\n",
      " 77\n",
      " 88\n",
      " 99\n",
      "[torch.storage.UntypedStorage(device=cpu) of size 10]\n"
     ]
    }
   ],
   "source": [
    "t1 = torch.tensor([[11,22,33,44,55],[55,66,77,88,99]], dtype=torch.int8)\n",
    "t2 = t1.transpose(0,1)\n",
    "printStorage(t1, 't1')\n",
    "printStorage( t2, 't2')"
   ]
  },
  {
   "cell_type": "code",
   "execution_count": 29,
   "metadata": {},
   "outputs": [
    {
     "data": {
      "text/plain": [
       "\" #tesor  형태 변경\\nt2.view(-1,10)\\nRuntimeError: view size is not compatible with \\ninput tensor's size and stride (at least one dimension spans across two contiguous subspaces). Use .reshape(...) instead.\\n\\n.view()는 Tensor의 stride(메모리에서 데이터 배치 방식) 를 유지한 채 모양을 바꾸려고 시도합니다.\\n view tensor 반환.\\n \\n하지만, .transpose(), .permute(), .narrow() 등의 연산을 거친 텐서는 메모리상 연속적(Contiguous)이지 않을 수 있음\\n\\n연속적이지 않은(Non-contiguous) 텐서를 .view()로 변경하려 하면 오류 발생\\n\\n.contiguous()를 사용하여 연속적 메모리 배열로 변환\\n\""
      ]
     },
     "execution_count": 29,
     "metadata": {},
     "output_type": "execute_result"
    }
   ],
   "source": [
    "\"\"\" #tesor  형태 변경\n",
    "t2.view(-1,10)\n",
    "RuntimeError: view size is not compatible with \n",
    "input tensor's size and stride (at least one dimension spans across two contiguous subspaces). Use .reshape(...) instead.\n",
    "\n",
    ".view()는 Tensor의 stride(메모리에서 데이터 배치 방식) 를 유지한 채 모양을 바꾸려고 시도합니다.\n",
    " view tensor 반환.\n",
    " \n",
    "하지만, .transpose(), .permute(), .narrow() 등의 연산을 거친 텐서는 메모리상 연속적(Contiguous)이지 않을 수 있음\n",
    "\n",
    "연속적이지 않은(Non-contiguous) 텐서를 .view()로 변경하려 하면 오류 발생\n",
    "\n",
    ".contiguous()를 사용하여 연속적 메모리 배열로 변환\n",
    "\"\"\""
   ]
  },
  {
   "cell_type": "code",
   "execution_count": 34,
   "metadata": {},
   "outputs": [
    {
     "name": "stdout",
     "output_type": "stream",
     "text": [
      "True\n",
      "True\n"
     ]
    },
    {
     "data": {
      "text/plain": [
       "tensor([[11, 55, 22, 66, 33, 77, 44, 88, 55, 99]], dtype=torch.int8)"
      ]
     },
     "execution_count": 34,
     "metadata": {},
     "output_type": "execute_result"
    }
   ],
   "source": [
    "print(t2.is_contiguous())   ## False\n",
    "\n",
    "t2 = t2.contiguous() # 연속적으로 생성\n",
    "print(t2.is_contiguous())   ## False\n",
    "t2.view(-1, 10)"
   ]
  },
  {
   "cell_type": "code",
   "execution_count": null,
   "metadata": {},
   "outputs": [
    {
     "data": {
      "text/plain": [
       "tensor([[11, 55, 22, 66, 33, 77, 44, 88, 55, 99]], dtype=torch.int8)"
      ]
     },
     "execution_count": 19,
     "metadata": {},
     "output_type": "execute_result"
    }
   ],
   "source": [
    "t2.reshape(-1,10)"
   ]
  },
  {
   "cell_type": "code",
   "execution_count": 35,
   "metadata": {},
   "outputs": [
    {
     "name": "stdout",
     "output_type": "stream",
     "text": [
      "ten1.dtype : torch.float32\n",
      "ten1.dtype : torch.float64\n"
     ]
    }
   ],
   "source": [
    "torch.manual_seed(1)\n",
    "# 3차원 텐서 생성\n",
    "ten1=torch.randn((2,2,2))\n",
    "print(f'ten1.dtype : {ten1.dtype}')\n",
    "# float32 ==> float64 변환\n",
    "ten1=ten1.type(torch.float64)\n",
    "print(f'ten1.dtype : {ten1.dtype}')"
   ]
  },
  {
   "cell_type": "code",
   "execution_count": null,
   "metadata": {},
   "outputs": [],
   "source": []
  }
 ],
 "metadata": {
  "kernelspec": {
   "display_name": "DL_TORCH",
   "language": "python",
   "name": "python3"
  },
  "language_info": {
   "codemirror_mode": {
    "name": "ipython",
    "version": 3
   },
   "file_extension": ".py",
   "mimetype": "text/x-python",
   "name": "python",
   "nbconvert_exporter": "python",
   "pygments_lexer": "ipython3",
   "version": "3.9.21"
  }
 },
 "nbformat": 4,
 "nbformat_minor": 2
}
