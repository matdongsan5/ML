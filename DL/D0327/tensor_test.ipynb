{
 "cells": [
  {
   "cell_type": "markdown",
   "metadata": {},
   "source": [
    "#### [ TEST - TENSOR ]"
   ]
  },
  {
   "cell_type": "code",
   "execution_count": 2,
   "metadata": {},
   "outputs": [],
   "source": [
    "## 모듈로딩\n",
    "import torch \n",
    "import numpy as np "
   ]
  },
  {
   "cell_type": "markdown",
   "metadata": {},
   "source": [
    "[1] 10 ~ 100 사이 5.5 간격의 데이터로 구성된 3차원 텐서 생성하세요."
   ]
  },
  {
   "cell_type": "code",
   "execution_count": 19,
   "metadata": {},
   "outputs": [
    {
     "data": {
      "text/plain": [
       "tensor([[[10.0000]],\n",
       "\n",
       "        [[15.5000]],\n",
       "\n",
       "        [[21.0000]],\n",
       "\n",
       "        [[26.5000]],\n",
       "\n",
       "        [[32.0000]],\n",
       "\n",
       "        [[37.5000]],\n",
       "\n",
       "        [[43.0000]],\n",
       "\n",
       "        [[48.5000]],\n",
       "\n",
       "        [[54.0000]],\n",
       "\n",
       "        [[59.5000]],\n",
       "\n",
       "        [[65.0000]],\n",
       "\n",
       "        [[70.5000]],\n",
       "\n",
       "        [[76.0000]],\n",
       "\n",
       "        [[81.5000]],\n",
       "\n",
       "        [[87.0000]],\n",
       "\n",
       "        [[92.5000]],\n",
       "\n",
       "        [[98.0000]]], dtype=torch.float64)"
      ]
     },
     "execution_count": 19,
     "metadata": {},
     "output_type": "execute_result"
    }
   ],
   "source": [
    "ex1 = torch.tensor(np.arange(10,100,5.5))\n",
    "ex1.reshape(17,1,1)\n",
    "\n",
    "# np.linspace(10,100,retstep=5.5)\n"
   ]
  },
  {
   "cell_type": "markdown",
   "metadata": {},
   "source": [
    "[2] 정규분포를 띠는 2D 랜덤 텐서를 생성하세요.(매번 동일한 랜덤값 유지)"
   ]
  },
  {
   "cell_type": "code",
   "execution_count": null,
   "metadata": {},
   "outputs": [],
   "source": [
    "np.lins"
   ]
  },
  {
   "cell_type": "code",
   "execution_count": 115,
   "metadata": {},
   "outputs": [
    {
     "data": {
      "text/plain": [
       "tensor([[0.0000, 0.0204],\n",
       "        [0.0408, 0.0612],\n",
       "        [0.0816, 0.1020],\n",
       "        [0.1224, 0.1429],\n",
       "        [0.1633, 0.1837],\n",
       "        [0.2041, 0.2245],\n",
       "        [0.2449, 0.2653],\n",
       "        [0.2857, 0.3061],\n",
       "        [0.3265, 0.3469],\n",
       "        [0.3673, 0.3878],\n",
       "        [0.4082, 0.4286],\n",
       "        [0.4490, 0.4694],\n",
       "        [0.4898, 0.5102],\n",
       "        [0.5306, 0.5510],\n",
       "        [0.5714, 0.5918],\n",
       "        [0.6122, 0.6327],\n",
       "        [0.6531, 0.6735],\n",
       "        [0.6939, 0.7143],\n",
       "        [0.7347, 0.7551],\n",
       "        [0.7755, 0.7959],\n",
       "        [0.8163, 0.8367],\n",
       "        [0.8571, 0.8776],\n",
       "        [0.8980, 0.9184],\n",
       "        [0.9388, 0.9592],\n",
       "        [0.9796, 1.0000]])"
      ]
     },
     "execution_count": 115,
     "metadata": {},
     "output_type": "execute_result"
    }
   ],
   "source": [
    "ex2 = torch.Tensor(np.linspace(0,1))\n",
    "ex2.reshape(-1,2)"
   ]
  },
  {
   "cell_type": "markdown",
   "metadata": {},
   "source": [
    "[3] 임의의 정수값으로 구성된 3차원 텐서를 아래 조건 만족하도록 생성하세요.\n",
    "- 조건\n",
    "    * 형태 : 10행 10열 3개\n",
    "    * 타입 : 0 ~ 255값 저장되는 최소 크기 타입\n",
    "    * 생성 후 3개 2D 텐서로 분리 저장"
   ]
  },
  {
   "cell_type": "code",
   "execution_count": 93,
   "metadata": {},
   "outputs": [],
   "source": [
    "ex3 = torch.tensor( np.linspace(0,1,300)*255, dtype=torch.uint8)\n",
    "ex3 = ex3.reshape(10,10,3)\n",
    "\n",
    "ex31 = ex3[:,:,0]\n",
    "ex32 = ex3[:,:,1]\n",
    "ex33 = ex3[:,:,2]\n",
    "\n"
   ]
  },
  {
   "cell_type": "markdown",
   "metadata": {},
   "source": [
    "[4] 3의 배수로 구성된 원소갯수가 12개인 텐서를 생성하세요.\n",
    "- 1D 텐서 생성 T1\n",
    "- T1의 형변환으로 2D 텐서 생성 T2\n",
    "- T1의 형변환으로 3D 텐서 생성 T3\n",
    "- T1의 형변환으로 4D 텐서 생성 T4"
   ]
  },
  {
   "cell_type": "code",
   "execution_count": 50,
   "metadata": {},
   "outputs": [],
   "source": [
    "t1 = torch.tensor(np.arange(3,37,3))\n",
    "\n",
    "t2 = t1.reshape(2,6)\n",
    "t3 = t1.reshape(2,6,1)\n",
    "t4 = t1.reshape(2,2,3,1)"
   ]
  },
  {
   "cell_type": "code",
   "execution_count": null,
   "metadata": {},
   "outputs": [],
   "source": []
  },
  {
   "cell_type": "markdown",
   "metadata": {},
   "source": [
    "[5] 아래 2개 텐서에 대한 연산 수행 결과 출력하세요.\n",
    "- t1 :  [[11,22], [33,44]]\n",
    "- t2 :  [3,4,5]\n",
    "- 연산 : 덧셈, 뺄셈, 곱셈, 나눗셈 연산자와 메서드"
   ]
  },
  {
   "cell_type": "code",
   "execution_count": 65,
   "metadata": {},
   "outputs": [
    {
     "name": "stdout",
     "output_type": "stream",
     "text": [
      "tensor([[14, 15, 16],\n",
      "        [25, 26, 27],\n",
      "        [36, 37, 38],\n",
      "        [47, 48, 49]])\n",
      "tensor([[ 8,  7,  6],\n",
      "        [19, 18, 17],\n",
      "        [30, 29, 28],\n",
      "        [41, 40, 39]])\n",
      "tensor([[ 33,  44,  55],\n",
      "        [ 66,  88, 110],\n",
      "        [ 99, 132, 165],\n",
      "        [132, 176, 220]])\n",
      "tensor([[ 3.6667,  2.7500,  2.2000],\n",
      "        [ 7.3333,  5.5000,  4.4000],\n",
      "        [11.0000,  8.2500,  6.6000],\n",
      "        [14.6667, 11.0000,  8.8000]])\n"
     ]
    }
   ],
   "source": [
    "t1 =  torch.tensor([[11,22], [33,44]])\n",
    "t2 =  torch.tensor([3,4,5])\n",
    "t1 = t1.reshape(4,1)\n",
    "t2 = t2.reshape(1,3)\n",
    "print(t1.add(t2))\n",
    "print(t1.sub(t2))\n",
    "\n",
    "print(t1.matmul(t2))\n",
    "print(t1.div(t2))\n"
   ]
  },
  {
   "cell_type": "markdown",
   "metadata": {},
   "source": [
    "[6] 텐서의 행렬곱 결과 출력\n",
    "- t1 : 원소 10개\n",
    "- t2 : 원소 5개\n",
    "- 연산: 메서드"
   ]
  },
  {
   "cell_type": "code",
   "execution_count": 68,
   "metadata": {},
   "outputs": [
    {
     "data": {
      "text/plain": [
       "tensor([[ 0.,  0.,  0.,  0.,  0.],\n",
       "        [ 0.,  1.,  2.,  3.,  4.],\n",
       "        [ 0.,  2.,  4.,  6.,  8.],\n",
       "        [ 0.,  3.,  6.,  9., 12.],\n",
       "        [ 0.,  4.,  8., 12., 16.],\n",
       "        [ 0.,  5., 10., 15., 20.],\n",
       "        [ 0.,  6., 12., 18., 24.],\n",
       "        [ 0.,  7., 14., 21., 28.],\n",
       "        [ 0.,  8., 16., 24., 32.],\n",
       "        [ 0.,  9., 18., 27., 36.]])"
      ]
     },
     "execution_count": 68,
     "metadata": {},
     "output_type": "execute_result"
    }
   ],
   "source": [
    "t1 = torch.Tensor(range(0,10))\n",
    "t2 = torch.Tensor(range(5))\n",
    "t1 = t1.reshape(10,1)\n",
    "t2 = t2.reshape(1,5)\n",
    "\n",
    "t1.matmul(t2)\n"
   ]
  },
  {
   "cell_type": "markdown",
   "metadata": {},
   "source": [
    "[7] 3의 배수로 구성된 원소갯수가 12개인 텐서를 생성하세요.\n",
    "- 1D 텐서 생성 T1\n",
    "- T1의 축 추가로 2D 텐서 생성 T2\n",
    "- T1의 축 추가로 3D 텐서 생성 T3\n",
    "- T1의 축 추가로 4D 텐서 생성 T4\n",
    "\n",
    "- T4의 축 축소로 3D 텐서 생성 T5\n",
    "- T3의 축 축소로 2D 텐서 생성 T6\n",
    "- T2의 축 축소로 1D 텐서 생성 T7"
   ]
  },
  {
   "cell_type": "code",
   "execution_count": null,
   "metadata": {},
   "outputs": [
    {
     "data": {
      "text/plain": [
       "torch.Size([10, 1, 1])"
      ]
     },
     "execution_count": 114,
     "metadata": {},
     "output_type": "execute_result"
    }
   ],
   "source": [
    "t1 = torch.tensor(range(10))\n",
    "t2 = t1.unsqueeze(1)\n",
    "t3 = t2.unsqueeze(1)\n",
    "t4 = t3.unsqueeze(1)\n",
    "t5 = t4.squeeze(1)\n",
    "t6 = t3.squeeze(1)\n",
    "t7 = t2.squeeze(1)\n",
    "\n",
    "\n",
    "\n",
    "\n"
   ]
  },
  {
   "cell_type": "code",
   "execution_count": null,
   "metadata": {},
   "outputs": [],
   "source": [
    "\n"
   ]
  }
 ],
 "metadata": {
  "kernelspec": {
   "display_name": "DL_TORCH",
   "language": "python",
   "name": "python3"
  },
  "language_info": {
   "codemirror_mode": {
    "name": "ipython",
    "version": 3
   },
   "file_extension": ".py",
   "mimetype": "text/x-python",
   "name": "python",
   "nbconvert_exporter": "python",
   "pygments_lexer": "ipython3",
   "version": "3.9.21"
  }
 },
 "nbformat": 4,
 "nbformat_minor": 2
}
