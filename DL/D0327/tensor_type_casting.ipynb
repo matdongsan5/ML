{
 "cells": [
  {
   "cell_type": "markdown",
   "metadata": {},
   "source": [
    "#### [ Tensor type casting]\n",
    "- tensor.type(변환타입)\n",
    "- tensor.to(변환타입)\n",
    "- tensor.타입명()\n"
   ]
  },
  {
   "cell_type": "code",
   "execution_count": 1,
   "metadata": {},
   "outputs": [],
   "source": [
    "import torch\n",
    "import numpy as np"
   ]
  },
  {
   "cell_type": "code",
   "execution_count": 3,
   "metadata": {},
   "outputs": [],
   "source": [
    "torch.manual_seed(43)\n",
    "\n",
    "t1 = torch.randn((2,5))"
   ]
  },
  {
   "cell_type": "code",
   "execution_count": 4,
   "metadata": {},
   "outputs": [
    {
     "name": "stdout",
     "output_type": "stream",
     "text": [
      "torch.Size([2, 5]) torch.float32\n"
     ]
    }
   ],
   "source": [
    "print(t1.shape, t1.dtype)\n"
   ]
  },
  {
   "cell_type": "code",
   "execution_count": 5,
   "metadata": {},
   "outputs": [],
   "source": [
    "## float32 => int 32 type casting\n",
    "t2 = t1.type(torch.int32)\n",
    "t3 = t1.to(torch.int32)\n",
    "t4 = t1.int()\n"
   ]
  },
  {
   "cell_type": "code",
   "execution_count": 6,
   "metadata": {},
   "outputs": [
    {
     "name": "stdout",
     "output_type": "stream",
     "text": [
      "torch.int32 torch.int32 torch.int32\n"
     ]
    }
   ],
   "source": [
    "print(t2.dtype, t3.dtype, t4.dtype)"
   ]
  },
  {
   "cell_type": "code",
   "execution_count": 9,
   "metadata": {},
   "outputs": [
    {
     "name": "stdout",
     "output_type": "stream",
     "text": [
      "torch.bool torch.bool torch.bool\n"
     ]
    }
   ],
   "source": [
    "## float32 => bool type casting\n",
    "t2 = t1.type(torch.bool)\n",
    "t3 = t1.to(torch.bool)\n",
    "t4 = t1.bool()\n",
    "print(t2.dtype, t3.dtype, t4.dtype)\n"
   ]
  },
  {
   "cell_type": "code",
   "execution_count": null,
   "metadata": {},
   "outputs": [],
   "source": []
  }
 ],
 "metadata": {
  "kernelspec": {
   "display_name": "DL_TORCH",
   "language": "python",
   "name": "python3"
  },
  "language_info": {
   "codemirror_mode": {
    "name": "ipython",
    "version": 3
   },
   "file_extension": ".py",
   "mimetype": "text/x-python",
   "name": "python",
   "nbconvert_exporter": "python",
   "pygments_lexer": "ipython3",
   "version": "3.9.21"
  }
 },
 "nbformat": 4,
 "nbformat_minor": 2
}
