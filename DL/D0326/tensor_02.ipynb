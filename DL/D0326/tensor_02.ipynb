{
 "cells": [
  {
   "cell_type": "markdown",
   "metadata": {},
   "source": [
    "#### [ Tensor 생성 및 속성 확인 ]\n",
    "- Tensor란? \n",
    "    * pytorch에서 데이터 저장 및 모델 입출력 데이터 저장 타입\n",
    "    "
   ]
  },
  {
   "cell_type": "markdown",
   "metadata": {},
   "source": [
    "[1] 모듈 로딩 <hr>"
   ]
  },
  {
   "cell_type": "code",
   "execution_count": 4,
   "metadata": {},
   "outputs": [],
   "source": [
    "import torch"
   ]
  },
  {
   "cell_type": "code",
   "execution_count": 5,
   "metadata": {},
   "outputs": [],
   "source": [
    "torch.manual_seed(12)\n",
    "\n",
    "t5 = torch.rand(2,3)    # 0, 1 분포 안에서 랜덤생성\n",
    "t6 = torch.rand(2,3)    # standard normal 분포 안에서 랜덤 생성\n",
    "\n",
    "t7 = torch.randint(low=1, high=10, size=(2,3)) # low, high  low<= 값 <high"
   ]
  },
  {
   "cell_type": "code",
   "execution_count": 14,
   "metadata": {},
   "outputs": [],
   "source": [
    "from utils import *\n",
    "import numpy as np"
   ]
  },
  {
   "cell_type": "code",
   "execution_count": 15,
   "metadata": {},
   "outputs": [
    {
     "name": "stdout",
     "output_type": "stream",
     "text": [
      "t5---------------------------------------\n",
      " shape  : torch.Size([2, 3])    torch.Size([2, 3])\n",
      " ndim   : 2       2\n",
      " device : cpu\n",
      " dtype  :  torch.float32\n",
      " data   :  tensor([[0.4657, 0.2328, 0.4527],\n",
      "        [0.5871, 0.4086, 0.1272]])\n",
      "t6---------------------------------------\n",
      " shape  : torch.Size([2, 3])    torch.Size([2, 3])\n",
      " ndim   : 2       2\n",
      " device : cpu\n",
      " dtype  :  torch.float32\n",
      " data   :  tensor([[0.6373, 0.2421, 0.7312],\n",
      "        [0.7224, 0.1992, 0.6948]])\n",
      "t7---------------------------------------\n",
      " shape  : torch.Size([2, 3])    torch.Size([2, 3])\n",
      " ndim   : 2       2\n",
      " device : cpu\n",
      " dtype  :  torch.int64\n",
      " data   :  tensor([[5, 3, 7],\n",
      "        [4, 2, 8]])\n"
     ]
    }
   ],
   "source": [
    "\n",
    "printTensorInfo('t5', t5)\n",
    "printTensorInfo('t6', t6)\n",
    "printTensorInfo('t7', t7)"
   ]
  },
  {
   "cell_type": "code",
   "execution_count": null,
   "metadata": {},
   "outputs": [],
   "source": [
    "arr = np.linspace(1, 10, 6) # ndarray 객체\n",
    "t1 = torch.from_numpy( arr ) # sharing\n",
    "t2 = torch.as_tensor( arr ) # sharing\n",
    "t3 = torch.tensor( arr ) # copy"
   ]
  },
  {
   "cell_type": "code",
   "execution_count": 18,
   "metadata": {},
   "outputs": [
    {
     "name": "stdout",
     "output_type": "stream",
     "text": [
      "t1---------------------------------------\n",
      " shape  : torch.Size([6])    torch.Size([6])\n",
      " ndim   : 1       1\n",
      " device : cpu\n",
      " dtype  :  torch.float64\n",
      " data   :  tensor([ 1.0000,  2.8000,  4.6000,  6.4000,  8.2000, 10.0000],\n",
      "       dtype=torch.float64)\n",
      "t2---------------------------------------\n",
      " shape  : torch.Size([6])    torch.Size([6])\n",
      " ndim   : 1       1\n",
      " device : cpu\n",
      " dtype  :  torch.float64\n",
      " data   :  tensor([ 1.0000,  2.8000,  4.6000,  6.4000,  8.2000, 10.0000],\n",
      "       dtype=torch.float64)\n",
      "t3---------------------------------------\n",
      " shape  : torch.Size([6])    torch.Size([6])\n",
      " ndim   : 1       1\n",
      " device : cpu\n",
      " dtype  :  torch.float64\n",
      " data   :  tensor([ 1.0000,  2.8000,  4.6000,  6.4000,  8.2000, 10.0000],\n",
      "       dtype=torch.float64)\n"
     ]
    }
   ],
   "source": [
    "printTensorInfo('t1', t1)\n",
    "printTensorInfo('t2', t2)\n",
    "printTensorInfo('t3', t3)"
   ]
  },
  {
   "cell_type": "code",
   "execution_count": 19,
   "metadata": {},
   "outputs": [
    {
     "name": "stdout",
     "output_type": "stream",
     "text": [
      "[전] arr => [ 1.   2.8  4.6  6.4  8.2 10. ]\n",
      "[후] arr => [ 5.   2.8  4.6  6.4  8.2 10. ]\n"
     ]
    }
   ],
   "source": [
    "## 체크 1!\n",
    "print(f\"[전] arr => {arr}\")\n",
    "arr[0] = 5.0\n",
    "print(f\"[후] arr => {arr}\")"
   ]
  },
  {
   "cell_type": "code",
   "execution_count": 24,
   "metadata": {},
   "outputs": [
    {
     "name": "stdout",
     "output_type": "stream",
     "text": [
      "t1 => tensor([ 5.0000,  2.8000,  4.6000,  6.4000,  8.2000, 10.0000],\n",
      "       dtype=torch.float64)\n",
      "t2 => tensor([ 5.0000,  2.8000,  4.6000,  6.4000,  8.2000, 10.0000],\n",
      "       dtype=torch.float64)\n",
      "t3 => tensor([ 1.0000,  2.8000,  4.6000,  6.4000,  8.2000, 10.0000],\n",
      "       dtype=torch.float64)\n"
     ]
    }
   ],
   "source": [
    "print('t1 =>', t1)  # from_numpy  => 원본 공유, 같이 변경\n",
    "print('t2 =>', t2)  # as_tensor   => 원본 공유, 같이 변경\n",
    "print('t3 =>', t3)  # 새로운 객체"
   ]
  },
  {
   "cell_type": "code",
   "execution_count": 26,
   "metadata": {},
   "outputs": [
    {
     "name": "stderr",
     "output_type": "stream",
     "text": [
      "C:\\Users\\kdt\\AppData\\Local\\Temp\\ipykernel_38408\\2084629879.py:6: UserWarning: To copy construct from a tensor, it is recommended to use sourceTensor.clone().detach() or sourceTensor.clone().detach().requires_grad_(True), rather than torch.tensor(sourceTensor).\n",
      "  t3 = torch.tensor(t0)          # copy  방식 => 새로운 메모리공간에 데이터 복사.\n"
     ]
    }
   ],
   "source": [
    "## Tensor 데이터 ==> Tensor 생성\n",
    "t0 = torch.Tensor([11,22])\n",
    "\n",
    "# t1 = torch.from_numpy(t0)\n",
    "t2 = torch.as_tensor(t0)       # share 방식 => 공유 하기.\n",
    "t3 = torch.tensor(t0)          # copy  방식 => 새로운 메모리공간에 데이터 복사.\n",
    "\n"
   ]
  },
  {
   "cell_type": "code",
   "execution_count": 30,
   "metadata": {},
   "outputs": [
    {
     "name": "stdout",
     "output_type": "stream",
     "text": [
      "tensor(11.) tensor(22.)\n",
      "11.0 tensor(22.)\n"
     ]
    }
   ],
   "source": [
    "## 텐서 원소 변경\n",
    "print(t0[0], t0[1])\n",
    "print(t0[0].item(), t0[1])"
   ]
  },
  {
   "cell_type": "code",
   "execution_count": 33,
   "metadata": {},
   "outputs": [
    {
     "name": "stdout",
     "output_type": "stream",
     "text": [
      "9.0\n"
     ]
    }
   ],
   "source": [
    "t0[0] = 9\n",
    "print(t0[0].item())"
   ]
  },
  {
   "cell_type": "code",
   "execution_count": 35,
   "metadata": {},
   "outputs": [
    {
     "name": "stdout",
     "output_type": "stream",
     "text": [
      "tensor([ 9., 22.]) tensor([11., 22.])\n"
     ]
    }
   ],
   "source": [
    "# as_tensor() share로 원본 변경 시 적용 or\n",
    "# copy 는 원본과 별개의 객체\n",
    "print(t2, t3)"
   ]
  },
  {
   "cell_type": "markdown",
   "metadata": {},
   "source": [
    "[4] 특정 데이터 타입의 Tensor를 생성\n",
    "<hr>"
   ]
  },
  {
   "cell_type": "code",
   "execution_count": null,
   "metadata": {},
   "outputs": [
    {
     "name": "stdout",
     "output_type": "stream",
     "text": [
      "tensor([11., 33.])\n",
      "torch.float32\n"
     ]
    }
   ],
   "source": [
    "t1 = torch.FloatTensor([11,33])\n",
    "print(t1, t1.dtype, sep='\\n')"
   ]
  },
  {
   "cell_type": "code",
   "execution_count": 39,
   "metadata": {},
   "outputs": [
    {
     "name": "stdout",
     "output_type": "stream",
     "text": [
      "tensor([11., 33.], dtype=torch.float64)\n",
      "torch.float64\n"
     ]
    }
   ],
   "source": [
    "t1 = torch.DoubleTensor([11,33])\n",
    "print(t1, t1.dtype, sep='\\n')"
   ]
  },
  {
   "cell_type": "code",
   "execution_count": 41,
   "metadata": {},
   "outputs": [
    {
     "name": "stdout",
     "output_type": "stream",
     "text": [
      "tensor([ True, False])\n",
      "torch.bool\n"
     ]
    }
   ],
   "source": [
    "t1 = torch.BoolTensor([11,0])\n",
    "print(t1, t1.dtype, sep='\\n')"
   ]
  },
  {
   "cell_type": "code",
   "execution_count": null,
   "metadata": {},
   "outputs": [],
   "source": [
    "t1=torch.FloatTensor([1,2])\n",
    "t2=torch.IntTensor([11,22])\n",
    "t3=torch.DoubleTensor([1,2])\n",
    "t4=torch.CharTensor([1,2])\n",
    "t5=torch.LongTensor([1,2])\n",
    "t6=torch.BoolTensor([1,2,0])\n",
    "\n",
    "t7=torch.Tensor([1,2,0])\n",
    "t8=torch.Tensor([1.,2,0])"
   ]
  }
 ],
 "metadata": {
  "kernelspec": {
   "display_name": "DL_TORCH",
   "language": "python",
   "name": "python3"
  },
  "language_info": {
   "codemirror_mode": {
    "name": "ipython",
    "version": 3
   },
   "file_extension": ".py",
   "mimetype": "text/x-python",
   "name": "python",
   "nbconvert_exporter": "python",
   "pygments_lexer": "ipython3",
   "version": "3.9.21"
  }
 },
 "nbformat": 4,
 "nbformat_minor": 2
}
