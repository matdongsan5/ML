{
 "cells": [
  {
   "cell_type": "markdown",
   "metadata": {},
   "source": [
    "#### [ Tensor 생성 및 속성 확인 ]\n",
    "- Tensor란? \n",
    "    * pytorch에서 데이터 저장 및 모델 입출력 데이터 저장 타입\n",
    "    "
   ]
  },
  {
   "cell_type": "markdown",
   "metadata": {},
   "source": [
    "[1] 모듈 로딩 <hr>"
   ]
  },
  {
   "cell_type": "code",
   "execution_count": 1,
   "metadata": {},
   "outputs": [],
   "source": [
    "import torch"
   ]
  },
  {
   "cell_type": "markdown",
   "metadata": {},
   "source": [
    "[2] 텐서 생성 - torch.tensor() 함수 <hr>"
   ]
  },
  {
   "cell_type": "code",
   "execution_count": 21,
   "metadata": {},
   "outputs": [],
   "source": [
    "t1 = torch.tensor(77)                       # 0차원  [] 개수.\n",
    "t2 = torch.tensor([1,3,5])                  # 1차원\n",
    "t3 = torch.tensor([[2,3,4], [9,8,7]])       # 2차원 \n",
    "t4 = torch.tensor([[[2,3,4], [9,8,7]]])     # 3차원\n",
    "t5 = torch.tensor([[[2,3,4], [9,8,7]],[[2,3,4], [9,8,7]]])     # 3차원"
   ]
  },
  {
   "cell_type": "code",
   "execution_count": 18,
   "metadata": {},
   "outputs": [],
   "source": [
    "## 텐서의 속성 확인\n",
    "def printTensorInfo(tname, tensor):\n",
    "    print(f\"{tname}---------------------------------------\")\n",
    "    print(f\" shape  : {tensor.shape}    {tensor.size()}\")\n",
    "    print(f\" ndim   : {tensor.ndim}       {tensor.dim()}\")\n",
    "    print(f\" device : {tensor.device}\")\n",
    "    print(f\" dtype  :  {tensor.dtype}\")\n",
    "    print(f\" data   :  {tensor}\")\n",
    "    "
   ]
  },
  {
   "cell_type": "code",
   "execution_count": 26,
   "metadata": {},
   "outputs": [
    {
     "name": "stdout",
     "output_type": "stream",
     "text": [
      "t1---------------------------------------\n",
      " shape  : torch.Size([])    torch.Size([])\n",
      " ndim   : 0       0\n",
      " device : cpu\n",
      " dtype  :  torch.uint8\n",
      " data   :  77\n",
      "t2---------------------------------------\n",
      " shape  : torch.Size([3])    torch.Size([3])\n",
      " ndim   : 1       1\n",
      " device : cpu\n",
      " dtype  :  torch.float16\n",
      " data   :  tensor([1., 3., 5.], dtype=torch.float16)\n",
      "t3---------------------------------------\n",
      " shape  : torch.Size([2, 3])    torch.Size([2, 3])\n",
      " ndim   : 2       2\n",
      " device : cpu\n",
      " dtype  :  torch.int8\n",
      " data   :  tensor([[2, 3, 4],\n",
      "        [9, 8, 7]], dtype=torch.int8)\n",
      "t4---------------------------------------\n",
      " shape  : torch.Size([1, 2, 3])    torch.Size([1, 2, 3])\n",
      " ndim   : 3       3\n",
      " device : cpu\n",
      " dtype  :  torch.int64\n",
      " data   :  tensor([[[2, 3, 4],\n",
      "         [9, 8, 7]]])\n"
     ]
    }
   ],
   "source": [
    "printTensorInfo('t1', t1)\n",
    "printTensorInfo('t2', t2)\n",
    "printTensorInfo('t3', t3)\n",
    "printTensorInfo('t4', t4)\n"
   ]
  },
  {
   "cell_type": "code",
   "execution_count": 23,
   "metadata": {},
   "outputs": [
    {
     "name": "stdout",
     "output_type": "stream",
     "text": [
      "t5---------------------------------------\n",
      " shape  : torch.Size([2, 2, 3])    torch.Size([2, 2, 3])\n",
      " ndim   : 3       3\n",
      " device : cpu\n",
      " dtype  :  torch.int64\n",
      " data   :  tensor([[[2, 3, 4],\n",
      "         [9, 8, 7]],\n",
      "\n",
      "        [[2, 3, 4],\n",
      "         [9, 8, 7]]])\n"
     ]
    }
   ],
   "source": [
    "printTensorInfo('t5', t5)"
   ]
  },
  {
   "cell_type": "code",
   "execution_count": 24,
   "metadata": {},
   "outputs": [],
   "source": [
    "t1 = torch.tensor(77, dtype=torch.uint8)                       # 0차원  [] 개수.\n",
    "t2 = torch.tensor([1,3,5], dtype=torch.float16)                  # 1차원\n",
    "t3 = torch.tensor([[2,3,4], [9,8,7]], dtype=torch.int8)       # 2차원 \n",
    "t4 = torch.tensor([[[2,3,4], [9,8,7]]])     # 3차원"
   ]
  },
  {
   "cell_type": "code",
   "execution_count": 25,
   "metadata": {},
   "outputs": [
    {
     "name": "stdout",
     "output_type": "stream",
     "text": [
      "t1---------------------------------------\n",
      " shape  : torch.Size([])    torch.Size([])\n",
      " ndim   : 0       0\n",
      " device : cpu\n",
      " dtype  :  torch.uint8\n",
      " data   :  77\n",
      "t2---------------------------------------\n",
      " shape  : torch.Size([3])    torch.Size([3])\n",
      " ndim   : 1       1\n",
      " device : cpu\n",
      " dtype  :  torch.float16\n",
      " data   :  tensor([1., 3., 5.], dtype=torch.float16)\n",
      "t3---------------------------------------\n",
      " shape  : torch.Size([2, 3])    torch.Size([2, 3])\n",
      " ndim   : 2       2\n",
      " device : cpu\n",
      " dtype  :  torch.int8\n",
      " data   :  tensor([[2, 3, 4],\n",
      "        [9, 8, 7]], dtype=torch.int8)\n",
      "t4---------------------------------------\n",
      " shape  : torch.Size([1, 2, 3])    torch.Size([1, 2, 3])\n",
      " ndim   : 3       3\n",
      " device : cpu\n",
      " dtype  :  torch.int64\n",
      " data   :  tensor([[[2, 3, 4],\n",
      "         [9, 8, 7]]])\n"
     ]
    }
   ],
   "source": [
    "printTensorInfo('t1', t1)\n",
    "printTensorInfo('t2', t2)\n",
    "printTensorInfo('t3', t3)\n",
    "printTensorInfo('t4', t4)"
   ]
  },
  {
   "cell_type": "markdown",
   "metadata": {},
   "source": [
    "[3] 다양한 텐서 생성 함수들 <hr>"
   ]
  },
  {
   "cell_type": "code",
   "execution_count": 27,
   "metadata": {},
   "outputs": [],
   "source": [
    "t1 = torch.zeros(2,2, dtype=torch.int8)\n",
    "t2 = torch.ones(2,5, dtype=torch.int8)\n",
    "t3 = torch.full ((2,), 4)\n",
    "t4 = torch.eye(2)\n",
    "t5 = torch.eye(1,3)"
   ]
  },
  {
   "cell_type": "code",
   "execution_count": 28,
   "metadata": {},
   "outputs": [
    {
     "name": "stdout",
     "output_type": "stream",
     "text": [
      "t1---------------------------------------\n",
      " shape  : torch.Size([2, 2])    torch.Size([2, 2])\n",
      " ndim   : 2       2\n",
      " device : cpu\n",
      " dtype  :  torch.int8\n",
      " data   :  tensor([[0, 0],\n",
      "        [0, 0]], dtype=torch.int8)\n",
      "t2---------------------------------------\n",
      " shape  : torch.Size([2, 5])    torch.Size([2, 5])\n",
      " ndim   : 2       2\n",
      " device : cpu\n",
      " dtype  :  torch.int8\n",
      " data   :  tensor([[1, 1, 1, 1, 1],\n",
      "        [1, 1, 1, 1, 1]], dtype=torch.int8)\n",
      "t3---------------------------------------\n",
      " shape  : torch.Size([2])    torch.Size([2])\n",
      " ndim   : 1       1\n",
      " device : cpu\n",
      " dtype  :  torch.int64\n",
      " data   :  tensor([4, 4])\n",
      "t4---------------------------------------\n",
      " shape  : torch.Size([2, 2])    torch.Size([2, 2])\n",
      " ndim   : 2       2\n",
      " device : cpu\n",
      " dtype  :  torch.float32\n",
      " data   :  tensor([[1., 0.],\n",
      "        [0., 1.]])\n",
      "t5---------------------------------------\n",
      " shape  : torch.Size([1, 3])    torch.Size([1, 3])\n",
      " ndim   : 2       2\n",
      " device : cpu\n",
      " dtype  :  torch.float32\n",
      " data   :  tensor([[1., 0., 0.]])\n"
     ]
    }
   ],
   "source": [
    "printTensorInfo('t1', t1)\n",
    "printTensorInfo('t2', t2)\n",
    "printTensorInfo('t3', t3)\n",
    "printTensorInfo('t4', t4)\n",
    "printTensorInfo('t5', t5)"
   ]
  },
  {
   "cell_type": "code",
   "execution_count": null,
   "metadata": {},
   "outputs": [],
   "source": []
  }
 ],
 "metadata": {
  "kernelspec": {
   "display_name": "DL_TORCH",
   "language": "python",
   "name": "python3"
  },
  "language_info": {
   "codemirror_mode": {
    "name": "ipython",
    "version": 3
   },
   "file_extension": ".py",
   "mimetype": "text/x-python",
   "name": "python",
   "nbconvert_exporter": "python",
   "pygments_lexer": "ipython3",
   "version": "3.9.21"
  }
 },
 "nbformat": 4,
 "nbformat_minor": 2
}
