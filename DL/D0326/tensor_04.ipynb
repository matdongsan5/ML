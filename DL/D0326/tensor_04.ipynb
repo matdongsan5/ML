{
 "cells": [
  {
   "cell_type": "markdown",
   "metadata": {},
   "source": [
    "[ Tensor shape 변경 ]"
   ]
  },
  {
   "cell_type": "code",
   "execution_count": 2,
   "metadata": {},
   "outputs": [],
   "source": [
    "import torch\n"
   ]
  },
  {
   "cell_type": "code",
   "execution_count": 3,
   "metadata": {},
   "outputs": [
    {
     "name": "stdout",
     "output_type": "stream",
     "text": [
      "tensor([[[11]],\n",
      "\n",
      "        [[22]],\n",
      "\n",
      "        [[33]],\n",
      "\n",
      "        [[44]],\n",
      "\n",
      "        [[55]],\n",
      "\n",
      "        [[66]]]) 3\n",
      "tensor([11, 22, 33, 44, 55, 66]) 1\n"
     ]
    }
   ],
   "source": [
    "ten1=torch.tensor([11,22,33,44,55,66])\n",
    "ten2=ten1.reshape(-1,1,1) # -1 의미 : 원소 개수에 맞게 알아서 배정\n",
    "                # 3개 이므로 3차원.\n",
    "print(ten2, ten2.ndim)\n",
    "ten3=ten2.reshape(-1) # 1차원으로 펴기.\n",
    "print(ten3, ten3.ndim)"
   ]
  },
  {
   "cell_type": "code",
   "execution_count": 4,
   "metadata": {},
   "outputs": [
    {
     "data": {
      "text/plain": [
       "torch.Size([6, 1, 1])"
      ]
     },
     "execution_count": 4,
     "metadata": {},
     "output_type": "execute_result"
    }
   ],
   "source": [
    "# shape 변경 => reshape()\n",
    "t1 = torch.tensor([11,22,33,44,55,66])\n",
    "t2 = t1.reshape(-1, 1, 1)\n",
    "t2.shape"
   ]
  },
  {
   "cell_type": "code",
   "execution_count": 5,
   "metadata": {},
   "outputs": [
    {
     "data": {
      "text/plain": [
       "torch.Size([6, 1, 1, 1])"
      ]
     },
     "execution_count": 5,
     "metadata": {},
     "output_type": "execute_result"
    }
   ],
   "source": [
    "## t1 1D ==> 4D, t3 저장하기\n",
    "t3 = t1.reshape(-1,1,1,1)\n",
    "t3.shape"
   ]
  },
  {
   "cell_type": "code",
   "execution_count": 6,
   "metadata": {},
   "outputs": [
    {
     "data": {
      "text/plain": [
       "torch.Size([2, 3])"
      ]
     },
     "execution_count": 6,
     "metadata": {},
     "output_type": "execute_result"
    }
   ],
   "source": [
    "## shape 변경 ==> view()-----------\n",
    "t2 = t1.view(2,3)\n",
    "t2.shape"
   ]
  },
  {
   "cell_type": "code",
   "execution_count": 7,
   "metadata": {},
   "outputs": [
    {
     "data": {
      "text/plain": [
       "(torch.Size([1, 2, 3]), torch.Size([6]))"
      ]
     },
     "execution_count": 7,
     "metadata": {},
     "output_type": "execute_result"
    }
   ],
   "source": [
    "t3 = t1.view(-1,2,3)\n",
    "t3.shape, t1.shape\n",
    "\n",
    "# 공유하지 않음."
   ]
  },
  {
   "cell_type": "markdown",
   "metadata": {},
   "source": [
    "[ Axis 변경 ]"
   ]
  },
  {
   "cell_type": "markdown",
   "metadata": {},
   "source": [
    "- axis란?\n",
    "    * Tensor 의 shape 정보에서 확인\n",
    "    * 2D => (m,n) => axis0 m, axis1 n\n",
    "    * 3D => (l,m,n) => axis0 l, axis1 m, axis2 n"
   ]
  },
  {
   "cell_type": "code",
   "execution_count": 8,
   "metadata": {},
   "outputs": [
    {
     "name": "stdout",
     "output_type": "stream",
     "text": [
      "torch.Size([2, 3])\n",
      "tensor([[11, 22, 33],\n",
      "        [33, 44, 55]])\n"
     ]
    }
   ],
   "source": [
    "### \n",
    "\"\"\"  transpose() 메서드 \"\"\"\n",
    "t1 = torch.tensor([[11,22, 33]  , [33,44, 55]])\n",
    "t2 = torch.tensor([[[11,22, 33]  , [33,44, 55] ]])\n",
    "\n",
    "print( t1.shape, t1, sep='\\n')\n"
   ]
  },
  {
   "cell_type": "code",
   "execution_count": 9,
   "metadata": {},
   "outputs": [
    {
     "data": {
      "text/plain": [
       "tensor([[11, 33],\n",
       "        [22, 44],\n",
       "        [33, 55]])"
      ]
     },
     "execution_count": 9,
     "metadata": {},
     "output_type": "execute_result"
    }
   ],
   "source": [
    "# => 0번축 <- 1번 축 변경\n",
    "t1.transpose(1, 0 )"
   ]
  },
  {
   "cell_type": "code",
   "execution_count": 10,
   "metadata": {},
   "outputs": [
    {
     "name": "stdout",
     "output_type": "stream",
     "text": [
      "torch.Size([1, 2, 3])\n",
      "tensor([[[11, 22, 33],\n",
      "         [33, 44, 55]]])\n"
     ]
    },
    {
     "data": {
      "text/plain": [
       "tensor([[[11, 22, 33]],\n",
       "\n",
       "        [[33, 44, 55]]])"
      ]
     },
     "execution_count": 10,
     "metadata": {},
     "output_type": "execute_result"
    }
   ],
   "source": [
    "print( t2.shape, t2, sep='\\n')\n",
    "t3 = t2.transpose(1,0)\n",
    "t3"
   ]
  },
  {
   "cell_type": "code",
   "execution_count": 11,
   "metadata": {},
   "outputs": [
    {
     "name": "stdout",
     "output_type": "stream",
     "text": [
      "torch.Size([1, 2, 3])\n",
      "tensor([[[11, 22, 33],\n",
      "         [33, 44, 55]]])\n",
      "torch.Size([3, 2, 1])\n",
      "tensor([[[11],\n",
      "         [33]],\n",
      "\n",
      "        [[22],\n",
      "         [44]],\n",
      "\n",
      "        [[33],\n",
      "         [55]]])\n"
     ]
    }
   ],
   "source": [
    "print( t2.shape, t2, sep='\\n')\n",
    "t4 = t2.transpose(2,0)\n",
    "\n",
    "# shape (1, 2, 3) => ( 3, 2, 1)\n",
    "\n",
    "print( t4.shape, t4, sep='\\n')"
   ]
  },
  {
   "cell_type": "code",
   "execution_count": 12,
   "metadata": {},
   "outputs": [
    {
     "name": "stdout",
     "output_type": "stream",
     "text": [
      "torch.Size([1, 2, 3])\n",
      "tensor([[[11, 22, 33],\n",
      "         [33, 44, 55]]])\n",
      "torch.Size([2, 3, 1])\n",
      "tensor([[[11],\n",
      "         [22],\n",
      "         [33]],\n",
      "\n",
      "        [[33],\n",
      "         [44],\n",
      "         [55]]])\n"
     ]
    }
   ],
   "source": [
    "\"\"\" permute() 메서드\n",
    "모든 축 axis 변경 가능\n",
    "\"\"\"\n",
    "print( t2.shape, t2, sep='\\n')\n",
    "\n",
    "t3 = t2.permute(1, 2, 0)\n",
    "print( t3.shape, t3, sep='\\n')"
   ]
  },
  {
   "cell_type": "markdown",
   "metadata": {},
   "source": [
    "- 원소 갯수를 유지하며 차원 줄이기 "
   ]
  },
  {
   "cell_type": "code",
   "execution_count": 13,
   "metadata": {},
   "outputs": [
    {
     "data": {
      "text/plain": [
       "torch.Size([25])"
      ]
     },
     "execution_count": 13,
     "metadata": {},
     "output_type": "execute_result"
    }
   ],
   "source": [
    "#이미지 1장. 가로, 세로 5 흑백 (5, 5, 1)\n",
    "# - 형태 : (5,5,1)\n",
    "# - 원소 : 5*5*1 = 25\n",
    "\n",
    "t1 = torch.arange(11,36)\n",
    "t1.shape"
   ]
  },
  {
   "cell_type": "code",
   "execution_count": 14,
   "metadata": {},
   "outputs": [
    {
     "data": {
      "text/plain": [
       "torch.Size([5, 5, 1])"
      ]
     },
     "execution_count": 14,
     "metadata": {},
     "output_type": "execute_result"
    }
   ],
   "source": [
    "t2 = t1.reshape(5,5,1)\n",
    "t2.shape"
   ]
  },
  {
   "cell_type": "code",
   "execution_count": 15,
   "metadata": {},
   "outputs": [
    {
     "data": {
      "text/plain": [
       "torch.Size([1, 5, 5])"
      ]
     },
     "execution_count": 15,
     "metadata": {},
     "output_type": "execute_result"
    }
   ],
   "source": [
    "t3 = t2.transpose(0,2)\n",
    "t3.shape"
   ]
  },
  {
   "cell_type": "code",
   "execution_count": 16,
   "metadata": {},
   "outputs": [
    {
     "data": {
      "text/plain": [
       "torch.Size([1, 5, 5])"
      ]
     },
     "execution_count": 16,
     "metadata": {},
     "output_type": "execute_result"
    }
   ],
   "source": [
    "t2.permute(2,1,0).shape"
   ]
  },
  {
   "cell_type": "code",
   "execution_count": 17,
   "metadata": {},
   "outputs": [
    {
     "data": {
      "text/plain": [
       "torch.Size([5, 5])"
      ]
     },
     "execution_count": 17,
     "metadata": {},
     "output_type": "execute_result"
    }
   ],
   "source": [
    "\"\"\"  원소 갯수 유지하면서 3D ==> 2D  \"\"\"\n",
    "t4 = t3.squeeze()\n",
    "t4.shape"
   ]
  },
  {
   "cell_type": "code",
   "execution_count": 18,
   "metadata": {},
   "outputs": [
    {
     "data": {
      "text/plain": [
       "torch.Size([5, 5, 1])"
      ]
     },
     "execution_count": 18,
     "metadata": {},
     "output_type": "execute_result"
    }
   ],
   "source": [
    "\"\"\" 원소 갯수 유지하면서 2D => 3D  \"\"\"\n",
    "t4.unsqueeze(2).shape"
   ]
  },
  {
   "cell_type": "code",
   "execution_count": 19,
   "metadata": {},
   "outputs": [
    {
     "data": {
      "text/plain": [
       "tensor([[11, 16, 21, 26, 31],\n",
       "        [12, 17, 22, 27, 32],\n",
       "        [13, 18, 23, 28, 33],\n",
       "        [14, 19, 24, 29, 34],\n",
       "        [15, 20, 25, 30, 35]])"
      ]
     },
     "execution_count": 19,
     "metadata": {},
     "output_type": "execute_result"
    }
   ],
   "source": [
    "t4.squeeze_()"
   ]
  },
  {
   "cell_type": "code",
   "execution_count": 20,
   "metadata": {},
   "outputs": [
    {
     "data": {
      "text/plain": [
       "torch.Size([5, 5])"
      ]
     },
     "execution_count": 20,
     "metadata": {},
     "output_type": "execute_result"
    }
   ],
   "source": [
    "t4.shape"
   ]
  },
  {
   "cell_type": "code",
   "execution_count": null,
   "metadata": {},
   "outputs": [
    {
     "ename": "IndexError",
     "evalue": "Dimension out of range (expected to be in range of [-2, 1], but got 3)",
     "output_type": "error",
     "traceback": [
      "\u001b[1;31m---------------------------------------------------------------------------\u001b[0m",
      "\u001b[1;31mIndexError\u001b[0m                                Traceback (most recent call last)",
      "Cell \u001b[1;32mIn[23], line 1\u001b[0m\n\u001b[1;32m----> 1\u001b[0m \u001b[43mt4\u001b[49m\u001b[38;5;241;43m.\u001b[39;49m\u001b[43mtranspose\u001b[49m\u001b[43m(\u001b[49m\u001b[38;5;241;43m0\u001b[39;49m\u001b[43m,\u001b[49m\u001b[38;5;241;43m3\u001b[39;49m\u001b[43m)\u001b[49m\n",
      "\u001b[1;31mIndexError\u001b[0m: Dimension out of range (expected to be in range of [-2, 1], but got 3)"
     ]
    }
   ],
   "source": []
  }
 ],
 "metadata": {
  "kernelspec": {
   "display_name": "DL_TORCH",
   "language": "python",
   "name": "python3"
  },
  "language_info": {
   "codemirror_mode": {
    "name": "ipython",
    "version": 3
   },
   "file_extension": ".py",
   "mimetype": "text/x-python",
   "name": "python",
   "nbconvert_exporter": "python",
   "pygments_lexer": "ipython3",
   "version": "3.9.21"
  }
 },
 "nbformat": 4,
 "nbformat_minor": 2
}
