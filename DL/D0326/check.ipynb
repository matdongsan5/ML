{
 "cells": [
  {
   "cell_type": "code",
   "execution_count": 4,
   "metadata": {},
   "outputs": [],
   "source": [
    "import pandas as pd\n",
    "import matplotlib as plt\n",
    "import seaborn as sns\n",
    "import cv2\n",
    "import numpy as np\n",
    "import sklearn\n",
    "import torch"
   ]
  },
  {
   "cell_type": "code",
   "execution_count": 5,
   "metadata": {},
   "outputs": [
    {
     "name": "stdout",
     "output_type": "stream",
     "text": [
      "pandas      v.2.2.3\n",
      "matplotlib  v.3.9.2\n",
      "scikitlearn v.1.6.1\n",
      "seaborn     v.0.13.2\n",
      "opencv      v.4.11.0\n",
      "numpy       v.2.0.1\n",
      "torch       v.2.4.0\n"
     ]
    }
   ],
   "source": [
    "## 버전 출력\n",
    "print(f\"pandas      v.{pd.__version__}\")\n",
    "print(f\"matplotlib  v.{plt.__version__}\")\n",
    "print(f\"scikitlearn v.{sklearn.__version__}\")\n",
    "print(f\"seaborn     v.{sns.__version__}\")\n",
    "print(f\"opencv      v.{cv2.__version__}\")\n",
    "print(f\"numpy       v.{np.__version__}\")\n",
    "print(f\"torch       v.{torch.__version__}\")"
   ]
  },
  {
   "cell_type": "code",
   "execution_count": null,
   "metadata": {},
   "outputs": [],
   "source": []
  }
 ],
 "metadata": {
  "kernelspec": {
   "display_name": "DL_TORCH",
   "language": "python",
   "name": "python3"
  },
  "language_info": {
   "codemirror_mode": {
    "name": "ipython",
    "version": 3
   },
   "file_extension": ".py",
   "mimetype": "text/x-python",
   "name": "python",
   "nbconvert_exporter": "python",
   "pygments_lexer": "ipython3",
   "version": "3.9.21"
  }
 },
 "nbformat": 4,
 "nbformat_minor": 2
}
