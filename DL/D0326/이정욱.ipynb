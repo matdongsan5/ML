{
 "cells": [
  {
   "cell_type": "markdown",
   "metadata": {},
   "source": [
    "[[파이썬 코딩 테스트]]"
   ]
  },
  {
   "cell_type": "code",
   "execution_count": 10,
   "metadata": {},
   "outputs": [],
   "source": [
    "## 1번\n",
    "\"\"\" 화면상에서 검색어를 입력 받고 해당 검색어가 주어진 문자열(text)에 존재할 경\n",
    "우에 변경할 문자열을 입력 받아서, 변경 문자열로 모두 변경하는 코드를 작성하\n",
    "세요. 입력한 검색어가 원본 문자열에 없는 경우, “OO 단어는 원본 문자열에 없\n",
    "습니다.”를 출력하세요\n",
    " \"\"\"\n",
    "text = '''Example Page\n",
    "Welcome to the Example Page\n",
    "This is a sample paragraph with text.\n",
    "Visit us at Example.com'''"
   ]
  },
  {
   "cell_type": "code",
   "execution_count": 9,
   "metadata": {},
   "outputs": [
    {
     "name": "stdout",
     "output_type": "stream",
     "text": [
      "단어는 문자열에 존재합니다.\n",
      "Sample Page\n",
      "Welcome to the Sample Page\n",
      "This is a sample paragraph with text.\n",
      "Visit us at Sample.com\n"
     ]
    }
   ],
   "source": [
    "keyword = input('keyword')\n",
    "if keyword in text:\n",
    "    print(keyword + \"단어는 문자열에 존재합니다.\")\n",
    "    c_word = input('change2')\n",
    "    text = text.replace(keyword, c_word )\n",
    "    print( text)\n",
    "else:\n",
    "    print(keyword+ \"단어는 원본 문자열에 없습니다.\")"
   ]
  },
  {
   "cell_type": "code",
   "execution_count": 13,
   "metadata": {},
   "outputs": [],
   "source": [
    "\"\"\" \n",
    "2. 주어진 문자열을 이용하여 실행 결과처럼 출력되는 코드를 작성하세요.\n",
    "\n",
    "\"\"\"\n",
    "text = 'I am studying Python Programming'"
   ]
  },
  {
   "cell_type": "code",
   "execution_count": 12,
   "metadata": {},
   "outputs": [
    {
     "data": {
      "text/plain": [
       "' \\n단어 개수: 5\\n대문자로 변경: I AM STUDYING PYTHON PROGRAMMING\\n소문자로 변경: i am studying python programming\\n슬라이싱: Python '"
      ]
     },
     "execution_count": 12,
     "metadata": {},
     "output_type": "execute_result"
    }
   ],
   "source": [
    "\"\"\" \n",
    "단어 개수: 5\n",
    "대문자로 변경: I AM STUDYING PYTHON PROGRAMMING\n",
    "소문자로 변경: i am studying python programming\n",
    "슬라이싱: Python \"\"\""
   ]
  },
  {
   "cell_type": "code",
   "execution_count": 17,
   "metadata": {},
   "outputs": [
    {
     "name": "stdout",
     "output_type": "stream",
     "text": [
      "단어 개수: 5\n",
      "대문자로 변경: I AM STUDYING PYTHON PROGRAMMING\n",
      "소문자로 변경: i am studying python programming\n",
      "슬라이싱 :  Python\n"
     ]
    }
   ],
   "source": [
    "print(f\"단어 개수: {len(text.split())}\")\n",
    "print(f\"대문자로 변경: {text.upper()}\")\n",
    "print(f\"소문자로 변경: {text.lower()}\")\n",
    "print(f\"슬라이싱 : {text[13:20]}\")\n"
   ]
  },
  {
   "cell_type": "code",
   "execution_count": 18,
   "metadata": {},
   "outputs": [
    {
     "data": {
      "text/plain": [
       "' \\n실행 결과\\n1 2 3\\n4 5 6\\n7 8 9\\n전체합: 45 '"
      ]
     },
     "execution_count": 18,
     "metadata": {},
     "output_type": "execute_result"
    }
   ],
   "source": [
    "\"\"\" 3. 2차원 리스트가 아래와 같이 주어졌을 때, 2차원 리스트의 내용을 실행 결과처럼\n",
    "출력을 하고 반복문을 활용하여 모든 원소의 합을 계산해서 출력하는 코드를 작\n",
    "성하세요. \"\"\"\n",
    "matrix = [[1, 2, 3],\n",
    "          [4, 5, 6],\n",
    "          [7, 8, 9]]\n",
    "\"\"\" \n",
    "실행 결과\n",
    "1 2 3\n",
    "4 5 6\n",
    "7 8 9\n",
    "전체합: 45 \"\"\""
   ]
  },
  {
   "cell_type": "code",
   "execution_count": 21,
   "metadata": {},
   "outputs": [
    {
     "name": "stdout",
     "output_type": "stream",
     "text": [
      "[1, 2, 3]\n",
      "[4, 5, 6]\n",
      "[7, 8, 9]\n",
      "전체합 45\n"
     ]
    }
   ],
   "source": [
    "total = 0\n",
    "for i in matrix:\n",
    "    total+= sum(i)\n",
    "print(matrix[0])\n",
    "print(matrix[1])\n",
    "print(matrix[2])\n",
    "print(\"전체합\", total)\n"
   ]
  },
  {
   "cell_type": "code",
   "execution_count": 22,
   "metadata": {},
   "outputs": [],
   "source": [
    "\"\"\" 4. 1~50 사이의 숫자를 랜덤하게 10개를 생성해서 리스트에 저장한 다음 리스트의\n",
    "원소를 내림차순으로 정렬하고, 숫자의 값만큼 ‘*’ 기호를 출력하는 코드를 작성하\n",
    "세요. \"\"\"\n",
    "import random\n",
    "value = random.randint(1, 50)"
   ]
  },
  {
   "cell_type": "code",
   "execution_count": 31,
   "metadata": {},
   "outputs": [
    {
     "name": "stdout",
     "output_type": "stream",
     "text": [
      "랜덤리스트 [6, 42, 37, 49, 35, 47, 43, 24, 23, 8]\n",
      "정렬리스트 [49, 47, 43, 42, 37, 35, 24, 23, 8, 6]\n",
      "*************************************************\n",
      "***********************************************\n",
      "*******************************************\n",
      "******************************************\n",
      "*************************************\n",
      "***********************************\n",
      "************************\n",
      "***********************\n",
      "********\n",
      "******\n"
     ]
    }
   ],
   "source": [
    "numlist =[]\n",
    "for i in range(10):\n",
    "    numlist.append(random.randint(1, 50))\n",
    "print(\"랜덤리스트\", numlist)\n",
    "numlist.sort(reverse=True)\n",
    "print(\"정렬리스트\", numlist)\n",
    "print(*list('*'*x for x in numlist), sep='\\n')\n"
   ]
  },
  {
   "cell_type": "code",
   "execution_count": 32,
   "metadata": {},
   "outputs": [
    {
     "data": {
      "text/plain": [
       "' \\n(P: 1) (y: 1) (t: 1) (h: 3) (o: 3) (n: 4) (i: 3) (s: 2) (a: 5) (g: 6) (l: 4) (e: 6) (v: 1) (r:\\n4) (p: 3) (u: 2) (m: 2) '"
      ]
     },
     "execution_count": 32,
     "metadata": {},
     "output_type": "execute_result"
    }
   ],
   "source": [
    "\"\"\" 5. 딕셔너리를 활용하여 주어진 문자열에서 알파벳의 개수를 계산하고, 각 알파벳의\n",
    "개수를 아래와 같이 출력하는 코드를 작성하세요. str.isalpha() 함수 사용 \"\"\"\n",
    "text = 'Python is a high-level, general-purpose programming language.'\n",
    "\"\"\" \n",
    "(P: 1) (y: 1) (t: 1) (h: 3) (o: 3) (n: 4) (i: 3) (s: 2) (a: 5) (g: 6) (l: 4) (e: 6) (v: 1) (r:\n",
    "4) (p: 3) (u: 2) (m: 2) \"\"\"\n"
   ]
  },
  {
   "cell_type": "code",
   "execution_count": 38,
   "metadata": {},
   "outputs": [
    {
     "name": "stdout",
     "output_type": "stream",
     "text": [
      "{'P': 1, 'y': 1, 't': 1, 'h': 3, 'o': 3, 'n': 4, 'i': 3, 's': 2, 'a': 5, 'g': 6, 'l': 4, 'e': 6, 'v': 1, 'r': 4, 'p': 3, 'u': 2, 'm': 2}\n"
     ]
    }
   ],
   "source": [
    "alpha_dict = {i:0 for i in text if i.isalpha()}\n",
    "for i in text:\n",
    "    if i.isalpha():\n",
    "        count= 1\n",
    "        alpha_dict[i] +=1\n",
    "    else:\n",
    "        pass\n",
    "print(alpha_dict)"
   ]
  },
  {
   "cell_type": "code",
   "execution_count": 39,
   "metadata": {},
   "outputs": [
    {
     "data": {
      "text/plain": [
       "' 6. 아래와 같은 실행 결과를 도출하는 [가위-바위-보] 코드를 작성하세요.\\n실행 결과 #1 – 파랑색: 사용자 입력\\n게임을 시작 합니다^^\\n[입력] 가위, 바위, 보 중 1개 선택( 종료 : X 입력) : 가위\\n[출력] 당신의 선택 : 가위 컴퓨터의 선택 : 바위\\n[결과] 컴퓨터 승 !!\\n[입력] 가위, 바위, 보 중 1개 선택( 종료 : X 입력) : 가위\\n[출력] 사용자 선택 : 가위 컴퓨터 선택 : 보\\n[결과] 사용자 승 !!\\n[입력] 가위, 바위, 보 중 1개 선택( 종료 : X 입력) : 바위\\n[출력] 사용자 선택 : 바위 컴퓨터 선택 : 가위\\n[결과] 사용자 승 !!\\n[입력] 가위, 바위, 보 중 1개 선택( 종료 : X 입력) : X\\n[출력] 게임을 종료합니다\\n\\n실행 결과 #2 – 파랑색: 사용자 입력\\n게임을 시작 합니다^^\\n입력] 가위, 바위, 보 중 1개 선택( 종료 : X 입력) : X\\n[출력] 게임을 종료합니다. '"
      ]
     },
     "execution_count": 39,
     "metadata": {},
     "output_type": "execute_result"
    }
   ],
   "source": [
    "\"\"\" 6. 아래와 같은 실행 결과를 도출하는 [가위-바위-보] 코드를 작성하세요.\n",
    "실행 결과 #1 – 파랑색: 사용자 입력\n",
    "게임을 시작 합니다^^\n",
    "[입력] 가위, 바위, 보 중 1개 선택( 종료 : X 입력) : 가위\n",
    "[출력] 당신의 선택 : 가위 컴퓨터의 선택 : 바위\n",
    "[결과] 컴퓨터 승 !!\n",
    "[입력] 가위, 바위, 보 중 1개 선택( 종료 : X 입력) : 가위\n",
    "[출력] 사용자 선택 : 가위 컴퓨터 선택 : 보\n",
    "[결과] 사용자 승 !!\n",
    "[입력] 가위, 바위, 보 중 1개 선택( 종료 : X 입력) : 바위\n",
    "[출력] 사용자 선택 : 바위 컴퓨터 선택 : 가위\n",
    "[결과] 사용자 승 !!\n",
    "[입력] 가위, 바위, 보 중 1개 선택( 종료 : X 입력) : X\n",
    "[출력] 게임을 종료합니다\n",
    "\n",
    "실행 결과 #2 – 파랑색: 사용자 입력\n",
    "게임을 시작 합니다^^\n",
    "입력] 가위, 바위, 보 중 1개 선택( 종료 : X 입력) : X\n",
    "[출력] 게임을 종료합니다. \"\"\""
   ]
  },
  {
   "cell_type": "code",
   "execution_count": 101,
   "metadata": {},
   "outputs": [
    {
     "name": "stdout",
     "output_type": "stream",
     "text": [
      "비김\n",
      "비김\n",
      "[결과] 사용자 승 !!\n"
     ]
    }
   ],
   "source": [
    "# 1 = 묵 2=찌 3= 빠\n",
    "trigger = 0\n",
    "while trigger==0:\n",
    "    com = random.randint(1,3)\n",
    "    player = input('[입력] 가위, 바위, 보 중 1개 선택( 종료 : X 입력)')\n",
    "    if player == 'X':\n",
    "        print('[출력] 게임을 종료합니다.' )\n",
    "        trigger=1\n",
    "    elif int(player) == com:\n",
    "        trigger = 0\n",
    "        print('비김')\n",
    "        continue\n",
    "    elif int(player) < com or (int(player)== 3 & com == 1):\n",
    "        print('[결과] 사용자 승 !!')\n",
    "        trigger=1\n",
    "    else:\n",
    "        print('[결과] 컴퓨터 승 !!')\n",
    "        trigger=1\n",
    "        \n",
    "    \n",
    "    \n",
    "    \n"
   ]
  },
  {
   "cell_type": "code",
   "execution_count": 47,
   "metadata": {},
   "outputs": [
    {
     "data": {
      "text/plain": [
       "' 8.입력된 문자열에서 숫자만 출력하는 코드를 작성 하세요.\\n실행 결과 #1 – 파랑색: 사용자 입력\\n\\n[입력] 메시지 입력 : Phone 010-2121-9876\\n[출력] 문자열 내 숫자 : 0 1 0 2 1 2 1 9 8 7 6\\n\\n[입력] 메시지 입력 : Hello\\n[출력] 문자열 내 숫자 : 없음 '"
      ]
     },
     "execution_count": 47,
     "metadata": {},
     "output_type": "execute_result"
    }
   ],
   "source": [
    "\"\"\" 8.입력된 문자열에서 숫자만 출력하는 코드를 작성 하세요.\n",
    "실행 결과 #1 – 파랑색: 사용자 입력\n",
    "\n",
    "[입력] 메시지 입력 : Phone 010-2121-9876\n",
    "[출력] 문자열 내 숫자 : 0 1 0 2 1 2 1 9 8 7 6\n",
    "\n",
    "[입력] 메시지 입력 : Hello\n",
    "[출력] 문자열 내 숫자 : 없음 \"\"\""
   ]
  },
  {
   "cell_type": "code",
   "execution_count": 49,
   "metadata": {},
   "outputs": [
    {
     "name": "stdout",
     "output_type": "stream",
     "text": [
      "[출력] 문자열 내 숫자 : 없음\n"
     ]
    }
   ],
   "source": [
    "onlynum = input('[입력] 메시지 입력 : ')\n",
    "result = []\n",
    "for i in onlynum:\n",
    "    if i.isnumeric():\n",
    "        result.append(i)\n",
    "    else:\n",
    "        pass\n",
    "if len(result) == 0:\n",
    "    print('[출력] 문자열 내 숫자 : 없음' )\n",
    "else:\n",
    "    print('[출력] 문자열 내 숫자 : ',*result)"
   ]
  },
  {
   "cell_type": "code",
   "execution_count": null,
   "metadata": {},
   "outputs": [],
   "source": [
    "9번 패스"
   ]
  },
  {
   "cell_type": "code",
   "execution_count": 50,
   "metadata": {},
   "outputs": [
    {
     "data": {
      "text/plain": [
       "' 10. List Comprehension 문법을 사용 구구단 3단을 아래와 같이 출력 하세요.\\n[출력] 3단\\n3*1=03 3*2=06 3*3=09 3*4=12 3*5=15\\n3*6=18 3*7=21 3*8=24 3*9=27 '"
      ]
     },
     "execution_count": 50,
     "metadata": {},
     "output_type": "execute_result"
    }
   ],
   "source": [
    "\"\"\" 10. List Comprehension 문법을 사용 구구단 3단을 아래와 같이 출력 하세요.\n",
    "[출력] 3단\n",
    "3*1=03 3*2=06 3*3=09 3*4=12 3*5=15\n",
    "3*6=18 3*7=21 3*8=24 3*9=27 \"\"\""
   ]
  },
  {
   "cell_type": "code",
   "execution_count": null,
   "metadata": {},
   "outputs": [
    {
     "name": "stdout",
     "output_type": "stream",
     "text": [
      "[출력] 3단\n",
      "3*1= 03\t3*2= 06\t3*3= 09\t3*4= 12\t3*5= 15\t3*6= 18\t3*7= 21\t3*8= 24\t3*9= 27\n",
      "3*1= 03 3*2= 06 3*3= 09 3*4= 12 3*6= 18 3*7= 21 3*8= 24 3*9= 27\n"
     ]
    }
   ],
   "source": [
    "print('[출력] 3단')\n",
    "print(*list(\"3*{0}= {1:02d}\".format(i, 3*i) for i in range(1,10)), sep='\\t')\n",
    "d3 = list(\"3*{0}= {1:02d}\".format(i, 3*i) for i in range(1,10))\n",
    "print(' '.join(x for x in d3 if d3.index(x)!=4))\n"
   ]
  }
 ],
 "metadata": {
  "kernelspec": {
   "display_name": "DL_TORCH",
   "language": "python",
   "name": "python3"
  },
  "language_info": {
   "codemirror_mode": {
    "name": "ipython",
    "version": 3
   },
   "file_extension": ".py",
   "mimetype": "text/x-python",
   "name": "python",
   "nbconvert_exporter": "python",
   "pygments_lexer": "ipython3",
   "version": "3.9.21"
  }
 },
 "nbformat": 4,
 "nbformat_minor": 2
}
