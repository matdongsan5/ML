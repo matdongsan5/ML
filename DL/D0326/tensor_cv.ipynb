{
 "cells": [
  {
   "cell_type": "markdown",
   "metadata": {},
   "source": [
    "### [ Image Data와 Tensor ]"
   ]
  },
  {
   "cell_type": "code",
   "execution_count": 2,
   "metadata": {},
   "outputs": [],
   "source": [
    "### 모듈 로딩\n",
    "import torch\n",
    "import numpy as np\n",
    "import cv2\n"
   ]
  },
  {
   "cell_type": "code",
   "execution_count": 3,
   "metadata": {},
   "outputs": [],
   "source": [
    "IMG_FILE = '../_image/test1.png'"
   ]
  },
  {
   "cell_type": "code",
   "execution_count": 10,
   "metadata": {},
   "outputs": [],
   "source": [
    "cImg = cv2.imread(IMG_FILE)\n",
    "gImg = cv2.imread(IMG_FILE, cv2.IMREAD_GRAYSCALE)\n",
    "\n",
    "cImg.resize(10,10)\n",
    "gImg.resize(10,10)"
   ]
  },
  {
   "cell_type": "code",
   "execution_count": 11,
   "metadata": {},
   "outputs": [
    {
     "name": "stdout",
     "output_type": "stream",
     "text": [
      " cImg => (10, 10), 2\n",
      " gImg => (10, 10), 2\n"
     ]
    }
   ],
   "source": [
    "print(f\" cImg => {cImg.shape}, {cImg.ndim}\")\n",
    "print(f\" gImg => {gImg.shape}, {gImg.ndim}\")"
   ]
  },
  {
   "cell_type": "code",
   "execution_count": 15,
   "metadata": {},
   "outputs": [
    {
     "data": {
      "text/plain": [
       "torch.Size([10, 10])"
      ]
     },
     "execution_count": 15,
     "metadata": {},
     "output_type": "execute_result"
    }
   ],
   "source": [
    "\"\"\"  2차원 => 3차원\n",
    "    채널 정보 추가, 원소 갯수 유지. 변경x\n",
    "\"\"\"\n",
    "gT = torch.Tensor(gImg)\n",
    "gT.shape"
   ]
  },
  {
   "cell_type": "code",
   "execution_count": 18,
   "metadata": {},
   "outputs": [
    {
     "data": {
      "text/plain": [
       "tensor([[[255., 255., 255., 255., 255., 255., 255., 255., 255., 255.],\n",
       "         [255., 255., 255., 255., 255., 255., 255., 255., 255., 255.],\n",
       "         [255., 255., 255., 255., 255., 255., 255., 255., 255., 255.],\n",
       "         [255., 255., 255., 255., 255., 255., 255., 255., 255., 255.],\n",
       "         [255., 255., 255., 255., 255., 255., 255., 255., 255., 255.],\n",
       "         [255., 255., 255., 255., 255., 255., 255., 255., 255., 255.],\n",
       "         [255., 255., 255., 255., 255., 255., 255., 255., 255., 255.],\n",
       "         [255., 255., 255., 255., 255., 255., 255., 255., 255., 255.],\n",
       "         [255., 255., 255., 255., 255., 255., 255., 255., 255., 255.],\n",
       "         [255., 255., 255., 255., 255., 255., 255., 255., 255., 255.]]])"
      ]
     },
     "execution_count": 18,
     "metadata": {},
     "output_type": "execute_result"
    }
   ],
   "source": [
    "gT.unsqueeze_(0)"
   ]
  },
  {
   "cell_type": "code",
   "execution_count": 20,
   "metadata": {},
   "outputs": [
    {
     "data": {
      "text/plain": [
       "torch.Size([1, 10, 10])"
      ]
     },
     "execution_count": 20,
     "metadata": {},
     "output_type": "execute_result"
    }
   ],
   "source": [
    "gT.shape"
   ]
  },
  {
   "cell_type": "code",
   "execution_count": 21,
   "metadata": {},
   "outputs": [
    {
     "data": {
      "text/plain": [
       "tensor([[255., 255., 255., 255., 255., 255., 255., 255., 255., 255.],\n",
       "        [255., 255., 255., 255., 255., 255., 255., 255., 255., 255.],\n",
       "        [255., 255., 255., 255., 255., 255., 255., 255., 255., 255.],\n",
       "        [255., 255., 255., 255., 255., 255., 255., 255., 255., 255.],\n",
       "        [255., 255., 255., 255., 255., 255., 255., 255., 255., 255.],\n",
       "        [255., 255., 255., 255., 255., 255., 255., 255., 255., 255.],\n",
       "        [255., 255., 255., 255., 255., 255., 255., 255., 255., 255.],\n",
       "        [255., 255., 255., 255., 255., 255., 255., 255., 255., 255.],\n",
       "        [255., 255., 255., 255., 255., 255., 255., 255., 255., 255.],\n",
       "        [255., 255., 255., 255., 255., 255., 255., 255., 255., 255.]])"
      ]
     },
     "execution_count": 21,
     "metadata": {},
     "output_type": "execute_result"
    }
   ],
   "source": [
    "## 3d=> 2d  원소 개수 유지\n",
    "gT.squeeze_()"
   ]
  },
  {
   "cell_type": "code",
   "execution_count": 22,
   "metadata": {},
   "outputs": [],
   "source": [
    "cImg = cv2.imread(IMG_FILE)\n",
    "gImg = cv2.imread(IMG_FILE, cv2.IMREAD_GRAYSCALE)"
   ]
  },
  {
   "cell_type": "code",
   "execution_count": 24,
   "metadata": {},
   "outputs": [
    {
     "data": {
      "text/plain": [
       "(312, 337, 3)"
      ]
     },
     "execution_count": 24,
     "metadata": {},
     "output_type": "execute_result"
    }
   ],
   "source": [
    "cImg.shape"
   ]
  },
  {
   "cell_type": "markdown",
   "metadata": {},
   "source": []
  },
  {
   "cell_type": "code",
   "execution_count": 30,
   "metadata": {},
   "outputs": [
    {
     "data": {
      "text/plain": [
       "torch.Size([312, 337, 3])"
      ]
     },
     "execution_count": 30,
     "metadata": {},
     "output_type": "execute_result"
    }
   ],
   "source": [
    "ciT = torch.tensor(cImg)\n",
    "ciT.shape"
   ]
  },
  {
   "cell_type": "code",
   "execution_count": 36,
   "metadata": {},
   "outputs": [
    {
     "data": {
      "text/plain": [
       "torch.Size([3, 337, 312])"
      ]
     },
     "execution_count": 36,
     "metadata": {},
     "output_type": "execute_result"
    }
   ],
   "source": [
    "ciT.transpose(0,2).shape"
   ]
  },
  {
   "cell_type": "code",
   "execution_count": 35,
   "metadata": {},
   "outputs": [
    {
     "data": {
      "text/plain": [
       "torch.Size([3, 312, 337])"
      ]
     },
     "execution_count": 35,
     "metadata": {},
     "output_type": "execute_result"
    }
   ],
   "source": [
    "ciT.permute(2,0,1).shape"
   ]
  },
  {
   "cell_type": "code",
   "execution_count": null,
   "metadata": {},
   "outputs": [],
   "source": [
    "\n"
   ]
  }
 ],
 "metadata": {
  "kernelspec": {
   "display_name": "DL_TORCH",
   "language": "python",
   "name": "python3"
  },
  "language_info": {
   "codemirror_mode": {
    "name": "ipython",
    "version": 3
   },
   "file_extension": ".py",
   "mimetype": "text/x-python",
   "name": "python",
   "nbconvert_exporter": "python",
   "pygments_lexer": "ipython3",
   "version": "3.9.21"
  }
 },
 "nbformat": 4,
 "nbformat_minor": 2
}
