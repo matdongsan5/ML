{
 "cells": [
  {
   "cell_type": "markdown",
   "metadata": {},
   "source": [
    "##### [ bytes 자료형 ]\n",
    "- 바이너리 데이터 관련 자료형\n",
    "- 일반데이터와 구분하기 위해 식별자가 있음\n",
    "- 식별자 : b'x\\XXX', b'str'\n"
   ]
  },
  {
   "cell_type": "markdown",
   "metadata": {},
   "source": [
    "data => bytes 변환"
   ]
  },
  {
   "cell_type": "code",
   "execution_count": 1,
   "metadata": {},
   "outputs": [],
   "source": [
    "int_datas = [17, 19]\n",
    "int_num = 17\n",
    "str_data = \"AB\""
   ]
  },
  {
   "cell_type": "code",
   "execution_count": 3,
   "metadata": {},
   "outputs": [
    {
     "data": {
      "text/plain": [
       "b'\\x11\\x13'"
      ]
     },
     "execution_count": 3,
     "metadata": {},
     "output_type": "execute_result"
    }
   ],
   "source": [
    "# bytes 생성자\n",
    "bytes(int_datas)"
   ]
  },
  {
   "cell_type": "code",
   "execution_count": 11,
   "metadata": {},
   "outputs": [
    {
     "data": {
      "text/plain": [
       "b'\\x11 !0'"
      ]
     },
     "execution_count": 11,
     "metadata": {},
     "output_type": "execute_result"
    }
   ],
   "source": [
    "bytes([17, 32, 33, 48])"
   ]
  },
  {
   "cell_type": "code",
   "execution_count": 24,
   "metadata": {},
   "outputs": [
    {
     "data": {
      "text/plain": [
       "b'B'"
      ]
     },
     "execution_count": 24,
     "metadata": {},
     "output_type": "execute_result"
    }
   ],
   "source": [
    "bytes([66])"
   ]
  },
  {
   "cell_type": "code",
   "execution_count": 35,
   "metadata": {},
   "outputs": [
    {
     "name": "stdout",
     "output_type": "stream",
     "text": [
      "[1byte, little, unsigned] b'\\x11'\n",
      "[2byte, little, unsigned] b'\\x11\\x00'\n",
      "[2byte, little,   signed] b'\\x11\\x00'\n",
      "[1byte, big, unsigned] b'\\x11'\n",
      "[2byte, big, unsigned] b'\\x00\\x11'\n",
      "[2byte, big,   signed] b'\\x00\\x11'\n"
     ]
    }
   ],
   "source": [
    "# to_bytes() 메서드\n",
    "print('[1byte, little, unsigned]', int_num.to_bytes(length=1, byteorder='little'))\n",
    "print('[2byte, little, unsigned]', int_num.to_bytes(length=2, byteorder='little'))\n",
    "print('[2byte, little,   signed]', int_num.to_bytes(length=2, byteorder='little', signed=True))\n",
    "\n",
    "print('[1byte, big, unsigned]', int_num.to_bytes(1, byteorder='big'))\n",
    "print('[2byte, big, unsigned]', int_num.to_bytes(2, byteorder='big'))\n",
    "print('[2byte, big,   signed]', int_num.to_bytes(2, byteorder='big', signed=True))\n"
   ]
  },
  {
   "cell_type": "markdown",
   "metadata": {},
   "source": [
    "str ==> bytes 변환"
   ]
  },
  {
   "cell_type": "code",
   "execution_count": 39,
   "metadata": {},
   "outputs": [
    {
     "name": "stdout",
     "output_type": "stream",
     "text": [
      "<class 'bytes'> b'AB'\n"
     ]
    }
   ],
   "source": [
    "## 표기방식 'b'글자\n",
    "str_byte = bytes(str_data, encoding='utf-8')\n",
    "print(type(str_byte), str_byte)"
   ]
  },
  {
   "cell_type": "code",
   "execution_count": 37,
   "metadata": {},
   "outputs": [
    {
     "data": {
      "text/plain": [
       "b'AB'"
      ]
     },
     "execution_count": 37,
     "metadata": {},
     "output_type": "execute_result"
    }
   ],
   "source": [
    "str_data.encode()"
   ]
  },
  {
   "cell_type": "markdown",
   "metadata": {},
   "source": [
    "bytes ==> 데이터 변환"
   ]
  },
  {
   "cell_type": "markdown",
   "metadata": {},
   "source": [
    "[1] bytes ==> int 변환"
   ]
  },
  {
   "cell_type": "code",
   "execution_count": 40,
   "metadata": {},
   "outputs": [
    {
     "data": {
      "text/plain": [
       "17"
      ]
     },
     "execution_count": 40,
     "metadata": {},
     "output_type": "execute_result"
    }
   ],
   "source": [
    "int_byte = b'\\x11'\n",
    "int.from_bytes(int_byte, byteorder='little')"
   ]
  },
  {
   "cell_type": "code",
   "execution_count": 41,
   "metadata": {},
   "outputs": [
    {
     "data": {
      "text/plain": [
       "17"
      ]
     },
     "execution_count": 41,
     "metadata": {},
     "output_type": "execute_result"
    }
   ],
   "source": [
    "int_byte = b'\\x11\\x00'\n",
    "int.from_bytes(int_byte, byteorder='little')"
   ]
  },
  {
   "cell_type": "markdown",
   "metadata": {},
   "source": [
    "bytes ==> str변환"
   ]
  },
  {
   "cell_type": "code",
   "execution_count": null,
   "metadata": {},
   "outputs": [
    {
     "data": {
      "text/plain": [
       "'A'"
      ]
     },
     "execution_count": 42,
     "metadata": {},
     "output_type": "execute_result"
    }
   ],
   "source": [
    "# byte.decode()\n",
    "str_byte = b'A'\n",
    "str_byte.decode()"
   ]
  },
  {
   "cell_type": "code",
   "execution_count": 44,
   "metadata": {},
   "outputs": [
    {
     "data": {
      "text/plain": [
       "'A'"
      ]
     },
     "execution_count": 44,
     "metadata": {},
     "output_type": "execute_result"
    }
   ],
   "source": [
    "# str(byte,encoding='')\n",
    "str_byte = b'A'\n",
    "str(str_byte, encoding='utf-8')\n"
   ]
  },
  {
   "cell_type": "code",
   "execution_count": null,
   "metadata": {},
   "outputs": [],
   "source": []
  }
 ],
 "metadata": {
  "kernelspec": {
   "display_name": "ML_PY39",
   "language": "python",
   "name": "python3"
  },
  "language_info": {
   "codemirror_mode": {
    "name": "ipython",
    "version": 3
   },
   "file_extension": ".py",
   "mimetype": "text/x-python",
   "name": "python",
   "nbconvert_exporter": "python",
   "pygments_lexer": "ipython3",
   "version": "3.9.21"
  }
 },
 "nbformat": 4,
 "nbformat_minor": 2
}
