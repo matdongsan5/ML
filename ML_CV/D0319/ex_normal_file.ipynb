{
 "cells": [
  {
   "cell_type": "markdown",
   "metadata": {},
   "source": [
    "#### [ 파일 입출력 - 일반 파일 ]\n",
    "- 텍스트 파일 읽기/쓰기\n",
    "- 바이너리 파일 읽기/쓰기\n",
    "- 내장함수 : open(파일경로+파일명)\n",
    "\n"
   ]
  },
  {
   "cell_type": "markdown",
   "metadata": {},
   "source": [
    "[1] 텍스트 파일 쓰기?"
   ]
  },
  {
   "cell_type": "code",
   "execution_count": 1,
   "metadata": {},
   "outputs": [],
   "source": [
    "text = \"life is too long, living entire life\"\n",
    "\n",
    "with open('../_data/data.txt', 'wt') as f:\n",
    "        f.write(text)\n"
   ]
  },
  {
   "cell_type": "code",
   "execution_count": 2,
   "metadata": {},
   "outputs": [
    {
     "name": "stdout",
     "output_type": "stream",
     "text": [
      "life is too long, living entire life\n"
     ]
    }
   ],
   "source": [
    "with open('../_data/data.txt', 'r') as f:\n",
    "    a = f.read()\n",
    "    print(a)"
   ]
  },
  {
   "cell_type": "code",
   "execution_count": 4,
   "metadata": {},
   "outputs": [],
   "source": [
    "file_Path = '../_data/data.txt'"
   ]
  },
  {
   "cell_type": "code",
   "execution_count": null,
   "metadata": {},
   "outputs": [
    {
     "name": "stdout",
     "output_type": "stream",
     "text": [
      "life is too long, living entire life\n"
     ]
    }
   ],
   "source": [
    "myfile = open(file_Path, mode='r')\n",
    "txt = myfile.read()\n",
    "print(txt)\n",
    "myfile.close()"
   ]
  },
  {
   "cell_type": "code",
   "execution_count": null,
   "metadata": {},
   "outputs": [],
   "source": [
    "## mode 'a'  내용 추가  \n",
    "text2 = 'it is so hard, and will'\n",
    "myfile = open(file_Path, mode='a')\n",
    "myfile.write(text2)\n",
    "myfile.close()\n"
   ]
  },
  {
   "cell_type": "code",
   "execution_count": 7,
   "metadata": {},
   "outputs": [
    {
     "name": "stdout",
     "output_type": "stream",
     "text": [
      "life is too long, living entire lifeit is so hard, and will\n"
     ]
    }
   ],
   "source": [
    "myfile = open(file_Path, mode='r')\n",
    "txt = myfile.read()\n",
    "print(txt)\n",
    "myfile.close()"
   ]
  },
  {
   "cell_type": "code",
   "execution_count": null,
   "metadata": {},
   "outputs": [],
   "source": []
  },
  {
   "cell_type": "code",
   "execution_count": 9,
   "metadata": {},
   "outputs": [],
   "source": [
    "text = \"GP에 한동훈이 와서 강연을 했다.\"\n",
    "\n",
    "with open('../_data/data2.txt', 'wt') as f:\n",
    "        f.write(text)\n"
   ]
  },
  {
   "cell_type": "code",
   "execution_count": 10,
   "metadata": {},
   "outputs": [
    {
     "name": "stdout",
     "output_type": "stream",
     "text": [
      "GP에 한동훈이 와서 강연을 했다.\n"
     ]
    }
   ],
   "source": [
    "with open('../_data/data2.txt', 'r') as f:\n",
    "    a = f.read()\n",
    "    print(a)"
   ]
  },
  {
   "cell_type": "code",
   "execution_count": 16,
   "metadata": {},
   "outputs": [
    {
     "name": "stdout",
     "output_type": "stream",
     "text": [
      "Good Luck \n",
      " 2025\n",
      " 행복한 오늘\n",
      "\n"
     ]
    }
   ],
   "source": [
    "## mode 'a' : 파일 없으면 생성 후 추가\n",
    "\n",
    "with open('../_data/normal102.txt', 'a') as f:\n",
    "    f.write(\"Good Luck \\n 2025\\n 행복한 오늘\\n\")\n",
    "with open('../_data/normal102.txt', 'r') as f:\n",
    "    a = f.read()\n",
    "    print(a)"
   ]
  },
  {
   "cell_type": "code",
   "execution_count": 18,
   "metadata": {},
   "outputs": [
    {
     "name": "stdout",
     "output_type": "stream",
     "text": [
      "error\n"
     ]
    }
   ],
   "source": [
    "## file 있으면 error\n",
    "try: \n",
    "    with open('../_data/normal102.txt', 'x') as f:\n",
    "        f.write(\"Good Luck \\n 2025\\n 행복한 오늘\\n\")\n",
    "    with open('../_data/normal102.txt', 'r') as f:\n",
    "        a = f.read()\n",
    "        print(a)\n",
    "except:\n",
    "    print('error')\n",
    "    pass"
   ]
  },
  {
   "cell_type": "code",
   "execution_count": 20,
   "metadata": {},
   "outputs": [
    {
     "name": "stdout",
     "output_type": "stream",
     "text": [
      "Good Luck \n",
      " 2025\n",
      " 행복한 오늘\n",
      "Good Luck \n",
      " 2025\n",
      " 행복한 오늘\n",
      "Good Luck \n",
      " 2025\n",
      " 행복한 오늘\n",
      "\n"
     ]
    }
   ],
   "source": [
    "## mode 'a' : 파일 없으면 생성 후 추가\n",
    "\n",
    "with open('../_data/normal102.txt', 'a') as f:\n",
    "    f.writelines([\"Good Luck \\n 2025\\n 행복한 오늘\\n\", \"Good Luck \\n 2025\\n 행복한 오늘\\n\"])\n",
    "with open('../_data/normal102.txt', 'r') as f:\n",
    "    a = f.read()\n",
    "    print(a)"
   ]
  },
  {
   "cell_type": "code",
   "execution_count": 25,
   "metadata": {},
   "outputs": [
    {
     "name": "stdout",
     "output_type": "stream",
     "text": [
      "Good Luck \n",
      "\n",
      " 2025\n",
      "\n",
      " 행복한 오늘\n",
      "\n",
      "Good Luck \n",
      "\n",
      " 2025\n",
      "\n"
     ]
    }
   ],
   "source": [
    "with open('../_data/normal102.txt', 'r') as f:\n",
    "    for i in range(5):\n",
    "        a = f.readline()\n",
    "        print(a)"
   ]
  },
  {
   "cell_type": "code",
   "execution_count": null,
   "metadata": {},
   "outputs": [
    {
     "name": "stdout",
     "output_type": "stream",
     "text": [
      "['Good Luck \\n', ' 2025\\n', ' 행복한 오늘\\n', 'Good Luck \\n', ' 2025\\n', ' 행복한 오늘\\n', 'Good Luck \\n', ' 2025\\n', ' 행복한 오늘\\n']\n"
     ]
    }
   ],
   "source": [
    "with open('../_data/normal102.txt', 'r') as f:\n",
    "    a = f.readlines()\n",
    "    print(a)"
   ]
  },
  {
   "cell_type": "code",
   "execution_count": 22,
   "metadata": {},
   "outputs": [
    {
     "name": "stdout",
     "output_type": "stream",
     "text": [
      "['Good Luck ', ' 2025', ' 행복한 오늘', 'Good Luck ', ' 2025', ' 행복한 오늘', 'Good Luck ', ' 2025', ' 행복한 오늘', '']\n"
     ]
    }
   ],
   "source": [
    "with open('../_data/normal102.txt', 'r') as f:\n",
    "    a = f.read().split('\\n')\n",
    "    print(a)"
   ]
  },
  {
   "cell_type": "markdown",
   "metadata": {},
   "source": [
    "[ 파일 복사 기능]\n"
   ]
  },
  {
   "cell_type": "code",
   "execution_count": 34,
   "metadata": {},
   "outputs": [],
   "source": [
    "# with open('../_data/normal102.txt', 'r') as f:\n",
    "#     a = f.readlines()\n",
    "#     with open('../_data/copy_normal102.txt', 'w') as s:\n",
    "#         for i in a:\n",
    "#             s.write(i)\n",
    "with open('../_data/normal102.txt', 'r') as f:\n",
    "    with open('../_data/copy_normal102.txt', 'w') as s:\n",
    "        s.write(f.read())"
   ]
  },
  {
   "cell_type": "code",
   "execution_count": 35,
   "metadata": {},
   "outputs": [
    {
     "name": "stdout",
     "output_type": "stream",
     "text": [
      "Good Luck \n",
      " 2025\n",
      " 행복한 오늘\n",
      "Good Luck \n",
      " 2025\n",
      " 행복한 오늘\n",
      "Good Luck \n",
      " 2025\n",
      " 행복한 오늘\n",
      "\n"
     ]
    }
   ],
   "source": [
    "with open('../_data/copy_normal102.txt', 'r') as f:\n",
    "    a = f.read().split('\\n')\n",
    "    for i in a:\n",
    "        print(i)"
   ]
  },
  {
   "cell_type": "code",
   "execution_count": null,
   "metadata": {},
   "outputs": [],
   "source": []
  }
 ],
 "metadata": {
  "kernelspec": {
   "display_name": "ML_PY39",
   "language": "python",
   "name": "python3"
  },
  "language_info": {
   "codemirror_mode": {
    "name": "ipython",
    "version": 3
   },
   "file_extension": ".py",
   "mimetype": "text/x-python",
   "name": "python",
   "nbconvert_exporter": "python",
   "pygments_lexer": "ipython3",
   "version": "3.9.21"
  }
 },
 "nbformat": 4,
 "nbformat_minor": 2
}
