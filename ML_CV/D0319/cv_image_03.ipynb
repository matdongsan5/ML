{
 "cells": [
  {
   "cell_type": "markdown",
   "metadata": {},
   "source": [
    "카메라 영상 및 동영상 로딩"
   ]
  },
  {
   "cell_type": "markdown",
   "metadata": {},
   "source": [
    "[1] 모듈 로딩 및 데이터 준비"
   ]
  },
  {
   "cell_type": "markdown",
   "metadata": {},
   "source": [
    "이미지 ==> 2차원 행렬 (행/렬) ( 높이, 너비)\n",
    "\n",
    "정밀도 ==> 몇 비트로 색상을 표현하지 심도/색깊이 8비트 -> 그레이스케일\n",
    "색상정보 ==> 채널\n",
    "\t\t단일채널 => 흑백/그레이스케일\n",
    "\t\t다채널 => 컬러이미지 RGB CMYK HSB ARGB"
   ]
  },
  {
   "cell_type": "code",
   "execution_count": null,
   "metadata": {},
   "outputs": [],
   "source": [
    "import cv2          # open cv\n",
    "import numpy as np\n",
    "import matplotlib.pyplot as plt\n"
   ]
  },
  {
   "cell_type": "code",
   "execution_count": null,
   "metadata": {},
   "outputs": [],
   "source": [
    "DEVICE_ID = 0 ## 기기에 연결된 카메라 번호"
   ]
  },
  {
   "cell_type": "code",
   "execution_count": null,
   "metadata": {},
   "outputs": [],
   "source": [
    "VIDEO_DIR = '../_data/_video/'\n",
    "EXIT_KEY = 27 ##종료 키 값 정의"
   ]
  },
  {
   "cell_type": "markdown",
   "metadata": {},
   "source": [
    "[2] 카메라 연동 및 영상 로딩"
   ]
  },
  {
   "cell_type": "code",
   "execution_count": 24,
   "metadata": {},
   "outputs": [],
   "source": [
    "## 카메라 연결\n",
    "## 카메라 객체 생성\n",
    "# cam = cv2.VideoCapture(DEVICE_ID)\n",
    "video = cv2.VideoCapture('../_data/_video/videofx_example_blueman.mp4')\n",
    "#ML_CV/_data/_video/videofx_example_blueman.mp4"
   ]
  },
  {
   "cell_type": "code",
   "execution_count": 25,
   "metadata": {},
   "outputs": [
    {
     "name": "stdout",
     "output_type": "stream",
     "text": [
      "../_data/_video/videofx_example_blueman.mp4\n"
     ]
    }
   ],
   "source": [
    "print(VIDEO_DIR+'videofx_example_blueman.mp4')"
   ]
  },
  {
   "cell_type": "code",
   "execution_count": 26,
   "metadata": {},
   "outputs": [
    {
     "name": "stdout",
     "output_type": "stream",
     "text": [
      "True\n"
     ]
    }
   ],
   "source": [
    "ret, img = video.read()\n",
    "print(ret)"
   ]
  },
  {
   "cell_type": "code",
   "execution_count": 31,
   "metadata": {},
   "outputs": [],
   "source": [
    "# 카메라 연동 여부 확인\n",
    "fps = 30\n",
    "video = cv2.VideoCapture('../_data/_video/videofx_example_blueman.mp4')\n",
    "\n",
    "try:\n",
    "    # 카메라 연결 여부 확인\n",
    "    if not video.isOpened():\n",
    "        print('카메라 연결 실패')\n",
    "        raise Exception('카메라 연결 실패')\n",
    "    frame = 1\n",
    "    while True:\n",
    "        ret, img = video.read()  # 영상 읽기\n",
    "\n",
    "        if ret:\n",
    "            cv2.imshow('test', img)  # 영상 출력\n",
    "            cv2.imwrite(f\"{VIDEO_DIR}save_{frame}.jpg\", img)\n",
    "            frame+=1\n",
    "            key = cv2.waitKey(fps)  # fps 설정 (밀리초 단위)\n",
    "            \n",
    "            # 'ESC' 키를 누르면 종료\n",
    "            if key == 27:\n",
    "                break\n",
    "        else:\n",
    "            print('영상 로딩 실패')\n",
    "\n",
    "except Exception as e:\n",
    "    print(f'Error: {e}')\n",
    "\n",
    "finally:\n",
    "    # 카메라 해제 및 창 닫기\n",
    "    video.release()  # 카메라 해제\n",
    "    cv2.destroyAllWindows()  # 모든 열린 OpenCV 창 닫기\n"
   ]
  },
  {
   "cell_type": "code",
   "execution_count": 22,
   "metadata": {},
   "outputs": [
    {
     "name": "stdout",
     "output_type": "stream",
     "text": [
      "error\n"
     ]
    }
   ],
   "source": [
    "## 카메라 연동여부\n",
    "fps = 30\n",
    "try:\n",
    "    # video.isOpened()\n",
    "    # 카메라의 영상데이터를 로딩\n",
    "    while True:\n",
    "        ret, img = video.read()\n",
    "        \n",
    "        ## 로딩된 데이터가 존재시. 화면 출력\n",
    "        if ret:\n",
    "            cv2.imshow(['test'], img)\n",
    "            key = cv2.waitKey(fps) ## fps설정\n",
    "            if key == 27:break\n",
    "        else:\n",
    "            print('영상로딩실패')\n",
    "            \n",
    "except:\n",
    "    print('error')\n",
    "\n",
    "## 카메라 해제 및 띄워진 영상 출력 창 닫기\n",
    "# video.release()\n",
    "cv2.destroyAllWindows()"
   ]
  },
  {
   "cell_type": "code",
   "execution_count": null,
   "metadata": {},
   "outputs": [],
   "source": [
    "## 카메라 연동여부\n",
    "fps = 30\n",
    "try:\n",
    "    cam.isOpened()\n",
    "    # 카메라의 영상데이터를 로딩\n",
    "    while True:\n",
    "        ret, img = cam.read()\n",
    "        \n",
    "        ## 로딩된 데이터가 존재시. 화면 출력\n",
    "        if ret:\n",
    "            cv2.imshow(['test'],img)\n",
    "            key = cv2.waitKey(fps) ## fps설정\n",
    "            if key == 27:break\n",
    "        else:\n",
    "            print('영상로딩실패')\n",
    "            \n",
    "except:\n",
    "    print('error')\n",
    "\n",
    "## 카메라 해제 및 띄워진 영상 출력 창 닫기\n",
    "cam.release()\n",
    "cv2.destroyAllWindows()"
   ]
  },
  {
   "cell_type": "code",
   "execution_count": null,
   "metadata": {},
   "outputs": [],
   "source": []
  },
  {
   "cell_type": "code",
   "execution_count": null,
   "metadata": {},
   "outputs": [],
   "source": []
  }
 ],
 "metadata": {
  "kernelspec": {
   "display_name": "ML_CV",
   "language": "python",
   "name": "python3"
  },
  "language_info": {
   "codemirror_mode": {
    "name": "ipython",
    "version": 3
   },
   "file_extension": ".py",
   "mimetype": "text/x-python",
   "name": "python",
   "nbconvert_exporter": "python",
   "pygments_lexer": "ipython3",
   "version": "3.9.21"
  }
 },
 "nbformat": 4,
 "nbformat_minor": 2
}
