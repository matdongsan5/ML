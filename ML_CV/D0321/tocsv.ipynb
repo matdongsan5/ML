{
 "cells": [
  {
   "cell_type": "markdown",
   "metadata": {},
   "source": [
    "#### 개요\n",
    "1. batch 파일 목록을 읽고\n",
    "2. 각 파일을 원본 이미지 배열로 변경한 후\n",
    "3. 컬러로 학습해야함   /*3. 흑백스케일링(차원감소)하여*/\n",
    "4. 라벨을 추가한 뒤\n",
    "5. csv파일로 배출."
   ]
  },
  {
   "cell_type": "code",
   "execution_count": 81,
   "metadata": {},
   "outputs": [],
   "source": [
    "import os\n",
    "import pandas as pd\n",
    "import numpy as np\n",
    "import matplotlib.pyplot as plt\n",
    "import cv2\n",
    "import csv"
   ]
  },
  {
   "cell_type": "code",
   "execution_count": 82,
   "metadata": {},
   "outputs": [
    {
     "data": {
      "text/plain": [
       "['data_batch_1',\n",
       " 'data_batch_2',\n",
       " 'data_batch_3',\n",
       " 'data_batch_4',\n",
       " 'data_batch_5',\n",
       " 'test_batch']"
      ]
     },
     "execution_count": 82,
     "metadata": {},
     "output_type": "execute_result"
    }
   ],
   "source": [
    "data_dir = '../_data/cifar-10-batches-py/'\n",
    "fileList = os.listdir(data_dir)\n",
    "fileList = [x for x in fileList if '_batch' in x]\n",
    "fileList"
   ]
  },
  {
   "cell_type": "code",
   "execution_count": 83,
   "metadata": {},
   "outputs": [],
   "source": [
    "def unpickle(file):\n",
    "    import pickle\n",
    "    with open(file, 'rb') as fo:\n",
    "        dict = pickle.load(fo, encoding='bytes')\n",
    "    return dict"
   ]
  },
  {
   "cell_type": "code",
   "execution_count": 84,
   "metadata": {},
   "outputs": [],
   "source": [
    "# dict1[b'data'].shape, dict1[b'filenames'][0], dict1[b'batch_label']"
   ]
  },
  {
   "cell_type": "code",
   "execution_count": 85,
   "metadata": {},
   "outputs": [],
   "source": [
    "# len(dict1[b'data'][0][:1024])\n",
    "# len(dict1[b'data'][0][1024:2048])\n",
    "# len(dict1[b'data'][0][2048:])"
   ]
  },
  {
   "cell_type": "code",
   "execution_count": 135,
   "metadata": {},
   "outputs": [],
   "source": [
    "def flip_rotate(img, idx, dict):\n",
    "   for i in [0,1]:\n",
    "        hflipImg = cv2.flip(img, i)\n",
    "        for j in range(45,410,90):\n",
    "            H, W, _ = hflipImg.shape\n",
    "            a = cv2.getRotationMatrix2D((W/2,H/2), j, 1)\n",
    "            b = cv2.warpAffine(hflipImg,a,(W,H))\n",
    "            image_dir= data_dir+'img/'\n",
    "            cv2.imwrite(image_dir+str(j)+dict[b'filenames'][idx].decode(),b)\n",
    "            c = b.flatten()\n",
    "            arrays1 = np.insert(c, 0, dict[b'labels'][idx])\n",
    "            # plt.imshow(hflipImg)\n",
    "            # print(type(c))\n",
    "            # print(arrays1)\n",
    "            with open(data_dir+dict[b'batch_label'].decode()+'.csv', 'a', newline='') as f:\n",
    "                writer = csv.writer(f)\n",
    "                writer.writerow(arrays1)"
   ]
  },
  {
   "cell_type": "code",
   "execution_count": 136,
   "metadata": {},
   "outputs": [],
   "source": [
    "# for i in range(10000):\n",
    "def inverse_image(dict, idx):    \n",
    "    B = dict[b'data'][idx][:1024]\n",
    "    G = dict[b'data'][idx][1024:2048]\n",
    "    R = dict[b'data'][idx][2048:]\n",
    "    img_rgb = cv2.merge((B,G,R))\n",
    "    img_rgb = img_rgb.reshape(32,32,3)\n",
    "    # img_1d = img_rgb.flatten()\n",
    "    \n",
    "    # flip_rotate(img_rgb, idx)\n",
    "    # cv2.imwrite(image_dir+dict[b'filenames'][idx].decode(), img_rgb)\n",
    "    return img_rgb, idx"
   ]
  },
  {
   "cell_type": "code",
   "execution_count": 137,
   "metadata": {},
   "outputs": [],
   "source": [
    "# def img2df(dict, img_gray, idx):\n",
    "    \n",
    "#     with open(data_dir+dict[b'batch_label'].decode()+'.csv', 'a', newline='') as f:\n",
    "#         writer = csv.writer(f)\n",
    "#         writer.writerow(arrays1)\n",
    "#     return\n"
   ]
  },
  {
   "cell_type": "code",
   "execution_count": 138,
   "metadata": {},
   "outputs": [],
   "source": [
    "dict1 = unpickle(data_dir+fileList[0])\n",
    "dict2 = unpickle(data_dir+fileList[1])\n",
    "dict3 = unpickle(data_dir+fileList[2])\n",
    "dict4 = unpickle(data_dir+fileList[3])\n",
    "dict5 = unpickle(data_dir+fileList[4])\n",
    "dict6 = unpickle(data_dir+fileList[5])\n"
   ]
  },
  {
   "cell_type": "code",
   "execution_count": 139,
   "metadata": {},
   "outputs": [],
   "source": [
    "# # len(dict6[b'data'])\n",
    "# a, idx = inverse_image(dict5, 0)\n",
    "# flip_rotate(a,idx, dict5)"
   ]
  },
  {
   "cell_type": "code",
   "execution_count": 140,
   "metadata": {},
   "outputs": [],
   "source": [
    "for i in range(10000):\n",
    "    \n",
    "    a, idx = inverse_image(dict6, i)\n",
    "    flip_rotate(a,idx, dict6)\n",
    "    "
   ]
  },
  {
   "cell_type": "code",
   "execution_count": 141,
   "metadata": {},
   "outputs": [],
   "source": [
    "for i in range(10000):\n",
    "    a, idx = inverse_image(dict5, i)\n",
    "    flip_rotate( a,idx, dict5)"
   ]
  },
  {
   "cell_type": "code",
   "execution_count": 145,
   "metadata": {},
   "outputs": [],
   "source": [
    "for i in range(10000):\n",
    "    a, idx = inverse_image(dict4, i)\n",
    "    flip_rotate( a,idx, dict4)"
   ]
  },
  {
   "cell_type": "code",
   "execution_count": 146,
   "metadata": {},
   "outputs": [],
   "source": [
    "for i in range(10000):\n",
    "    a, idx = inverse_image(dict3, i)\n",
    "    flip_rotate( a,idx, dict3)"
   ]
  },
  {
   "cell_type": "code",
   "execution_count": 147,
   "metadata": {},
   "outputs": [],
   "source": [
    "for i in range(10000):\n",
    "    a, idx = inverse_image(dict2, i)\n",
    "    flip_rotate( a,idx, dict2)"
   ]
  },
  {
   "cell_type": "code",
   "execution_count": 148,
   "metadata": {},
   "outputs": [],
   "source": [
    "for i in range(10000):\n",
    "    a, idx = inverse_image(dict1, i)\n",
    "    flip_rotate( a,idx, dict1)"
   ]
  },
  {
   "cell_type": "code",
   "execution_count": null,
   "metadata": {},
   "outputs": [],
   "source": []
  },
  {
   "cell_type": "code",
   "execution_count": null,
   "metadata": {},
   "outputs": [],
   "source": []
  },
  {
   "cell_type": "code",
   "execution_count": null,
   "metadata": {},
   "outputs": [],
   "source": []
  }
 ],
 "metadata": {
  "kernelspec": {
   "display_name": "ML_CV",
   "language": "python",
   "name": "python3"
  },
  "language_info": {
   "codemirror_mode": {
    "name": "ipython",
    "version": 3
   },
   "file_extension": ".py",
   "mimetype": "text/x-python",
   "name": "python",
   "nbconvert_exporter": "python",
   "pygments_lexer": "ipython3",
   "version": "3.9.18"
  }
 },
 "nbformat": 4,
 "nbformat_minor": 2
}
