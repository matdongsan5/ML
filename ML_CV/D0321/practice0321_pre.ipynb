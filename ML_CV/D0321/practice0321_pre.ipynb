{
 "cells": [
  {
   "cell_type": "markdown",
   "metadata": {},
   "source": [
    "cufar - 10 \n",
    "\n",
    "10가지로 분류되는 데이터셋\n",
    "\n",
    "목표 이미지를 받아 10가지로 분류하는 모델 만들기.\n",
    "\n",
    "1. => 이미지 처리\n",
    "2. => 이미지 데이터셋 확인후 설명서를 보고 데이터셋 읽어오는 코드 작성\n",
    "\n",
    "3. 코드 작성후 각"
   ]
  },
  {
   "cell_type": "code",
   "execution_count": 2,
   "metadata": {},
   "outputs": [],
   "source": [
    "import os \n",
    "import gzip\n",
    "import tarfile\n",
    "import pandas as pd\n",
    "import numpy as np\n",
    "import cv2"
   ]
  },
  {
   "cell_type": "code",
   "execution_count": 3,
   "metadata": {},
   "outputs": [],
   "source": [
    "ZIP_DIR = '../_data/cifar10/'\n",
    "DATA_DIR = '../_data/cifar10/cifar-10-batches-py/'\n",
    "FILENAME = 'cifar-10-python.tar.gz'\n",
    "FILENAME2 = 'cifar-10-python.tar'"
   ]
  },
  {
   "cell_type": "code",
   "execution_count": 4,
   "metadata": {},
   "outputs": [
    {
     "name": "stdout",
     "output_type": "stream",
     "text": [
      "cifar-10-batches-py\n",
      "cifar-10-python.tar\n",
      "cifar-10-python.tar.gz\n"
     ]
    }
   ],
   "source": [
    "# 폴더 내 파일 리스트 로딩 ----------------------\n",
    "filelist = os.listdir(ZIP_DIR)\n",
    "for filename in filelist:\n",
    "    # print(filename[:-3])\n",
    "    print(filename)"
   ]
  },
  {
   "cell_type": "code",
   "execution_count": 5,
   "metadata": {},
   "outputs": [],
   "source": [
    "# # 압축 풀기 메소드 -------------------------------------\n",
    "# for filename in filelist:\n",
    "#      with gzip.open(DATA_DIR+filename, mode='rb') as gzipf:\n",
    "#           data = gzipf.read()\n",
    "#           with open(DATA_DIR+filename[:-3], mode='wb') as filef:\n",
    "#                filef.write(data)"
   ]
  },
  {
   "cell_type": "code",
   "execution_count": 6,
   "metadata": {},
   "outputs": [
    {
     "data": {
      "text/plain": [
       "True"
      ]
     },
     "execution_count": 6,
     "metadata": {},
     "output_type": "execute_result"
    }
   ],
   "source": [
    "tarfile.is_tarfile(ZIP_DIR+FILENAME2)"
   ]
  },
  {
   "cell_type": "code",
   "execution_count": null,
   "metadata": {},
   "outputs": [],
   "source": [
    "# # 압축 풀기 메소드 -------------------------------------\n",
    "with tarfile.open(ZIP_DIR+FILENAME2, mode='r') as tar:\n",
    "     data = tar.extractall(ZIP_DIR)\n",
    "     with open(DATA_DIR+FILENAME2[:-3], mode='wb') as filef:\n",
    "          filef.write(data)"
   ]
  },
  {
   "cell_type": "code",
   "execution_count": 8,
   "metadata": {},
   "outputs": [
    {
     "name": "stdout",
     "output_type": "stream",
     "text": [
      "batches.meta\n",
      "data_batch_1\n",
      "data_batch_2\n",
      "data_batch_3\n",
      "data_batch_4\n",
      "data_batch_5\n",
      "readme.html\n",
      "test_batch\n"
     ]
    }
   ],
   "source": [
    "# 폴더 내 파일 리스트 로딩 ----------------------\n",
    "filelist = os.listdir(DATA_DIR)\n",
    "for filename in filelist:\n",
    "    # print(filename[:-3])\n",
    "    print(filename)"
   ]
  },
  {
   "cell_type": "code",
   "execution_count": null,
   "metadata": {},
   "outputs": [],
   "source": []
  },
  {
   "cell_type": "code",
   "execution_count": 9,
   "metadata": {},
   "outputs": [],
   "source": [
    "file_name = filelist[0]"
   ]
  },
  {
   "cell_type": "code",
   "execution_count": 10,
   "metadata": {},
   "outputs": [
    {
     "name": "stdout",
     "output_type": "stream",
     "text": [
      "{'num_cases_per_batch': 10000, 'label_names': ['airplane', 'automobile', 'bird', 'cat', 'deer', 'dog', 'frog', 'horse', 'ship', 'truck'], 'num_vis': 3072}\n"
     ]
    }
   ],
   "source": [
    "import pickle\n",
    "\n",
    "meta_file_path = DATA_DIR+\"batches.meta\"\n",
    "\n",
    "with open(meta_file_path, \"rb\") as f:\n",
    "    meta_data = pickle.load(f, encoding=\"latin1\") \n",
    "    print(meta_data)\n"
   ]
  },
  {
   "cell_type": "code",
   "execution_count": null,
   "metadata": {},
   "outputs": [
    {
     "data": {
      "text/plain": [
       "['batches.meta',\n",
       " 'data_batch_1',\n",
       " 'data_batch_2',\n",
       " 'data_batch_3',\n",
       " 'data_batch_4',\n",
       " 'data_batch_5',\n",
       " 'readme.html',\n",
       " 'test_batch']"
      ]
     },
     "execution_count": 11,
     "metadata": {},
     "output_type": "execute_result"
    }
   ],
   "source": [
    "3072\n",
    "1024\n",
    "2^10\n",
    "\n",
    "filelist"
   ]
  },
  {
   "cell_type": "code",
   "execution_count": 12,
   "metadata": {},
   "outputs": [
    {
     "name": "stdout",
     "output_type": "stream",
     "text": [
      "data_batch_1\n"
     ]
    }
   ],
   "source": [
    "# for i in filelist[1:6]:\n",
    "for i in filelist[1:2]:\n",
    "    with open(DATA_DIR+i, \"rb\") as f:\n",
    "        print(i)\n",
    "        a = (f.read())\n",
    "        "
   ]
  },
  {
   "cell_type": "code",
   "execution_count": 15,
   "metadata": {},
   "outputs": [
    {
     "data": {
      "text/plain": [
       "(bytes, 31035704)"
      ]
     },
     "execution_count": 15,
     "metadata": {},
     "output_type": "execute_result"
    }
   ],
   "source": [
    "type(a), len(a)"
   ]
  },
  {
   "cell_type": "code",
   "execution_count": 47,
   "metadata": {},
   "outputs": [
    {
     "data": {
      "text/plain": [
       "816602894101709440"
      ]
     },
     "execution_count": 47,
     "metadata": {},
     "output_type": "execute_result"
    }
   ],
   "source": [
    "int.from_bytes(a[:8], byteorder='little')"
   ]
  },
  {
   "cell_type": "code",
   "execution_count": 44,
   "metadata": {},
   "outputs": [
    {
     "data": {
      "text/plain": [
       "b'batch_label'"
      ]
     },
     "execution_count": 44,
     "metadata": {},
     "output_type": "execute_result"
    }
   ],
   "source": [
    "a[8:19]\n",
    "# list(map(lambda x: x.decode(), b))\n"
   ]
  },
  {
   "cell_type": "code",
   "execution_count": 56,
   "metadata": {},
   "outputs": [
    {
     "data": {
      "text/plain": [
       "b'\\x02U\\x15training batch 1 of 5'"
      ]
     },
     "execution_count": 56,
     "metadata": {},
     "output_type": "execute_result"
    }
   ],
   "source": [
    "a[20:44]"
   ]
  },
  {
   "cell_type": "code",
   "execution_count": 50,
   "metadata": {},
   "outputs": [
    {
     "data": {
      "text/plain": [
       "1398018"
      ]
     },
     "execution_count": 50,
     "metadata": {},
     "output_type": "execute_result"
    }
   ],
   "source": [
    "int.from_bytes(b'\\x02U\\x15', byteorder='little')"
   ]
  }
 ],
 "metadata": {
  "kernelspec": {
   "display_name": "ML_CV",
   "language": "python",
   "name": "python3"
  },
  "language_info": {
   "codemirror_mode": {
    "name": "ipython",
    "version": 3
   },
   "file_extension": ".py",
   "mimetype": "text/x-python",
   "name": "python",
   "nbconvert_exporter": "python",
   "pygments_lexer": "ipython3",
   "version": "3.9.21"
  }
 },
 "nbformat": 4,
 "nbformat_minor": 2
}
