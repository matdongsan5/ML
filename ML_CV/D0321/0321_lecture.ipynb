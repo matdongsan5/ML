{
 "cells": [
  {
   "cell_type": "markdown",
   "metadata": {},
   "source": [
    "#### header and raw data\n",
    "- header - 이미지, 확장자마다 다름. jpeg 헤더 포맷, bmp 헤더 포맷\n",
    "- 그림판 응용 프로그램 - 이미지 파일 확장자 확인 헤더 포멧 해석 후 raw data 추출, 화면 출력\n",
    "- 헤더의 정보 : 확장자, 이미지 크기.\n",
    "- cv2가 대신 처리해줌.\n",
    "- cv2를 쓰지 않을 경우, 헤더를 읽고, 그 정보를 토대로 파일 형태와 크기를 파악해야함\n",
    "- open pillow 패키지.\n"
   ]
  },
  {
   "cell_type": "markdown",
   "metadata": {},
   "source": [
    " - jpg, png bmp\n",
    " - => opencv => 순수 rawdata: color:3D, graysclae:2D\n",
    " - => 1d처리\n",
    " - => 학습할 수 있는 형태로 만들고, 타겟을 만들어 추가\n",
    " "
   ]
  },
  {
   "cell_type": "markdown",
   "metadata": {},
   "source": [
    "#### 자체 포맷 데이터\n",
    "- 설명서 제공. 일반 이미지와는 다르게 설명서 토대로 raw-data 추출.\n",
    "- mnist\n",
    "- cifar 10/100 \n",
    "    - color-image : 32*32*3\n",
    "    - -> (10000,3072) 2D 형태로 제공.\n",
    "    - 3072/3 = 1024. 1024 마다 R G B  제공.\n",
    "    - (1,3072) => 1개 이미지의 R(1024), G(1024), B(1024)_byte 로 구성.\n",
    "    - label 값 0~9\n"
   ]
  },
  {
   "cell_type": "code",
   "execution_count": null,
   "metadata": {},
   "outputs": [
    {
     "name": "stdout",
     "output_type": "stream",
     "text": [
      "['car', 'bed', 'sun']\n"
     ]
    }
   ],
   "source": []
  },
  {
   "cell_type": "code",
   "execution_count": null,
   "metadata": {},
   "outputs": [],
   "source": [
    " "
   ]
  },
  {
   "cell_type": "code",
   "execution_count": null,
   "metadata": {},
   "outputs": [],
   "source": []
  },
  {
   "cell_type": "code",
   "execution_count": null,
   "metadata": {},
   "outputs": [],
   "source": []
  }
 ],
 "metadata": {
  "kernelspec": {
   "display_name": "ML_PY39",
   "language": "python",
   "name": "python3"
  },
  "language_info": {
   "codemirror_mode": {
    "name": "ipython",
    "version": 3
   },
   "file_extension": ".py",
   "mimetype": "text/x-python",
   "name": "python",
   "nbconvert_exporter": "python",
   "pygments_lexer": "ipython3",
   "version": "3.9.21"
  }
 },
 "nbformat": 4,
 "nbformat_minor": 2
}
