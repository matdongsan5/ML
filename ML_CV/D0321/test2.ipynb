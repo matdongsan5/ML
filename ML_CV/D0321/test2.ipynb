{
 "cells": [
  {
   "cell_type": "markdown",
   "metadata": {},
   "source": [
    "#### 개요\n",
    "1. batch 파일 목록을 읽고\n",
    "2. 각 파일을 원본 이미지 배열로 변경한 후\n",
    "3. 흑백스케일링(차원감소)하여\n",
    "4. 라벨을 추가한 뒤\n",
    "5. csv파일로 배출."
   ]
  },
  {
   "cell_type": "code",
   "execution_count": 1,
   "metadata": {},
   "outputs": [],
   "source": [
    "import os\n",
    "import pandas as pd\n",
    "import numpy as np\n",
    "import matplotlib.pyplot as plt\n",
    "import cv2\n",
    "import csv"
   ]
  },
  {
   "cell_type": "code",
   "execution_count": 2,
   "metadata": {},
   "outputs": [
    {
     "data": {
      "text/plain": [
       "['data_batch_1',\n",
       " 'data_batch_2',\n",
       " 'data_batch_3',\n",
       " 'data_batch_4',\n",
       " 'data_batch_5',\n",
       " 'test_batch']"
      ]
     },
     "execution_count": 2,
     "metadata": {},
     "output_type": "execute_result"
    }
   ],
   "source": [
    "data_dir = '../_data/cifar-10-batches-py/'\n",
    "fileList = os.listdir(data_dir)\n",
    "fileList = [x for x in fileList if '_batch' in x]\n",
    "fileList"
   ]
  },
  {
   "cell_type": "code",
   "execution_count": 3,
   "metadata": {},
   "outputs": [],
   "source": [
    "def unpickle(file):\n",
    "    import pickle\n",
    "    with open(file, 'rb') as fo:\n",
    "        dict = pickle.load(fo, encoding='bytes')\n",
    "    return dict"
   ]
  },
  {
   "cell_type": "code",
   "execution_count": 4,
   "metadata": {},
   "outputs": [],
   "source": [
    "# dict1[b'data'].shape, dict1[b'filenames'][0], dict1[b'batch_label']"
   ]
  },
  {
   "cell_type": "code",
   "execution_count": 5,
   "metadata": {},
   "outputs": [],
   "source": [
    "# len(dict1[b'data'][0][:1024])\n",
    "# len(dict1[b'data'][0][1024:2048])\n",
    "# len(dict1[b'data'][0][2048:])"
   ]
  },
  {
   "cell_type": "code",
   "execution_count": null,
   "metadata": {},
   "outputs": [],
   "source": [
    "# for i in range(10000):\n",
    "def inverse_image(dict, idx):    \n",
    "    B = dict[b'data'][idx][:1024]\n",
    "    G = dict[b'data'][idx][1024:2048]\n",
    "    R = dict[b'data'][idx][2048:]\n",
    "    img_rgb = cv2.merge((B,G,R))\n",
    "    img_gray = cv2.cvtColor(img_rgb, cv2.COLOR_RGB2GRAY)\n",
    "    img_save =  img_gray.reshape(32,32)\n",
    "    image_dir= data_dir+f\"batch_{dict[b'batch_label'].decode()}/\"\n",
    "    if not os.path.exists(image_dir):\n",
    "        os.mkdir(image_dir)\n",
    "    else:\n",
    "        quit()\n",
    "    cv2.imwrite(image_dir+dict[b'filenames'][idx].decode(), img_save)\n",
    "    return img_gray"
   ]
  },
  {
   "cell_type": "code",
   "execution_count": 7,
   "metadata": {},
   "outputs": [],
   "source": [
    "def img2df(dict, img_gray, idx):\n",
    "    arrays1 = np.insert(img_gray.reshape(-1), 0, dict[b'labels'][idx])\n",
    "    with open(data_dir+dict[b'batch_label'].decode()+'.csv', 'a', newline='') as f:\n",
    "        writer = csv.writer(f)\n",
    "        writer.writerow(arrays1)\n",
    "    return\n"
   ]
  },
  {
   "cell_type": "code",
   "execution_count": 8,
   "metadata": {},
   "outputs": [],
   "source": [
    "# dict1 = unpickle(data_dir+fileList[0])\n",
    "# dict2 = unpickle(data_dir+fileList[1])\n",
    "# dict3 = unpickle(data_dir+fileList[2])\n",
    "# dict4 = unpickle(data_dir+fileList[3])\n",
    "# dict5 = unpickle(data_dir+fileList[4])\n",
    "dict6 = unpickle(data_dir+fileList[5])\n"
   ]
  },
  {
   "cell_type": "code",
   "execution_count": 9,
   "metadata": {},
   "outputs": [
    {
     "data": {
      "text/plain": [
       "10000"
      ]
     },
     "execution_count": 9,
     "metadata": {},
     "output_type": "execute_result"
    }
   ],
   "source": [
    "len(dict6[b'data'])"
   ]
  },
  {
   "cell_type": "code",
   "execution_count": null,
   "metadata": {},
   "outputs": [
    {
     "ename": "",
     "evalue": "",
     "output_type": "error",
     "traceback": [
      "\u001b[1;31mThe Kernel crashed while executing code in the current cell or a previous cell. \n",
      "\u001b[1;31mPlease review the code in the cell(s) to identify a possible cause of the failure. \n",
      "\u001b[1;31mClick <a href='https://aka.ms/vscodeJupyterKernelCrash'>here</a> for more info. \n",
      "\u001b[1;31mView Jupyter <a href='command:jupyter.viewOutput'>log</a> for further details."
     ]
    }
   ],
   "source": [
    "for i in range(10000):\n",
    "    \n",
    "    a = inverse_image(dict6, i)\n",
    "    img2df(dict6, a,i)"
   ]
  },
  {
   "cell_type": "code",
   "execution_count": null,
   "metadata": {},
   "outputs": [],
   "source": [
    "# for i in range(10000):\n",
    "#     a = inverse_image(dict5, i)\n",
    "#     img2df(dict5, a,i)"
   ]
  },
  {
   "cell_type": "code",
   "execution_count": null,
   "metadata": {},
   "outputs": [],
   "source": [
    "# for i in range(10000):\n",
    "#     a = inverse_image(dict4, i)\n",
    "#     img2df(dict4, a,i)"
   ]
  },
  {
   "cell_type": "code",
   "execution_count": null,
   "metadata": {},
   "outputs": [],
   "source": [
    "# for i in range(10000):\n",
    "#     a = inverse_image(dict3, i)\n",
    "#     img2df(dict3, a,i)"
   ]
  },
  {
   "cell_type": "code",
   "execution_count": null,
   "metadata": {},
   "outputs": [],
   "source": [
    "# for i in range(10000):\n",
    "#     a = inverse_image(dict2, i)\n",
    "#     img2df(dict2, a,i)"
   ]
  },
  {
   "cell_type": "code",
   "execution_count": null,
   "metadata": {},
   "outputs": [],
   "source": [
    "# for i in range(10000):\n",
    "#     a = inverse_image(dict1, i)\n",
    "#     img2df(dict1, a,i)"
   ]
  },
  {
   "cell_type": "code",
   "execution_count": null,
   "metadata": {},
   "outputs": [],
   "source": []
  }
 ],
 "metadata": {
  "kernelspec": {
   "display_name": "ML_CV",
   "language": "python",
   "name": "python3"
  },
  "language_info": {
   "codemirror_mode": {
    "name": "ipython",
    "version": 3
   },
   "file_extension": ".py",
   "mimetype": "text/x-python",
   "name": "python",
   "nbconvert_exporter": "python",
   "pygments_lexer": "ipython3",
   "version": "3.9.18"
  }
 },
 "nbformat": 4,
 "nbformat_minor": 2
}
