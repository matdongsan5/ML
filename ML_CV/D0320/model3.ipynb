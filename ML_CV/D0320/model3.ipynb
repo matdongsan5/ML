{
 "cells": [
  {
   "cell_type": "code",
   "execution_count": 2,
   "metadata": {},
   "outputs": [],
   "source": [
    "from _utils.ClassfierModule import ClassfierModule as cm\n",
    "from _utils.RegressionModule import RegressionModule as rm\n",
    "from _utils import tools as ts\n",
    "\n",
    "import seaborn as sns\n",
    "import pandas as pd # 데이터 분석 및 전처리\n",
    "import numpy as np # 숫자처리\n",
    "import matplotlib.pyplot as plt # 데이터 시각화\n",
    "from sklearn.linear_model import LinearRegression ## ML 알고리즘\n",
    "from sklearn.metrics import mean_squared_error, mean_absolute_error, root_mean_squared_error\n",
    "                            ## 성능평가 모듈\n",
    "from sklearn.model_selection import train_test_split, KFold\n",
    "                            ## 데이터셋 분리 관련 모듈\n",
    "                            ## 학습/검증/테스트 \n",
    "                                                    ## 교차검증\\\n",
    "from sklearn.preprocessing import PolynomialFeatures # 폴리. 컬럼추가\n",
    "from sklearn.linear_model import Ridge, Lasso, ElasticNet            \n",
    "\n",
    "from sklearn.utils.discovery import *\n",
    "from sklearn.metrics import *   \n",
    "from scipy import stats\n",
    "\n",
    "import koreanize_matplotlib"
   ]
  },
  {
   "cell_type": "code",
   "execution_count": 3,
   "metadata": {},
   "outputs": [],
   "source": [
    "resultDF = pd.DataFrame(pd.read_csv('result_1.csv', encoding='utf-8', index_col=0))"
   ]
  },
  {
   "cell_type": "code",
   "execution_count": 4,
   "metadata": {},
   "outputs": [],
   "source": [
    "le =ts.LabelEncoder()\n",
    "resultDF['answer'] = le.fit_transform(resultDF['answer'])"
   ]
  },
  {
   "cell_type": "code",
   "execution_count": 5,
   "metadata": {},
   "outputs": [],
   "source": [
    "X_train, X_test, y_train, y_test = train_test_split(resultDF.iloc[:,:-1], resultDF['answer'], stratify= resultDF['answer'])"
   ]
  },
  {
   "cell_type": "code",
   "execution_count": 6,
   "metadata": {},
   "outputs": [
    {
     "name": "stdout",
     "output_type": "stream",
     "text": [
      "X_train => 2D (1345, 52000) / X_test => 2D, (449, 52000)\n",
      "y_train => 1D (1345,), / y_test => 1D, (449,)\n"
     ]
    }
   ],
   "source": [
    "print(f\"X_train => {X_train.ndim}D {X_train.shape} / X_test => {X_test.ndim}D, {X_test.shape}\")\n",
    "print(f\"y_train => {y_train.ndim}D {y_train.shape}, / y_test => {y_test.ndim}D, {y_test.shape}\")"
   ]
  },
  {
   "cell_type": "code",
   "execution_count": 7,
   "metadata": {},
   "outputs": [],
   "source": [
    "# ts.find_estimator(X_train, y_train, type_filter='classifier')"
   ]
  },
  {
   "cell_type": "code",
   "execution_count": 8,
   "metadata": {},
   "outputs": [],
   "source": [
    "cd = cm(X_train, y_train, X_test, y_test)\n"
   ]
  },
  {
   "cell_type": "code",
   "execution_count": null,
   "metadata": {},
   "outputs": [
    {
     "name": "stdout",
     "output_type": "stream",
     "text": [
      "              precision    recall  f1-score   support\n",
      "\n",
      "           0       0.75      0.70      0.72       195\n",
      "           1       0.78      0.82      0.80       254\n",
      "\n",
      "    accuracy                           0.77       449\n",
      "   macro avg       0.76      0.76      0.76       449\n",
      "weighted avg       0.77      0.77      0.77       449\n",
      "\n"
     ]
    },
    {
     "data": {
      "text/html": [
       "<div>\n",
       "<style scoped>\n",
       "    .dataframe tbody tr th:only-of-type {\n",
       "        vertical-align: middle;\n",
       "    }\n",
       "\n",
       "    .dataframe tbody tr th {\n",
       "        vertical-align: top;\n",
       "    }\n",
       "\n",
       "    .dataframe thead th {\n",
       "        text-align: right;\n",
       "    }\n",
       "</style>\n",
       "<table border=\"1\" class=\"dataframe\">\n",
       "  <thead>\n",
       "    <tr style=\"text-align: right;\">\n",
       "      <th></th>\n",
       "      <th>train_score</th>\n",
       "      <th>test_score</th>\n",
       "      <th>diff</th>\n",
       "      <th>train_loss</th>\n",
       "      <th>test_loss</th>\n",
       "    </tr>\n",
       "  </thead>\n",
       "  <tbody>\n",
       "    <tr>\n",
       "      <th>_utils.ClassfierModule</th>\n",
       "      <td>1.0</td>\n",
       "      <td>0.766147</td>\n",
       "      <td>0.233853</td>\n",
       "      <td>0.0</td>\n",
       "      <td>0.233853</td>\n",
       "    </tr>\n",
       "  </tbody>\n",
       "</table>\n",
       "</div>"
      ],
      "text/plain": [
       "                        train_score  test_score      diff  train_loss  \\\n",
       "_utils.ClassfierModule          1.0    0.766147  0.233853         0.0   \n",
       "\n",
       "                        test_loss  \n",
       "_utils.ClassfierModule   0.233853  "
      ]
     },
     "execution_count": 9,
     "metadata": {},
     "output_type": "execute_result"
    }
   ],
   "source": [
    "dtModel, dtDF, classification_report = cd.decision_tree_classification()\n",
    "\n",
    "dtDF"
   ]
  },
  {
   "cell_type": "code",
   "execution_count": null,
   "metadata": {},
   "outputs": [
    {
     "name": "stdout",
     "output_type": "stream",
     "text": [
      "              precision    recall  f1-score   support\n",
      "\n",
      "           0       0.78      0.70      0.74       195\n",
      "           1       0.79      0.85      0.82       254\n",
      "\n",
      "    accuracy                           0.79       449\n",
      "   macro avg       0.79      0.78      0.78       449\n",
      "weighted avg       0.79      0.79      0.78       449\n",
      "\n"
     ]
    },
    {
     "data": {
      "text/html": [
       "<div>\n",
       "<style scoped>\n",
       "    .dataframe tbody tr th:only-of-type {\n",
       "        vertical-align: middle;\n",
       "    }\n",
       "\n",
       "    .dataframe tbody tr th {\n",
       "        vertical-align: top;\n",
       "    }\n",
       "\n",
       "    .dataframe thead th {\n",
       "        text-align: right;\n",
       "    }\n",
       "</style>\n",
       "<table border=\"1\" class=\"dataframe\">\n",
       "  <thead>\n",
       "    <tr style=\"text-align: right;\">\n",
       "      <th></th>\n",
       "      <th>train_score</th>\n",
       "      <th>test_score</th>\n",
       "      <th>diff</th>\n",
       "      <th>train_loss</th>\n",
       "      <th>test_loss</th>\n",
       "    </tr>\n",
       "  </thead>\n",
       "  <tbody>\n",
       "    <tr>\n",
       "      <th>_utils.ClassfierModule</th>\n",
       "      <td>0.999257</td>\n",
       "      <td>0.786192</td>\n",
       "      <td>0.213065</td>\n",
       "      <td>0.000743</td>\n",
       "      <td>0.213808</td>\n",
       "    </tr>\n",
       "  </tbody>\n",
       "</table>\n",
       "</div>"
      ],
      "text/plain": [
       "                        train_score  test_score      diff  train_loss  \\\n",
       "_utils.ClassfierModule     0.999257    0.786192  0.213065    0.000743   \n",
       "\n",
       "                        test_loss  \n",
       "_utils.ClassfierModule   0.213808  "
      ]
     },
     "execution_count": 16,
     "metadata": {},
     "output_type": "execute_result"
    }
   ],
   "source": [
    "rfModel, rfDF, classification_report = cd.rf_classifier()\n",
    "\n",
    "rfDF"
   ]
  },
  {
   "cell_type": "code",
   "execution_count": 17,
   "metadata": {},
   "outputs": [],
   "source": [
    "rfcvDF = cd.cv_classifier(rfModel)"
   ]
  },
  {
   "cell_type": "code",
   "execution_count": 24,
   "metadata": {},
   "outputs": [
    {
     "data": {
      "text/html": [
       "<div>\n",
       "<style scoped>\n",
       "    .dataframe tbody tr th:only-of-type {\n",
       "        vertical-align: middle;\n",
       "    }\n",
       "\n",
       "    .dataframe tbody tr th {\n",
       "        vertical-align: top;\n",
       "    }\n",
       "\n",
       "    .dataframe thead th {\n",
       "        text-align: right;\n",
       "    }\n",
       "</style>\n",
       "<table border=\"1\" class=\"dataframe\">\n",
       "  <thead>\n",
       "    <tr style=\"text-align: right;\">\n",
       "      <th></th>\n",
       "      <th>train_mean_accuracy</th>\n",
       "      <th>train_std_accuracy</th>\n",
       "      <th>test_mean_accuracy</th>\n",
       "      <th>test_std_accuracy</th>\n",
       "      <th>train_mean_precision</th>\n",
       "      <th>train_std_precision</th>\n",
       "      <th>test_mean_precision</th>\n",
       "      <th>test_std_precision</th>\n",
       "      <th>train_mean_recall</th>\n",
       "      <th>train_std_recall</th>\n",
       "      <th>...</th>\n",
       "      <th>test_mean_f1</th>\n",
       "      <th>test_std_f1</th>\n",
       "      <th>train_mean_log_loss</th>\n",
       "      <th>train_std_log_loss</th>\n",
       "      <th>test_mean_log_loss</th>\n",
       "      <th>test_std_log_loss</th>\n",
       "      <th>diff_accuracy</th>\n",
       "      <th>diff_precision</th>\n",
       "      <th>diff_recall</th>\n",
       "      <th>diff_f1</th>\n",
       "    </tr>\n",
       "  </thead>\n",
       "  <tbody>\n",
       "    <tr>\n",
       "      <th>RandomForestClassifier</th>\n",
       "      <td>0.765799</td>\n",
       "      <td>0.034474</td>\n",
       "      <td>0.672684</td>\n",
       "      <td>0.034168</td>\n",
       "      <td>0.76392</td>\n",
       "      <td>0.036019</td>\n",
       "      <td>0.667098</td>\n",
       "      <td>0.037532</td>\n",
       "      <td>0.756551</td>\n",
       "      <td>0.035595</td>\n",
       "      <td>...</td>\n",
       "      <td>0.660009</td>\n",
       "      <td>0.036098</td>\n",
       "      <td>-8.44145</td>\n",
       "      <td>1.242584</td>\n",
       "      <td>-11.797659</td>\n",
       "      <td>1.231539</td>\n",
       "      <td>0.093115</td>\n",
       "      <td>0.096822</td>\n",
       "      <td>0.097628</td>\n",
       "      <td>0.098749</td>\n",
       "    </tr>\n",
       "  </tbody>\n",
       "</table>\n",
       "<p>1 rows × 24 columns</p>\n",
       "</div>"
      ],
      "text/plain": [
       "                        train_mean_accuracy  train_std_accuracy  \\\n",
       "RandomForestClassifier             0.765799            0.034474   \n",
       "\n",
       "                        test_mean_accuracy  test_std_accuracy  \\\n",
       "RandomForestClassifier            0.672684           0.034168   \n",
       "\n",
       "                        train_mean_precision  train_std_precision  \\\n",
       "RandomForestClassifier               0.76392             0.036019   \n",
       "\n",
       "                        test_mean_precision  test_std_precision  \\\n",
       "RandomForestClassifier             0.667098            0.037532   \n",
       "\n",
       "                        train_mean_recall  train_std_recall  ...  \\\n",
       "RandomForestClassifier           0.756551          0.035595  ...   \n",
       "\n",
       "                        test_mean_f1  test_std_f1  train_mean_log_loss  \\\n",
       "RandomForestClassifier      0.660009     0.036098             -8.44145   \n",
       "\n",
       "                        train_std_log_loss  test_mean_log_loss  \\\n",
       "RandomForestClassifier            1.242584          -11.797659   \n",
       "\n",
       "                        test_std_log_loss  diff_accuracy  diff_precision  \\\n",
       "RandomForestClassifier           1.231539       0.093115        0.096822   \n",
       "\n",
       "                        diff_recall   diff_f1  \n",
       "RandomForestClassifier     0.097628  0.098749  \n",
       "\n",
       "[1 rows x 24 columns]"
      ]
     },
     "execution_count": 24,
     "metadata": {},
     "output_type": "execute_result"
    }
   ],
   "source": [
    "rfcvDF"
   ]
  },
  {
   "cell_type": "code",
   "execution_count": 18,
   "metadata": {},
   "outputs": [
    {
     "name": "stdout",
     "output_type": "stream",
     "text": [
      "              precision    recall  f1-score   support\n",
      "\n",
      "           0       0.79      0.71      0.75       195\n",
      "           1       0.79      0.85      0.82       254\n",
      "\n",
      "    accuracy                           0.79       449\n",
      "   macro avg       0.79      0.78      0.78       449\n",
      "weighted avg       0.79      0.79      0.79       449\n",
      "\n"
     ]
    },
    {
     "data": {
      "text/html": [
       "<div>\n",
       "<style scoped>\n",
       "    .dataframe tbody tr th:only-of-type {\n",
       "        vertical-align: middle;\n",
       "    }\n",
       "\n",
       "    .dataframe tbody tr th {\n",
       "        vertical-align: top;\n",
       "    }\n",
       "\n",
       "    .dataframe thead th {\n",
       "        text-align: right;\n",
       "    }\n",
       "</style>\n",
       "<table border=\"1\" class=\"dataframe\">\n",
       "  <thead>\n",
       "    <tr style=\"text-align: right;\">\n",
       "      <th></th>\n",
       "      <th>train_score</th>\n",
       "      <th>test_score</th>\n",
       "      <th>diff</th>\n",
       "      <th>train_loss</th>\n",
       "      <th>test_loss</th>\n",
       "    </tr>\n",
       "  </thead>\n",
       "  <tbody>\n",
       "    <tr>\n",
       "      <th>_utils.ClassfierModule</th>\n",
       "      <td>0.997026</td>\n",
       "      <td>0.790646</td>\n",
       "      <td>0.20638</td>\n",
       "      <td>0.002974</td>\n",
       "      <td>0.209354</td>\n",
       "    </tr>\n",
       "  </tbody>\n",
       "</table>\n",
       "</div>"
      ],
      "text/plain": [
       "                        train_score  test_score     diff  train_loss  \\\n",
       "_utils.ClassfierModule     0.997026    0.790646  0.20638    0.002974   \n",
       "\n",
       "                        test_loss  \n",
       "_utils.ClassfierModule   0.209354  "
      ]
     },
     "execution_count": 18,
     "metadata": {},
     "output_type": "execute_result"
    }
   ],
   "source": [
    "rfModel, rfDF, classification_report = cd.rf_classifier(min_samples_leaf=4, min_samples_split=2)\n",
    "print( classification_report)\n",
    "rfDF"
   ]
  },
  {
   "cell_type": "code",
   "execution_count": 19,
   "metadata": {},
   "outputs": [
    {
     "name": "stdout",
     "output_type": "stream",
     "text": [
      "              precision    recall  f1-score   support\n",
      "\n",
      "           0       0.79      0.71      0.75       195\n",
      "           1       0.79      0.85      0.82       254\n",
      "\n",
      "    accuracy                           0.79       449\n",
      "   macro avg       0.79      0.78      0.78       449\n",
      "weighted avg       0.79      0.79      0.79       449\n",
      "\n"
     ]
    },
    {
     "data": {
      "text/html": [
       "<div>\n",
       "<style scoped>\n",
       "    .dataframe tbody tr th:only-of-type {\n",
       "        vertical-align: middle;\n",
       "    }\n",
       "\n",
       "    .dataframe tbody tr th {\n",
       "        vertical-align: top;\n",
       "    }\n",
       "\n",
       "    .dataframe thead th {\n",
       "        text-align: right;\n",
       "    }\n",
       "</style>\n",
       "<table border=\"1\" class=\"dataframe\">\n",
       "  <thead>\n",
       "    <tr style=\"text-align: right;\">\n",
       "      <th></th>\n",
       "      <th>train_score</th>\n",
       "      <th>test_score</th>\n",
       "      <th>diff</th>\n",
       "      <th>train_loss</th>\n",
       "      <th>test_loss</th>\n",
       "    </tr>\n",
       "  </thead>\n",
       "  <tbody>\n",
       "    <tr>\n",
       "      <th>_utils.ClassfierModule</th>\n",
       "      <td>0.997026</td>\n",
       "      <td>0.790646</td>\n",
       "      <td>0.20638</td>\n",
       "      <td>0.002974</td>\n",
       "      <td>0.209354</td>\n",
       "    </tr>\n",
       "  </tbody>\n",
       "</table>\n",
       "</div>"
      ],
      "text/plain": [
       "                        train_score  test_score     diff  train_loss  \\\n",
       "_utils.ClassfierModule     0.997026    0.790646  0.20638    0.002974   \n",
       "\n",
       "                        test_loss  \n",
       "_utils.ClassfierModule   0.209354  "
      ]
     },
     "execution_count": 19,
     "metadata": {},
     "output_type": "execute_result"
    }
   ],
   "source": [
    "rfModel, rfDF, classification_report = cd.rf_classifier(min_samples_leaf=4, min_samples_split=2)\n",
    "print( classification_report)\n",
    "rfDF"
   ]
  },
  {
   "cell_type": "code",
   "execution_count": null,
   "metadata": {},
   "outputs": [
    {
     "name": "stdout",
     "output_type": "stream",
     "text": [
      "              precision    recall  f1-score   support\n",
      "\n",
      "           0       0.79      0.74      0.76       195\n",
      "           1       0.81      0.85      0.83       254\n",
      "\n",
      "    accuracy                           0.80       449\n",
      "   macro avg       0.80      0.79      0.79       449\n",
      "weighted avg       0.80      0.80      0.80       449\n",
      "\n"
     ]
    },
    {
     "data": {
      "text/html": [
       "<div>\n",
       "<style scoped>\n",
       "    .dataframe tbody tr th:only-of-type {\n",
       "        vertical-align: middle;\n",
       "    }\n",
       "\n",
       "    .dataframe tbody tr th {\n",
       "        vertical-align: top;\n",
       "    }\n",
       "\n",
       "    .dataframe thead th {\n",
       "        text-align: right;\n",
       "    }\n",
       "</style>\n",
       "<table border=\"1\" class=\"dataframe\">\n",
       "  <thead>\n",
       "    <tr style=\"text-align: right;\">\n",
       "      <th></th>\n",
       "      <th>train_score</th>\n",
       "      <th>test_score</th>\n",
       "      <th>diff</th>\n",
       "      <th>train_loss</th>\n",
       "      <th>test_loss</th>\n",
       "    </tr>\n",
       "  </thead>\n",
       "  <tbody>\n",
       "    <tr>\n",
       "      <th>_utils.ClassfierModule</th>\n",
       "      <td>1.0</td>\n",
       "      <td>0.799555</td>\n",
       "      <td>0.200445</td>\n",
       "      <td>0.0</td>\n",
       "      <td>0.200445</td>\n",
       "    </tr>\n",
       "  </tbody>\n",
       "</table>\n",
       "</div>"
      ],
      "text/plain": [
       "                        train_score  test_score      diff  train_loss  \\\n",
       "_utils.ClassfierModule          1.0    0.799555  0.200445         0.0   \n",
       "\n",
       "                        test_loss  \n",
       "_utils.ClassfierModule   0.200445  "
      ]
     },
     "execution_count": 21,
     "metadata": {},
     "output_type": "execute_result"
    }
   ],
   "source": [
    "xgbModel, xgbDF, classification_report = cd.xgb_classifier()\n",
    "\n",
    "xgbDF"
   ]
  },
  {
   "cell_type": "code",
   "execution_count": null,
   "metadata": {},
   "outputs": [
    {
     "name": "stdout",
     "output_type": "stream",
     "text": [
      "[LightGBM] [Info] Number of positive: 760, number of negative: 585\n",
      "[LightGBM] [Info] Auto-choosing col-wise multi-threading, the overhead of testing was 5.048253 seconds.\n",
      "You can set `force_col_wise=true` to remove the overhead.\n",
      "[LightGBM] [Info] Total Bins 9944640\n",
      "[LightGBM] [Info] Number of data points in the train set: 1345, number of used features: 52000\n",
      "[LightGBM] [Info] [binary:BoostFromScore]: pavg=0.565056 -> initscore=0.261707\n",
      "[LightGBM] [Info] Start training from score 0.261707\n",
      "              precision    recall  f1-score   support\n",
      "\n",
      "           0       0.77      0.73      0.75       195\n",
      "           1       0.80      0.83      0.81       254\n",
      "\n",
      "    accuracy                           0.79       449\n",
      "   macro avg       0.78      0.78      0.78       449\n",
      "weighted avg       0.79      0.79      0.79       449\n",
      "\n"
     ]
    },
    {
     "data": {
      "text/html": [
       "<div>\n",
       "<style scoped>\n",
       "    .dataframe tbody tr th:only-of-type {\n",
       "        vertical-align: middle;\n",
       "    }\n",
       "\n",
       "    .dataframe tbody tr th {\n",
       "        vertical-align: top;\n",
       "    }\n",
       "\n",
       "    .dataframe thead th {\n",
       "        text-align: right;\n",
       "    }\n",
       "</style>\n",
       "<table border=\"1\" class=\"dataframe\">\n",
       "  <thead>\n",
       "    <tr style=\"text-align: right;\">\n",
       "      <th></th>\n",
       "      <th>train_score</th>\n",
       "      <th>test_score</th>\n",
       "      <th>diff</th>\n",
       "      <th>train_loss</th>\n",
       "      <th>test_loss</th>\n",
       "    </tr>\n",
       "  </thead>\n",
       "  <tbody>\n",
       "    <tr>\n",
       "      <th>_utils.ClassfierModule</th>\n",
       "      <td>1.0</td>\n",
       "      <td>0.786192</td>\n",
       "      <td>0.213808</td>\n",
       "      <td>0.0</td>\n",
       "      <td>0.213808</td>\n",
       "    </tr>\n",
       "  </tbody>\n",
       "</table>\n",
       "</div>"
      ],
      "text/plain": [
       "                        train_score  test_score      diff  train_loss  \\\n",
       "_utils.ClassfierModule          1.0    0.786192  0.213808         0.0   \n",
       "\n",
       "                        test_loss  \n",
       "_utils.ClassfierModule   0.213808  "
      ]
     },
     "execution_count": 22,
     "metadata": {},
     "output_type": "execute_result"
    }
   ],
   "source": [
    "lgbmModel, lgbmDF, classification_report = cd.lgbm_classifier()\n",
    "\n",
    "lgbmDF"
   ]
  }
 ],
 "metadata": {
  "kernelspec": {
   "display_name": "ML_CV",
   "language": "python",
   "name": "python3"
  },
  "language_info": {
   "codemirror_mode": {
    "name": "ipython",
    "version": 3
   },
   "file_extension": ".py",
   "mimetype": "text/x-python",
   "name": "python",
   "nbconvert_exporter": "python",
   "pygments_lexer": "ipython3",
   "version": "3.9.21"
  }
 },
 "nbformat": 4,
 "nbformat_minor": 2
}
