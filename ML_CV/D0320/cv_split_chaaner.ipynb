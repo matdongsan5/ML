{
 "cells": [
  {
   "cell_type": "markdown",
   "metadata": {},
   "source": [
    "[이미지 채널 분리]\n",
    "- opencv는 이미지 데이터 저장순서가 bgr\n",
    "- 채널 분리 후 채널별 출력"
   ]
  },
  {
   "cell_type": "code",
   "execution_count": null,
   "metadata": {},
   "outputs": [],
   "source": [
    "import seaborn as sns\n",
    "import pandas as pd # 데이터 분석 및 전처리\n",
    "import numpy as np # 숫자처리\n",
    "import matplotlib.pyplot as plt # 데이터 시각화\n",
    "import cv2\n",
    "import os"
   ]
  },
  {
   "cell_type": "code",
   "execution_count": 2,
   "metadata": {},
   "outputs": [],
   "source": [
    "imgDir = '../_data/_image/'\n",
    "videoDir = '../_data/_video/'\n",
    "fileName = 'image_fx_ (1).jpg'"
   ]
  },
  {
   "cell_type": "code",
   "execution_count": 3,
   "metadata": {},
   "outputs": [
    {
     "name": "stdout",
     "output_type": "stream",
     "text": [
      "image_fx_ (1).jpg\n",
      "shape: (768, 1408, 3)     ndim: 3\n"
     ]
    }
   ],
   "source": [
    "colorImg = cv2.imread(imgDir+fileName, cv2.IMREAD_COLOR)\n",
    "if colorImg is not False:\n",
    "    print(fileName)\n",
    "    print(f\"shape: {colorImg.shape}     ndim: {colorImg.ndim}\")\n",
    "else:\n",
    "    print(f'{colorImg} check')"
   ]
  },
  {
   "cell_type": "code",
   "execution_count": 4,
   "metadata": {},
   "outputs": [],
   "source": [
    "colorImg_b, colorImg_g, colorImg_r = cv2.split(colorImg)\n",
    "import time\n",
    "cv2.waitKey(0)\n",
    "cv2.imshow(f\"[Blue Channel]\", colorImg_b)\n",
    "time.sleep(1)\n",
    "cv2.imshow(f\"[Green Channel]\", colorImg_g)\n",
    "time.sleep(1)\n",
    "cv2.imshow(f\"[Red Channel]\", colorImg_r)\n",
    "\n",
    "cv2.waitKey(0)\n",
    "cv2.destroyWindow(f\"[Blue Channel]\")\n",
    "time.sleep(1)\n",
    "cv2.destroyWindow(f\"[Green Channel]\")\n",
    "time.sleep(1)\n",
    "cv2.destroyWindow(f\"[Red Channel]\")\n",
    "time.sleep(1)\n"
   ]
  },
  {
   "cell_type": "code",
   "execution_count": 5,
   "metadata": {},
   "outputs": [
    {
     "name": "stdout",
     "output_type": "stream",
     "text": [
      "[[133 129 132 ... 100 101  99]\n",
      " [138 134 135 ... 101 100  99]\n",
      " [135 133 135 ... 102 102 101]\n",
      " ...\n",
      " [107 109 107 ... 104 105 106]\n",
      " [106 107 107 ... 106 106 105]\n",
      " [107 109 106 ... 104 104 106]]\n"
     ]
    }
   ],
   "source": [
    "print(colorImg_b)"
   ]
  },
  {
   "cell_type": "code",
   "execution_count": null,
   "metadata": {},
   "outputs": [
    {
     "name": "stdout",
     "output_type": "stream",
     "text": [
      "[Blue Channel] shape: (768, 1408)     ndim: 2\n",
      "[Green Channel] shape: (768, 1408)     ndim: 2\n",
      "[Red Channel] shape: (768, 1408)     ndim: 2\n"
     ]
    }
   ],
   "source": [
    "print(f\"[Blue Channel] shape: {colorImg_b.shape}     ndim: {colorImg_b.ndim}\")\n",
    "print(f\"[Green Channel] shape: {colorImg_g.shape}     ndim: {colorImg_g.ndim}\")\n",
    "print(f\"[Red Channel] shape: {colorImg_r.shape}     ndim: {colorImg_r.ndim}\")"
   ]
  },
  {
   "cell_type": "markdown",
   "metadata": {},
   "source": [
    "[4] 채널 병합"
   ]
  },
  {
   "cell_type": "code",
   "execution_count": 9,
   "metadata": {},
   "outputs": [],
   "source": [
    "img_rgb = cv2.merge((colorImg_r, colorImg_g, colorImg_b))\n",
    "cv2.imshow('[RGB]', img_rgb)\n",
    "cv2.imshow('[BGR]', colorImg)\n",
    "cv2.waitKey()\n",
    "cv2.destroyAllWindows()\n"
   ]
  },
  {
   "cell_type": "code",
   "execution_count": null,
   "metadata": {},
   "outputs": [],
   "source": []
  },
  {
   "cell_type": "code",
   "execution_count": null,
   "metadata": {},
   "outputs": [],
   "source": []
  }
 ],
 "metadata": {
  "kernelspec": {
   "display_name": "ML_CV",
   "language": "python",
   "name": "python3"
  },
  "language_info": {
   "codemirror_mode": {
    "name": "ipython",
    "version": 3
   },
   "file_extension": ".py",
   "mimetype": "text/x-python",
   "name": "python",
   "nbconvert_exporter": "python",
   "pygments_lexer": "ipython3",
   "version": "3.9.21"
  }
 },
 "nbformat": 4,
 "nbformat_minor": 2
}
