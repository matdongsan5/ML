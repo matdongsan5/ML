{
 "cells": [
  {
   "cell_type": "markdown",
   "metadata": {},
   "source": [
    "csv로부터 학습하여 고양이인지 개인지 구분하는 모델 만들기\n",
    "이진분류."
   ]
  },
  {
   "cell_type": "code",
   "execution_count": 13,
   "metadata": {},
   "outputs": [],
   "source": [
    "## [1-1]모듈로딩\n",
    "import struct\n",
    "    # binary 파일을 원하는 형태로 읽어들이기 위한 모듈\n",
    "import os\n",
    "    # 운영체제 시스템관련 모듈, 폴더랑 파일. 경로.\n",
    "import cv2\n",
    "import csv\n",
    "import numpy as np\n",
    "import pandas as pd"
   ]
  },
  {
   "cell_type": "code",
   "execution_count": 14,
   "metadata": {},
   "outputs": [],
   "source": [
    "# 컬러 이미지 불러오기 (BGR)\n",
    "# cv2.imread(\"down_image_fx_ (1).jpg\",cv2.IMREAD_GRAYSCALE).shape\n",
    "\n"
   ]
  },
  {
   "cell_type": "code",
   "execution_count": 15,
   "metadata": {},
   "outputs": [],
   "source": [
    "# imgDir = '../_data/_image/cat_dog/'\n",
    "imgDir = '../_data/_image/cat_dog_fin/'\n",
    "fileName = ''\n",
    "#데이터 읽어오기\n",
    "fNameList = os.listdir(imgDir)"
   ]
  },
  {
   "cell_type": "code",
   "execution_count": 16,
   "metadata": {},
   "outputs": [
    {
     "data": {
      "text/plain": [
       "['cat_ (1).jpg', 'cat_ (1000).jpg', 'cat_ (1001).jpg']"
      ]
     },
     "execution_count": 16,
     "metadata": {},
     "output_type": "execute_result"
    }
   ],
   "source": [
    "fNameList[:3]"
   ]
  },
  {
   "cell_type": "code",
   "execution_count": null,
   "metadata": {},
   "outputs": [
    {
     "name": "stdout",
     "output_type": "stream",
     "text": [
      "(461, 600)\n",
      "(276600,)\n",
      "(1199, 1200)\n",
      "(1438800,)\n"
     ]
    }
   ],
   "source": [
    "finalDF = pd.DataFrame()\n",
    "for i in fNameList[:2]:\n",
    "    Img = cv2.imread(imgDir+i, cv2.IMREAD_GRAYSCALE)\n",
    "    # print(Img.shape)\n",
    "    Img = Img.flatten()\n",
    "    # print(Img.shape)\n",
    "    "
   ]
  },
  {
   "cell_type": "code",
   "execution_count": null,
   "metadata": {},
   "outputs": [
    {
     "name": "stdout",
     "output_type": "stream",
     "text": [
      "cat_ (1).jpg\n",
      "cat_ (1000).jpg\n",
      "cat_ (1001).jpg\n",
      "cat_ (1002).jpg\n",
      "cat_ (1003).jpg\n",
      "cat_ (1004).jpg\n",
      "cat_ (1005).jpg\n",
      "cat_ (1006).jpg\n",
      "cat_ (1007).jpg\n",
      "cat_ (1008).jpg\n",
      "cat_ (1009).jpg\n",
      "cat_ (1010).jpg\n",
      "cat_ (1011).jpg\n",
      "cat_ (1012).jpg\n",
      "cat_ (1013).jpg\n",
      "cat_ (1014).jpg\n",
      "cat_ (1015).jpg\n",
      "cat_ (1016).jpg\n",
      "cat_ (1017).jpg\n",
      "cat_ (1018).jpg\n",
      "cat_ (1019).jpg\n",
      "cat_ (1020).jpg\n",
      "cat_ (1021).jpg\n",
      "cat_ (1022).jpg\n",
      "cat_ (1023).jpg\n",
      "cat_ (1024).jpg\n",
      "cat_ (1025).jpg\n",
      "cat_ (1026).jpg\n",
      "cat_ (1027).jpg\n",
      "cat_ (1028).jpg\n",
      "cat_ (1029).jpg\n",
      "cat_ (1030).jpg\n",
      "cat_ (1031).jpg\n",
      "cat_ (1032).jpg\n",
      "cat_ (1033).jpg\n",
      "cat_ (1034).jpg\n",
      "cat_ (1035).jpg\n",
      "cat_ (1036).jpg\n",
      "cat_ (1037).jpg\n",
      "cat_ (1038).jpg\n",
      "cat_ (1039).jpg\n",
      "cat_ (1040).jpg\n",
      "cat_ (1041).jpg\n",
      "cat_ (1042).jpg\n",
      "cat_ (1043).jpg\n",
      "cat_ (1044).jpg\n",
      "cat_ (1045).jpg\n",
      "cat_ (1046).jpg\n",
      "cat_ (1047).jpg\n",
      "cat_ (1048).jpg\n",
      "cat_ (1049).jpg\n",
      "cat_ (1050).jpg\n",
      "cat_ (1051).jpg\n",
      "cat_ (1052).jpg\n",
      "cat_ (1053).jpg\n",
      "cat_ (1054).jpg\n",
      "cat_ (1055).jpg\n",
      "cat_ (1056).jpg\n",
      "cat_ (1057).jpg\n",
      "cat_ (1058).jpg\n",
      "cat_ (1059).jpg\n",
      "cat_ (1060).jpg\n",
      "cat_ (1061).jpg\n",
      "cat_ (1062).jpg\n",
      "cat_ (1063).jpg\n",
      "cat_ (1064).jpg\n",
      "cat_ (1065).jpg\n",
      "cat_ (1066).jpg\n",
      "cat_ (1067).jpg\n",
      "cat_ (1068).jpg\n",
      "cat_ (1069).jpg\n",
      "cat_ (1070).jpg\n",
      "cat_ (1071).jpg\n",
      "cat_ (1072).jpg\n",
      "cat_ (1073).jpg\n",
      "cat_ (1074).jpg\n",
      "cat_ (1075).jpg\n",
      "cat_ (1076).jpg\n",
      "cat_ (1077).jpg\n",
      "cat_ (1078).jpg\n",
      "cat_ (1079).jpg\n",
      "cat_ (1080).jpg\n",
      "cat_ (1081).jpg\n",
      "cat_ (1082).jpg\n",
      "cat_ (1083).jpg\n",
      "cat_ (1084).jpg\n",
      "cat_ (1085).jpg\n",
      "cat_ (1086).jpg\n",
      "cat_ (1087).jpg\n",
      "cat_ (1088).jpg\n",
      "cat_ (1089).jpg\n",
      "cat_ (1090).jpg\n",
      "cat_ (1091).jpg\n",
      "cat_ (1092).jpg\n",
      "cat_ (1093).jpg\n",
      "cat_ (1094).jpg\n",
      "cat_ (1095).jpg\n",
      "cat_ (1096).jpg\n",
      "cat_ (1097).jpg\n",
      "cat_ (1098).jpg\n",
      "cat_ (1099).jpg\n",
      "cat_ (1100).jpg\n",
      "cat_ (1101).jpg\n",
      "cat_ (1102).jpg\n",
      "cat_ (1103).jpg\n",
      "cat_ (1104).jpg\n",
      "cat_ (1105).jpg\n",
      "cat_ (1106).jpg\n",
      "cat_ (1107).jpg\n",
      "cat_ (1108).jpg\n",
      "cat_ (1109).jpg\n",
      "cat_ (1110).jpg\n",
      "cat_ (1111).jpg\n",
      "cat_ (1112).jpg\n",
      "cat_ (1113).jpg\n",
      "cat_ (1114).jpg\n",
      "cat_ (1115).jpg\n",
      "cat_ (1116).jpg\n",
      "cat_ (1117).jpg\n",
      "cat_ (1118).jpg\n",
      "cat_ (1119).jpg\n",
      "cat_ (1120).jpg\n",
      "cat_ (1121).jpg\n",
      "cat_ (1122).jpg\n",
      "cat_ (1123).jpg\n",
      "cat_ (1124).jpg\n",
      "cat_ (1125).jpg\n",
      "cat_ (1126).jpg\n",
      "cat_ (1127).jpg\n",
      "cat_ (1128).jpg\n",
      "cat_ (1129).jpg\n",
      "cat_ (1130).jpg\n",
      "cat_ (1131).jpg\n",
      "cat_ (1132).jpg\n",
      "cat_ (1133).jpg\n",
      "cat_ (1134).jpg\n",
      "cat_ (1135).jpg\n",
      "cat_ (1136).jpg\n",
      "cat_ (1137).jpg\n",
      "cat_ (1138).jpg\n",
      "cat_ (1139).jpg\n",
      "cat_ (1140).jpg\n",
      "cat_ (1141).jpg\n",
      "cat_ (1142).jpg\n",
      "cat_ (1143).jpg\n",
      "cat_ (1144).jpg\n",
      "cat_ (1145).jpg\n",
      "cat_ (1146).jpg\n",
      "cat_ (1147).jpg\n",
      "cat_ (1148).jpg\n",
      "cat_ (1149).jpg\n",
      "cat_ (1150).jpg\n",
      "cat_ (1151).jpg\n",
      "cat_ (1152).jpg\n",
      "cat_ (1153).jpg\n",
      "cat_ (1154).jpg\n",
      "cat_ (1155).jpg\n",
      "cat_ (1156).jpg\n",
      "cat_ (1157).jpg\n",
      "cat_ (1158).jpg\n",
      "cat_ (1159).jpg\n",
      "cat_ (1160).jpg\n",
      "cat_ (1161).jpg\n",
      "cat_ (1162).jpg\n",
      "cat_ (1163).jpg\n",
      "cat_ (1164).jpg\n",
      "cat_ (1165).jpg\n",
      "cat_ (1166).jpg\n",
      "cat_ (1167).jpg\n",
      "cat_ (1168).jpg\n",
      "cat_ (1169).jpg\n",
      "cat_ (1170).jpg\n",
      "cat_ (1171).jpg\n",
      "cat_ (1172).jpg\n",
      "cat_ (1173).jpg\n",
      "cat_ (1174).jpg\n",
      "cat_ (1175).jpg\n",
      "cat_ (1176).jpg\n",
      "cat_ (1177).jpg\n",
      "cat_ (1178).jpg\n",
      "cat_ (1179).jpg\n",
      "cat_ (1180).jpg\n",
      "cat_ (1181).jpg\n",
      "cat_ (1182).jpg\n",
      "cat_ (1183).jpg\n",
      "cat_ (1184).jpg\n",
      "cat_ (1185).jpg\n",
      "cat_ (1186).jpg\n",
      "cat_ (1187).jpg\n",
      "cat_ (1188).jpg\n",
      "cat_ (1189).jpg\n",
      "cat_ (1190).jpg\n",
      "cat_ (1191).jpg\n",
      "cat_ (1192).jpg\n",
      "cat_ (1193).jpg\n",
      "cat_ (1194).jpg\n",
      "cat_ (1195).jpg\n",
      "cat_ (1196).jpg\n",
      "cat_ (1197).jpg\n",
      "cat_ (1198).jpg\n",
      "cat_ (1199).jpg\n",
      "cat_ (1200).jpg\n",
      "cat_ (1201).jpg\n",
      "cat_ (1202).jpg\n",
      "cat_ (1203).jpg\n",
      "cat_ (1204).jpg\n",
      "cat_ (1205).jpg\n",
      "cat_ (1206).jpg\n",
      "cat_ (1207).jpg\n",
      "cat_ (1208).jpg\n",
      "cat_ (1209).jpg\n",
      "cat_ (1210).jpg\n",
      "cat_ (1211).jpg\n",
      "cat_ (1212).jpg\n",
      "cat_ (1213).jpg\n",
      "cat_ (1214).jpg\n",
      "cat_ (1215).jpg\n",
      "cat_ (1216).jpg\n",
      "cat_ (1217).jpg\n",
      "cat_ (1218).jpg\n",
      "cat_ (1219).jpg\n",
      "cat_ (1220).jpg\n",
      "cat_ (1221).jpg\n",
      "cat_ (1222).jpg\n",
      "cat_ (1223).jpg\n",
      "cat_ (1224).jpg\n",
      "cat_ (1225).jpg\n",
      "cat_ (1226).jpg\n",
      "cat_ (1227).jpg\n",
      "cat_ (1228).jpg\n",
      "cat_ (1229).jpg\n",
      "cat_ (1230).jpg\n",
      "cat_ (1231).jpg\n",
      "cat_ (1232).jpg\n",
      "cat_ (1233).jpg\n",
      "cat_ (1234).jpg\n",
      "cat_ (1235).jpg\n",
      "cat_ (1236).jpg\n",
      "cat_ (1237).jpg\n",
      "cat_ (1238).jpg\n",
      "cat_ (1239).jpg\n",
      "cat_ (1240).jpg\n",
      "cat_ (1241).jpg\n",
      "cat_ (1242).jpg\n",
      "cat_ (1243).jpg\n",
      "cat_ (1244).jpg\n",
      "cat_ (1245).jpg\n",
      "cat_ (1246).jpg\n",
      "cat_ (1247).jpg\n",
      "cat_ (1248).jpg\n",
      "cat_ (1249).jpg\n",
      "cat_ (1250).jpg\n",
      "cat_ (1251).jpg\n",
      "cat_ (1252).jpg\n",
      "cat_ (1253).jpg\n",
      "cat_ (1254).jpg\n",
      "cat_ (1255).jpg\n",
      "cat_ (1256).jpg\n",
      "cat_ (1257).jpg\n",
      "cat_ (1258).jpg\n",
      "cat_ (1259).jpg\n",
      "cat_ (1260).jpg\n",
      "cat_ (1261).jpg\n",
      "cat_ (1262).jpg\n",
      "cat_ (1263).jpg\n",
      "cat_ (1264).jpg\n",
      "cat_ (1265).jpg\n",
      "cat_ (1266).jpg\n",
      "cat_ (1267).jpg\n",
      "cat_ (1268).jpg\n",
      "cat_ (1269).jpg\n",
      "cat_ (1270).jpg\n",
      "cat_ (1271).jpg\n",
      "cat_ (1272).jpg\n",
      "cat_ (1273).jpg\n",
      "cat_ (1274).jpg\n",
      "cat_ (1275).jpg\n",
      "cat_ (1276).jpg\n",
      "cat_ (1277).jpg\n",
      "cat_ (1278).jpg\n",
      "cat_ (1279).jpg\n",
      "cat_ (1280).jpg\n",
      "cat_ (1281).jpg\n",
      "cat_ (1282).jpg\n",
      "cat_ (1283).jpg\n",
      "cat_ (1284).jpg\n",
      "cat_ (1285).jpg\n",
      "cat_ (1286).jpg\n",
      "cat_ (1287).jpg\n",
      "cat_ (1288).jpg\n",
      "cat_ (1289).jpg\n",
      "cat_ (1290).jpg\n",
      "cat_ (1291).jpg\n",
      "cat_ (1292).jpg\n",
      "cat_ (1293).jpg\n",
      "cat_ (1294).jpg\n",
      "cat_ (1295).jpg\n",
      "cat_ (1296).jpg\n",
      "cat_ (1297).jpg\n",
      "cat_ (1298).jpg\n",
      "cat_ (1299).jpg\n",
      "cat_ (1300).jpg\n",
      "cat_ (1301).jpg\n",
      "cat_ (1302).jpg\n",
      "cat_ (1303).jpg\n",
      "cat_ (1304).jpg\n",
      "cat_ (1305).jpg\n",
      "cat_ (1306).jpg\n"
     ]
    },
    {
     "ename": "KeyboardInterrupt",
     "evalue": "",
     "output_type": "error",
     "traceback": [
      "\u001b[1;31m---------------------------------------------------------------------------\u001b[0m",
      "\u001b[1;31mKeyboardInterrupt\u001b[0m                         Traceback (most recent call last)",
      "Cell \u001b[1;32mIn[11], line 6\u001b[0m\n\u001b[0;32m      3\u001b[0m Img \u001b[38;5;241m=\u001b[39m cv2\u001b[38;5;241m.\u001b[39mimread(imgDir\u001b[38;5;241m+\u001b[39mi, cv2\u001b[38;5;241m.\u001b[39mIMREAD_GRAYSCALE)\n\u001b[0;32m      5\u001b[0m img_flatten \u001b[38;5;241m=\u001b[39m Img\u001b[38;5;241m.\u001b[39mflatten()  \u001b[38;5;66;03m# (1,-1) 대신 flatten() 사용\u001b[39;00m\n\u001b[1;32m----> 6\u001b[0m img_df \u001b[38;5;241m=\u001b[39m \u001b[43mpd\u001b[49m\u001b[38;5;241;43m.\u001b[39;49m\u001b[43mDataFrame\u001b[49m\u001b[43m(\u001b[49m\u001b[43m[\u001b[49m\u001b[43mimg_flatten\u001b[49m\u001b[43m]\u001b[49m\u001b[43m)\u001b[49m  \u001b[38;5;66;03m# 2D DataFrame 변환\u001b[39;00m\n\u001b[0;32m      7\u001b[0m img_df[\u001b[38;5;124m\"\u001b[39m\u001b[38;5;124manswer\u001b[39m\u001b[38;5;124m\"\u001b[39m] \u001b[38;5;241m=\u001b[39m i[:\u001b[38;5;241m3\u001b[39m]\n\u001b[0;32m      9\u001b[0m finalDF \u001b[38;5;241m=\u001b[39m pd\u001b[38;5;241m.\u001b[39mconcat([finalDF, img_df], ignore_index\u001b[38;5;241m=\u001b[39m\u001b[38;5;28;01mTrue\u001b[39;00m)\n",
      "File \u001b[1;32mc:\\Users\\matdo\\anaconda3\\envs\\ML_CV\\lib\\site-packages\\pandas\\core\\frame.py:851\u001b[0m, in \u001b[0;36mDataFrame.__init__\u001b[1;34m(self, data, index, columns, dtype, copy)\u001b[0m\n\u001b[0;32m    849\u001b[0m     \u001b[38;5;28;01mif\u001b[39;00m columns \u001b[38;5;129;01mis\u001b[39;00m \u001b[38;5;129;01mnot\u001b[39;00m \u001b[38;5;28;01mNone\u001b[39;00m:\n\u001b[0;32m    850\u001b[0m         columns \u001b[38;5;241m=\u001b[39m ensure_index(columns)\n\u001b[1;32m--> 851\u001b[0m     arrays, columns, index \u001b[38;5;241m=\u001b[39m \u001b[43mnested_data_to_arrays\u001b[49m\u001b[43m(\u001b[49m\n\u001b[0;32m    852\u001b[0m \u001b[43m        \u001b[49m\u001b[38;5;66;43;03m# error: Argument 3 to \"nested_data_to_arrays\" has incompatible\u001b[39;49;00m\n\u001b[0;32m    853\u001b[0m \u001b[43m        \u001b[49m\u001b[38;5;66;43;03m# type \"Optional[Collection[Any]]\"; expected \"Optional[Index]\"\u001b[39;49;00m\n\u001b[0;32m    854\u001b[0m \u001b[43m        \u001b[49m\u001b[43mdata\u001b[49m\u001b[43m,\u001b[49m\n\u001b[0;32m    855\u001b[0m \u001b[43m        \u001b[49m\u001b[43mcolumns\u001b[49m\u001b[43m,\u001b[49m\n\u001b[0;32m    856\u001b[0m \u001b[43m        \u001b[49m\u001b[43mindex\u001b[49m\u001b[43m,\u001b[49m\u001b[43m  \u001b[49m\u001b[38;5;66;43;03m# type: ignore[arg-type]\u001b[39;49;00m\n\u001b[0;32m    857\u001b[0m \u001b[43m        \u001b[49m\u001b[43mdtype\u001b[49m\u001b[43m,\u001b[49m\n\u001b[0;32m    858\u001b[0m \u001b[43m    \u001b[49m\u001b[43m)\u001b[49m\n\u001b[0;32m    859\u001b[0m     mgr \u001b[38;5;241m=\u001b[39m arrays_to_mgr(\n\u001b[0;32m    860\u001b[0m         arrays,\n\u001b[0;32m    861\u001b[0m         columns,\n\u001b[1;32m   (...)\u001b[0m\n\u001b[0;32m    864\u001b[0m         typ\u001b[38;5;241m=\u001b[39mmanager,\n\u001b[0;32m    865\u001b[0m     )\n\u001b[0;32m    866\u001b[0m \u001b[38;5;28;01melse\u001b[39;00m:\n",
      "File \u001b[1;32mc:\\Users\\matdo\\anaconda3\\envs\\ML_CV\\lib\\site-packages\\pandas\\core\\internals\\construction.py:520\u001b[0m, in \u001b[0;36mnested_data_to_arrays\u001b[1;34m(data, columns, index, dtype)\u001b[0m\n\u001b[0;32m    517\u001b[0m \u001b[38;5;28;01mif\u001b[39;00m is_named_tuple(data[\u001b[38;5;241m0\u001b[39m]) \u001b[38;5;129;01mand\u001b[39;00m columns \u001b[38;5;129;01mis\u001b[39;00m \u001b[38;5;28;01mNone\u001b[39;00m:\n\u001b[0;32m    518\u001b[0m     columns \u001b[38;5;241m=\u001b[39m ensure_index(data[\u001b[38;5;241m0\u001b[39m]\u001b[38;5;241m.\u001b[39m_fields)\n\u001b[1;32m--> 520\u001b[0m arrays, columns \u001b[38;5;241m=\u001b[39m \u001b[43mto_arrays\u001b[49m\u001b[43m(\u001b[49m\u001b[43mdata\u001b[49m\u001b[43m,\u001b[49m\u001b[43m \u001b[49m\u001b[43mcolumns\u001b[49m\u001b[43m,\u001b[49m\u001b[43m \u001b[49m\u001b[43mdtype\u001b[49m\u001b[38;5;241;43m=\u001b[39;49m\u001b[43mdtype\u001b[49m\u001b[43m)\u001b[49m\n\u001b[0;32m    521\u001b[0m columns \u001b[38;5;241m=\u001b[39m ensure_index(columns)\n\u001b[0;32m    523\u001b[0m \u001b[38;5;28;01mif\u001b[39;00m index \u001b[38;5;129;01mis\u001b[39;00m \u001b[38;5;28;01mNone\u001b[39;00m:\n",
      "File \u001b[1;32mc:\\Users\\matdo\\anaconda3\\envs\\ML_CV\\lib\\site-packages\\pandas\\core\\internals\\construction.py:845\u001b[0m, in \u001b[0;36mto_arrays\u001b[1;34m(data, columns, dtype)\u001b[0m\n\u001b[0;32m    842\u001b[0m     data \u001b[38;5;241m=\u001b[39m [\u001b[38;5;28mtuple\u001b[39m(x) \u001b[38;5;28;01mfor\u001b[39;00m x \u001b[38;5;129;01min\u001b[39;00m data]\n\u001b[0;32m    843\u001b[0m     arr \u001b[38;5;241m=\u001b[39m _list_to_arrays(data)\n\u001b[1;32m--> 845\u001b[0m content, columns \u001b[38;5;241m=\u001b[39m \u001b[43m_finalize_columns_and_data\u001b[49m\u001b[43m(\u001b[49m\u001b[43marr\u001b[49m\u001b[43m,\u001b[49m\u001b[43m \u001b[49m\u001b[43mcolumns\u001b[49m\u001b[43m,\u001b[49m\u001b[43m \u001b[49m\u001b[43mdtype\u001b[49m\u001b[43m)\u001b[49m\n\u001b[0;32m    846\u001b[0m \u001b[38;5;28;01mreturn\u001b[39;00m content, columns\n",
      "File \u001b[1;32mc:\\Users\\matdo\\anaconda3\\envs\\ML_CV\\lib\\site-packages\\pandas\\core\\internals\\construction.py:945\u001b[0m, in \u001b[0;36m_finalize_columns_and_data\u001b[1;34m(content, columns, dtype)\u001b[0m\n\u001b[0;32m    942\u001b[0m     \u001b[38;5;28;01mraise\u001b[39;00m \u001b[38;5;167;01mValueError\u001b[39;00m(err) \u001b[38;5;28;01mfrom\u001b[39;00m\u001b[38;5;250m \u001b[39m\u001b[38;5;21;01merr\u001b[39;00m\n\u001b[0;32m    944\u001b[0m \u001b[38;5;28;01mif\u001b[39;00m \u001b[38;5;28mlen\u001b[39m(contents) \u001b[38;5;129;01mand\u001b[39;00m contents[\u001b[38;5;241m0\u001b[39m]\u001b[38;5;241m.\u001b[39mdtype \u001b[38;5;241m==\u001b[39m np\u001b[38;5;241m.\u001b[39mobject_:\n\u001b[1;32m--> 945\u001b[0m     contents \u001b[38;5;241m=\u001b[39m \u001b[43mconvert_object_array\u001b[49m\u001b[43m(\u001b[49m\u001b[43mcontents\u001b[49m\u001b[43m,\u001b[49m\u001b[43m \u001b[49m\u001b[43mdtype\u001b[49m\u001b[38;5;241;43m=\u001b[39;49m\u001b[43mdtype\u001b[49m\u001b[43m)\u001b[49m\n\u001b[0;32m    947\u001b[0m \u001b[38;5;28;01mreturn\u001b[39;00m contents, columns\n",
      "File \u001b[1;32mc:\\Users\\matdo\\anaconda3\\envs\\ML_CV\\lib\\site-packages\\pandas\\core\\internals\\construction.py:1070\u001b[0m, in \u001b[0;36mconvert_object_array\u001b[1;34m(content, dtype, dtype_backend, coerce_float)\u001b[0m\n\u001b[0;32m   1066\u001b[0m             arr \u001b[38;5;241m=\u001b[39m maybe_cast_to_datetime(arr, dtype)\n\u001b[0;32m   1068\u001b[0m     \u001b[38;5;28;01mreturn\u001b[39;00m arr\n\u001b[1;32m-> 1070\u001b[0m arrays \u001b[38;5;241m=\u001b[39m [convert(arr) \u001b[38;5;28;01mfor\u001b[39;00m arr \u001b[38;5;129;01min\u001b[39;00m content]\n\u001b[0;32m   1072\u001b[0m \u001b[38;5;28;01mreturn\u001b[39;00m arrays\n",
      "File \u001b[1;32mc:\\Users\\matdo\\anaconda3\\envs\\ML_CV\\lib\\site-packages\\pandas\\core\\internals\\construction.py:1070\u001b[0m, in \u001b[0;36m<listcomp>\u001b[1;34m(.0)\u001b[0m\n\u001b[0;32m   1066\u001b[0m             arr \u001b[38;5;241m=\u001b[39m maybe_cast_to_datetime(arr, dtype)\n\u001b[0;32m   1068\u001b[0m     \u001b[38;5;28;01mreturn\u001b[39;00m arr\n\u001b[1;32m-> 1070\u001b[0m arrays \u001b[38;5;241m=\u001b[39m [\u001b[43mconvert\u001b[49m\u001b[43m(\u001b[49m\u001b[43marr\u001b[49m\u001b[43m)\u001b[49m \u001b[38;5;28;01mfor\u001b[39;00m arr \u001b[38;5;129;01min\u001b[39;00m content]\n\u001b[0;32m   1072\u001b[0m \u001b[38;5;28;01mreturn\u001b[39;00m arrays\n",
      "File \u001b[1;32mc:\\Users\\matdo\\anaconda3\\envs\\ML_CV\\lib\\site-packages\\pandas\\core\\internals\\construction.py:1042\u001b[0m, in \u001b[0;36mconvert_object_array.<locals>.convert\u001b[1;34m(arr)\u001b[0m\n\u001b[0;32m   1030\u001b[0m arr \u001b[38;5;241m=\u001b[39m lib\u001b[38;5;241m.\u001b[39mmaybe_convert_objects(\n\u001b[0;32m   1031\u001b[0m     arr,\n\u001b[0;32m   1032\u001b[0m     try_float\u001b[38;5;241m=\u001b[39mcoerce_float,\n\u001b[0;32m   1033\u001b[0m     convert_to_nullable_dtype\u001b[38;5;241m=\u001b[39mdtype_backend \u001b[38;5;241m!=\u001b[39m \u001b[38;5;124m\"\u001b[39m\u001b[38;5;124mnumpy\u001b[39m\u001b[38;5;124m\"\u001b[39m,\n\u001b[0;32m   1034\u001b[0m )\n\u001b[0;32m   1035\u001b[0m \u001b[38;5;66;03m# Notes on cases that get here 2023-02-15\u001b[39;00m\n\u001b[0;32m   1036\u001b[0m \u001b[38;5;66;03m# 1) we DO get here when arr is all Timestamps and dtype=None\u001b[39;00m\n\u001b[0;32m   1037\u001b[0m \u001b[38;5;66;03m# 2) disabling this doesn't break the world, so this must be\u001b[39;00m\n\u001b[0;32m   1038\u001b[0m \u001b[38;5;66;03m#    getting caught at a higher level\u001b[39;00m\n\u001b[0;32m   1039\u001b[0m \u001b[38;5;66;03m# 3) passing convert_non_numeric to maybe_convert_objects get this right\u001b[39;00m\n\u001b[0;32m   1040\u001b[0m \u001b[38;5;66;03m# 4) convert_non_numeric?\u001b[39;00m\n\u001b[1;32m-> 1042\u001b[0m \u001b[38;5;28;01mif\u001b[39;00m \u001b[43mdtype\u001b[49m \u001b[38;5;129;01mis\u001b[39;00m \u001b[38;5;28;01mNone\u001b[39;00m:\n\u001b[0;32m   1043\u001b[0m     \u001b[38;5;28;01mif\u001b[39;00m arr\u001b[38;5;241m.\u001b[39mdtype \u001b[38;5;241m==\u001b[39m np\u001b[38;5;241m.\u001b[39mdtype(\u001b[38;5;124m\"\u001b[39m\u001b[38;5;124mO\u001b[39m\u001b[38;5;124m\"\u001b[39m):\n\u001b[0;32m   1044\u001b[0m         \u001b[38;5;66;03m# i.e. maybe_convert_objects didn't convert\u001b[39;00m\n\u001b[0;32m   1045\u001b[0m         arr \u001b[38;5;241m=\u001b[39m maybe_infer_to_datetimelike(arr)\n",
      "\u001b[1;31mKeyboardInterrupt\u001b[0m: "
     ]
    }
   ],
   "source": [
    "catDF = pd.DataFrame()\n",
    "for i in fNameList[:1561]:\n",
    "    Img = cv2.imread(imgDir+i, cv2.IMREAD_GRAYSCALE)\n",
    "    \n",
    "    img_flatten = Img.flatten()  # (1,-1) 대신 flatten() 사용\n",
    "    img_df = pd.DataFrame([img_flatten])  # 2D DataFrame 변환\n",
    "    img_df[\"answer\"] = i[:3] \n",
    "    \n",
    "    catDF = pd.concat([catDF, img_df], ignore_index=True)\n",
    "    print(i)"
   ]
  },
  {
   "cell_type": "code",
   "execution_count": null,
   "metadata": {},
   "outputs": [
    {
     "ename": "KeyboardInterrupt",
     "evalue": "",
     "output_type": "error",
     "traceback": [
      "\u001b[1;31m---------------------------------------------------------------------------\u001b[0m",
      "\u001b[1;31mKeyboardInterrupt\u001b[0m                         Traceback (most recent call last)",
      "Cell \u001b[1;32mIn[26], line 6\u001b[0m\n\u001b[0;32m      3\u001b[0m Img \u001b[38;5;241m=\u001b[39m cv2\u001b[38;5;241m.\u001b[39mimread(imgDir\u001b[38;5;241m+\u001b[39mi, cv2\u001b[38;5;241m.\u001b[39mIMREAD_GRAYSCALE)\n\u001b[0;32m      5\u001b[0m img_flatten \u001b[38;5;241m=\u001b[39m Img\u001b[38;5;241m.\u001b[39mflatten()  \u001b[38;5;66;03m# (1,-1) 대신 flatten() 사용\u001b[39;00m\n\u001b[1;32m----> 6\u001b[0m img_df \u001b[38;5;241m=\u001b[39m \u001b[43mpd\u001b[49m\u001b[38;5;241;43m.\u001b[39;49m\u001b[43mDataFrame\u001b[49m\u001b[43m(\u001b[49m\u001b[43m[\u001b[49m\u001b[43mimg_flatten\u001b[49m\u001b[43m]\u001b[49m\u001b[43m)\u001b[49m  \u001b[38;5;66;03m# 2D DataFrame 변환\u001b[39;00m\n\u001b[0;32m      7\u001b[0m img_df[\u001b[38;5;124m\"\u001b[39m\u001b[38;5;124manswer\u001b[39m\u001b[38;5;124m\"\u001b[39m] \u001b[38;5;241m=\u001b[39m i[:\u001b[38;5;241m3\u001b[39m] \n\u001b[0;32m      9\u001b[0m finalDF \u001b[38;5;241m=\u001b[39m pd\u001b[38;5;241m.\u001b[39mconcat([finalDF, img_df], ignore_index\u001b[38;5;241m=\u001b[39m\u001b[38;5;28;01mTrue\u001b[39;00m)\n",
      "File \u001b[1;32mc:\\Users\\matdo\\anaconda3\\envs\\ML_CV\\lib\\site-packages\\pandas\\core\\frame.py:851\u001b[0m, in \u001b[0;36mDataFrame.__init__\u001b[1;34m(self, data, index, columns, dtype, copy)\u001b[0m\n\u001b[0;32m    849\u001b[0m     \u001b[38;5;28;01mif\u001b[39;00m columns \u001b[38;5;129;01mis\u001b[39;00m \u001b[38;5;129;01mnot\u001b[39;00m \u001b[38;5;28;01mNone\u001b[39;00m:\n\u001b[0;32m    850\u001b[0m         columns \u001b[38;5;241m=\u001b[39m ensure_index(columns)\n\u001b[1;32m--> 851\u001b[0m     arrays, columns, index \u001b[38;5;241m=\u001b[39m \u001b[43mnested_data_to_arrays\u001b[49m\u001b[43m(\u001b[49m\n\u001b[0;32m    852\u001b[0m \u001b[43m        \u001b[49m\u001b[38;5;66;43;03m# error: Argument 3 to \"nested_data_to_arrays\" has incompatible\u001b[39;49;00m\n\u001b[0;32m    853\u001b[0m \u001b[43m        \u001b[49m\u001b[38;5;66;43;03m# type \"Optional[Collection[Any]]\"; expected \"Optional[Index]\"\u001b[39;49;00m\n\u001b[0;32m    854\u001b[0m \u001b[43m        \u001b[49m\u001b[43mdata\u001b[49m\u001b[43m,\u001b[49m\n\u001b[0;32m    855\u001b[0m \u001b[43m        \u001b[49m\u001b[43mcolumns\u001b[49m\u001b[43m,\u001b[49m\n\u001b[0;32m    856\u001b[0m \u001b[43m        \u001b[49m\u001b[43mindex\u001b[49m\u001b[43m,\u001b[49m\u001b[43m  \u001b[49m\u001b[38;5;66;43;03m# type: ignore[arg-type]\u001b[39;49;00m\n\u001b[0;32m    857\u001b[0m \u001b[43m        \u001b[49m\u001b[43mdtype\u001b[49m\u001b[43m,\u001b[49m\n\u001b[0;32m    858\u001b[0m \u001b[43m    \u001b[49m\u001b[43m)\u001b[49m\n\u001b[0;32m    859\u001b[0m     mgr \u001b[38;5;241m=\u001b[39m arrays_to_mgr(\n\u001b[0;32m    860\u001b[0m         arrays,\n\u001b[0;32m    861\u001b[0m         columns,\n\u001b[1;32m   (...)\u001b[0m\n\u001b[0;32m    864\u001b[0m         typ\u001b[38;5;241m=\u001b[39mmanager,\n\u001b[0;32m    865\u001b[0m     )\n\u001b[0;32m    866\u001b[0m \u001b[38;5;28;01melse\u001b[39;00m:\n",
      "File \u001b[1;32mc:\\Users\\matdo\\anaconda3\\envs\\ML_CV\\lib\\site-packages\\pandas\\core\\internals\\construction.py:520\u001b[0m, in \u001b[0;36mnested_data_to_arrays\u001b[1;34m(data, columns, index, dtype)\u001b[0m\n\u001b[0;32m    517\u001b[0m \u001b[38;5;28;01mif\u001b[39;00m is_named_tuple(data[\u001b[38;5;241m0\u001b[39m]) \u001b[38;5;129;01mand\u001b[39;00m columns \u001b[38;5;129;01mis\u001b[39;00m \u001b[38;5;28;01mNone\u001b[39;00m:\n\u001b[0;32m    518\u001b[0m     columns \u001b[38;5;241m=\u001b[39m ensure_index(data[\u001b[38;5;241m0\u001b[39m]\u001b[38;5;241m.\u001b[39m_fields)\n\u001b[1;32m--> 520\u001b[0m arrays, columns \u001b[38;5;241m=\u001b[39m \u001b[43mto_arrays\u001b[49m\u001b[43m(\u001b[49m\u001b[43mdata\u001b[49m\u001b[43m,\u001b[49m\u001b[43m \u001b[49m\u001b[43mcolumns\u001b[49m\u001b[43m,\u001b[49m\u001b[43m \u001b[49m\u001b[43mdtype\u001b[49m\u001b[38;5;241;43m=\u001b[39;49m\u001b[43mdtype\u001b[49m\u001b[43m)\u001b[49m\n\u001b[0;32m    521\u001b[0m columns \u001b[38;5;241m=\u001b[39m ensure_index(columns)\n\u001b[0;32m    523\u001b[0m \u001b[38;5;28;01mif\u001b[39;00m index \u001b[38;5;129;01mis\u001b[39;00m \u001b[38;5;28;01mNone\u001b[39;00m:\n",
      "File \u001b[1;32mc:\\Users\\matdo\\anaconda3\\envs\\ML_CV\\lib\\site-packages\\pandas\\core\\internals\\construction.py:845\u001b[0m, in \u001b[0;36mto_arrays\u001b[1;34m(data, columns, dtype)\u001b[0m\n\u001b[0;32m    842\u001b[0m     data \u001b[38;5;241m=\u001b[39m [\u001b[38;5;28mtuple\u001b[39m(x) \u001b[38;5;28;01mfor\u001b[39;00m x \u001b[38;5;129;01min\u001b[39;00m data]\n\u001b[0;32m    843\u001b[0m     arr \u001b[38;5;241m=\u001b[39m _list_to_arrays(data)\n\u001b[1;32m--> 845\u001b[0m content, columns \u001b[38;5;241m=\u001b[39m \u001b[43m_finalize_columns_and_data\u001b[49m\u001b[43m(\u001b[49m\u001b[43marr\u001b[49m\u001b[43m,\u001b[49m\u001b[43m \u001b[49m\u001b[43mcolumns\u001b[49m\u001b[43m,\u001b[49m\u001b[43m \u001b[49m\u001b[43mdtype\u001b[49m\u001b[43m)\u001b[49m\n\u001b[0;32m    846\u001b[0m \u001b[38;5;28;01mreturn\u001b[39;00m content, columns\n",
      "File \u001b[1;32mc:\\Users\\matdo\\anaconda3\\envs\\ML_CV\\lib\\site-packages\\pandas\\core\\internals\\construction.py:945\u001b[0m, in \u001b[0;36m_finalize_columns_and_data\u001b[1;34m(content, columns, dtype)\u001b[0m\n\u001b[0;32m    942\u001b[0m     \u001b[38;5;28;01mraise\u001b[39;00m \u001b[38;5;167;01mValueError\u001b[39;00m(err) \u001b[38;5;28;01mfrom\u001b[39;00m\u001b[38;5;250m \u001b[39m\u001b[38;5;21;01merr\u001b[39;00m\n\u001b[0;32m    944\u001b[0m \u001b[38;5;28;01mif\u001b[39;00m \u001b[38;5;28mlen\u001b[39m(contents) \u001b[38;5;129;01mand\u001b[39;00m contents[\u001b[38;5;241m0\u001b[39m]\u001b[38;5;241m.\u001b[39mdtype \u001b[38;5;241m==\u001b[39m np\u001b[38;5;241m.\u001b[39mobject_:\n\u001b[1;32m--> 945\u001b[0m     contents \u001b[38;5;241m=\u001b[39m \u001b[43mconvert_object_array\u001b[49m\u001b[43m(\u001b[49m\u001b[43mcontents\u001b[49m\u001b[43m,\u001b[49m\u001b[43m \u001b[49m\u001b[43mdtype\u001b[49m\u001b[38;5;241;43m=\u001b[39;49m\u001b[43mdtype\u001b[49m\u001b[43m)\u001b[49m\n\u001b[0;32m    947\u001b[0m \u001b[38;5;28;01mreturn\u001b[39;00m contents, columns\n",
      "File \u001b[1;32mc:\\Users\\matdo\\anaconda3\\envs\\ML_CV\\lib\\site-packages\\pandas\\core\\internals\\construction.py:1070\u001b[0m, in \u001b[0;36mconvert_object_array\u001b[1;34m(content, dtype, dtype_backend, coerce_float)\u001b[0m\n\u001b[0;32m   1066\u001b[0m             arr \u001b[38;5;241m=\u001b[39m maybe_cast_to_datetime(arr, dtype)\n\u001b[0;32m   1068\u001b[0m     \u001b[38;5;28;01mreturn\u001b[39;00m arr\n\u001b[1;32m-> 1070\u001b[0m arrays \u001b[38;5;241m=\u001b[39m [convert(arr) \u001b[38;5;28;01mfor\u001b[39;00m arr \u001b[38;5;129;01min\u001b[39;00m content]\n\u001b[0;32m   1072\u001b[0m \u001b[38;5;28;01mreturn\u001b[39;00m arrays\n",
      "File \u001b[1;32mc:\\Users\\matdo\\anaconda3\\envs\\ML_CV\\lib\\site-packages\\pandas\\core\\internals\\construction.py:1070\u001b[0m, in \u001b[0;36m<listcomp>\u001b[1;34m(.0)\u001b[0m\n\u001b[0;32m   1066\u001b[0m             arr \u001b[38;5;241m=\u001b[39m maybe_cast_to_datetime(arr, dtype)\n\u001b[0;32m   1068\u001b[0m     \u001b[38;5;28;01mreturn\u001b[39;00m arr\n\u001b[1;32m-> 1070\u001b[0m arrays \u001b[38;5;241m=\u001b[39m [\u001b[43mconvert\u001b[49m\u001b[43m(\u001b[49m\u001b[43marr\u001b[49m\u001b[43m)\u001b[49m \u001b[38;5;28;01mfor\u001b[39;00m arr \u001b[38;5;129;01min\u001b[39;00m content]\n\u001b[0;32m   1072\u001b[0m \u001b[38;5;28;01mreturn\u001b[39;00m arrays\n",
      "File \u001b[1;32mc:\\Users\\matdo\\anaconda3\\envs\\ML_CV\\lib\\site-packages\\pandas\\core\\internals\\construction.py:1042\u001b[0m, in \u001b[0;36mconvert_object_array.<locals>.convert\u001b[1;34m(arr)\u001b[0m\n\u001b[0;32m   1030\u001b[0m arr \u001b[38;5;241m=\u001b[39m lib\u001b[38;5;241m.\u001b[39mmaybe_convert_objects(\n\u001b[0;32m   1031\u001b[0m     arr,\n\u001b[0;32m   1032\u001b[0m     try_float\u001b[38;5;241m=\u001b[39mcoerce_float,\n\u001b[0;32m   1033\u001b[0m     convert_to_nullable_dtype\u001b[38;5;241m=\u001b[39mdtype_backend \u001b[38;5;241m!=\u001b[39m \u001b[38;5;124m\"\u001b[39m\u001b[38;5;124mnumpy\u001b[39m\u001b[38;5;124m\"\u001b[39m,\n\u001b[0;32m   1034\u001b[0m )\n\u001b[0;32m   1035\u001b[0m \u001b[38;5;66;03m# Notes on cases that get here 2023-02-15\u001b[39;00m\n\u001b[0;32m   1036\u001b[0m \u001b[38;5;66;03m# 1) we DO get here when arr is all Timestamps and dtype=None\u001b[39;00m\n\u001b[0;32m   1037\u001b[0m \u001b[38;5;66;03m# 2) disabling this doesn't break the world, so this must be\u001b[39;00m\n\u001b[0;32m   1038\u001b[0m \u001b[38;5;66;03m#    getting caught at a higher level\u001b[39;00m\n\u001b[0;32m   1039\u001b[0m \u001b[38;5;66;03m# 3) passing convert_non_numeric to maybe_convert_objects get this right\u001b[39;00m\n\u001b[0;32m   1040\u001b[0m \u001b[38;5;66;03m# 4) convert_non_numeric?\u001b[39;00m\n\u001b[1;32m-> 1042\u001b[0m \u001b[38;5;28;01mif\u001b[39;00m \u001b[43mdtype\u001b[49m \u001b[38;5;129;01mis\u001b[39;00m \u001b[38;5;28;01mNone\u001b[39;00m:\n\u001b[0;32m   1043\u001b[0m     \u001b[38;5;28;01mif\u001b[39;00m arr\u001b[38;5;241m.\u001b[39mdtype \u001b[38;5;241m==\u001b[39m np\u001b[38;5;241m.\u001b[39mdtype(\u001b[38;5;124m\"\u001b[39m\u001b[38;5;124mO\u001b[39m\u001b[38;5;124m\"\u001b[39m):\n\u001b[0;32m   1044\u001b[0m         \u001b[38;5;66;03m# i.e. maybe_convert_objects didn't convert\u001b[39;00m\n\u001b[0;32m   1045\u001b[0m         arr \u001b[38;5;241m=\u001b[39m maybe_infer_to_datetimelike(arr)\n",
      "\u001b[1;31mKeyboardInterrupt\u001b[0m: "
     ]
    }
   ],
   "source": [
    "dogDF = pd.DataFrame()\n",
    "for i in fNameList[1561:]:\n",
    "    Img = cv2.imread(imgDir+i, cv2.IMREAD_GRAYSCALE)\n",
    "    \n",
    "    img_flatten = Img.flatten()  # (1,-1) 대신 flatten() 사용\n",
    "    img_df = pd.DataFrame([img_flatten])  # 2D DataFrame 변환\n",
    "    img_df[\"answer\"] = i[:3] \n",
    "    \n",
    "    dogDF = pd.concat([dogDF, img_df], ignore_index=True)\n",
    "    "
   ]
  },
  {
   "cell_type": "code",
   "execution_count": 27,
   "metadata": {},
   "outputs": [
    {
     "data": {
      "text/plain": [
       "(2, 360001)"
      ]
     },
     "execution_count": 27,
     "metadata": {},
     "output_type": "execute_result"
    }
   ],
   "source": [
    "finalDF.shape"
   ]
  },
  {
   "cell_type": "code",
   "execution_count": 29,
   "metadata": {},
   "outputs": [
    {
     "data": {
      "text/plain": [
       "0    dog\n",
       "1    dog\n",
       "Name: answer, dtype: object"
      ]
     },
     "execution_count": 29,
     "metadata": {},
     "output_type": "execute_result"
    }
   ],
   "source": [
    "finalDF.head()\n",
    "finalDF['answer']"
   ]
  },
  {
   "cell_type": "code",
   "execution_count": null,
   "metadata": {},
   "outputs": [],
   "source": []
  },
  {
   "cell_type": "code",
   "execution_count": null,
   "metadata": {},
   "outputs": [],
   "source": []
  },
  {
   "cell_type": "code",
   "execution_count": null,
   "metadata": {},
   "outputs": [],
   "source": []
  },
  {
   "cell_type": "code",
   "execution_count": null,
   "metadata": {},
   "outputs": [],
   "source": []
  },
  {
   "cell_type": "code",
   "execution_count": null,
   "metadata": {},
   "outputs": [],
   "source": []
  },
  {
   "cell_type": "code",
   "execution_count": null,
   "metadata": {},
   "outputs": [],
   "source": []
  },
  {
   "cell_type": "code",
   "execution_count": null,
   "metadata": {},
   "outputs": [],
   "source": []
  },
  {
   "cell_type": "code",
   "execution_count": null,
   "metadata": {},
   "outputs": [],
   "source": []
  },
  {
   "cell_type": "code",
   "execution_count": null,
   "metadata": {},
   "outputs": [],
   "source": []
  },
  {
   "cell_type": "code",
   "execution_count": null,
   "metadata": {},
   "outputs": [],
   "source": []
  },
  {
   "cell_type": "code",
   "execution_count": null,
   "metadata": {},
   "outputs": [],
   "source": []
  },
  {
   "cell_type": "code",
   "execution_count": null,
   "metadata": {},
   "outputs": [],
   "source": []
  },
  {
   "cell_type": "code",
   "execution_count": null,
   "metadata": {},
   "outputs": [],
   "source": []
  },
  {
   "cell_type": "code",
   "execution_count": null,
   "metadata": {},
   "outputs": [],
   "source": []
  },
  {
   "cell_type": "code",
   "execution_count": null,
   "metadata": {},
   "outputs": [],
   "source": []
  },
  {
   "cell_type": "code",
   "execution_count": null,
   "metadata": {},
   "outputs": [],
   "source": []
  },
  {
   "cell_type": "code",
   "execution_count": null,
   "metadata": {},
   "outputs": [],
   "source": []
  },
  {
   "cell_type": "code",
   "execution_count": null,
   "metadata": {},
   "outputs": [],
   "source": []
  },
  {
   "cell_type": "code",
   "execution_count": null,
   "metadata": {},
   "outputs": [],
   "source": []
  },
  {
   "cell_type": "code",
   "execution_count": null,
   "metadata": {},
   "outputs": [],
   "source": []
  },
  {
   "cell_type": "code",
   "execution_count": null,
   "metadata": {},
   "outputs": [],
   "source": []
  },
  {
   "cell_type": "code",
   "execution_count": null,
   "metadata": {},
   "outputs": [],
   "source": []
  },
  {
   "cell_type": "code",
   "execution_count": null,
   "metadata": {},
   "outputs": [],
   "source": []
  },
  {
   "cell_type": "code",
   "execution_count": null,
   "metadata": {},
   "outputs": [],
   "source": []
  },
  {
   "cell_type": "code",
   "execution_count": null,
   "metadata": {},
   "outputs": [],
   "source": []
  },
  {
   "cell_type": "code",
   "execution_count": null,
   "metadata": {},
   "outputs": [],
   "source": []
  },
  {
   "cell_type": "code",
   "execution_count": null,
   "metadata": {},
   "outputs": [],
   "source": []
  },
  {
   "cell_type": "code",
   "execution_count": null,
   "metadata": {},
   "outputs": [],
   "source": []
  },
  {
   "cell_type": "code",
   "execution_count": null,
   "metadata": {},
   "outputs": [],
   "source": []
  },
  {
   "cell_type": "code",
   "execution_count": null,
   "metadata": {},
   "outputs": [],
   "source": []
  },
  {
   "cell_type": "code",
   "execution_count": null,
   "metadata": {},
   "outputs": [],
   "source": []
  },
  {
   "cell_type": "code",
   "execution_count": null,
   "metadata": {},
   "outputs": [],
   "source": []
  },
  {
   "cell_type": "code",
   "execution_count": null,
   "metadata": {},
   "outputs": [],
   "source": []
  },
  {
   "cell_type": "code",
   "execution_count": null,
   "metadata": {},
   "outputs": [],
   "source": []
  },
  {
   "cell_type": "code",
   "execution_count": null,
   "metadata": {},
   "outputs": [],
   "source": []
  },
  {
   "cell_type": "code",
   "execution_count": null,
   "metadata": {},
   "outputs": [],
   "source": []
  },
  {
   "cell_type": "code",
   "execution_count": null,
   "metadata": {},
   "outputs": [],
   "source": []
  },
  {
   "cell_type": "code",
   "execution_count": null,
   "metadata": {},
   "outputs": [],
   "source": []
  },
  {
   "cell_type": "code",
   "execution_count": null,
   "metadata": {},
   "outputs": [],
   "source": []
  },
  {
   "cell_type": "code",
   "execution_count": null,
   "metadata": {},
   "outputs": [],
   "source": []
  },
  {
   "cell_type": "code",
   "execution_count": null,
   "metadata": {},
   "outputs": [],
   "source": []
  },
  {
   "cell_type": "code",
   "execution_count": null,
   "metadata": {},
   "outputs": [],
   "source": []
  },
  {
   "cell_type": "code",
   "execution_count": null,
   "metadata": {},
   "outputs": [],
   "source": []
  },
  {
   "cell_type": "code",
   "execution_count": null,
   "metadata": {},
   "outputs": [],
   "source": []
  },
  {
   "cell_type": "code",
   "execution_count": null,
   "metadata": {},
   "outputs": [],
   "source": []
  },
  {
   "cell_type": "code",
   "execution_count": null,
   "metadata": {},
   "outputs": [],
   "source": []
  },
  {
   "cell_type": "code",
   "execution_count": null,
   "metadata": {},
   "outputs": [],
   "source": []
  },
  {
   "cell_type": "code",
   "execution_count": null,
   "metadata": {},
   "outputs": [],
   "source": []
  },
  {
   "cell_type": "code",
   "execution_count": null,
   "metadata": {},
   "outputs": [],
   "source": []
  },
  {
   "cell_type": "code",
   "execution_count": null,
   "metadata": {},
   "outputs": [],
   "source": []
  },
  {
   "cell_type": "code",
   "execution_count": null,
   "metadata": {},
   "outputs": [],
   "source": []
  },
  {
   "cell_type": "code",
   "execution_count": null,
   "metadata": {},
   "outputs": [],
   "source": []
  }
 ],
 "metadata": {
  "kernelspec": {
   "display_name": "ML_CV",
   "language": "python",
   "name": "python3"
  },
  "language_info": {
   "codemirror_mode": {
    "name": "ipython",
    "version": 3
   },
   "file_extension": ".py",
   "mimetype": "text/x-python",
   "name": "python",
   "nbconvert_exporter": "python",
   "pygments_lexer": "ipython3",
   "version": "3.9.21"
  }
 },
 "nbformat": 4,
 "nbformat_minor": 2
}
