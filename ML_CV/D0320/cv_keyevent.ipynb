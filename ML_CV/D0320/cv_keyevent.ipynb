{
 "cells": [
  {
   "cell_type": "markdown",
   "metadata": {},
   "source": [
    "event 처리 - keyevent\n",
    "- event : 사용자의 마우스나 키보드로 발생하는 동작들\n",
    "- 마우스 - 클릭, 드래그, 누를때, 뗄때, 더블클릭\n",
    "- 키보드 - 입력한 키 값들.\n",
    "- event 처리\n",
    "    - 이벤트 발생 시 진행하고 동작 코드 작성하는 것\n",
    "    - 개발자가 원하는 기능으로 정의"
   ]
  },
  {
   "cell_type": "code",
   "execution_count": 1,
   "metadata": {},
   "outputs": [],
   "source": [
    "import seaborn as sns\n",
    "import pandas as pd # 데이터 분석 및 전처리\n",
    "import numpy as np # 숫자처리\n",
    "import matplotlib.pyplot as plt # 데이터 시각화\n",
    "import cv2\n",
    "import os"
   ]
  },
  {
   "cell_type": "code",
   "execution_count": 2,
   "metadata": {},
   "outputs": [],
   "source": [
    "imgDir = '../_data/_image/'\n",
    "videoDir = '../_data/_video/'\n",
    "fileName = 'Balatro-Cover.jpg'"
   ]
  },
  {
   "cell_type": "code",
   "execution_count": 3,
   "metadata": {},
   "outputs": [
    {
     "name": "stdout",
     "output_type": "stream",
     "text": [
      "파일리스트 92\n",
      "['save_1.jpg', 'save_10.jpg', 'save_11.jpg', 'save_12.jpg', 'save_13.jpg', 'save_14.jpg', 'save_15.jpg', 'save_16.jpg', 'save_17.jpg', 'save_18.jpg', 'save_19.jpg', 'save_2.jpg', 'save_20.jpg', 'save_21.jpg', 'save_22.jpg', 'save_23.jpg', 'save_24.jpg', 'save_25.jpg', 'save_26.jpg', 'save_27.jpg', 'save_28.jpg', 'save_29.jpg', 'save_3.jpg', 'save_30.jpg', 'save_31.jpg', 'save_32.jpg', 'save_33.jpg', 'save_34.jpg', 'save_35.jpg', 'save_36.jpg', 'save_37.jpg', 'save_38.jpg', 'save_39.jpg', 'save_4.jpg', 'save_40.jpg', 'save_41.jpg', 'save_42.jpg', 'save_43.jpg', 'save_44.jpg', 'save_45.jpg', 'save_46.jpg', 'save_47.jpg', 'save_48.jpg', 'save_49.jpg', 'save_5.jpg', 'save_50.jpg', 'save_51.jpg', 'save_52.jpg', 'save_53.jpg', 'save_54.jpg', 'save_55.jpg', 'save_56.jpg', 'save_57.jpg', 'save_58.jpg', 'save_59.jpg', 'save_6.jpg', 'save_60.jpg', 'save_61.jpg', 'save_62.jpg', 'save_63.jpg', 'save_64.jpg', 'save_65.jpg', 'save_66.jpg', 'save_67.jpg', 'save_68.jpg', 'save_69.jpg', 'save_7.jpg', 'save_70.jpg', 'save_71.jpg', 'save_72.jpg', 'save_73.jpg', 'save_74.jpg', 'save_75.jpg', 'save_76.jpg', 'save_77.jpg', 'save_78.jpg', 'save_79.jpg', 'save_8.jpg', 'save_80.jpg', 'save_81.jpg', 'save_82.jpg', 'save_83.jpg', 'save_84.jpg', 'save_85.jpg', 'save_86.jpg', 'save_87.jpg', 'save_88.jpg', 'save_89.jpg', 'save_9.jpg', 'save_90.jpg', 'save_91.jpg', 'save_92.jpg']\n"
     ]
    }
   ],
   "source": [
    "### 현재 모든 이미지 파일 리스트.\n",
    "allitems = os.listdir(videoDir)\n",
    "# ['big_buck.avi','save_1.jpg','save_10.jpg','save_11.jpg','save_12.jpg'\n",
    "fileList = []\n",
    "for item  in allitems:\n",
    "    # 파일과 폴더 체크 후 파일만 추출\n",
    "    if os.path.isfile(videoDir+item) and 'jpg' in item:\n",
    "        fileList.append(item) \n",
    "print('파일리스트', len(fileList))\n",
    "print(fileList)"
   ]
  },
  {
   "cell_type": "markdown",
   "metadata": {},
   "source": [
    "[2] 이미지로딩"
   ]
  },
  {
   "cell_type": "code",
   "execution_count": 4,
   "metadata": {},
   "outputs": [
    {
     "data": {
      "text/plain": [
       "'../_data/_image/Balatro-Cover.jpg'"
      ]
     },
     "execution_count": 4,
     "metadata": {},
     "output_type": "execute_result"
    }
   ],
   "source": [
    "\n",
    "imgDir+fileName"
   ]
  },
  {
   "cell_type": "code",
   "execution_count": 5,
   "metadata": {},
   "outputs": [
    {
     "name": "stdout",
     "output_type": "stream",
     "text": [
      "Balatro-Cover.jpg\n",
      "shape: (720, 1280, 3)     ndim: 3\n"
     ]
    }
   ],
   "source": [
    "colorImg = cv2.imread(imgDir+fileName, cv2.IMREAD_COLOR)\n",
    "if colorImg is not False:\n",
    "    print(fileName)\n",
    "    print(f\"shape: {colorImg.shape}     ndim: {colorImg.ndim}\")\n",
    "else:\n",
    "    print(f'{colorImg} check')"
   ]
  },
  {
   "cell_type": "code",
   "execution_count": null,
   "metadata": {},
   "outputs": [
    {
     "name": "stdout",
     "output_type": "stream",
     "text": [
      "key => 115 : s\n",
      "저장 여부 :True\n",
      "key => 113 : q\n"
     ]
    }
   ],
   "source": [
    "cv2.imshow(fileName, colorImg)\n",
    "while True:\n",
    "    key = cv2.waitKey(0)\n",
    "    print(f\"key => {key} : {chr(key)}\")\n",
    "\n",
    "    if key in [ord('q'), ord('Q')]:\n",
    "        cv2.destroyAllWindows() \n",
    "        break\n",
    "    elif key in [ord('s'), ord('S')]:\n",
    "        ret = cv2.imwrite(imgDir+'copy'+fileName, colorImg)\n",
    "        print(f'저장 여부 :{'저장' if ret else '실패'}')\n",
    "    "
   ]
  },
  {
   "cell_type": "code",
   "execution_count": null,
   "metadata": {},
   "outputs": [],
   "source": []
  }
 ],
 "metadata": {
  "kernelspec": {
   "display_name": "ML_CV",
   "language": "python",
   "name": "python3"
  },
  "language_info": {
   "codemirror_mode": {
    "name": "ipython",
    "version": 3
   },
   "file_extension": ".py",
   "mimetype": "text/x-python",
   "name": "python",
   "nbconvert_exporter": "python",
   "pygments_lexer": "ipython3",
   "version": "3.9.21"
  }
 },
 "nbformat": 4,
 "nbformat_minor": 2
}
