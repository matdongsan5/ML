{
 "cells": [
  {
   "cell_type": "markdown",
   "metadata": {},
   "source": [
    "이미지 전처리 모듈\n",
    "- 목표\n",
    "    1. 사이즈 균일화 resize()\n",
    "    2. 흑백처리-차원감소 grayscale()\n",
    "    3. 데이터부족시 증가 rotate, flip => increas()\n",
    "    4. tocsv"
   ]
  },
  {
   "cell_type": "code",
   "execution_count": 9,
   "metadata": {},
   "outputs": [],
   "source": [
    "import seaborn as sns\n",
    "import pandas as pd # 데이터 분석 및 전처리\n",
    "import numpy as np # 숫자처리\n",
    "import matplotlib.pyplot as plt # 데이터 시각화\n",
    "import cv2\n",
    "import os"
   ]
  },
  {
   "cell_type": "code",
   "execution_count": 10,
   "metadata": {},
   "outputs": [],
   "source": [
    "imgDir = '../_data/_image/cat_dog/'\n",
    "imgDir2 = '../_data/_image/cat_dog_fin2/'\n",
    "fileName = ''"
   ]
  },
  {
   "cell_type": "code",
   "execution_count": 11,
   "metadata": {},
   "outputs": [],
   "source": [
    "#데이터 읽어오기\n",
    "fNameList = os.listdir(imgDir)"
   ]
  },
  {
   "cell_type": "code",
   "execution_count": 12,
   "metadata": {},
   "outputs": [],
   "source": [
    "shapeDF = pd.DataFrame(columns=['height', 'width', 'ndim'])\n",
    "for i in fNameList:\n",
    "    colorImg = cv2.imread(imgDir+i, cv2.IMREAD_COLOR)\n",
    "    shapeDF.loc[i] = [colorImg.shape[0],colorImg.shape[1],colorImg.shape[2]]"
   ]
  },
  {
   "cell_type": "markdown",
   "metadata": {},
   "source": [
    "- height     796.475524\n",
    "- width     1036.881119\n",
    "- ndim         3.000000\n",
    "- dtype: float64\n",
    "- 800*1040으로 통일"
   ]
  },
  {
   "cell_type": "markdown",
   "metadata": {},
   "source": []
  },
  {
   "cell_type": "code",
   "execution_count": 13,
   "metadata": {},
   "outputs": [],
   "source": [
    "def resize(img):\n",
    "    # meanImg = cv2.resize(img, (400, 520), interpolation=cv2.INTER_AREA)\n",
    "    meanImg = cv2.resize(img, (200, 260), interpolation=cv2.INTER_AREA)\n",
    "    # meanImg = cv2.resize(img, (100, 130), interpolation=cv2.INTER_AREA)\n",
    "    # print(meanImg.shape)\n",
    "    return meanImg"
   ]
  },
  {
   "cell_type": "code",
   "execution_count": 14,
   "metadata": {},
   "outputs": [],
   "source": [
    "def grayscale(img):\n",
    "    grayImg = cv2.cvtColor(img, cv2.COLOR_BGR2GRAY)\n",
    "    return grayImg"
   ]
  },
  {
   "cell_type": "code",
   "execution_count": 15,
   "metadata": {},
   "outputs": [],
   "source": [
    "def flip_rotate(img,fileName):\n",
    "   for i in [0,1]:\n",
    "        hflipImg = cv2.flip(img, i)\n",
    "        for j in range(0,361,30):\n",
    "            H, W, _ = hflipImg.shape\n",
    "            a = cv2.getRotationMatrix2D((W/2,H/2), j, 1)\n",
    "            b = cv2.warpAffine(hflipImg,a,(W,H))\n",
    "            cv2.imwrite(imgDir2+fileName+str(j)+'.jpg',b)"
   ]
  },
  {
   "cell_type": "code",
   "execution_count": 16,
   "metadata": {},
   "outputs": [],
   "source": [
    "for i in fNameList:\n",
    "    colorImg = cv2.imread(imgDir+i)\n",
    "    # shapeDF.loc[i] = [colorImg.shape[0],colorImg.shape[1],colorImg.shape[2]]\n",
    "    flip_rotate(resize(colorImg),i)"
   ]
  },
  {
   "cell_type": "code",
   "execution_count": null,
   "metadata": {},
   "outputs": [],
   "source": []
  },
  {
   "cell_type": "code",
   "execution_count": null,
   "metadata": {},
   "outputs": [],
   "source": [
    "    "
   ]
  }
 ],
 "metadata": {
  "kernelspec": {
   "display_name": "ML_CV",
   "language": "python",
   "name": "python3"
  },
  "language_info": {
   "codemirror_mode": {
    "name": "ipython",
    "version": 3
   },
   "file_extension": ".py",
   "mimetype": "text/x-python",
   "name": "python",
   "nbconvert_exporter": "python",
   "pygments_lexer": "ipython3",
   "version": "3.9.18"
  }
 },
 "nbformat": 4,
 "nbformat_minor": 2
}
