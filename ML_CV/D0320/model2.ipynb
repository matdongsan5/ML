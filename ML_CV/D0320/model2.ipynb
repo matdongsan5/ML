{
 "cells": [
  {
   "cell_type": "code",
   "execution_count": 4,
   "metadata": {},
   "outputs": [],
   "source": [
    "from _utils.ClassfierModule import ClassfierModule as cm\n",
    "from _utils.RegressionModule import RegressionModule as rm\n",
    "from _utils import tools as ts\n",
    "\n",
    "import seaborn as sns\n",
    "import pandas as pd # 데이터 분석 및 전처리\n",
    "import numpy as np # 숫자처리\n",
    "import matplotlib.pyplot as plt # 데이터 시각화\n",
    "from sklearn.linear_model import LinearRegression ## ML 알고리즘\n",
    "from sklearn.metrics import mean_squared_error, mean_absolute_error, root_mean_squared_error\n",
    "                            ## 성능평가 모듈\n",
    "from sklearn.model_selection import train_test_split, KFold\n",
    "                            ## 데이터셋 분리 관련 모듈\n",
    "                            ## 학습/검증/테스트 \n",
    "                                                    ## 교차검증\\\n",
    "from sklearn.preprocessing import PolynomialFeatures # 폴리. 컬럼추가\n",
    "from sklearn.linear_model import Ridge, Lasso, ElasticNet            \n",
    "\n",
    "from sklearn.utils.discovery import *\n",
    "from sklearn.metrics import *   \n",
    "from scipy import stats\n",
    "\n",
    "import koreanize_matplotlib"
   ]
  },
  {
   "cell_type": "code",
   "execution_count": 5,
   "metadata": {},
   "outputs": [],
   "source": [
    "resultDF = pd.DataFrame(pd.read_csv('result_1.csv', encoding='utf-8', index_col=0))"
   ]
  },
  {
   "cell_type": "code",
   "execution_count": 6,
   "metadata": {},
   "outputs": [],
   "source": [
    "le =ts.LabelEncoder()\n",
    "resultDF['answer'] = le.fit_transform(resultDF['answer'])"
   ]
  },
  {
   "cell_type": "code",
   "execution_count": 24,
   "metadata": {},
   "outputs": [],
   "source": [
    "X_train, X_test, y_train, y_test = train_test_split(resultDF.iloc[:,:-1], resultDF['answer'], stratify= resultDF['answer'])"
   ]
  },
  {
   "cell_type": "code",
   "execution_count": 25,
   "metadata": {},
   "outputs": [
    {
     "name": "stdout",
     "output_type": "stream",
     "text": [
      "X_train => 2D (1345, 52000) / X_test => 2D, (449, 52000)\n",
      "y_train => 1D (1345,), / y_test => 1D, (449,)\n"
     ]
    }
   ],
   "source": [
    "print(f\"X_train => {X_train.ndim}D {X_train.shape} / X_test => {X_test.ndim}D, {X_test.shape}\")\n",
    "print(f\"y_train => {y_train.ndim}D {y_train.shape}, / y_test => {y_test.ndim}D, {y_test.shape}\")"
   ]
  },
  {
   "cell_type": "code",
   "execution_count": 26,
   "metadata": {},
   "outputs": [
    {
     "name": "stderr",
     "output_type": "stream",
     "text": [
      "c:\\Users\\matdo\\anaconda3\\envs\\ML_CV\\lib\\site-packages\\sklearn\\svm\\_base.py:1249: ConvergenceWarning: Liblinear failed to converge, increase the number of iterations.\n",
      "  warnings.warn(\n",
      "c:\\Users\\matdo\\anaconda3\\envs\\ML_CV\\lib\\site-packages\\sklearn\\svm\\_base.py:1249: ConvergenceWarning: Liblinear failed to converge, increase the number of iterations.\n",
      "  warnings.warn(\n",
      "c:\\Users\\matdo\\anaconda3\\envs\\ML_CV\\lib\\site-packages\\sklearn\\svm\\_base.py:1249: ConvergenceWarning: Liblinear failed to converge, increase the number of iterations.\n",
      "  warnings.warn(\n",
      "c:\\Users\\matdo\\anaconda3\\envs\\ML_CV\\lib\\site-packages\\sklearn\\svm\\_base.py:1249: ConvergenceWarning: Liblinear failed to converge, increase the number of iterations.\n",
      "  warnings.warn(\n",
      "c:\\Users\\matdo\\anaconda3\\envs\\ML_CV\\lib\\site-packages\\sklearn\\svm\\_base.py:1249: ConvergenceWarning: Liblinear failed to converge, increase the number of iterations.\n",
      "  warnings.warn(\n",
      "c:\\Users\\matdo\\anaconda3\\envs\\ML_CV\\lib\\site-packages\\sklearn\\discriminant_analysis.py:1024: LinAlgWarning: The covariance matrix of class 0 is not full rank. Increasing the value of parameter `reg_param` might help reducing the collinearity.\n",
      "  warnings.warn(\n",
      "c:\\Users\\matdo\\anaconda3\\envs\\ML_CV\\lib\\site-packages\\sklearn\\discriminant_analysis.py:1024: LinAlgWarning: The covariance matrix of class 1 is not full rank. Increasing the value of parameter `reg_param` might help reducing the collinearity.\n",
      "  warnings.warn(\n"
     ]
    },
    {
     "data": {
      "text/plain": [
       "[('DecisionTreeClassifier', 1.0),\n",
       " ('ExtraTreeClassifier', 1.0),\n",
       " ('ExtraTreesClassifier', 1.0),\n",
       " ('GaussianProcessClassifier', 1.0),\n",
       " ('HistGradientBoostingClassifier', 1.0),\n",
       " ('LabelPropagation', 1.0),\n",
       " ('LabelSpreading', 1.0),\n",
       " ('LinearSVC', 1.0),\n",
       " ('LogisticRegression', 1.0),\n",
       " ('QuadraticDiscriminantAnalysis', 1.0),\n",
       " ('RadiusNeighborsClassifier', 1.0),\n",
       " ('RandomForestClassifier', 1.0),\n",
       " ('RidgeClassifier', 1.0),\n",
       " ('RidgeClassifierCV', 1.0),\n",
       " ('BaggingClassifier', 0.99),\n",
       " ('CalibratedClassifierCV', 0.99),\n",
       " ('GradientBoostingClassifier', 0.99),\n",
       " ('LogisticRegressionCV', 0.99),\n",
       " ('PassiveAggressiveClassifier', 0.96),\n",
       " ('SGDClassifier', 0.94),\n",
       " ('LinearDiscriminantAnalysis', 0.92),\n",
       " ('AdaBoostClassifier', 0.8),\n",
       " ('KNeighborsClassifier', 0.71),\n",
       " ('GaussianNB', 0.7),\n",
       " ('NearestCentroid', 0.66),\n",
       " ('CategoricalNB', 0.6),\n",
       " ('ComplementNB', 0.6),\n",
       " ('MultinomialNB', 0.6),\n",
       " ('Perceptron', 0.59),\n",
       " ('BernoulliNB', 0.57),\n",
       " ('DummyClassifier', 0.57),\n",
       " ('MLPClassifier', 0.57)]"
      ]
     },
     "execution_count": 26,
     "metadata": {},
     "output_type": "execute_result"
    }
   ],
   "source": [
    "ts.find_estimator(X_train, y_train, type_filter='classifier')"
   ]
  },
  {
   "cell_type": "code",
   "execution_count": 27,
   "metadata": {},
   "outputs": [],
   "source": [
    "cd = cm(X_train, y_train, X_test, y_test)\n"
   ]
  },
  {
   "cell_type": "code",
   "execution_count": 28,
   "metadata": {},
   "outputs": [
    {
     "name": "stdout",
     "output_type": "stream",
     "text": [
      "              precision    recall  f1-score   support\n",
      "\n",
      "           0       0.68      0.74      0.71       195\n",
      "           1       0.79      0.74      0.76       254\n",
      "\n",
      "    accuracy                           0.74       449\n",
      "   macro avg       0.74      0.74      0.74       449\n",
      "weighted avg       0.74      0.74      0.74       449\n",
      "\n"
     ]
    },
    {
     "data": {
      "text/html": [
       "<div>\n",
       "<style scoped>\n",
       "    .dataframe tbody tr th:only-of-type {\n",
       "        vertical-align: middle;\n",
       "    }\n",
       "\n",
       "    .dataframe tbody tr th {\n",
       "        vertical-align: top;\n",
       "    }\n",
       "\n",
       "    .dataframe thead th {\n",
       "        text-align: right;\n",
       "    }\n",
       "</style>\n",
       "<table border=\"1\" class=\"dataframe\">\n",
       "  <thead>\n",
       "    <tr style=\"text-align: right;\">\n",
       "      <th></th>\n",
       "      <th>train_score</th>\n",
       "      <th>test_score</th>\n",
       "      <th>diff</th>\n",
       "      <th>train_loss</th>\n",
       "      <th>test_loss</th>\n",
       "    </tr>\n",
       "  </thead>\n",
       "  <tbody>\n",
       "    <tr>\n",
       "      <th>_utils.ClassfierModule</th>\n",
       "      <td>1.0</td>\n",
       "      <td>0.739421</td>\n",
       "      <td>0.260579</td>\n",
       "      <td>0.0</td>\n",
       "      <td>0.260579</td>\n",
       "    </tr>\n",
       "  </tbody>\n",
       "</table>\n",
       "</div>"
      ],
      "text/plain": [
       "                        train_score  test_score      diff  train_loss  \\\n",
       "_utils.ClassfierModule          1.0    0.739421  0.260579         0.0   \n",
       "\n",
       "                        test_loss  \n",
       "_utils.ClassfierModule   0.260579  "
      ]
     },
     "execution_count": 28,
     "metadata": {},
     "output_type": "execute_result"
    }
   ],
   "source": [
    "dtModel, dtDF, classification_report = cd.decision_tree_classification()\n",
    "print(classification_report)\n",
    "dtDF"
   ]
  },
  {
   "cell_type": "code",
   "execution_count": 29,
   "metadata": {},
   "outputs": [
    {
     "data": {
      "text/html": [
       "<div>\n",
       "<style scoped>\n",
       "    .dataframe tbody tr th:only-of-type {\n",
       "        vertical-align: middle;\n",
       "    }\n",
       "\n",
       "    .dataframe tbody tr th {\n",
       "        vertical-align: top;\n",
       "    }\n",
       "\n",
       "    .dataframe thead th {\n",
       "        text-align: right;\n",
       "    }\n",
       "</style>\n",
       "<table border=\"1\" class=\"dataframe\">\n",
       "  <thead>\n",
       "    <tr style=\"text-align: right;\">\n",
       "      <th></th>\n",
       "      <th>train_mean_accuracy</th>\n",
       "      <th>train_std_accuracy</th>\n",
       "      <th>test_mean_accuracy</th>\n",
       "      <th>test_std_accuracy</th>\n",
       "      <th>train_mean_precision</th>\n",
       "      <th>train_std_precision</th>\n",
       "      <th>test_mean_precision</th>\n",
       "      <th>test_std_precision</th>\n",
       "      <th>train_mean_recall</th>\n",
       "      <th>train_std_recall</th>\n",
       "      <th>...</th>\n",
       "      <th>test_mean_f1</th>\n",
       "      <th>test_std_f1</th>\n",
       "      <th>train_mean_log_loss</th>\n",
       "      <th>train_std_log_loss</th>\n",
       "      <th>test_mean_log_loss</th>\n",
       "      <th>test_std_log_loss</th>\n",
       "      <th>diff_accuracy</th>\n",
       "      <th>diff_precision</th>\n",
       "      <th>diff_recall</th>\n",
       "      <th>diff_f1</th>\n",
       "    </tr>\n",
       "  </thead>\n",
       "  <tbody>\n",
       "    <tr>\n",
       "      <th>DecisionTreeClassifier</th>\n",
       "      <td>0.730112</td>\n",
       "      <td>0.015346</td>\n",
       "      <td>0.60367</td>\n",
       "      <td>0.046638</td>\n",
       "      <td>0.722992</td>\n",
       "      <td>0.024956</td>\n",
       "      <td>0.607093</td>\n",
       "      <td>0.073663</td>\n",
       "      <td>0.738445</td>\n",
       "      <td>0.034967</td>\n",
       "      <td>...</td>\n",
       "      <td>0.606398</td>\n",
       "      <td>0.057638</td>\n",
       "      <td>-9.808161</td>\n",
       "      <td>1.220424</td>\n",
       "      <td>-13.884681</td>\n",
       "      <td>1.17157</td>\n",
       "      <td>0.126441</td>\n",
       "      <td>0.115899</td>\n",
       "      <td>0.142279</td>\n",
       "      <td>0.11204</td>\n",
       "    </tr>\n",
       "  </tbody>\n",
       "</table>\n",
       "<p>1 rows × 24 columns</p>\n",
       "</div>"
      ],
      "text/plain": [
       "                        train_mean_accuracy  train_std_accuracy  \\\n",
       "DecisionTreeClassifier             0.730112            0.015346   \n",
       "\n",
       "                        test_mean_accuracy  test_std_accuracy  \\\n",
       "DecisionTreeClassifier             0.60367           0.046638   \n",
       "\n",
       "                        train_mean_precision  train_std_precision  \\\n",
       "DecisionTreeClassifier              0.722992             0.024956   \n",
       "\n",
       "                        test_mean_precision  test_std_precision  \\\n",
       "DecisionTreeClassifier             0.607093            0.073663   \n",
       "\n",
       "                        train_mean_recall  train_std_recall  ...  \\\n",
       "DecisionTreeClassifier           0.738445          0.034967  ...   \n",
       "\n",
       "                        test_mean_f1  test_std_f1  train_mean_log_loss  \\\n",
       "DecisionTreeClassifier      0.606398     0.057638            -9.808161   \n",
       "\n",
       "                        train_std_log_loss  test_mean_log_loss  \\\n",
       "DecisionTreeClassifier            1.220424          -13.884681   \n",
       "\n",
       "                        test_std_log_loss  diff_accuracy  diff_precision  \\\n",
       "DecisionTreeClassifier            1.17157       0.126441        0.115899   \n",
       "\n",
       "                        diff_recall  diff_f1  \n",
       "DecisionTreeClassifier     0.142279  0.11204  \n",
       "\n",
       "[1 rows x 24 columns]"
      ]
     },
     "execution_count": 29,
     "metadata": {},
     "output_type": "execute_result"
    }
   ],
   "source": [
    "dtcvDF = cd.cv_classifier(dtModel)\n",
    "dtcvDF"
   ]
  },
  {
   "cell_type": "code",
   "execution_count": null,
   "metadata": {},
   "outputs": [],
   "source": []
  },
  {
   "cell_type": "code",
   "execution_count": 30,
   "metadata": {},
   "outputs": [
    {
     "name": "stdout",
     "output_type": "stream",
     "text": [
      "              precision    recall  f1-score   support\n",
      "\n",
      "           0       0.57      0.48      0.52       195\n",
      "           1       0.64      0.72      0.68       254\n",
      "\n",
      "    accuracy                           0.62       449\n",
      "   macro avg       0.61      0.60      0.60       449\n",
      "weighted avg       0.61      0.62      0.61       449\n",
      "\n"
     ]
    },
    {
     "data": {
      "text/html": [
       "<div>\n",
       "<style scoped>\n",
       "    .dataframe tbody tr th:only-of-type {\n",
       "        vertical-align: middle;\n",
       "    }\n",
       "\n",
       "    .dataframe tbody tr th {\n",
       "        vertical-align: top;\n",
       "    }\n",
       "\n",
       "    .dataframe thead th {\n",
       "        text-align: right;\n",
       "    }\n",
       "</style>\n",
       "<table border=\"1\" class=\"dataframe\">\n",
       "  <thead>\n",
       "    <tr style=\"text-align: right;\">\n",
       "      <th></th>\n",
       "      <th>train_score</th>\n",
       "      <th>test_score</th>\n",
       "      <th>diff</th>\n",
       "      <th>train_loss</th>\n",
       "      <th>test_loss</th>\n",
       "    </tr>\n",
       "  </thead>\n",
       "  <tbody>\n",
       "    <tr>\n",
       "      <th>_utils.ClassfierModule</th>\n",
       "      <td>0.713011</td>\n",
       "      <td>0.616927</td>\n",
       "      <td>0.096085</td>\n",
       "      <td>0.286989</td>\n",
       "      <td>0.383073</td>\n",
       "    </tr>\n",
       "  </tbody>\n",
       "</table>\n",
       "</div>"
      ],
      "text/plain": [
       "                        train_score  test_score      diff  train_loss  \\\n",
       "_utils.ClassfierModule     0.713011    0.616927  0.096085    0.286989   \n",
       "\n",
       "                        test_loss  \n",
       "_utils.ClassfierModule   0.383073  "
      ]
     },
     "execution_count": 30,
     "metadata": {},
     "output_type": "execute_result"
    }
   ],
   "source": [
    "knnModel, knnDF, classification_report = cd.knn_classification()\n",
    "print(classification_report)\n",
    "knnDF"
   ]
  },
  {
   "cell_type": "code",
   "execution_count": 31,
   "metadata": {},
   "outputs": [],
   "source": [
    "knncvDF = cd.cv_classifier(knnModel)"
   ]
  },
  {
   "cell_type": "code",
   "execution_count": 32,
   "metadata": {},
   "outputs": [
    {
     "data": {
      "text/html": [
       "<div>\n",
       "<style scoped>\n",
       "    .dataframe tbody tr th:only-of-type {\n",
       "        vertical-align: middle;\n",
       "    }\n",
       "\n",
       "    .dataframe tbody tr th {\n",
       "        vertical-align: top;\n",
       "    }\n",
       "\n",
       "    .dataframe thead th {\n",
       "        text-align: right;\n",
       "    }\n",
       "</style>\n",
       "<table border=\"1\" class=\"dataframe\">\n",
       "  <thead>\n",
       "    <tr style=\"text-align: right;\">\n",
       "      <th></th>\n",
       "      <th>train_mean_accuracy</th>\n",
       "      <th>train_std_accuracy</th>\n",
       "      <th>test_mean_accuracy</th>\n",
       "      <th>test_std_accuracy</th>\n",
       "      <th>train_mean_precision</th>\n",
       "      <th>train_std_precision</th>\n",
       "      <th>test_mean_precision</th>\n",
       "      <th>test_std_precision</th>\n",
       "      <th>train_mean_recall</th>\n",
       "      <th>train_std_recall</th>\n",
       "      <th>...</th>\n",
       "      <th>test_mean_f1</th>\n",
       "      <th>test_std_f1</th>\n",
       "      <th>train_mean_log_loss</th>\n",
       "      <th>train_std_log_loss</th>\n",
       "      <th>test_mean_log_loss</th>\n",
       "      <th>test_std_log_loss</th>\n",
       "      <th>diff_accuracy</th>\n",
       "      <th>diff_precision</th>\n",
       "      <th>diff_recall</th>\n",
       "      <th>diff_f1</th>\n",
       "    </tr>\n",
       "  </thead>\n",
       "  <tbody>\n",
       "    <tr>\n",
       "      <th>KNeighborsClassifier</th>\n",
       "      <td>0.579182</td>\n",
       "      <td>0.037794</td>\n",
       "      <td>0.610237</td>\n",
       "      <td>0.030681</td>\n",
       "      <td>0.567526</td>\n",
       "      <td>0.04181</td>\n",
       "      <td>0.601049</td>\n",
       "      <td>0.040067</td>\n",
       "      <td>0.55934</td>\n",
       "      <td>0.033876</td>\n",
       "      <td>...</td>\n",
       "      <td>0.577092</td>\n",
       "      <td>0.035516</td>\n",
       "      <td>-15.167813</td>\n",
       "      <td>1.362237</td>\n",
       "      <td>-14.048475</td>\n",
       "      <td>1.105857</td>\n",
       "      <td>-0.031055</td>\n",
       "      <td>-0.033523</td>\n",
       "      <td>-0.024654</td>\n",
       "      <td>-0.020921</td>\n",
       "    </tr>\n",
       "  </tbody>\n",
       "</table>\n",
       "<p>1 rows × 24 columns</p>\n",
       "</div>"
      ],
      "text/plain": [
       "                      train_mean_accuracy  train_std_accuracy  \\\n",
       "KNeighborsClassifier             0.579182            0.037794   \n",
       "\n",
       "                      test_mean_accuracy  test_std_accuracy  \\\n",
       "KNeighborsClassifier            0.610237           0.030681   \n",
       "\n",
       "                      train_mean_precision  train_std_precision  \\\n",
       "KNeighborsClassifier              0.567526              0.04181   \n",
       "\n",
       "                      test_mean_precision  test_std_precision  \\\n",
       "KNeighborsClassifier             0.601049            0.040067   \n",
       "\n",
       "                      train_mean_recall  train_std_recall  ...  test_mean_f1  \\\n",
       "KNeighborsClassifier            0.55934          0.033876  ...      0.577092   \n",
       "\n",
       "                      test_std_f1  train_mean_log_loss  train_std_log_loss  \\\n",
       "KNeighborsClassifier     0.035516           -15.167813            1.362237   \n",
       "\n",
       "                      test_mean_log_loss  test_std_log_loss  diff_accuracy  \\\n",
       "KNeighborsClassifier          -14.048475           1.105857      -0.031055   \n",
       "\n",
       "                      diff_precision  diff_recall   diff_f1  \n",
       "KNeighborsClassifier       -0.033523    -0.024654 -0.020921  \n",
       "\n",
       "[1 rows x 24 columns]"
      ]
     },
     "execution_count": 32,
     "metadata": {},
     "output_type": "execute_result"
    }
   ],
   "source": [
    "knncvDF"
   ]
  },
  {
   "cell_type": "code",
   "execution_count": 33,
   "metadata": {},
   "outputs": [
    {
     "name": "stderr",
     "output_type": "stream",
     "text": [
      "c:\\Users\\matdo\\anaconda3\\envs\\ML_CV\\lib\\site-packages\\sklearn\\linear_model\\_logistic.py:465: ConvergenceWarning: lbfgs failed to converge (status=1):\n",
      "STOP: TOTAL NO. of ITERATIONS REACHED LIMIT.\n",
      "\n",
      "Increase the number of iterations (max_iter) or scale the data as shown in:\n",
      "    https://scikit-learn.org/stable/modules/preprocessing.html\n",
      "Please also refer to the documentation for alternative solver options:\n",
      "    https://scikit-learn.org/stable/modules/linear_model.html#logistic-regression\n",
      "  n_iter_i = _check_optimize_result(\n"
     ]
    },
    {
     "ename": "ValueError",
     "evalue": "not enough values to unpack (expected 3, got 2)",
     "output_type": "error",
     "traceback": [
      "\u001b[1;31m---------------------------------------------------------------------------\u001b[0m",
      "\u001b[1;31mValueError\u001b[0m                                Traceback (most recent call last)",
      "Cell \u001b[1;32mIn[33], line 1\u001b[0m\n\u001b[1;32m----> 1\u001b[0m logiModel, logiDF,classification_report \u001b[38;5;241m=\u001b[39m cd\u001b[38;5;241m.\u001b[39mlogistic_regression()\n\u001b[0;32m      2\u001b[0m \u001b[38;5;28mprint\u001b[39m(classification_report)\n\u001b[0;32m      4\u001b[0m logiDF\n",
      "\u001b[1;31mValueError\u001b[0m: not enough values to unpack (expected 3, got 2)"
     ]
    }
   ],
   "source": [
    "logiModel, logiDF,classification_report = cd.logistic_regression()\n",
    "print(classification_report)\n",
    "\n",
    "logiDF"
   ]
  },
  {
   "cell_type": "code",
   "execution_count": null,
   "metadata": {},
   "outputs": [
    {
     "data": {
      "text/html": [
       "<div>\n",
       "<style scoped>\n",
       "    .dataframe tbody tr th:only-of-type {\n",
       "        vertical-align: middle;\n",
       "    }\n",
       "\n",
       "    .dataframe tbody tr th {\n",
       "        vertical-align: top;\n",
       "    }\n",
       "\n",
       "    .dataframe thead th {\n",
       "        text-align: right;\n",
       "    }\n",
       "</style>\n",
       "<table border=\"1\" class=\"dataframe\">\n",
       "  <thead>\n",
       "    <tr style=\"text-align: right;\">\n",
       "      <th></th>\n",
       "      <th>train_score</th>\n",
       "      <th>test_score</th>\n",
       "      <th>diff</th>\n",
       "      <th>train_loss</th>\n",
       "      <th>test_loss</th>\n",
       "    </tr>\n",
       "  </thead>\n",
       "  <tbody>\n",
       "    <tr>\n",
       "      <th>_utils.ClassfierModule</th>\n",
       "      <td>0.994796</td>\n",
       "      <td>0.804009</td>\n",
       "      <td>0.190787</td>\n",
       "      <td>0.005204</td>\n",
       "      <td>0.195991</td>\n",
       "    </tr>\n",
       "  </tbody>\n",
       "</table>\n",
       "</div>"
      ],
      "text/plain": [
       "                        train_score  test_score      diff  train_loss  \\\n",
       "_utils.ClassfierModule     0.994796    0.804009  0.190787    0.005204   \n",
       "\n",
       "                        test_loss  \n",
       "_utils.ClassfierModule   0.195991  "
      ]
     },
     "execution_count": 84,
     "metadata": {},
     "output_type": "execute_result"
    }
   ],
   "source": [
    "rfModel, rfDF, classification_report = cd.rf_classifier()\n",
    "print(classification_report)\n",
    "rfDF"
   ]
  },
  {
   "cell_type": "code",
   "execution_count": null,
   "metadata": {},
   "outputs": [],
   "source": [
    "rfcvDF = cd.cv_classifier(rfModel)"
   ]
  },
  {
   "cell_type": "code",
   "execution_count": null,
   "metadata": {},
   "outputs": [
    {
     "data": {
      "text/html": [
       "<div>\n",
       "<style scoped>\n",
       "    .dataframe tbody tr th:only-of-type {\n",
       "        vertical-align: middle;\n",
       "    }\n",
       "\n",
       "    .dataframe tbody tr th {\n",
       "        vertical-align: top;\n",
       "    }\n",
       "\n",
       "    .dataframe thead th {\n",
       "        text-align: right;\n",
       "    }\n",
       "</style>\n",
       "<table border=\"1\" class=\"dataframe\">\n",
       "  <thead>\n",
       "    <tr style=\"text-align: right;\">\n",
       "      <th></th>\n",
       "      <th>train_score</th>\n",
       "      <th>test_score</th>\n",
       "      <th>diff</th>\n",
       "      <th>train_loss</th>\n",
       "      <th>test_loss</th>\n",
       "    </tr>\n",
       "  </thead>\n",
       "  <tbody>\n",
       "    <tr>\n",
       "      <th>_utils.ClassfierModule</th>\n",
       "      <td>0.991822</td>\n",
       "      <td>0.797327</td>\n",
       "      <td>0.194494</td>\n",
       "      <td>0.008178</td>\n",
       "      <td>0.202673</td>\n",
       "    </tr>\n",
       "  </tbody>\n",
       "</table>\n",
       "</div>"
      ],
      "text/plain": [
       "                        train_score  test_score      diff  train_loss  \\\n",
       "_utils.ClassfierModule     0.991822    0.797327  0.194494    0.008178   \n",
       "\n",
       "                        test_loss  \n",
       "_utils.ClassfierModule   0.202673  "
      ]
     },
     "execution_count": 87,
     "metadata": {},
     "output_type": "execute_result"
    }
   ],
   "source": [
    "rfModel, rfDF, classification_report = cd.rf_classifier(min_samples_leaf=4, min_samples_split=2)\n",
    "print( classification_report)\n",
    "rfDF"
   ]
  },
  {
   "cell_type": "code",
   "execution_count": null,
   "metadata": {},
   "outputs": [],
   "source": [
    "rfModel, rfDF, classification_report = cd.rf_classifier(min_samples_leaf=4, min_samples_split=2)\n",
    "print( classification_report)\n",
    "rfDF"
   ]
  },
  {
   "cell_type": "code",
   "execution_count": null,
   "metadata": {},
   "outputs": [],
   "source": [
    "svmModel, svmDF, classification_report = cd.svm_classifier()\n",
    "print(classification_report)\n",
    "svmDF"
   ]
  },
  {
   "cell_type": "code",
   "execution_count": null,
   "metadata": {},
   "outputs": [],
   "source": [
    "xgbModel, xgbDF, classification_report = cd.xgb_classifier()\n",
    "print(classification_report)\n",
    "xgbDF"
   ]
  },
  {
   "cell_type": "code",
   "execution_count": null,
   "metadata": {},
   "outputs": [],
   "source": [
    "lgbmModel, lgbmDF, classification_report = cd.lgbm_classifier()\n",
    "print(classification_report)\n",
    "lgbmDF"
   ]
  },
  {
   "cell_type": "code",
   "execution_count": null,
   "metadata": {},
   "outputs": [],
   "source": [
    "mlpModel, mlpDF, classification_report = cd.mlp_classifier()\n",
    "print(classification_report)\n",
    "mlpDF"
   ]
  }
 ],
 "metadata": {
  "kernelspec": {
   "display_name": "ML_CV",
   "language": "python",
   "name": "python3"
  },
  "language_info": {
   "codemirror_mode": {
    "name": "ipython",
    "version": 3
   },
   "file_extension": ".py",
   "mimetype": "text/x-python",
   "name": "python",
   "nbconvert_exporter": "python",
   "pygments_lexer": "ipython3",
   "version": "3.9.18"
  }
 },
 "nbformat": 4,
 "nbformat_minor": 2
}
