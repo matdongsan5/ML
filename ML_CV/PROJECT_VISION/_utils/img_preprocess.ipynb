{
 "cells": [
  {
   "cell_type": "markdown",
   "metadata": {},
   "source": [
    "#### 이미지 전처리 함수 모음\n",
    "1. 이미지 크기조절 resize()\n",
    "2. 회전 틀 rotate()\n",
    "3. 비틀기\n",
    "4. 뒤집기\n",
    "5. 배경제거"
   ]
  },
  {
   "cell_type": "code",
   "execution_count": 2,
   "metadata": {},
   "outputs": [],
   "source": [
    "import seaborn as sns\n",
    "import pandas as pd # 데이터 분석 및 전처리\n",
    "import numpy as np # 숫자처리\n",
    "import matplotlib.pyplot as plt # 데이터 시각화\n",
    "import cv2\n",
    "import os\n",
    "from rembg import remove #배경 제거"
   ]
  },
  {
   "cell_type": "code",
   "execution_count": null,
   "metadata": {},
   "outputs": [],
   "source": [
    "def resize_image(image, width=None, height=None, fx=None, fy=None, interpolation=cv2.INTER_LINEAR):\n",
    "    \"\"\"\n",
    "    cv2.resize()를 활용하여 이미지를 크기 조정하는 함수\n",
    "\n",
    "    Parameters:\n",
    "        image (numpy.ndarray): 원본 이미지\n",
    "        width (int, optional): 새로운 이미지의 너비 (dsize와 함께 사용)\n",
    "        height (int, optional): 새로운 이미지의 높이 (dsize와 함께 사용)\n",
    "        fx (float, optional): 가로 크기 비율 (dsize 대신 사용 가능)\n",
    "        fy (float, optional): 세로 크기 비율 (dsize 대신 사용 가능)\n",
    "        interpolation (int, optional): 보간법 (기본값 cv2.INTER_LINEAR)\n",
    "\n",
    "    Returns:\n",
    "        numpy.ndarray: 크기 조정된 이미지\n",
    "    \"\"\"\n",
    "    if width is not None and height is not None:\n",
    "        dsize = (width, height)\n",
    "    else:\n",
    "        dsize = None  # fx, fy가 사용됨\n",
    "\n",
    "    resized = cv2.resize(image, dsize=dsize, fx=fx, fy=fy, interpolation=interpolation)\n",
    "    return resized"
   ]
  },
  {
   "cell_type": "code",
   "execution_count": 4,
   "metadata": {},
   "outputs": [],
   "source": [
    "def rotate_image(image, angle, center=None, scale=1.0):\n",
    "    \"\"\"\n",
    "    이미지를 특정 각도로 회전하는 함수\n",
    "\n",
    "    Parameters:\n",
    "        image (numpy.ndarray): 원본 이미지\n",
    "        angle (float): 회전 각도 (반시계 방향)\n",
    "        center (tuple, optional): 회전 중심 좌표 (기본값: 이미지 중앙)\n",
    "        scale (float, optional): 크기 비율 (기본값: 1.0)\n",
    "\n",
    "    Returns:\n",
    "        numpy.ndarray: 회전된 이미지\n",
    "    \"\"\"\n",
    "    (h, w) = image.shape[:2]\n",
    "    if center is None:\n",
    "        center = (w // 2, h // 2)  # 중심점을 이미지 중앙으로 설정\n",
    "\n",
    "    M = cv2.getRotationMatrix2D(center, angle, scale)\n",
    "    rotated = cv2.warpAffine(image, M, (w, h))\n",
    "    return rotated"
   ]
  },
  {
   "cell_type": "code",
   "execution_count": 5,
   "metadata": {},
   "outputs": [],
   "source": [
    "def shear_image(image, shear_x=0, shear_y=0):\n",
    "    \"\"\"\n",
    "    이미지를 비트는(어파인 변환) 함수\n",
    "\n",
    "    Parameters:\n",
    "        image (numpy.ndarray): 원본 이미지\n",
    "        shear_x (float, optional): x축 방향 기울기 정도 (기본값: 0)\n",
    "        shear_y (float, optional): y축 방향 기울기 정도 (기본값: 0)\n",
    "\n",
    "    Returns:\n",
    "        numpy.ndarray: 비틀어진 이미지\n",
    "    \"\"\"\n",
    "    (h, w) = image.shape[:2]\n",
    "    \n",
    "    M = np.float32([[1, shear_x, 0],\n",
    "                    [shear_y, 1, 0]])\n",
    "    \n",
    "    sheared = cv2.warpAffine(image, M, (w, h))\n",
    "    return sheared"
   ]
  },
  {
   "cell_type": "code",
   "execution_count": 6,
   "metadata": {},
   "outputs": [],
   "source": [
    "def flip_image(image, flip_code):\n",
    "    \"\"\"\n",
    "    이미지를 뒤집는 함수\n",
    "\n",
    "    Parameters:\n",
    "        image (numpy.ndarray): 원본 이미지\n",
    "        flip_code (int): 0 (상하 뒤집기), 1 (좌우 뒤집기), -1 (상하+좌우 뒤집기)\n",
    "\n",
    "    Returns:\n",
    "        numpy.ndarray: 뒤집힌 이미지\n",
    "    \"\"\"\n",
    "    flipped = cv2.flip(image, flip_code)\n",
    "    return flipped"
   ]
  },
  {
   "cell_type": "code",
   "execution_count": null,
   "metadata": {},
   "outputs": [],
   "source": [
    "\n",
    "def remove_background(image):\n",
    "    \"\"\"\n",
    "    rembg를 이용하여 이미지의 배경을 제거하는 함수\n",
    "\n",
    "    Parameters:\n",
    "        image (numpy.ndarray): 원본 이미지 (BGR 형식)\n",
    "\n",
    "    Returns:\n",
    "        numpy.ndarray: 배경이 제거된 이미지 (RGBA 형식)\n",
    "    \"\"\"\n",
    "    # OpenCV의 이미지를 PIL 이미지로 변환\n",
    "    import PIL.Image\n",
    "    image_rgb = cv2.cvtColor(image, cv2.COLOR_BGR2RGB)  # OpenCV 이미지는 BGR이므로 변환 필요\n",
    "    pil_image = PIL.Image.fromarray(image_rgb)\n",
    "\n",
    "    # 배경 제거 수행\n",
    "    output_pil = remove(pil_image)\n",
    "\n",
    "    # 다시 OpenCV 형식으로 변환 (RGBA 형식 유지)\n",
    "    output = np.array(output_pil)\n",
    "    \n",
    "    output_bgr = cv2.cvtColor(output, cv2.COLOR_RGBA2BGR)\n",
    "\n",
    "    return output_bgr"
   ]
  },
  {
   "cell_type": "code",
   "execution_count": null,
   "metadata": {},
   "outputs": [],
   "source": [
    "def blur_image(image, ksize=5):\n",
    "    \"\"\"\n",
    "    이미지를 블러 처리하는 함수\n",
    "\n",
    "    Parameters:\n",
    "        image (numpy.ndarray): 원본 이미지\n",
    "        ksize (int, optional): 커널 크기 (기본값: 5, 홀수만 가능)\n",
    "\n",
    "    Returns:\n",
    "        numpy.ndarray: 블러 처리된 이미지\n",
    "    \"\"\"\n",
    "    if ksize % 2 == 0:\n",
    "        raise ValueError(\"ksize는 홀수여야 합니다.\")\n",
    "    \n",
    "    blurred = cv2.GaussianBlur(image, (ksize, ksize), 0)\n",
    "    return blurred\n"
   ]
  },
  {
   "cell_type": "code",
   "execution_count": null,
   "metadata": {},
   "outputs": [],
   "source": []
  }
 ],
 "metadata": {
  "kernelspec": {
   "display_name": "ML_CV",
   "language": "python",
   "name": "python3"
  },
  "language_info": {
   "codemirror_mode": {
    "name": "ipython",
    "version": 3
   },
   "file_extension": ".py",
   "mimetype": "text/x-python",
   "name": "python",
   "nbconvert_exporter": "python",
   "pygments_lexer": "ipython3",
   "version": "3.9.21"
  }
 },
 "nbformat": 4,
 "nbformat_minor": 2
}
