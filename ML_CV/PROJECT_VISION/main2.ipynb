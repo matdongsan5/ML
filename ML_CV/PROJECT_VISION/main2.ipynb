{
 "cells": [
  {
   "cell_type": "markdown",
   "metadata": {},
   "source": [
    "####  2세대 도감 만들기 \n",
    "<hr>\n",
    "1. 251 마리의 이미지를 받아서 <br>\n",
    "2. 70 * 70 사이즈로 리사이즈 <br>\n",
    "3. 컬러로 돌릴 예정   약 4900*3 = 150000 컬럼 예상<br>\n",
    "4. 이미지 251개를 10배가량 복제할 예정<br>\n",
    "5. 이미지 처리후, csv에 저장. <br>\n",
    "<hr>\n",
    "6. csv로부터 파일을 읽어서 도감 번호를 타겟으로 설정 하여 트레인/테스트<br>\n",
    "7. 모델 만들기.<br>\n",
    "8. 여유있으면 웹연결하여 예측모델 만들기.<br>\n",
    "\n",
    "\n"
   ]
  },
  {
   "cell_type": "code",
   "execution_count": 59,
   "metadata": {},
   "outputs": [],
   "source": [
    "import pandas as pd\n",
    "import numpy as np\n",
    "import matplotlib.pyplot as plt\n",
    "import cv2\n",
    "import seaborn as sns\n",
    "import pandas as pd # 데이터 분석 및 전처리\n",
    "\n",
    "from _utils.ClassfierModule import ClassfierModule as cm\n",
    "from _utils import tools as ts"
   ]
  },
  {
   "cell_type": "code",
   "execution_count": 60,
   "metadata": {},
   "outputs": [],
   "source": [
    "data_dir = './_data/'\n",
    "img_dir  = './_image/'\n"
   ]
  },
  {
   "cell_type": "code",
   "execution_count": 61,
   "metadata": {},
   "outputs": [],
   "source": [
    "initDF = pd.DataFrame(pd.read_csv(data_dir+'processed_seal.csv', index_col= 0, encoding='utf-8'))"
   ]
  },
  {
   "cell_type": "code",
   "execution_count": 62,
   "metadata": {},
   "outputs": [
    {
     "data": {
      "text/html": [
       "<div>\n",
       "<style scoped>\n",
       "    .dataframe tbody tr th:only-of-type {\n",
       "        vertical-align: middle;\n",
       "    }\n",
       "\n",
       "    .dataframe tbody tr th {\n",
       "        vertical-align: top;\n",
       "    }\n",
       "\n",
       "    .dataframe thead th {\n",
       "        text-align: right;\n",
       "    }\n",
       "</style>\n",
       "<table border=\"1\" class=\"dataframe\">\n",
       "  <thead>\n",
       "    <tr style=\"text-align: right;\">\n",
       "      <th></th>\n",
       "      <th>0</th>\n",
       "      <th>1</th>\n",
       "      <th>2</th>\n",
       "      <th>3</th>\n",
       "      <th>4</th>\n",
       "      <th>5</th>\n",
       "      <th>6</th>\n",
       "      <th>7</th>\n",
       "      <th>8</th>\n",
       "      <th>9</th>\n",
       "      <th>...</th>\n",
       "      <th>14691</th>\n",
       "      <th>14692</th>\n",
       "      <th>14693</th>\n",
       "      <th>14694</th>\n",
       "      <th>14695</th>\n",
       "      <th>14696</th>\n",
       "      <th>14697</th>\n",
       "      <th>14698</th>\n",
       "      <th>14699</th>\n",
       "      <th>14700</th>\n",
       "    </tr>\n",
       "  </thead>\n",
       "  <tbody>\n",
       "    <tr>\n",
       "      <th>./_image/processed/00010300.png</th>\n",
       "      <td>1</td>\n",
       "      <td>0.000000</td>\n",
       "      <td>0.000000</td>\n",
       "      <td>0.000000</td>\n",
       "      <td>0.000000</td>\n",
       "      <td>0.000000</td>\n",
       "      <td>0.000000</td>\n",
       "      <td>0.000000</td>\n",
       "      <td>0.000000</td>\n",
       "      <td>0.000000</td>\n",
       "      <td>...</td>\n",
       "      <td>0.0</td>\n",
       "      <td>0.0</td>\n",
       "      <td>0.0</td>\n",
       "      <td>0.0</td>\n",
       "      <td>0.0</td>\n",
       "      <td>0.0</td>\n",
       "      <td>0.0</td>\n",
       "      <td>0.0</td>\n",
       "      <td>0.0</td>\n",
       "      <td>0.0</td>\n",
       "    </tr>\n",
       "    <tr>\n",
       "      <th>./_image/processed/00010301.png</th>\n",
       "      <td>1</td>\n",
       "      <td>0.000000</td>\n",
       "      <td>0.000000</td>\n",
       "      <td>0.000000</td>\n",
       "      <td>0.000000</td>\n",
       "      <td>0.000000</td>\n",
       "      <td>0.000000</td>\n",
       "      <td>0.000000</td>\n",
       "      <td>0.000000</td>\n",
       "      <td>0.000000</td>\n",
       "      <td>...</td>\n",
       "      <td>0.0</td>\n",
       "      <td>0.0</td>\n",
       "      <td>0.0</td>\n",
       "      <td>0.0</td>\n",
       "      <td>0.0</td>\n",
       "      <td>0.0</td>\n",
       "      <td>0.0</td>\n",
       "      <td>0.0</td>\n",
       "      <td>0.0</td>\n",
       "      <td>0.0</td>\n",
       "    </tr>\n",
       "    <tr>\n",
       "      <th>./_image/processed/00010600.png</th>\n",
       "      <td>1</td>\n",
       "      <td>0.000000</td>\n",
       "      <td>0.000000</td>\n",
       "      <td>0.000000</td>\n",
       "      <td>0.000000</td>\n",
       "      <td>0.000000</td>\n",
       "      <td>0.000000</td>\n",
       "      <td>0.000000</td>\n",
       "      <td>0.000000</td>\n",
       "      <td>0.000000</td>\n",
       "      <td>...</td>\n",
       "      <td>0.0</td>\n",
       "      <td>0.0</td>\n",
       "      <td>0.0</td>\n",
       "      <td>0.0</td>\n",
       "      <td>0.0</td>\n",
       "      <td>0.0</td>\n",
       "      <td>0.0</td>\n",
       "      <td>0.0</td>\n",
       "      <td>0.0</td>\n",
       "      <td>0.0</td>\n",
       "    </tr>\n",
       "    <tr>\n",
       "      <th>./_image/processed/00010601.png</th>\n",
       "      <td>1</td>\n",
       "      <td>0.000000</td>\n",
       "      <td>0.000000</td>\n",
       "      <td>0.000000</td>\n",
       "      <td>0.000000</td>\n",
       "      <td>0.000000</td>\n",
       "      <td>0.000000</td>\n",
       "      <td>0.000000</td>\n",
       "      <td>0.000000</td>\n",
       "      <td>0.000000</td>\n",
       "      <td>...</td>\n",
       "      <td>0.0</td>\n",
       "      <td>0.0</td>\n",
       "      <td>0.0</td>\n",
       "      <td>0.0</td>\n",
       "      <td>0.0</td>\n",
       "      <td>0.0</td>\n",
       "      <td>0.0</td>\n",
       "      <td>0.0</td>\n",
       "      <td>0.0</td>\n",
       "      <td>0.0</td>\n",
       "    </tr>\n",
       "    <tr>\n",
       "      <th>./_image/processed/00010900.png</th>\n",
       "      <td>1</td>\n",
       "      <td>0.956863</td>\n",
       "      <td>0.960784</td>\n",
       "      <td>0.960784</td>\n",
       "      <td>0.988235</td>\n",
       "      <td>0.988235</td>\n",
       "      <td>0.988235</td>\n",
       "      <td>0.988235</td>\n",
       "      <td>0.992157</td>\n",
       "      <td>0.988235</td>\n",
       "      <td>...</td>\n",
       "      <td>0.0</td>\n",
       "      <td>0.0</td>\n",
       "      <td>0.0</td>\n",
       "      <td>0.0</td>\n",
       "      <td>0.0</td>\n",
       "      <td>0.0</td>\n",
       "      <td>0.0</td>\n",
       "      <td>0.0</td>\n",
       "      <td>0.0</td>\n",
       "      <td>0.0</td>\n",
       "    </tr>\n",
       "  </tbody>\n",
       "</table>\n",
       "<p>5 rows × 14701 columns</p>\n",
       "</div>"
      ],
      "text/plain": [
       "                                 0         1         2         3         4  \\\n",
       "./_image/processed/00010300.png  1  0.000000  0.000000  0.000000  0.000000   \n",
       "./_image/processed/00010301.png  1  0.000000  0.000000  0.000000  0.000000   \n",
       "./_image/processed/00010600.png  1  0.000000  0.000000  0.000000  0.000000   \n",
       "./_image/processed/00010601.png  1  0.000000  0.000000  0.000000  0.000000   \n",
       "./_image/processed/00010900.png  1  0.956863  0.960784  0.960784  0.988235   \n",
       "\n",
       "                                        5         6         7         8  \\\n",
       "./_image/processed/00010300.png  0.000000  0.000000  0.000000  0.000000   \n",
       "./_image/processed/00010301.png  0.000000  0.000000  0.000000  0.000000   \n",
       "./_image/processed/00010600.png  0.000000  0.000000  0.000000  0.000000   \n",
       "./_image/processed/00010601.png  0.000000  0.000000  0.000000  0.000000   \n",
       "./_image/processed/00010900.png  0.988235  0.988235  0.988235  0.992157   \n",
       "\n",
       "                                        9  ...  14691  14692  14693  14694  \\\n",
       "./_image/processed/00010300.png  0.000000  ...    0.0    0.0    0.0    0.0   \n",
       "./_image/processed/00010301.png  0.000000  ...    0.0    0.0    0.0    0.0   \n",
       "./_image/processed/00010600.png  0.000000  ...    0.0    0.0    0.0    0.0   \n",
       "./_image/processed/00010601.png  0.000000  ...    0.0    0.0    0.0    0.0   \n",
       "./_image/processed/00010900.png  0.988235  ...    0.0    0.0    0.0    0.0   \n",
       "\n",
       "                                 14695  14696  14697  14698  14699  14700  \n",
       "./_image/processed/00010300.png    0.0    0.0    0.0    0.0    0.0    0.0  \n",
       "./_image/processed/00010301.png    0.0    0.0    0.0    0.0    0.0    0.0  \n",
       "./_image/processed/00010600.png    0.0    0.0    0.0    0.0    0.0    0.0  \n",
       "./_image/processed/00010601.png    0.0    0.0    0.0    0.0    0.0    0.0  \n",
       "./_image/processed/00010900.png    0.0    0.0    0.0    0.0    0.0    0.0  \n",
       "\n",
       "[5 rows x 14701 columns]"
      ]
     },
     "execution_count": 62,
     "metadata": {},
     "output_type": "execute_result"
    }
   ],
   "source": [
    "initDF.head()"
   ]
  },
  {
   "cell_type": "code",
   "execution_count": 63,
   "metadata": {},
   "outputs": [],
   "source": [
    "# initDF.loc[initDF.index[1:], '0'] = initDF.loc[initDF.index[1:], '0']*255\n",
    "# initDF.loc[initDF.index[1:], '0'] = initDF.loc[initDF.index[1:], '0'].astype(int)"
   ]
  },
  {
   "cell_type": "code",
   "execution_count": 64,
   "metadata": {},
   "outputs": [
    {
     "data": {
      "text/plain": [
       "./_image/processed/00010301.png    1\n",
       "./_image/processed/00010600.png    1\n",
       "./_image/processed/00010601.png    1\n",
       "./_image/processed/00010900.png    1\n",
       "./_image/processed/00010901.png    1\n",
       "Name: 0, dtype: int64"
      ]
     },
     "execution_count": 64,
     "metadata": {},
     "output_type": "execute_result"
    }
   ],
   "source": [
    "initDF.loc[initDF.index[1:], '0'].head()"
   ]
  },
  {
   "cell_type": "code",
   "execution_count": 65,
   "metadata": {},
   "outputs": [],
   "source": [
    "initDF['0'] = initDF['0'].astype(int)"
   ]
  },
  {
   "cell_type": "code",
   "execution_count": 66,
   "metadata": {},
   "outputs": [
    {
     "data": {
      "text/plain": [
       "(2304, 14701)"
      ]
     },
     "execution_count": 66,
     "metadata": {},
     "output_type": "execute_result"
    }
   ],
   "source": [
    "initDF.shape"
   ]
  },
  {
   "cell_type": "code",
   "execution_count": 67,
   "metadata": {},
   "outputs": [
    {
     "name": "stdout",
     "output_type": "stream",
     "text": [
      "X_train => 2D (1728, 14700) / X_test => 2D, (576, 14700)\n",
      "y_train => 1D (1728,), / y_test => 1D, (576,)\n"
     ]
    }
   ],
   "source": [
    "X_train, X_test, y_train, y_test = ts.train_test_cut(initDF.loc[:,'1':], initDF['0'], stratify=initDF['0'])"
   ]
  },
  {
   "cell_type": "code",
   "execution_count": 68,
   "metadata": {},
   "outputs": [],
   "source": [
    "y_train = y_train.astype(int)\n",
    "y_test = y_test.astype(int)"
   ]
  },
  {
   "cell_type": "code",
   "execution_count": 69,
   "metadata": {},
   "outputs": [],
   "source": [
    "test = cm(X_train, y_train, X_test, y_test)"
   ]
  },
  {
   "cell_type": "code",
   "execution_count": null,
   "metadata": {},
   "outputs": [],
   "source": []
  },
  {
   "cell_type": "code",
   "execution_count": 70,
   "metadata": {},
   "outputs": [
    {
     "name": "stdout",
     "output_type": "stream",
     "text": [
      "              precision    recall  f1-score   support\n",
      "\n",
      "           1       0.86      1.00      0.92         6\n",
      "           2       0.86      1.00      0.92         6\n",
      "           3       0.75      1.00      0.86         6\n",
      "           4       1.00      1.00      1.00         6\n",
      "           5       0.42      0.83      0.56         6\n",
      "           6       0.83      0.83      0.83         6\n",
      "           7       0.33      0.33      0.33         6\n",
      "           8       0.25      0.17      0.20         6\n",
      "           9       0.50      0.67      0.57         6\n",
      "          10       0.17      0.17      0.17         6\n",
      "          11       0.80      0.67      0.73         6\n",
      "          12       0.40      0.67      0.50         6\n",
      "          13       0.00      0.00      0.00         6\n",
      "          14       1.00      1.00      1.00         6\n",
      "          15       0.12      0.17      0.14         6\n",
      "          16       1.00      1.00      1.00         6\n",
      "          17       0.43      0.50      0.46         6\n",
      "          18       0.33      0.50      0.40         6\n",
      "          19       0.86      1.00      0.92         6\n",
      "          20       0.62      0.83      0.71         6\n",
      "          21       1.00      1.00      1.00         6\n",
      "          22       0.50      0.50      0.50         6\n",
      "          23       0.75      0.50      0.60         6\n",
      "          24       0.80      0.67      0.73         6\n",
      "          25       0.80      0.67      0.73         6\n",
      "          26       1.00      0.83      0.91         6\n",
      "          27       0.80      0.67      0.73         6\n",
      "          28       0.83      0.83      0.83         6\n",
      "          29       0.50      0.83      0.62         6\n",
      "          30       1.00      1.00      1.00         6\n",
      "          31       0.00      0.00      0.00         6\n",
      "          32       0.67      0.67      0.67         6\n",
      "          33       0.67      0.67      0.67         6\n",
      "          34       1.00      0.83      0.91         6\n",
      "          35       0.38      0.50      0.43         6\n",
      "          36       0.83      0.83      0.83         6\n",
      "          37       0.43      0.50      0.46         6\n",
      "          38       0.60      0.50      0.55         6\n",
      "          39       1.00      0.67      0.80         6\n",
      "          40       0.50      0.50      0.50         6\n",
      "          41       1.00      1.00      1.00         6\n",
      "          42       0.38      0.83      0.53         6\n",
      "          43       0.33      0.33      0.33         6\n",
      "          44       0.86      1.00      0.92         6\n",
      "          45       0.27      0.50      0.35         6\n",
      "          46       0.50      0.17      0.25         6\n",
      "          47       0.40      0.33      0.36         6\n",
      "          48       0.75      1.00      0.86         6\n",
      "          49       1.00      0.50      0.67         6\n",
      "          50       0.60      1.00      0.75         6\n",
      "          51       0.67      0.67      0.67         6\n",
      "          52       0.67      1.00      0.80         6\n",
      "          53       0.25      0.50      0.33         6\n",
      "          54       0.50      0.33      0.40         6\n",
      "          55       0.62      0.83      0.71         6\n",
      "          56       0.86      1.00      0.92         6\n",
      "          57       0.80      0.67      0.73         6\n",
      "          58       0.75      1.00      0.86         6\n",
      "          59       0.60      0.50      0.55         6\n",
      "          60       0.67      0.33      0.44         6\n",
      "          61       0.33      0.33      0.33         6\n",
      "          62       0.00      0.00      0.00         6\n",
      "          63       0.00      0.00      0.00         6\n",
      "          64       0.43      0.50      0.46         6\n",
      "          65       0.00      0.00      0.00         6\n",
      "          66       0.57      0.67      0.62         6\n",
      "          67       0.80      0.67      0.73         6\n",
      "          68       0.60      0.50      0.55         6\n",
      "          69       0.33      0.50      0.40         6\n",
      "          70       0.33      0.17      0.22         6\n",
      "          71       1.00      1.00      1.00         6\n",
      "          72       1.00      0.67      0.80         6\n",
      "          73       0.33      0.17      0.22         6\n",
      "          74       0.00      0.00      0.00         6\n",
      "          75       0.55      1.00      0.71         6\n",
      "          76       0.80      0.67      0.73         6\n",
      "          77       1.00      0.50      0.67         6\n",
      "          78       1.00      0.33      0.50         6\n",
      "          79       1.00      0.67      0.80         6\n",
      "          80       1.00      1.00      1.00         6\n",
      "          81       0.50      0.50      0.50         6\n",
      "          82       1.00      0.67      0.80         6\n",
      "          83       0.75      1.00      0.86         6\n",
      "          84       0.67      0.67      0.67         6\n",
      "          85       0.33      0.17      0.22         6\n",
      "          86       0.86      1.00      0.92         6\n",
      "          87       1.00      0.33      0.50         6\n",
      "          88       0.23      0.50      0.32         6\n",
      "          89       0.50      0.17      0.25         6\n",
      "          90       0.80      0.67      0.73         6\n",
      "          91       0.71      0.83      0.77         6\n",
      "          92       0.29      0.33      0.31         6\n",
      "          93       1.00      0.67      0.80         6\n",
      "          94       1.00      0.50      0.67         6\n",
      "          95       1.00      1.00      1.00         6\n",
      "          96       0.86      1.00      0.92         6\n",
      "\n",
      "    accuracy                           0.62       576\n",
      "   macro avg       0.63      0.62      0.61       576\n",
      "weighted avg       0.63      0.62      0.61       576\n",
      "\n"
     ]
    },
    {
     "data": {
      "text/html": [
       "<div>\n",
       "<style scoped>\n",
       "    .dataframe tbody tr th:only-of-type {\n",
       "        vertical-align: middle;\n",
       "    }\n",
       "\n",
       "    .dataframe tbody tr th {\n",
       "        vertical-align: top;\n",
       "    }\n",
       "\n",
       "    .dataframe thead th {\n",
       "        text-align: right;\n",
       "    }\n",
       "</style>\n",
       "<table border=\"1\" class=\"dataframe\">\n",
       "  <thead>\n",
       "    <tr style=\"text-align: right;\">\n",
       "      <th></th>\n",
       "      <th>train_score</th>\n",
       "      <th>test_score</th>\n",
       "      <th>diff</th>\n",
       "      <th>train_loss</th>\n",
       "      <th>test_loss</th>\n",
       "    </tr>\n",
       "  </thead>\n",
       "  <tbody>\n",
       "    <tr>\n",
       "      <th>dt</th>\n",
       "      <td>0.925926</td>\n",
       "      <td>0.618056</td>\n",
       "      <td>0.30787</td>\n",
       "      <td>0.074074</td>\n",
       "      <td>0.381944</td>\n",
       "    </tr>\n",
       "  </tbody>\n",
       "</table>\n",
       "</div>"
      ],
      "text/plain": [
       "    train_score  test_score     diff  train_loss  test_loss\n",
       "dt     0.925926    0.618056  0.30787    0.074074   0.381944"
      ]
     },
     "execution_count": 70,
     "metadata": {},
     "output_type": "execute_result"
    }
   ],
   "source": [
    "dtModel, dtDF = test.decision_tree_classification(max_depth=20, min_samples_split=4, min_samples_leaf = 2)\n",
    "dtDF"
   ]
  },
  {
   "cell_type": "code",
   "execution_count": 71,
   "metadata": {},
   "outputs": [
    {
     "name": "stdout",
     "output_type": "stream",
     "text": [
      "              precision    recall  f1-score   support\n",
      "\n",
      "           1       0.86      1.00      0.92         6\n",
      "           2       1.00      1.00      1.00         6\n",
      "           3       1.00      1.00      1.00         6\n",
      "           4       1.00      1.00      1.00         6\n",
      "           5       1.00      1.00      1.00         6\n",
      "           6       1.00      1.00      1.00         6\n",
      "           7       0.60      1.00      0.75         6\n",
      "           8       1.00      0.50      0.67         6\n",
      "           9       1.00      0.33      0.50         6\n",
      "          10       1.00      1.00      1.00         6\n",
      "          11       0.50      1.00      0.67         6\n",
      "          12       0.00      0.00      0.00         6\n",
      "          13       1.00      1.00      1.00         6\n",
      "          14       1.00      1.00      1.00         6\n",
      "          15       1.00      0.50      0.67         6\n",
      "          16       1.00      1.00      1.00         6\n",
      "          17       0.00      0.00      0.00         6\n",
      "          18       0.00      0.00      0.00         6\n",
      "          19       1.00      1.00      1.00         6\n",
      "          20       0.50      1.00      0.67         6\n",
      "          21       1.00      1.00      1.00         6\n",
      "          22       1.00      1.00      1.00         6\n",
      "          23       1.00      1.00      1.00         6\n",
      "          24       0.67      1.00      0.80         6\n",
      "          25       0.86      1.00      0.92         6\n",
      "          26       1.00      0.83      0.91         6\n",
      "          27       0.86      1.00      0.92         6\n",
      "          28       1.00      0.83      0.91         6\n",
      "          29       0.50      1.00      0.67         6\n",
      "          30       0.86      1.00      0.92         6\n",
      "          31       1.00      0.17      0.29         6\n",
      "          32       1.00      1.00      1.00         6\n",
      "          33       1.00      1.00      1.00         6\n",
      "          34       1.00      1.00      1.00         6\n",
      "          35       0.55      1.00      0.71         6\n",
      "          36       1.00      1.00      1.00         6\n",
      "          37       1.00      1.00      1.00         6\n",
      "          38       0.25      1.00      0.40         6\n",
      "          39       1.00      1.00      1.00         6\n",
      "          40       1.00      0.17      0.29         6\n",
      "          41       1.00      1.00      1.00         6\n",
      "          42       1.00      1.00      1.00         6\n",
      "          43       1.00      0.83      0.91         6\n",
      "          44       1.00      1.00      1.00         6\n",
      "          45       1.00      1.00      1.00         6\n",
      "          46       1.00      1.00      1.00         6\n",
      "          47       1.00      1.00      1.00         6\n",
      "          48       1.00      1.00      1.00         6\n",
      "          49       1.00      1.00      1.00         6\n",
      "          50       0.50      1.00      0.67         6\n",
      "          51       0.00      0.00      0.00         6\n",
      "          52       0.67      1.00      0.80         6\n",
      "          53       0.00      0.00      0.00         6\n",
      "          54       0.50      1.00      0.67         6\n",
      "          55       0.55      1.00      0.71         6\n",
      "          56       1.00      1.00      1.00         6\n",
      "          57       1.00      1.00      1.00         6\n",
      "          58       0.83      0.83      0.83         6\n",
      "          59       0.75      1.00      0.86         6\n",
      "          60       0.00      0.00      0.00         6\n",
      "          61       1.00      0.67      0.80         6\n",
      "          62       1.00      0.33      0.50         6\n",
      "          63       1.00      0.17      0.29         6\n",
      "          64       0.46      1.00      0.63         6\n",
      "          65       1.00      0.67      0.80         6\n",
      "          66       0.50      1.00      0.67         6\n",
      "          67       1.00      1.00      1.00         6\n",
      "          68       0.75      1.00      0.86         6\n",
      "          69       1.00      0.33      0.50         6\n",
      "          70       1.00      0.83      0.91         6\n",
      "          71       0.86      1.00      0.92         6\n",
      "          72       0.75      1.00      0.86         6\n",
      "          73       1.00      0.50      0.67         6\n",
      "          74       1.00      0.50      0.67         6\n",
      "          75       0.67      1.00      0.80         6\n",
      "          76       1.00      1.00      1.00         6\n",
      "          77       1.00      0.33      0.50         6\n",
      "          78       1.00      0.17      0.29         6\n",
      "          79       1.00      1.00      1.00         6\n",
      "          80       1.00      1.00      1.00         6\n",
      "          81       0.86      1.00      0.92         6\n",
      "          82       1.00      1.00      1.00         6\n",
      "          83       1.00      1.00      1.00         6\n",
      "          84       1.00      0.50      0.67         6\n",
      "          85       0.67      0.33      0.44         6\n",
      "          86       1.00      0.83      0.91         6\n",
      "          87       1.00      1.00      1.00         6\n",
      "          88       0.86      1.00      0.92         6\n",
      "          89       1.00      0.83      0.91         6\n",
      "          90       1.00      1.00      1.00         6\n",
      "          91       1.00      1.00      1.00         6\n",
      "          92       1.00      1.00      1.00         6\n",
      "          93       1.00      1.00      1.00         6\n",
      "          94       0.67      1.00      0.80         6\n",
      "          95       1.00      1.00      1.00         6\n",
      "          96       1.00      1.00      1.00         6\n",
      "\n",
      "    accuracy                           0.82       576\n",
      "   macro avg       0.84      0.82      0.79       576\n",
      "weighted avg       0.84      0.82      0.79       576\n",
      "\n"
     ]
    },
    {
     "name": "stderr",
     "output_type": "stream",
     "text": [
      "c:\\Users\\matdo\\anaconda3\\envs\\ML_CV\\lib\\site-packages\\sklearn\\metrics\\_classification.py:1565: UndefinedMetricWarning: Precision is ill-defined and being set to 0.0 in labels with no predicted samples. Use `zero_division` parameter to control this behavior.\n",
      "  _warn_prf(average, modifier, f\"{metric.capitalize()} is\", len(result))\n",
      "c:\\Users\\matdo\\anaconda3\\envs\\ML_CV\\lib\\site-packages\\sklearn\\metrics\\_classification.py:1565: UndefinedMetricWarning: Precision is ill-defined and being set to 0.0 in labels with no predicted samples. Use `zero_division` parameter to control this behavior.\n",
      "  _warn_prf(average, modifier, f\"{metric.capitalize()} is\", len(result))\n",
      "c:\\Users\\matdo\\anaconda3\\envs\\ML_CV\\lib\\site-packages\\sklearn\\metrics\\_classification.py:1565: UndefinedMetricWarning: Precision is ill-defined and being set to 0.0 in labels with no predicted samples. Use `zero_division` parameter to control this behavior.\n",
      "  _warn_prf(average, modifier, f\"{metric.capitalize()} is\", len(result))\n"
     ]
    },
    {
     "data": {
      "text/html": [
       "<div>\n",
       "<style scoped>\n",
       "    .dataframe tbody tr th:only-of-type {\n",
       "        vertical-align: middle;\n",
       "    }\n",
       "\n",
       "    .dataframe tbody tr th {\n",
       "        vertical-align: top;\n",
       "    }\n",
       "\n",
       "    .dataframe thead th {\n",
       "        text-align: right;\n",
       "    }\n",
       "</style>\n",
       "<table border=\"1\" class=\"dataframe\">\n",
       "  <thead>\n",
       "    <tr style=\"text-align: right;\">\n",
       "      <th></th>\n",
       "      <th>train_score</th>\n",
       "      <th>test_score</th>\n",
       "      <th>diff</th>\n",
       "      <th>train_loss</th>\n",
       "      <th>test_loss</th>\n",
       "    </tr>\n",
       "  </thead>\n",
       "  <tbody>\n",
       "    <tr>\n",
       "      <th>rf</th>\n",
       "      <td>0.967014</td>\n",
       "      <td>0.822917</td>\n",
       "      <td>0.144097</td>\n",
       "      <td>0.032986</td>\n",
       "      <td>0.177083</td>\n",
       "    </tr>\n",
       "  </tbody>\n",
       "</table>\n",
       "</div>"
      ],
      "text/plain": [
       "    train_score  test_score      diff  train_loss  test_loss\n",
       "rf     0.967014    0.822917  0.144097    0.032986   0.177083"
      ]
     },
     "execution_count": 71,
     "metadata": {},
     "output_type": "execute_result"
    }
   ],
   "source": [
    "rfModel, rfDF = test.rf_classifier(max_depth=6, min_samples_split=2, min_samples_leaf = 1)\n",
    "rfDF"
   ]
  },
  {
   "cell_type": "code",
   "execution_count": 39,
   "metadata": {},
   "outputs": [
    {
     "data": {
      "text/plain": [
       "['./_model/rf_model_b.joblib']"
      ]
     },
     "execution_count": 39,
     "metadata": {},
     "output_type": "execute_result"
    }
   ],
   "source": [
    "import joblib\n",
    "joblib.dump(rfModel, \"./_model/rf_model_b.joblib\")"
   ]
  },
  {
   "cell_type": "code",
   "execution_count": 40,
   "metadata": {},
   "outputs": [
    {
     "name": "stderr",
     "output_type": "stream",
     "text": [
      "C:\\Users\\matdo\\AppData\\Local\\Temp\\ipykernel_14952\\2802998029.py:2: FutureWarning: Series.__getitem__ treating keys as positions is deprecated. In a future version, integer keys will always be treated as labels (consistent with DataFrame behavior). To access a value by position, use `ser.iloc[pos]`\n",
      "  y_train[0]\n"
     ]
    },
    {
     "data": {
      "text/plain": [
       "240"
      ]
     },
     "execution_count": 40,
     "metadata": {},
     "output_type": "execute_result"
    }
   ],
   "source": [
    "X_train.iloc[0,:]\n",
    "y_train[0]"
   ]
  },
  {
   "cell_type": "code",
   "execution_count": 41,
   "metadata": {},
   "outputs": [
    {
     "name": "stderr",
     "output_type": "stream",
     "text": [
      "c:\\Users\\matdo\\anaconda3\\envs\\ML_CV\\lib\\site-packages\\sklearn\\utils\\validation.py:2739: UserWarning: X does not have valid feature names, but RandomForestClassifier was fitted with feature names\n",
      "  warnings.warn(\n",
      "C:\\Users\\matdo\\AppData\\Local\\Temp\\ipykernel_14952\\2340299379.py:3: FutureWarning: Series.__getitem__ treating keys as positions is deprecated. In a future version, integer keys will always be treated as labels (consistent with DataFrame behavior). To access a value by position, use `ser.iloc[pos]`\n",
      "  print(X_train_pred, y_train[i])\n",
      "c:\\Users\\matdo\\anaconda3\\envs\\ML_CV\\lib\\site-packages\\sklearn\\utils\\validation.py:2739: UserWarning: X does not have valid feature names, but RandomForestClassifier was fitted with feature names\n",
      "  warnings.warn(\n"
     ]
    },
    {
     "name": "stdout",
     "output_type": "stream",
     "text": [
      "[240] 240\n",
      "[214] 214\n"
     ]
    },
    {
     "name": "stderr",
     "output_type": "stream",
     "text": [
      "C:\\Users\\matdo\\AppData\\Local\\Temp\\ipykernel_14952\\2340299379.py:3: FutureWarning: Series.__getitem__ treating keys as positions is deprecated. In a future version, integer keys will always be treated as labels (consistent with DataFrame behavior). To access a value by position, use `ser.iloc[pos]`\n",
      "  print(X_train_pred, y_train[i])\n",
      "c:\\Users\\matdo\\anaconda3\\envs\\ML_CV\\lib\\site-packages\\sklearn\\utils\\validation.py:2739: UserWarning: X does not have valid feature names, but RandomForestClassifier was fitted with feature names\n",
      "  warnings.warn(\n",
      "C:\\Users\\matdo\\AppData\\Local\\Temp\\ipykernel_14952\\2340299379.py:3: FutureWarning: Series.__getitem__ treating keys as positions is deprecated. In a future version, integer keys will always be treated as labels (consistent with DataFrame behavior). To access a value by position, use `ser.iloc[pos]`\n",
      "  print(X_train_pred, y_train[i])\n",
      "c:\\Users\\matdo\\anaconda3\\envs\\ML_CV\\lib\\site-packages\\sklearn\\utils\\validation.py:2739: UserWarning: X does not have valid feature names, but RandomForestClassifier was fitted with feature names\n",
      "  warnings.warn(\n"
     ]
    },
    {
     "name": "stdout",
     "output_type": "stream",
     "text": [
      "[235] 235\n",
      "[222] 222\n"
     ]
    },
    {
     "name": "stderr",
     "output_type": "stream",
     "text": [
      "C:\\Users\\matdo\\AppData\\Local\\Temp\\ipykernel_14952\\2340299379.py:3: FutureWarning: Series.__getitem__ treating keys as positions is deprecated. In a future version, integer keys will always be treated as labels (consistent with DataFrame behavior). To access a value by position, use `ser.iloc[pos]`\n",
      "  print(X_train_pred, y_train[i])\n",
      "c:\\Users\\matdo\\anaconda3\\envs\\ML_CV\\lib\\site-packages\\sklearn\\utils\\validation.py:2739: UserWarning: X does not have valid feature names, but RandomForestClassifier was fitted with feature names\n",
      "  warnings.warn(\n",
      "C:\\Users\\matdo\\AppData\\Local\\Temp\\ipykernel_14952\\2340299379.py:3: FutureWarning: Series.__getitem__ treating keys as positions is deprecated. In a future version, integer keys will always be treated as labels (consistent with DataFrame behavior). To access a value by position, use `ser.iloc[pos]`\n",
      "  print(X_train_pred, y_train[i])\n",
      "c:\\Users\\matdo\\anaconda3\\envs\\ML_CV\\lib\\site-packages\\sklearn\\utils\\validation.py:2739: UserWarning: X does not have valid feature names, but RandomForestClassifier was fitted with feature names\n",
      "  warnings.warn(\n"
     ]
    },
    {
     "name": "stdout",
     "output_type": "stream",
     "text": [
      "[186] 186\n",
      "[180] 180\n"
     ]
    },
    {
     "name": "stderr",
     "output_type": "stream",
     "text": [
      "C:\\Users\\matdo\\AppData\\Local\\Temp\\ipykernel_14952\\2340299379.py:3: FutureWarning: Series.__getitem__ treating keys as positions is deprecated. In a future version, integer keys will always be treated as labels (consistent with DataFrame behavior). To access a value by position, use `ser.iloc[pos]`\n",
      "  print(X_train_pred, y_train[i])\n",
      "c:\\Users\\matdo\\anaconda3\\envs\\ML_CV\\lib\\site-packages\\sklearn\\utils\\validation.py:2739: UserWarning: X does not have valid feature names, but RandomForestClassifier was fitted with feature names\n",
      "  warnings.warn(\n",
      "C:\\Users\\matdo\\AppData\\Local\\Temp\\ipykernel_14952\\2340299379.py:3: FutureWarning: Series.__getitem__ treating keys as positions is deprecated. In a future version, integer keys will always be treated as labels (consistent with DataFrame behavior). To access a value by position, use `ser.iloc[pos]`\n",
      "  print(X_train_pred, y_train[i])\n",
      "c:\\Users\\matdo\\anaconda3\\envs\\ML_CV\\lib\\site-packages\\sklearn\\utils\\validation.py:2739: UserWarning: X does not have valid feature names, but RandomForestClassifier was fitted with feature names\n",
      "  warnings.warn(\n"
     ]
    },
    {
     "name": "stdout",
     "output_type": "stream",
     "text": [
      "[226] 226\n",
      "[215] 215\n"
     ]
    },
    {
     "name": "stderr",
     "output_type": "stream",
     "text": [
      "C:\\Users\\matdo\\AppData\\Local\\Temp\\ipykernel_14952\\2340299379.py:3: FutureWarning: Series.__getitem__ treating keys as positions is deprecated. In a future version, integer keys will always be treated as labels (consistent with DataFrame behavior). To access a value by position, use `ser.iloc[pos]`\n",
      "  print(X_train_pred, y_train[i])\n",
      "c:\\Users\\matdo\\anaconda3\\envs\\ML_CV\\lib\\site-packages\\sklearn\\utils\\validation.py:2739: UserWarning: X does not have valid feature names, but RandomForestClassifier was fitted with feature names\n",
      "  warnings.warn(\n",
      "C:\\Users\\matdo\\AppData\\Local\\Temp\\ipykernel_14952\\2340299379.py:3: FutureWarning: Series.__getitem__ treating keys as positions is deprecated. In a future version, integer keys will always be treated as labels (consistent with DataFrame behavior). To access a value by position, use `ser.iloc[pos]`\n",
      "  print(X_train_pred, y_train[i])\n",
      "c:\\Users\\matdo\\anaconda3\\envs\\ML_CV\\lib\\site-packages\\sklearn\\utils\\validation.py:2739: UserWarning: X does not have valid feature names, but RandomForestClassifier was fitted with feature names\n",
      "  warnings.warn(\n"
     ]
    },
    {
     "name": "stdout",
     "output_type": "stream",
     "text": [
      "[166] 166\n",
      "[174] 174\n"
     ]
    },
    {
     "name": "stderr",
     "output_type": "stream",
     "text": [
      "C:\\Users\\matdo\\AppData\\Local\\Temp\\ipykernel_14952\\2340299379.py:3: FutureWarning: Series.__getitem__ treating keys as positions is deprecated. In a future version, integer keys will always be treated as labels (consistent with DataFrame behavior). To access a value by position, use `ser.iloc[pos]`\n",
      "  print(X_train_pred, y_train[i])\n",
      "c:\\Users\\matdo\\anaconda3\\envs\\ML_CV\\lib\\site-packages\\sklearn\\utils\\validation.py:2739: UserWarning: X does not have valid feature names, but RandomForestClassifier was fitted with feature names\n",
      "  warnings.warn(\n",
      "C:\\Users\\matdo\\AppData\\Local\\Temp\\ipykernel_14952\\2340299379.py:3: FutureWarning: Series.__getitem__ treating keys as positions is deprecated. In a future version, integer keys will always be treated as labels (consistent with DataFrame behavior). To access a value by position, use `ser.iloc[pos]`\n",
      "  print(X_train_pred, y_train[i])\n",
      "c:\\Users\\matdo\\anaconda3\\envs\\ML_CV\\lib\\site-packages\\sklearn\\utils\\validation.py:2739: UserWarning: X does not have valid feature names, but RandomForestClassifier was fitted with feature names\n",
      "  warnings.warn(\n"
     ]
    },
    {
     "name": "stdout",
     "output_type": "stream",
     "text": [
      "[158] 158\n",
      "[245] 245\n"
     ]
    },
    {
     "name": "stderr",
     "output_type": "stream",
     "text": [
      "C:\\Users\\matdo\\AppData\\Local\\Temp\\ipykernel_14952\\2340299379.py:3: FutureWarning: Series.__getitem__ treating keys as positions is deprecated. In a future version, integer keys will always be treated as labels (consistent with DataFrame behavior). To access a value by position, use `ser.iloc[pos]`\n",
      "  print(X_train_pred, y_train[i])\n",
      "c:\\Users\\matdo\\anaconda3\\envs\\ML_CV\\lib\\site-packages\\sklearn\\utils\\validation.py:2739: UserWarning: X does not have valid feature names, but RandomForestClassifier was fitted with feature names\n",
      "  warnings.warn(\n",
      "C:\\Users\\matdo\\AppData\\Local\\Temp\\ipykernel_14952\\2340299379.py:3: FutureWarning: Series.__getitem__ treating keys as positions is deprecated. In a future version, integer keys will always be treated as labels (consistent with DataFrame behavior). To access a value by position, use `ser.iloc[pos]`\n",
      "  print(X_train_pred, y_train[i])\n",
      "c:\\Users\\matdo\\anaconda3\\envs\\ML_CV\\lib\\site-packages\\sklearn\\utils\\validation.py:2739: UserWarning: X does not have valid feature names, but RandomForestClassifier was fitted with feature names\n",
      "  warnings.warn(\n"
     ]
    },
    {
     "name": "stdout",
     "output_type": "stream",
     "text": [
      "[241] 241\n",
      "[177] 177\n"
     ]
    },
    {
     "name": "stderr",
     "output_type": "stream",
     "text": [
      "C:\\Users\\matdo\\AppData\\Local\\Temp\\ipykernel_14952\\2340299379.py:3: FutureWarning: Series.__getitem__ treating keys as positions is deprecated. In a future version, integer keys will always be treated as labels (consistent with DataFrame behavior). To access a value by position, use `ser.iloc[pos]`\n",
      "  print(X_train_pred, y_train[i])\n",
      "c:\\Users\\matdo\\anaconda3\\envs\\ML_CV\\lib\\site-packages\\sklearn\\utils\\validation.py:2739: UserWarning: X does not have valid feature names, but RandomForestClassifier was fitted with feature names\n",
      "  warnings.warn(\n",
      "C:\\Users\\matdo\\AppData\\Local\\Temp\\ipykernel_14952\\2340299379.py:3: FutureWarning: Series.__getitem__ treating keys as positions is deprecated. In a future version, integer keys will always be treated as labels (consistent with DataFrame behavior). To access a value by position, use `ser.iloc[pos]`\n",
      "  print(X_train_pred, y_train[i])\n",
      "c:\\Users\\matdo\\anaconda3\\envs\\ML_CV\\lib\\site-packages\\sklearn\\utils\\validation.py:2739: UserWarning: X does not have valid feature names, but RandomForestClassifier was fitted with feature names\n",
      "  warnings.warn(\n"
     ]
    },
    {
     "name": "stdout",
     "output_type": "stream",
     "text": [
      "[218] 218\n",
      "[194] 194\n"
     ]
    },
    {
     "name": "stderr",
     "output_type": "stream",
     "text": [
      "C:\\Users\\matdo\\AppData\\Local\\Temp\\ipykernel_14952\\2340299379.py:3: FutureWarning: Series.__getitem__ treating keys as positions is deprecated. In a future version, integer keys will always be treated as labels (consistent with DataFrame behavior). To access a value by position, use `ser.iloc[pos]`\n",
      "  print(X_train_pred, y_train[i])\n",
      "c:\\Users\\matdo\\anaconda3\\envs\\ML_CV\\lib\\site-packages\\sklearn\\utils\\validation.py:2739: UserWarning: X does not have valid feature names, but RandomForestClassifier was fitted with feature names\n",
      "  warnings.warn(\n",
      "C:\\Users\\matdo\\AppData\\Local\\Temp\\ipykernel_14952\\2340299379.py:3: FutureWarning: Series.__getitem__ treating keys as positions is deprecated. In a future version, integer keys will always be treated as labels (consistent with DataFrame behavior). To access a value by position, use `ser.iloc[pos]`\n",
      "  print(X_train_pred, y_train[i])\n",
      "c:\\Users\\matdo\\anaconda3\\envs\\ML_CV\\lib\\site-packages\\sklearn\\utils\\validation.py:2739: UserWarning: X does not have valid feature names, but RandomForestClassifier was fitted with feature names\n",
      "  warnings.warn(\n"
     ]
    },
    {
     "name": "stdout",
     "output_type": "stream",
     "text": [
      "[192] 192\n",
      "[197] 197\n"
     ]
    },
    {
     "name": "stderr",
     "output_type": "stream",
     "text": [
      "C:\\Users\\matdo\\AppData\\Local\\Temp\\ipykernel_14952\\2340299379.py:3: FutureWarning: Series.__getitem__ treating keys as positions is deprecated. In a future version, integer keys will always be treated as labels (consistent with DataFrame behavior). To access a value by position, use `ser.iloc[pos]`\n",
      "  print(X_train_pred, y_train[i])\n",
      "c:\\Users\\matdo\\anaconda3\\envs\\ML_CV\\lib\\site-packages\\sklearn\\utils\\validation.py:2739: UserWarning: X does not have valid feature names, but RandomForestClassifier was fitted with feature names\n",
      "  warnings.warn(\n",
      "C:\\Users\\matdo\\AppData\\Local\\Temp\\ipykernel_14952\\2340299379.py:3: FutureWarning: Series.__getitem__ treating keys as positions is deprecated. In a future version, integer keys will always be treated as labels (consistent with DataFrame behavior). To access a value by position, use `ser.iloc[pos]`\n",
      "  print(X_train_pred, y_train[i])\n",
      "c:\\Users\\matdo\\anaconda3\\envs\\ML_CV\\lib\\site-packages\\sklearn\\utils\\validation.py:2739: UserWarning: X does not have valid feature names, but RandomForestClassifier was fitted with feature names\n",
      "  warnings.warn(\n"
     ]
    },
    {
     "name": "stdout",
     "output_type": "stream",
     "text": [
      "[175] 175\n",
      "[189] 189\n"
     ]
    },
    {
     "name": "stderr",
     "output_type": "stream",
     "text": [
      "C:\\Users\\matdo\\AppData\\Local\\Temp\\ipykernel_14952\\2340299379.py:3: FutureWarning: Series.__getitem__ treating keys as positions is deprecated. In a future version, integer keys will always be treated as labels (consistent with DataFrame behavior). To access a value by position, use `ser.iloc[pos]`\n",
      "  print(X_train_pred, y_train[i])\n"
     ]
    }
   ],
   "source": [
    "for i in range(20):\n",
    "    X_train_pred=rfModel.predict(X_train.iloc[i,:].values.reshape(1,-1))\n",
    "    print(X_train_pred, y_train[i])"
   ]
  },
  {
   "cell_type": "code",
   "execution_count": 42,
   "metadata": {},
   "outputs": [
    {
     "name": "stderr",
     "output_type": "stream",
     "text": [
      "c:\\Users\\matdo\\anaconda3\\envs\\ML_CV\\lib\\site-packages\\sklearn\\utils\\validation.py:2739: UserWarning: X does not have valid feature names, but RandomForestClassifier was fitted with feature names\n",
      "  warnings.warn(\n"
     ]
    },
    {
     "data": {
      "text/plain": [
       "array([[0.00951772, 0.01798469, 0.00687941, 0.01548261, 0.00587611,\n",
       "        0.00600791, 0.0112335 , 0.0105292 , 0.00950014, 0.01510635,\n",
       "        0.00709101, 0.0081786 , 0.00810092, 0.01633073, 0.01168999,\n",
       "        0.01461952, 0.00720091, 0.00669938, 0.00925268, 0.00732238,\n",
       "        0.01305188, 0.00156988, 0.00393892, 0.00025227, 0.00504509,\n",
       "        0.0910865 , 0.00605682, 0.00827177, 0.00661973, 0.00925075,\n",
       "        0.01749002, 0.00130057, 0.00457231, 0.01503872, 0.03278797,\n",
       "        0.00567459, 0.06049716, 0.00716823, 0.00376646, 0.01623709,\n",
       "        0.02490933, 0.00750356, 0.00968791, 0.00629465, 0.00777646,\n",
       "        0.00393023, 0.00019893, 0.00951638, 0.00785486, 0.00187975,\n",
       "        0.00679686, 0.01654174, 0.01162205, 0.00942764, 0.00613726,\n",
       "        0.00585323, 0.00122318, 0.00556654, 0.0090217 , 0.01089582,\n",
       "        0.00601448, 0.00682247, 0.00805726, 0.00145651, 0.01118006,\n",
       "        0.01363593, 0.0064486 , 0.01032874, 0.00770765, 0.01282492,\n",
       "        0.00444779, 0.00884825, 0.00785938, 0.00106792, 0.00732186,\n",
       "        0.01186411, 0.0078176 , 0.00756372, 0.00877314, 0.00704129,\n",
       "        0.0054889 , 0.00384175, 0.00384411, 0.01150416, 0.00898315,\n",
       "        0.00750374, 0.00623573, 0.00867279, 0.01119884, 0.0066492 ,\n",
       "        0.00230115, 0.02737606, 0.00685315, 0.00537219, 0.01864175,\n",
       "        0.00673747, 0.01592769, 0.00259115, 0.00463729, 0.00163945]])"
      ]
     },
     "execution_count": 42,
     "metadata": {},
     "output_type": "execute_result"
    }
   ],
   "source": [
    "X_test_pred_proba = rfModel.predict_proba([X_test.iloc[0,:]])\n",
    "X_test_pred_proba"
   ]
  },
  {
   "cell_type": "code",
   "execution_count": 43,
   "metadata": {},
   "outputs": [],
   "source": [
    "from rembg import remove\n",
    "\n",
    "\n",
    "def remove_background(image):\n",
    "    \"\"\"\n",
    "    rembg를 이용하여 이미지의 배경을 제거하는 함수\n",
    "\n",
    "    Parameters:\n",
    "        image (numpy.ndarray): 원본 이미지 (BGR 형식)\n",
    "\n",
    "    Returns:\n",
    "        numpy.ndarray: 배경이 제거된 이미지 (RGBA 형식)\n",
    "    \"\"\"\n",
    "    # OpenCV의 이미지를 PIL 이미지로 변환\n",
    "    import PIL.Image\n",
    "    image_rgb = cv2.cvtColor(image, cv2.COLOR_BGR2RGB)  # OpenCV 이미지는 BGR이므로 변환 필요\n",
    "    pil_image = PIL.Image.fromarray(image_rgb)\n",
    "\n",
    "    # 배경 제거 수행\n",
    "    output_pil = remove(pil_image)\n",
    "\n",
    "    # 다시 OpenCV 형식으로 변환 (RGBA 형식 유지)\n",
    "    output = np.array(output_pil)\n",
    "\n",
    "    output_bgr = cv2.cvtColor(output, cv2.COLOR_RGBA2BGR)\n",
    "    return output_bgr"
   ]
  },
  {
   "cell_type": "code",
   "execution_count": 44,
   "metadata": {},
   "outputs": [
    {
     "data": {
      "text/plain": [
       "'./_image/test/test (4).jpg'"
      ]
     },
     "execution_count": 44,
     "metadata": {},
     "output_type": "execute_result"
    }
   ],
   "source": [
    "img_dir+'test/test (4).jpg'"
   ]
  },
  {
   "cell_type": "code",
   "execution_count": 45,
   "metadata": {},
   "outputs": [
    {
     "name": "stderr",
     "output_type": "stream",
     "text": [
      "c:\\Users\\matdo\\anaconda3\\envs\\ML_CV\\lib\\site-packages\\sklearn\\utils\\validation.py:2739: UserWarning: X does not have valid feature names, but RandomForestClassifier was fitted with feature names\n",
      "  warnings.warn(\n"
     ]
    },
    {
     "data": {
      "text/plain": [
       "array([186])"
      ]
     },
     "execution_count": 45,
     "metadata": {},
     "output_type": "execute_result"
    },
    {
     "data": {
      "image/png": "[encoded data removed]",
      "text/plain": [
       "<Figure size 640x480 with 1 Axes>"
      ]
     },
     "metadata": {},
     "output_type": "display_data"
    }
   ],
   "source": [
    "real1 = cv2.imread(img_dir+'test/test (21).jpg', cv2.IMREAD_COLOR)\n",
    "real1 = cv2.resize(real1,(70,70))\n",
    "real1 = cv2.cvtColor(real1, cv2.COLOR_BGR2RGB)\n",
    "plt.imshow(real1)\n",
    "real1_arr = (real1/255).reshape(1,-1)\n",
    "rfModel.predict(real1_arr)"
   ]
  },
  {
   "cell_type": "code",
   "execution_count": 46,
   "metadata": {},
   "outputs": [
    {
     "name": "stderr",
     "output_type": "stream",
     "text": [
      "c:\\Users\\matdo\\anaconda3\\envs\\ML_CV\\lib\\site-packages\\sklearn\\utils\\validation.py:2739: UserWarning: X does not have valid feature names, but RandomForestClassifier was fitted with feature names\n",
      "  warnings.warn(\n"
     ]
    },
    {
     "data": {
      "text/plain": [
       "array([175])"
      ]
     },
     "execution_count": 46,
     "metadata": {},
     "output_type": "execute_result"
    },
    {
     "data": {
      "image/png": "[encoded data removed]",
      "text/plain": [
       "<Figure size 640x480 with 1 Axes>"
      ]
     },
     "metadata": {},
     "output_type": "display_data"
    }
   ],
   "source": [
    "\n",
    "real12= remove_background(real1)\n",
    "# real12 = cv2.flip(real12,1)\n",
    "plt.imshow(real12)\n",
    "rfModel.predict(real12.reshape(1,-1))"
   ]
  },
  {
   "cell_type": "code",
   "execution_count": 47,
   "metadata": {},
   "outputs": [
    {
     "name": "stderr",
     "output_type": "stream",
     "text": [
      "c:\\Users\\matdo\\anaconda3\\envs\\ML_CV\\lib\\site-packages\\sklearn\\utils\\validation.py:2739: UserWarning: X does not have valid feature names, but RandomForestClassifier was fitted with feature names\n",
      "  warnings.warn(\n"
     ]
    },
    {
     "data": {
      "text/plain": [
       "array([175])"
      ]
     },
     "execution_count": 47,
     "metadata": {},
     "output_type": "execute_result"
    },
    {
     "data": {
      "image/png": "[encoded data removed]",
      "text/plain": [
       "<Figure size 640x480 with 1 Axes>"
      ]
     },
     "metadata": {},
     "output_type": "display_data"
    }
   ],
   "source": [
    "test1 = cv2.imread(img_dir+'processed/01750900.png', cv2.IMREAD_COLOR)\n",
    "test1 = cv2.cvtColor(test1, cv2.COLOR_BGR2RGB)\n",
    "plt.imshow(test1)\n",
    "test1_arr = test1.flatten()/255\n",
    "rfModel.predict([test1_arr])"
   ]
  },
  {
   "cell_type": "code",
   "execution_count": null,
   "metadata": {},
   "outputs": [],
   "source": []
  }
 ],
 "metadata": {
  "kernelspec": {
   "display_name": "ML_CV",
   "language": "python",
   "name": "python3"
  },
  "language_info": {
   "codemirror_mode": {
    "name": "ipython",
    "version": 3
   },
   "file_extension": ".py",
   "mimetype": "text/x-python",
   "name": "python",
   "nbconvert_exporter": "python",
   "pygments_lexer": "ipython3",
   "version": "3.9.18"
  }
 },
 "nbformat": 4,
 "nbformat_minor": 2
}
