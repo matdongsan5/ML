{
 "cells": [
  {
   "cell_type": "markdown",
   "metadata": {},
   "source": [
    "####  2세대 도감 만들기 \n",
    "<hr>\n",
    "1. 251 마리의 이미지를 받아서 <br>\n",
    "2. 70 * 70 사이즈로 리사이즈 <br>\n",
    "3. 컬러로 돌릴 예정   약 4900*3 = 150000 컬럼 예상<br>\n",
    "4. 이미지 251개를 10배가량 복제할 예정<br>\n",
    "5. 이미지 처리후, csv에 저장. <br>\n",
    "<hr>\n",
    "6. csv로부터 파일을 읽어서 도감 번호를 타겟으로 설정 하여 트레인/테스트<br>\n",
    "7. 모델 만들기.<br>\n",
    "8. 여유있으면 웹연결하여 예측모델 만들기.<br>\n",
    "\n",
    "\n"
   ]
  },
  {
   "cell_type": "code",
   "execution_count": 63,
   "metadata": {},
   "outputs": [],
   "source": [
    "import pandas as pd\n",
    "import numpy as np\n",
    "import matplotlib.pyplot as plt\n",
    "import cv2\n",
    "import seaborn as sns\n",
    "import pandas as pd # 데이터 분석 및 전처리\n",
    "\n",
    "from _utils.ClassfierModule import ClassfierModule as cm\n",
    "from _utils import tools as ts"
   ]
  },
  {
   "cell_type": "code",
   "execution_count": 64,
   "metadata": {},
   "outputs": [],
   "source": [
    "data_dir = './_data/'\n",
    "img_dir  = './_image/'\n"
   ]
  },
  {
   "cell_type": "code",
   "execution_count": null,
   "metadata": {},
   "outputs": [],
   "source": [
    "initDF = pd.DataFrame(pd.read_csv(data_dir+'sd_poke', index_col= 0, encoding='utf-8'))"
   ]
  },
  {
   "cell_type": "code",
   "execution_count": 66,
   "metadata": {},
   "outputs": [
    {
     "data": {
      "text/html": [
       "<div>\n",
       "<style scoped>\n",
       "    .dataframe tbody tr th:only-of-type {\n",
       "        vertical-align: middle;\n",
       "    }\n",
       "\n",
       "    .dataframe tbody tr th {\n",
       "        vertical-align: top;\n",
       "    }\n",
       "\n",
       "    .dataframe thead th {\n",
       "        text-align: right;\n",
       "    }\n",
       "</style>\n",
       "<table border=\"1\" class=\"dataframe\">\n",
       "  <thead>\n",
       "    <tr style=\"text-align: right;\">\n",
       "      <th></th>\n",
       "      <th>0</th>\n",
       "      <th>1</th>\n",
       "      <th>2</th>\n",
       "      <th>3</th>\n",
       "      <th>4</th>\n",
       "      <th>5</th>\n",
       "      <th>6</th>\n",
       "      <th>7</th>\n",
       "      <th>8</th>\n",
       "      <th>9</th>\n",
       "      <th>...</th>\n",
       "      <th>14691</th>\n",
       "      <th>14692</th>\n",
       "      <th>14693</th>\n",
       "      <th>14694</th>\n",
       "      <th>14695</th>\n",
       "      <th>14696</th>\n",
       "      <th>14697</th>\n",
       "      <th>14698</th>\n",
       "      <th>14699</th>\n",
       "      <th>14700</th>\n",
       "    </tr>\n",
       "  </thead>\n",
       "  <tbody>\n",
       "    <tr>\n",
       "      <th>015201.png</th>\n",
       "      <td>152</td>\n",
       "      <td>0.0</td>\n",
       "      <td>0.0</td>\n",
       "      <td>0.0</td>\n",
       "      <td>0.0</td>\n",
       "      <td>0.0</td>\n",
       "      <td>0.0</td>\n",
       "      <td>0.0</td>\n",
       "      <td>0.0</td>\n",
       "      <td>0.0</td>\n",
       "      <td>...</td>\n",
       "      <td>0.0</td>\n",
       "      <td>0.0</td>\n",
       "      <td>0.0</td>\n",
       "      <td>0.0</td>\n",
       "      <td>0.0</td>\n",
       "      <td>0.0</td>\n",
       "      <td>0.0</td>\n",
       "      <td>0.0</td>\n",
       "      <td>0.0</td>\n",
       "      <td>0.0</td>\n",
       "    </tr>\n",
       "  </tbody>\n",
       "</table>\n",
       "<p>1 rows × 14701 columns</p>\n",
       "</div>"
      ],
      "text/plain": [
       "              0    1    2    3    4    5    6    7    8    9  ...  14691  \\\n",
       "015201.png  152  0.0  0.0  0.0  0.0  0.0  0.0  0.0  0.0  0.0  ...    0.0   \n",
       "\n",
       "            14692  14693  14694  14695  14696  14697  14698  14699  14700  \n",
       "015201.png    0.0    0.0    0.0    0.0    0.0    0.0    0.0    0.0    0.0  \n",
       "\n",
       "[1 rows x 14701 columns]"
      ]
     },
     "execution_count": 66,
     "metadata": {},
     "output_type": "execute_result"
    }
   ],
   "source": [
    "initDF.head()"
   ]
  },
  {
   "cell_type": "code",
   "execution_count": 67,
   "metadata": {},
   "outputs": [],
   "source": [
    "# initDF.loc[initDF.index[1:], '0'] = initDF.loc[initDF.index[1:], '0']*255\n",
    "# initDF.loc[initDF.index[1:], '0'] = initDF.loc[initDF.index[1:], '0'].astype(int)"
   ]
  },
  {
   "cell_type": "code",
   "execution_count": 68,
   "metadata": {},
   "outputs": [
    {
     "data": {
      "text/plain": [
       "Series([], Name: 0, dtype: int64)"
      ]
     },
     "execution_count": 68,
     "metadata": {},
     "output_type": "execute_result"
    }
   ],
   "source": [
    "initDF.loc[initDF.index[1:], '0'].head()"
   ]
  },
  {
   "cell_type": "code",
   "execution_count": 69,
   "metadata": {},
   "outputs": [],
   "source": [
    "initDF['0'] = initDF['0'].astype(int)"
   ]
  },
  {
   "cell_type": "code",
   "execution_count": 70,
   "metadata": {},
   "outputs": [
    {
     "data": {
      "text/plain": [
       "015201.png    152\n",
       "Name: 0, dtype: int32"
      ]
     },
     "execution_count": 70,
     "metadata": {},
     "output_type": "execute_result"
    }
   ],
   "source": [
    "initDF['0']"
   ]
  },
  {
   "cell_type": "code",
   "execution_count": 71,
   "metadata": {},
   "outputs": [
    {
     "ename": "ValueError",
     "evalue": "With n_samples=1, test_size=0.25 and train_size=None, the resulting train set will be empty. Adjust any of the aforementioned parameters.",
     "output_type": "error",
     "traceback": [
      "\u001b[1;31m---------------------------------------------------------------------------\u001b[0m",
      "\u001b[1;31mValueError\u001b[0m                                Traceback (most recent call last)",
      "Cell \u001b[1;32mIn[71], line 1\u001b[0m\n\u001b[1;32m----> 1\u001b[0m X_train, X_test, y_train, y_test \u001b[38;5;241m=\u001b[39m \u001b[43mts\u001b[49m\u001b[38;5;241;43m.\u001b[39;49m\u001b[43mtrain_test_cut\u001b[49m\u001b[43m(\u001b[49m\u001b[43minitDF\u001b[49m\u001b[38;5;241;43m.\u001b[39;49m\u001b[43mloc\u001b[49m\u001b[43m[\u001b[49m\u001b[43m:\u001b[49m\u001b[43m,\u001b[49m\u001b[38;5;124;43m'\u001b[39;49m\u001b[38;5;124;43m1\u001b[39;49m\u001b[38;5;124;43m'\u001b[39;49m\u001b[43m:\u001b[49m\u001b[43m]\u001b[49m\u001b[43m,\u001b[49m\u001b[43m \u001b[49m\u001b[43minitDF\u001b[49m\u001b[43m[\u001b[49m\u001b[38;5;124;43m'\u001b[39;49m\u001b[38;5;124;43m0\u001b[39;49m\u001b[38;5;124;43m'\u001b[39;49m\u001b[43m]\u001b[49m\u001b[43m,\u001b[49m\u001b[43m \u001b[49m\u001b[43mstratify\u001b[49m\u001b[38;5;241;43m=\u001b[39;49m\u001b[43minitDF\u001b[49m\u001b[43m[\u001b[49m\u001b[38;5;124;43m'\u001b[39;49m\u001b[38;5;124;43m0\u001b[39;49m\u001b[38;5;124;43m'\u001b[39;49m\u001b[43m]\u001b[49m\u001b[43m)\u001b[49m\n",
      "File \u001b[1;32mc:\\Users\\matdo\\Documents\\machinLearning\\ML_CV\\PROJECT_VISION\\_utils\\tools.py:137\u001b[0m, in \u001b[0;36mtrain_test_cut\u001b[1;34m(feature_df, target_sr, TestSize, RandomState, stratify)\u001b[0m\n\u001b[0;32m    136\u001b[0m \u001b[38;5;28;01mdef\u001b[39;00m\u001b[38;5;250m \u001b[39m\u001b[38;5;21mtrain_test_cut\u001b[39m(feature_df, target_sr, TestSize\u001b[38;5;241m=\u001b[39m\u001b[38;5;241m0.25\u001b[39m, RandomState\u001b[38;5;241m=\u001b[39m\u001b[38;5;241m5\u001b[39m, stratify\u001b[38;5;241m=\u001b[39m\u001b[38;5;28;01mNone\u001b[39;00m):\n\u001b[1;32m--> 137\u001b[0m \u001b[38;5;250m    \u001b[39m\u001b[38;5;124;03m\"\"\" \u001b[39;00m\n\u001b[0;32m    138\u001b[0m \u001b[38;5;124;03m    Return:\u001b[39;00m\n\u001b[0;32m    139\u001b[0m \u001b[38;5;124;03m    X_train, X_test, y_train, y_test\u001b[39;00m\n\u001b[0;32m    140\u001b[0m \u001b[38;5;124;03m    \u001b[39;00m\n\u001b[0;32m    141\u001b[0m \u001b[38;5;124;03m    \u001b[39;00m\n\u001b[0;32m    142\u001b[0m \u001b[38;5;124;03m    \"\"\"\u001b[39;00m\n\u001b[0;32m    143\u001b[0m     X_train, X_test, y_train, y_test \u001b[38;5;241m=\u001b[39m train_test_split(feature_df,\n\u001b[0;32m    144\u001b[0m                                                         target_sr,\n\u001b[0;32m    145\u001b[0m                                                         test_size\u001b[38;5;241m=\u001b[39mTestSize,\n\u001b[0;32m    146\u001b[0m                                                         random_state\u001b[38;5;241m=\u001b[39mRandomState,\n\u001b[0;32m    147\u001b[0m                                                         stratify\u001b[38;5;241m=\u001b[39mstratify)\n\u001b[0;32m    149\u001b[0m     \u001b[38;5;28mprint\u001b[39m(\u001b[38;5;124mf\u001b[39m\u001b[38;5;124m\"\u001b[39m\u001b[38;5;124mX_train => \u001b[39m\u001b[38;5;132;01m{\u001b[39;00mX_train\u001b[38;5;241m.\u001b[39mndim\u001b[38;5;132;01m}\u001b[39;00m\u001b[38;5;124mD \u001b[39m\u001b[38;5;132;01m{\u001b[39;00mX_train\u001b[38;5;241m.\u001b[39mshape\u001b[38;5;132;01m}\u001b[39;00m\u001b[38;5;124m / X_test => \u001b[39m\u001b[38;5;132;01m{\u001b[39;00mX_test\u001b[38;5;241m.\u001b[39mndim\u001b[38;5;132;01m}\u001b[39;00m\u001b[38;5;124mD, \u001b[39m\u001b[38;5;132;01m{\u001b[39;00mX_test\u001b[38;5;241m.\u001b[39mshape\u001b[38;5;132;01m}\u001b[39;00m\u001b[38;5;124m\"\u001b[39m)\n",
      "File \u001b[1;32mc:\\Users\\matdo\\anaconda3\\envs\\ML_CV\\lib\\site-packages\\sklearn\\utils\\_param_validation.py:216\u001b[0m, in \u001b[0;36mvalidate_params.<locals>.decorator.<locals>.wrapper\u001b[1;34m(*args, **kwargs)\u001b[0m\n\u001b[0;32m    210\u001b[0m \u001b[38;5;28;01mtry\u001b[39;00m:\n\u001b[0;32m    211\u001b[0m     \u001b[38;5;28;01mwith\u001b[39;00m config_context(\n\u001b[0;32m    212\u001b[0m         skip_parameter_validation\u001b[38;5;241m=\u001b[39m(\n\u001b[0;32m    213\u001b[0m             prefer_skip_nested_validation \u001b[38;5;129;01mor\u001b[39;00m global_skip_validation\n\u001b[0;32m    214\u001b[0m         )\n\u001b[0;32m    215\u001b[0m     ):\n\u001b[1;32m--> 216\u001b[0m         \u001b[38;5;28;01mreturn\u001b[39;00m func(\u001b[38;5;241m*\u001b[39margs, \u001b[38;5;241m*\u001b[39m\u001b[38;5;241m*\u001b[39mkwargs)\n\u001b[0;32m    217\u001b[0m \u001b[38;5;28;01mexcept\u001b[39;00m InvalidParameterError \u001b[38;5;28;01mas\u001b[39;00m e:\n\u001b[0;32m    218\u001b[0m     \u001b[38;5;66;03m# When the function is just a wrapper around an estimator, we allow\u001b[39;00m\n\u001b[0;32m    219\u001b[0m     \u001b[38;5;66;03m# the function to delegate validation to the estimator, but we replace\u001b[39;00m\n\u001b[0;32m    220\u001b[0m     \u001b[38;5;66;03m# the name of the estimator by the name of the function in the error\u001b[39;00m\n\u001b[0;32m    221\u001b[0m     \u001b[38;5;66;03m# message to avoid confusion.\u001b[39;00m\n\u001b[0;32m    222\u001b[0m     msg \u001b[38;5;241m=\u001b[39m re\u001b[38;5;241m.\u001b[39msub(\n\u001b[0;32m    223\u001b[0m         \u001b[38;5;124mr\u001b[39m\u001b[38;5;124m\"\u001b[39m\u001b[38;5;124mparameter of \u001b[39m\u001b[38;5;124m\\\u001b[39m\u001b[38;5;124mw+ must be\u001b[39m\u001b[38;5;124m\"\u001b[39m,\n\u001b[0;32m    224\u001b[0m         \u001b[38;5;124mf\u001b[39m\u001b[38;5;124m\"\u001b[39m\u001b[38;5;124mparameter of \u001b[39m\u001b[38;5;132;01m{\u001b[39;00mfunc\u001b[38;5;241m.\u001b[39m\u001b[38;5;18m__qualname__\u001b[39m\u001b[38;5;132;01m}\u001b[39;00m\u001b[38;5;124m must be\u001b[39m\u001b[38;5;124m\"\u001b[39m,\n\u001b[0;32m    225\u001b[0m         \u001b[38;5;28mstr\u001b[39m(e),\n\u001b[0;32m    226\u001b[0m     )\n",
      "File \u001b[1;32mc:\\Users\\matdo\\anaconda3\\envs\\ML_CV\\lib\\site-packages\\sklearn\\model_selection\\_split.py:2851\u001b[0m, in \u001b[0;36mtrain_test_split\u001b[1;34m(test_size, train_size, random_state, shuffle, stratify, *arrays)\u001b[0m\n\u001b[0;32m   2848\u001b[0m arrays \u001b[38;5;241m=\u001b[39m indexable(\u001b[38;5;241m*\u001b[39marrays)\n\u001b[0;32m   2850\u001b[0m n_samples \u001b[38;5;241m=\u001b[39m _num_samples(arrays[\u001b[38;5;241m0\u001b[39m])\n\u001b[1;32m-> 2851\u001b[0m n_train, n_test \u001b[38;5;241m=\u001b[39m \u001b[43m_validate_shuffle_split\u001b[49m\u001b[43m(\u001b[49m\n\u001b[0;32m   2852\u001b[0m \u001b[43m    \u001b[49m\u001b[43mn_samples\u001b[49m\u001b[43m,\u001b[49m\u001b[43m \u001b[49m\u001b[43mtest_size\u001b[49m\u001b[43m,\u001b[49m\u001b[43m \u001b[49m\u001b[43mtrain_size\u001b[49m\u001b[43m,\u001b[49m\u001b[43m \u001b[49m\u001b[43mdefault_test_size\u001b[49m\u001b[38;5;241;43m=\u001b[39;49m\u001b[38;5;241;43m0.25\u001b[39;49m\n\u001b[0;32m   2853\u001b[0m \u001b[43m\u001b[49m\u001b[43m)\u001b[49m\n\u001b[0;32m   2855\u001b[0m \u001b[38;5;28;01mif\u001b[39;00m shuffle \u001b[38;5;129;01mis\u001b[39;00m \u001b[38;5;28;01mFalse\u001b[39;00m:\n\u001b[0;32m   2856\u001b[0m     \u001b[38;5;28;01mif\u001b[39;00m stratify \u001b[38;5;129;01mis\u001b[39;00m \u001b[38;5;129;01mnot\u001b[39;00m \u001b[38;5;28;01mNone\u001b[39;00m:\n",
      "File \u001b[1;32mc:\\Users\\matdo\\anaconda3\\envs\\ML_CV\\lib\\site-packages\\sklearn\\model_selection\\_split.py:2481\u001b[0m, in \u001b[0;36m_validate_shuffle_split\u001b[1;34m(n_samples, test_size, train_size, default_test_size)\u001b[0m\n\u001b[0;32m   2478\u001b[0m n_train, n_test \u001b[38;5;241m=\u001b[39m \u001b[38;5;28mint\u001b[39m(n_train), \u001b[38;5;28mint\u001b[39m(n_test)\n\u001b[0;32m   2480\u001b[0m \u001b[38;5;28;01mif\u001b[39;00m n_train \u001b[38;5;241m==\u001b[39m \u001b[38;5;241m0\u001b[39m:\n\u001b[1;32m-> 2481\u001b[0m     \u001b[38;5;28;01mraise\u001b[39;00m \u001b[38;5;167;01mValueError\u001b[39;00m(\n\u001b[0;32m   2482\u001b[0m         \u001b[38;5;124m\"\u001b[39m\u001b[38;5;124mWith n_samples=\u001b[39m\u001b[38;5;132;01m{}\u001b[39;00m\u001b[38;5;124m, test_size=\u001b[39m\u001b[38;5;132;01m{}\u001b[39;00m\u001b[38;5;124m and train_size=\u001b[39m\u001b[38;5;132;01m{}\u001b[39;00m\u001b[38;5;124m, the \u001b[39m\u001b[38;5;124m\"\u001b[39m\n\u001b[0;32m   2483\u001b[0m         \u001b[38;5;124m\"\u001b[39m\u001b[38;5;124mresulting train set will be empty. Adjust any of the \u001b[39m\u001b[38;5;124m\"\u001b[39m\n\u001b[0;32m   2484\u001b[0m         \u001b[38;5;124m\"\u001b[39m\u001b[38;5;124maforementioned parameters.\u001b[39m\u001b[38;5;124m\"\u001b[39m\u001b[38;5;241m.\u001b[39mformat(n_samples, test_size, train_size)\n\u001b[0;32m   2485\u001b[0m     )\n\u001b[0;32m   2487\u001b[0m \u001b[38;5;28;01mreturn\u001b[39;00m n_train, n_test\n",
      "\u001b[1;31mValueError\u001b[0m: With n_samples=1, test_size=0.25 and train_size=None, the resulting train set will be empty. Adjust any of the aforementioned parameters."
     ]
    }
   ],
   "source": [
    "X_train, X_test, y_train, y_test = ts.train_test_cut(initDF.loc[:,'1':], initDF['0'], stratify=initDF['0'])"
   ]
  },
  {
   "cell_type": "code",
   "execution_count": null,
   "metadata": {},
   "outputs": [],
   "source": [
    "y_train = y_train.astype(int)\n",
    "y_test = y_test.astype(int)"
   ]
  },
  {
   "cell_type": "code",
   "execution_count": null,
   "metadata": {},
   "outputs": [],
   "source": [
    "test = cm(X_train, y_train, X_test, y_test)"
   ]
  },
  {
   "cell_type": "code",
   "execution_count": null,
   "metadata": {},
   "outputs": [],
   "source": []
  },
  {
   "cell_type": "code",
   "execution_count": null,
   "metadata": {},
   "outputs": [
    {
     "name": "stdout",
     "output_type": "stream",
     "text": [
      "              precision    recall  f1-score   support\n",
      "\n",
      "         152       0.86      0.86      0.86         7\n",
      "         153       0.80      0.57      0.67         7\n",
      "         154       0.40      0.29      0.33         7\n",
      "         155       0.42      0.83      0.56         6\n",
      "         156       1.00      1.00      1.00         7\n",
      "         157       0.56      0.71      0.62         7\n",
      "         158       0.75      1.00      0.86         6\n",
      "         159       1.00      1.00      1.00         7\n",
      "         160       0.75      0.86      0.80         7\n",
      "         161       0.71      0.71      0.71         7\n",
      "         162       0.56      0.83      0.67         6\n",
      "         163       0.60      0.50      0.55         6\n",
      "         164       0.42      0.83      0.56         6\n",
      "         165       0.50      0.50      0.50         6\n",
      "         166       1.00      0.67      0.80         6\n",
      "         167       0.78      1.00      0.88         7\n",
      "         168       0.00      0.00      0.00         7\n",
      "         169       0.62      0.83      0.71         6\n",
      "         170       0.27      0.43      0.33         7\n",
      "         171       1.00      1.00      1.00         7\n",
      "         172       1.00      0.33      0.50         6\n",
      "         173       0.67      0.67      0.67         6\n",
      "         174       1.00      0.83      0.91         6\n",
      "         175       1.00      1.00      1.00         6\n",
      "         176       0.83      0.83      0.83         6\n",
      "         177       1.00      1.00      1.00         6\n",
      "         178       1.00      0.50      0.67         6\n",
      "         179       0.60      0.43      0.50         7\n",
      "         180       0.17      0.17      0.17         6\n",
      "         181       0.40      0.33      0.36         6\n",
      "         182       0.40      0.29      0.33         7\n",
      "         183       1.00      1.00      1.00         7\n",
      "         184       1.00      1.00      1.00         6\n",
      "         185       0.60      0.50      0.55         6\n",
      "         186       1.00      1.00      1.00         6\n",
      "         187       0.71      0.83      0.77         6\n",
      "         188       0.78      1.00      0.88         7\n",
      "         189       1.00      1.00      1.00         6\n",
      "         190       0.43      0.43      0.43         7\n",
      "         191       0.07      0.33      0.11         6\n",
      "         192       1.00      0.50      0.67         6\n",
      "         193       0.00      0.00      0.00         7\n",
      "         194       1.00      1.00      1.00         6\n",
      "         195       1.00      0.83      0.91         6\n",
      "         196       0.40      0.29      0.33         7\n",
      "         197       0.80      0.57      0.67         7\n",
      "         198       1.00      0.67      0.80         6\n",
      "         199       1.00      0.57      0.73         7\n",
      "         200       1.00      1.00      1.00         6\n",
      "         201       1.00      0.86      0.92         7\n",
      "         202       0.75      1.00      0.86         6\n",
      "         203       1.00      0.14      0.25         7\n",
      "         204       1.00      0.83      0.91         6\n",
      "         205       0.40      0.29      0.33         7\n",
      "         206       0.83      0.83      0.83         6\n",
      "         207       0.80      0.67      0.73         6\n",
      "         208       0.33      0.50      0.40         6\n",
      "         209       0.50      0.33      0.40         6\n",
      "         210       0.33      0.14      0.20         7\n",
      "         211       0.75      0.43      0.55         7\n",
      "         212       0.50      0.67      0.57         6\n",
      "         213       0.88      1.00      0.93         7\n",
      "         214       0.67      0.57      0.62         7\n",
      "         215       0.86      1.00      0.92         6\n",
      "         216       0.71      0.83      0.77         6\n",
      "         217       0.88      1.00      0.93         7\n",
      "         218       1.00      0.17      0.29         6\n",
      "         219       1.00      0.29      0.44         7\n",
      "         220       0.70      1.00      0.82         7\n",
      "         221       0.75      1.00      0.86         6\n",
      "         222       0.55      1.00      0.71         6\n",
      "         223       1.00      1.00      1.00         6\n",
      "         224       0.75      1.00      0.86         6\n",
      "         225       1.00      0.86      0.92         7\n",
      "         226       0.75      1.00      0.86         6\n",
      "         227       0.38      0.86      0.52         7\n",
      "         228       0.70      1.00      0.82         7\n",
      "         229       0.75      0.86      0.80         7\n",
      "         230       1.00      0.29      0.44         7\n",
      "         231       1.00      1.00      1.00         6\n",
      "         232       0.33      0.14      0.20         7\n",
      "         233       1.00      0.86      0.92         7\n",
      "         234       0.75      0.43      0.55         7\n",
      "         235       0.70      1.00      0.82         7\n",
      "         236       0.40      0.29      0.33         7\n",
      "         237       0.67      1.00      0.80         6\n",
      "         238       0.50      0.29      0.36         7\n",
      "         239       1.00      1.00      1.00         6\n",
      "         240       0.00      0.00      0.00         6\n",
      "         241       0.75      0.43      0.55         7\n",
      "         242       1.00      1.00      1.00         7\n",
      "         243       0.45      0.71      0.56         7\n",
      "         244       1.00      0.86      0.92         7\n",
      "         245       1.00      0.86      0.92         7\n",
      "         246       1.00      0.67      0.80         6\n",
      "         247       0.80      0.67      0.73         6\n",
      "         248       0.29      0.86      0.43         7\n",
      "         249       1.00      1.00      1.00         6\n",
      "         250       0.00      0.00      0.00         7\n",
      "         251       1.00      1.00      1.00         7\n",
      "\n",
      "    accuracy                           0.68       650\n",
      "   macro avg       0.72      0.69      0.68       650\n",
      "weighted avg       0.72      0.68      0.67       650\n",
      "\n"
     ]
    },
    {
     "name": "stderr",
     "output_type": "stream",
     "text": [
      "c:\\Users\\matdo\\anaconda3\\envs\\ML_CV\\lib\\site-packages\\sklearn\\metrics\\_classification.py:1565: UndefinedMetricWarning: Precision is ill-defined and being set to 0.0 in labels with no predicted samples. Use `zero_division` parameter to control this behavior.\n",
      "  _warn_prf(average, modifier, f\"{metric.capitalize()} is\", len(result))\n",
      "c:\\Users\\matdo\\anaconda3\\envs\\ML_CV\\lib\\site-packages\\sklearn\\metrics\\_classification.py:1565: UndefinedMetricWarning: Precision is ill-defined and being set to 0.0 in labels with no predicted samples. Use `zero_division` parameter to control this behavior.\n",
      "  _warn_prf(average, modifier, f\"{metric.capitalize()} is\", len(result))\n",
      "c:\\Users\\matdo\\anaconda3\\envs\\ML_CV\\lib\\site-packages\\sklearn\\metrics\\_classification.py:1565: UndefinedMetricWarning: Precision is ill-defined and being set to 0.0 in labels with no predicted samples. Use `zero_division` parameter to control this behavior.\n",
      "  _warn_prf(average, modifier, f\"{metric.capitalize()} is\", len(result))\n"
     ]
    },
    {
     "data": {
      "text/html": [
       "<div>\n",
       "<style scoped>\n",
       "    .dataframe tbody tr th:only-of-type {\n",
       "        vertical-align: middle;\n",
       "    }\n",
       "\n",
       "    .dataframe tbody tr th {\n",
       "        vertical-align: top;\n",
       "    }\n",
       "\n",
       "    .dataframe thead th {\n",
       "        text-align: right;\n",
       "    }\n",
       "</style>\n",
       "<table border=\"1\" class=\"dataframe\">\n",
       "  <thead>\n",
       "    <tr style=\"text-align: right;\">\n",
       "      <th></th>\n",
       "      <th>train_score</th>\n",
       "      <th>test_score</th>\n",
       "      <th>diff</th>\n",
       "      <th>train_loss</th>\n",
       "      <th>test_loss</th>\n",
       "    </tr>\n",
       "  </thead>\n",
       "  <tbody>\n",
       "    <tr>\n",
       "      <th>dt</th>\n",
       "      <td>0.880513</td>\n",
       "      <td>0.683077</td>\n",
       "      <td>0.197436</td>\n",
       "      <td>0.119487</td>\n",
       "      <td>0.316923</td>\n",
       "    </tr>\n",
       "  </tbody>\n",
       "</table>\n",
       "</div>"
      ],
      "text/plain": [
       "    train_score  test_score      diff  train_loss  test_loss\n",
       "dt     0.880513    0.683077  0.197436    0.119487   0.316923"
      ]
     },
     "execution_count": 60,
     "metadata": {},
     "output_type": "execute_result"
    }
   ],
   "source": [
    "dtModel, dtDF = test.decision_tree_classification(max_depth=20, min_samples_split=4, min_samples_leaf = 2)\n",
    "dtDF"
   ]
  },
  {
   "cell_type": "code",
   "execution_count": null,
   "metadata": {},
   "outputs": [
    {
     "name": "stdout",
     "output_type": "stream",
     "text": [
      "              precision    recall  f1-score   support\n",
      "\n",
      "         152       1.00      1.00      1.00         7\n",
      "         153       1.00      1.00      1.00         7\n",
      "         154       1.00      1.00      1.00         7\n",
      "         155       1.00      1.00      1.00         6\n",
      "         156       1.00      1.00      1.00         7\n",
      "         157       1.00      1.00      1.00         7\n",
      "         158       1.00      1.00      1.00         6\n",
      "         159       1.00      1.00      1.00         7\n",
      "         160       1.00      1.00      1.00         7\n",
      "         161       0.78      1.00      0.88         7\n",
      "         162       1.00      1.00      1.00         6\n",
      "         163       1.00      1.00      1.00         6\n",
      "         164       0.86      1.00      0.92         6\n",
      "         165       1.00      1.00      1.00         6\n",
      "         166       1.00      0.83      0.91         6\n",
      "         167       1.00      1.00      1.00         7\n",
      "         168       1.00      1.00      1.00         7\n",
      "         169       1.00      1.00      1.00         6\n",
      "         170       1.00      1.00      1.00         7\n",
      "         171       1.00      1.00      1.00         7\n",
      "         172       1.00      1.00      1.00         6\n",
      "         173       1.00      1.00      1.00         6\n",
      "         174       1.00      1.00      1.00         6\n",
      "         175       1.00      1.00      1.00         6\n",
      "         176       1.00      1.00      1.00         6\n",
      "         177       0.86      1.00      0.92         6\n",
      "         178       1.00      1.00      1.00         6\n",
      "         179       1.00      1.00      1.00         7\n",
      "         180       1.00      1.00      1.00         6\n",
      "         181       1.00      1.00      1.00         6\n",
      "         182       1.00      1.00      1.00         7\n",
      "         183       1.00      1.00      1.00         7\n",
      "         184       1.00      1.00      1.00         6\n",
      "         185       1.00      1.00      1.00         6\n",
      "         186       1.00      1.00      1.00         6\n",
      "         187       1.00      1.00      1.00         6\n",
      "         188       1.00      1.00      1.00         7\n",
      "         189       1.00      1.00      1.00         6\n",
      "         190       0.88      1.00      0.93         7\n",
      "         191       1.00      1.00      1.00         6\n",
      "         192       1.00      0.83      0.91         6\n",
      "         193       1.00      0.43      0.60         7\n",
      "         194       1.00      1.00      1.00         6\n",
      "         195       1.00      1.00      1.00         6\n",
      "         196       1.00      1.00      1.00         7\n",
      "         197       1.00      1.00      1.00         7\n",
      "         198       1.00      1.00      1.00         6\n",
      "         199       1.00      1.00      1.00         7\n",
      "         200       1.00      1.00      1.00         6\n",
      "         201       0.88      1.00      0.93         7\n",
      "         202       1.00      1.00      1.00         6\n",
      "         203       1.00      1.00      1.00         7\n",
      "         204       1.00      1.00      1.00         6\n",
      "         205       1.00      1.00      1.00         7\n",
      "         206       1.00      1.00      1.00         6\n",
      "         207       1.00      1.00      1.00         6\n",
      "         208       1.00      1.00      1.00         6\n",
      "         209       1.00      1.00      1.00         6\n",
      "         210       1.00      1.00      1.00         7\n",
      "         211       1.00      1.00      1.00         7\n",
      "         212       1.00      1.00      1.00         6\n",
      "         213       1.00      1.00      1.00         7\n",
      "         214       1.00      1.00      1.00         7\n",
      "         215       1.00      0.83      0.91         6\n",
      "         216       1.00      1.00      1.00         6\n",
      "         217       1.00      1.00      1.00         7\n",
      "         218       1.00      1.00      1.00         6\n",
      "         219       1.00      1.00      1.00         7\n",
      "         220       1.00      1.00      1.00         7\n",
      "         221       1.00      1.00      1.00         6\n",
      "         222       1.00      1.00      1.00         6\n",
      "         223       1.00      1.00      1.00         6\n",
      "         224       1.00      1.00      1.00         6\n",
      "         225       1.00      1.00      1.00         7\n",
      "         226       1.00      1.00      1.00         6\n",
      "         227       0.88      1.00      0.93         7\n",
      "         228       1.00      1.00      1.00         7\n",
      "         229       1.00      1.00      1.00         7\n",
      "         230       1.00      1.00      1.00         7\n",
      "         231       0.86      1.00      0.92         6\n",
      "         232       1.00      0.86      0.92         7\n",
      "         233       1.00      1.00      1.00         7\n",
      "         234       0.86      0.86      0.86         7\n",
      "         235       1.00      1.00      1.00         7\n",
      "         236       1.00      1.00      1.00         7\n",
      "         237       1.00      1.00      1.00         6\n",
      "         238       1.00      1.00      1.00         7\n",
      "         239       1.00      1.00      1.00         6\n",
      "         240       1.00      1.00      1.00         6\n",
      "         241       1.00      1.00      1.00         7\n",
      "         242       1.00      1.00      1.00         7\n",
      "         243       1.00      1.00      1.00         7\n",
      "         244       1.00      1.00      1.00         7\n",
      "         245       1.00      1.00      1.00         7\n",
      "         246       1.00      1.00      1.00         6\n",
      "         247       1.00      1.00      1.00         6\n",
      "         248       1.00      1.00      1.00         7\n",
      "         249       1.00      1.00      1.00         6\n",
      "         250       1.00      1.00      1.00         7\n",
      "         251       1.00      1.00      1.00         7\n",
      "\n",
      "    accuracy                           0.99       650\n",
      "   macro avg       0.99      0.99      0.99       650\n",
      "weighted avg       0.99      0.99      0.99       650\n",
      "\n"
     ]
    },
    {
     "data": {
      "text/html": [
       "<div>\n",
       "<style scoped>\n",
       "    .dataframe tbody tr th:only-of-type {\n",
       "        vertical-align: middle;\n",
       "    }\n",
       "\n",
       "    .dataframe tbody tr th {\n",
       "        vertical-align: top;\n",
       "    }\n",
       "\n",
       "    .dataframe thead th {\n",
       "        text-align: right;\n",
       "    }\n",
       "</style>\n",
       "<table border=\"1\" class=\"dataframe\">\n",
       "  <thead>\n",
       "    <tr style=\"text-align: right;\">\n",
       "      <th></th>\n",
       "      <th>train_score</th>\n",
       "      <th>test_score</th>\n",
       "      <th>diff</th>\n",
       "      <th>train_loss</th>\n",
       "      <th>test_loss</th>\n",
       "    </tr>\n",
       "  </thead>\n",
       "  <tbody>\n",
       "    <tr>\n",
       "      <th>rf</th>\n",
       "      <td>1.0</td>\n",
       "      <td>0.986154</td>\n",
       "      <td>0.013846</td>\n",
       "      <td>0.0</td>\n",
       "      <td>0.013846</td>\n",
       "    </tr>\n",
       "  </tbody>\n",
       "</table>\n",
       "</div>"
      ],
      "text/plain": [
       "    train_score  test_score      diff  train_loss  test_loss\n",
       "rf          1.0    0.986154  0.013846         0.0   0.013846"
      ]
     },
     "execution_count": 61,
     "metadata": {},
     "output_type": "execute_result"
    }
   ],
   "source": [
    "rfModel, rfDF = test.rf_classifier(max_depth=20, min_samples_split=4, min_samples_leaf = 2)\n",
    "rfDF"
   ]
  },
  {
   "cell_type": "code",
   "execution_count": null,
   "metadata": {},
   "outputs": [
    {
     "data": {
      "text/plain": [
       "['./_model/rf_model.joblib']"
      ]
     },
     "execution_count": 62,
     "metadata": {},
     "output_type": "execute_result"
    }
   ],
   "source": [
    "import joblib\n",
    "joblib.dump(rfModel, \"./_model/rf_model.joblib\")"
   ]
  },
  {
   "cell_type": "code",
   "execution_count": null,
   "metadata": {},
   "outputs": [],
   "source": []
  }
 ],
 "metadata": {
  "kernelspec": {
   "display_name": "ML_CV",
   "language": "python",
   "name": "python3"
  },
  "language_info": {
   "codemirror_mode": {
    "name": "ipython",
    "version": 3
   },
   "file_extension": ".py",
   "mimetype": "text/x-python",
   "name": "python",
   "nbconvert_exporter": "python",
   "pygments_lexer": "ipython3",
   "version": "3.9.21"
  }
 },
 "nbformat": 4,
 "nbformat_minor": 2
}
