{
 "cells": [
  {
   "cell_type": "markdown",
   "metadata": {},
   "source": [
    "[python] 데이터 타입\n",
    "- 숫자 타입   ==> flaot, int\n",
    "- 글자 타입   ==> str\n",
    "- 논리 타입   ==> bool\n",
    "\n",
    "[Numpy/ Tensor] 데이터 타입\n",
    "- int =><br>\n",
    "   1바이트     2바이트  4바이트 8바이트 <br>\n",
    "   byte, char  short    int     long\n",
    "\n",
    "- float => <br>\n",
    "  2바이트  4바이트 8바이트<br>\n",
    "  half     float   double"
   ]
  },
  {
   "cell_type": "markdown",
   "metadata": {},
   "source": [
    "1"
   ]
  },
  {
   "cell_type": "markdown",
   "metadata": {},
   "source": [
    "텐서 클래스:\n",
    "- shape : (3,3)\n",
    "- dtype : int 64\n",
    "- ndim : 2D\n",
    "    - 배열의 형태정보를 미리 저장함.\n",
    "\n",
    "- "
   ]
  }
 ],
 "metadata": {
  "kernelspec": {
   "display_name": "DL_TORCH",
   "language": "python",
   "name": "python3"
  },
  "language_info": {
   "name": "python",
   "version": "3.9.21"
  }
 },
 "nbformat": 4,
 "nbformat_minor": 2
}
